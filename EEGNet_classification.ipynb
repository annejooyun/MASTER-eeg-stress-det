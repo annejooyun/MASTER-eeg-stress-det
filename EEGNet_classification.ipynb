{
 "cells": [
  {
   "cell_type": "code",
   "execution_count": 1,
   "metadata": {},
   "outputs": [],
   "source": [
    "import numpy as np\n",
    "import pandas as pd\n",
    "\n",
    "from load_data import load_data, load_kfold_data\n",
    "\n",
    "\n",
    "#from classifiers import EEGNet_classification, TSGL_classification, DeepConvNet_classification, ShallowConvNet_classification\n",
    "from classifiers import kfold_EEGNet_classification, kfold_TSGL_classification, kfold_DeepConvNet_classification, kfold_ShallowConvNet_classification\n",
    "import utils.variables as v\n",
    "\n"
   ]
  },
  {
   "cell_type": "code",
   "execution_count": 2,
   "metadata": {},
   "outputs": [
    {
     "name": "stdout",
     "output_type": "stream",
     "text": [
      "---- Generating all recordings ----\n",
      "All records generated\n",
      "\n",
      "---- Filtering out invalid recordings ----\n",
      "ERROR 1) Failed to read data for recording P006_S002_001\n",
      "ERROR 1) Failed to read data for recording P006_S002_002\n",
      "ERROR 1) Failed to read data for recording P028_S002_001\n",
      "ERROR 1) Failed to read data for recording P028_S002_002\n",
      "\n",
      "---- Returning valid recordings ----\n",
      "['P001_S001_001', 'P001_S001_002', 'P001_S002_001', 'P001_S002_002', 'P002_S001_001', 'P002_S001_002', 'P002_S002_001', 'P002_S002_002', 'P003_S001_001', 'P003_S001_002', 'P003_S002_001', 'P003_S002_002', 'P004_S001_001', 'P004_S001_002', 'P004_S002_001', 'P004_S002_002', 'P005_S001_001', 'P005_S001_002', 'P005_S002_001', 'P005_S002_002', 'P006_S001_001', 'P006_S001_002', 'P007_S001_001', 'P007_S001_002', 'P007_S002_001', 'P007_S002_002', 'P008_S001_001', 'P008_S001_002', 'P008_S002_001', 'P008_S002_002', 'P009_S001_001', 'P009_S001_002', 'P009_S002_001', 'P009_S002_002', 'P010_S001_002', 'P010_S002_001', 'P010_S002_002', 'P011_S001_001', 'P011_S001_002', 'P011_S002_001', 'P011_S002_002', 'P012_S001_001', 'P012_S001_002', 'P012_S002_001', 'P012_S002_002', 'P013_S002_001', 'P013_S002_002', 'P014_S001_001', 'P014_S001_002', 'P014_S002_001', 'P014_S002_002', 'P015_S001_001', 'P015_S001_002', 'P015_S002_001', 'P015_S002_002', 'P016_S001_001', 'P016_S001_002', 'P016_S002_001', 'P016_S002_002', 'P017_S001_001', 'P017_S001_002', 'P017_S002_001', 'P017_S002_002', 'P018_S001_001', 'P018_S001_002', 'P018_S002_001', 'P018_S002_002', 'P019_S001_001', 'P019_S001_002', 'P019_S002_001', 'P019_S002_002', 'P020_S001_002', 'P020_S002_001', 'P020_S002_002', 'P021_S001_001', 'P021_S001_002', 'P021_S002_001', 'P021_S002_002', 'P022_S001_001', 'P022_S001_002', 'P022_S002_001', 'P022_S002_002', 'P023_S001_001', 'P023_S001_002', 'P023_S002_001', 'P024_S001_001', 'P024_S001_002', 'P024_S002_001', 'P024_S002_002', 'P025_S001_001', 'P025_S001_002', 'P025_S002_001', 'P025_S002_002', 'P026_S001_001', 'P026_S001_002', 'P026_S002_001', 'P026_S002_002', 'P027_S001_001', 'P027_S001_002', 'P027_S002_001', 'P027_S002_002', 'P028_S001_001', 'P028_S001_002']\n",
      "\n",
      "Length of data: 103\n",
      "    S001_001  S001_002  S002_001  S002_002\n",
      "0        2.0       4.0       2.0       3.0\n",
      "1        3.0       6.0       2.0       5.0\n",
      "2        7.0       9.0       2.0       4.0\n",
      "3        6.0       8.0       2.0       3.0\n",
      "4        3.0       4.0       6.0       6.0\n",
      "5        6.0       8.0       NaN       NaN\n",
      "6        7.0       9.0       4.0       6.0\n",
      "7        4.0       6.0       2.0       3.0\n",
      "8        6.0       6.0       3.0       4.0\n",
      "9        1.0       2.0       1.0       1.0\n",
      "10       5.0       6.0       3.0       5.0\n",
      "11       2.0       5.0       2.0       6.0\n",
      "12       4.0       6.0       2.0       4.0\n",
      "13       4.0       8.0       1.0       3.0\n",
      "14       8.0       6.0       2.0       4.0\n",
      "15       4.0       5.0       1.0       2.0\n",
      "16       4.0       6.0       2.0       4.0\n",
      "17       4.0       7.0       3.0       5.0\n",
      "18       3.0       7.0       1.0       4.0\n",
      "19       4.0       5.0       2.0       3.0\n",
      "20       4.0       6.0       2.0       6.0\n",
      "21       5.0       6.0       2.0       4.0\n",
      "22       6.0       8.0       1.0       6.0\n",
      "23       7.0       5.0       4.0       5.0\n",
      "24       6.0       8.0       4.0       6.0\n",
      "25       3.0       6.0       3.0       4.0\n",
      "26       4.0       6.0       3.0       3.0\n",
      "27       NaN       NaN       1.0       4.0\n",
      "P006_S002_001 has invalid record length\n",
      "P006_S002_002 has invalid record length\n",
      "P010_S001_001 has invalid record length\n",
      "P013_S001_001 has invalid record length\n",
      "P013_S001_002 has invalid record length\n",
      "P020_S001_001 has invalid record length\n",
      "P023_S002_002 has invalid record length\n",
      "P028_S002_001 has invalid record length\n",
      "P028_S002_002 has invalid record length\n",
      "\n",
      "---- Labels ----\n",
      "{'P001_S001_001': 0, 'P001_S001_002': 1, 'P001_S002_001': 0, 'P001_S002_002': 0, 'P002_S001_001': 0, 'P002_S001_002': 1, 'P002_S002_001': 0, 'P002_S002_002': 1, 'P003_S001_001': 2, 'P003_S001_002': 2, 'P003_S002_001': 0, 'P003_S002_002': 1, 'P004_S001_001': 1, 'P004_S001_002': 2, 'P004_S002_001': 0, 'P004_S002_002': 0, 'P005_S001_001': 0, 'P005_S001_002': 1, 'P005_S002_001': 1, 'P005_S002_002': 1, 'P006_S001_001': 1, 'P006_S001_002': 2, 'P007_S001_001': 2, 'P007_S001_002': 2, 'P007_S002_001': 1, 'P007_S002_002': 1, 'P008_S001_001': 1, 'P008_S001_002': 1, 'P008_S002_001': 0, 'P008_S002_002': 0, 'P009_S001_001': 1, 'P009_S001_002': 1, 'P009_S002_001': 0, 'P009_S002_002': 1, 'P010_S001_002': 0, 'P010_S002_001': 0, 'P010_S002_002': 0, 'P011_S001_001': 1, 'P011_S001_002': 1, 'P011_S002_001': 0, 'P011_S002_002': 1, 'P012_S001_001': 0, 'P012_S001_002': 1, 'P012_S002_001': 0, 'P012_S002_002': 1, 'P013_S002_001': 0, 'P013_S002_002': 1, 'P014_S001_001': 1, 'P014_S001_002': 2, 'P014_S002_001': 0, 'P014_S002_002': 0, 'P015_S001_001': 2, 'P015_S001_002': 1, 'P015_S002_001': 0, 'P015_S002_002': 1, 'P016_S001_001': 1, 'P016_S001_002': 1, 'P016_S002_001': 0, 'P016_S002_002': 0, 'P017_S001_001': 1, 'P017_S001_002': 1, 'P017_S002_001': 0, 'P017_S002_002': 1, 'P018_S001_001': 1, 'P018_S001_002': 2, 'P018_S002_001': 0, 'P018_S002_002': 1, 'P019_S001_001': 0, 'P019_S001_002': 2, 'P019_S002_001': 0, 'P019_S002_002': 1, 'P020_S001_002': 1, 'P020_S002_001': 0, 'P020_S002_002': 0, 'P021_S001_001': 1, 'P021_S001_002': 1, 'P021_S002_001': 0, 'P021_S002_002': 1, 'P022_S001_001': 1, 'P022_S001_002': 1, 'P022_S002_001': 0, 'P022_S002_002': 1, 'P023_S001_001': 1, 'P023_S001_002': 2, 'P023_S002_001': 0, 'P024_S001_001': 2, 'P024_S001_002': 1, 'P024_S002_001': 1, 'P024_S002_002': 1, 'P025_S001_001': 1, 'P025_S001_002': 2, 'P025_S002_001': 1, 'P025_S002_002': 1, 'P026_S001_001': 0, 'P026_S001_002': 1, 'P026_S002_001': 0, 'P026_S002_002': 1, 'P027_S001_001': 1, 'P027_S001_002': 1, 'P027_S002_001': 0, 'P027_S002_002': 0, 'P028_S001_001': 0, 'P028_S001_002': 0}\n",
      "\n",
      "Length of data after removing invalid labels: 103\n",
      "Length of labels after removing invalid labels: 103\n",
      "\n",
      "The extracted keys : \n",
      "['P001_S001_002', 'P002_S001_002', 'P002_S002_002', 'P003_S002_002', 'P004_S001_001', 'P005_S001_002', 'P005_S002_001', 'P005_S002_002', 'P006_S001_001', 'P007_S002_001', 'P007_S002_002', 'P008_S001_001', 'P008_S001_002', 'P009_S001_001', 'P009_S001_002', 'P009_S002_002', 'P011_S001_001', 'P011_S001_002', 'P011_S002_002', 'P012_S001_002', 'P012_S002_002', 'P013_S002_002', 'P014_S001_001', 'P015_S001_002', 'P015_S002_002', 'P016_S001_001', 'P016_S001_002', 'P017_S001_001', 'P017_S001_002', 'P017_S002_002', 'P018_S001_001', 'P018_S002_002', 'P019_S002_002', 'P020_S001_002', 'P021_S001_001', 'P021_S001_002', 'P021_S002_002', 'P022_S001_001', 'P022_S001_002', 'P022_S002_002', 'P023_S001_001', 'P024_S001_002', 'P024_S002_001', 'P024_S002_002', 'P025_S001_001', 'P025_S002_001', 'P025_S002_002', 'P026_S001_002', 'P026_S002_002', 'P027_S001_001', 'P027_S001_002']\n",
      "\n",
      "Length of data after removing mildly stressed subjects: 52\n",
      "Length of labels after removing  mildly stressed subjects: 52\n",
      "\n",
      "Shape of train data set: (15600, 8, 250)\n",
      "Shape of train labels set: (15600, 1)\n"
     ]
    }
   ],
   "source": [
    "data_type = 'raw'\n",
    "label_type = 'pss'\n",
    "\n",
    "#train_data, test_data, val_data, train_labels, test_labels, val_labels = load_data(data_type, label_type, epoched = True, binary = True)\n",
    "data, labels = load_kfold_data(data_type, label_type, epoched = True, binary = True)"
   ]
  },
  {
   "cell_type": "code",
   "execution_count": 3,
   "metadata": {},
   "outputs": [
    {
     "name": "stdout",
     "output_type": "stream",
     "text": [
      "Epoch 1/20\n",
      "\n",
      "Epoch 1: val_loss improved from inf to 0.43237, saving model to /tmp\\checkpoint.h5\n",
      "1707/1707 - 18s - loss: 0.3887 - accuracy: 0.8821 - val_loss: 0.4324 - val_accuracy: 0.6923 - 18s/epoch - 10ms/step\n",
      "Epoch 2/20\n",
      "\n",
      "Epoch 2: val_loss did not improve from 0.43237\n",
      "1707/1707 - 16s - loss: 0.2696 - accuracy: 0.9243 - val_loss: 0.5428 - val_accuracy: 0.6923 - 16s/epoch - 9ms/step\n",
      "Epoch 3/20\n",
      "\n",
      "Epoch 3: val_loss did not improve from 0.43237\n",
      "1707/1707 - 17s - loss: 0.2045 - accuracy: 0.9448 - val_loss: 0.4954 - val_accuracy: 0.8462 - 17s/epoch - 10ms/step\n",
      "Epoch 4/20\n",
      "\n",
      "Epoch 4: val_loss did not improve from 0.43237\n",
      "1707/1707 - 15s - loss: 0.1790 - accuracy: 0.9534 - val_loss: 0.5486 - val_accuracy: 0.6923 - 15s/epoch - 9ms/step\n",
      "Epoch 5/20\n",
      "\n",
      "Epoch 5: val_loss improved from 0.43237 to 0.24052, saving model to /tmp\\checkpoint.h5\n",
      "1707/1707 - 15s - loss: 0.1574 - accuracy: 0.9581 - val_loss: 0.2405 - val_accuracy: 0.8462 - 15s/epoch - 9ms/step\n",
      "Epoch 6/20\n",
      "\n",
      "Epoch 6: val_loss improved from 0.24052 to 0.17340, saving model to /tmp\\checkpoint.h5\n",
      "1707/1707 - 15s - loss: 0.1311 - accuracy: 0.9634 - val_loss: 0.1734 - val_accuracy: 0.8462 - 15s/epoch - 9ms/step\n",
      "Epoch 7/20\n",
      "\n",
      "Epoch 7: val_loss improved from 0.17340 to 0.14073, saving model to /tmp\\checkpoint.h5\n",
      "1707/1707 - 15s - loss: 0.1183 - accuracy: 0.9667 - val_loss: 0.1407 - val_accuracy: 0.8467 - 15s/epoch - 9ms/step\n",
      "Epoch 8/20\n",
      "\n",
      "Epoch 8: val_loss did not improve from 0.14073\n",
      "1707/1707 - 15s - loss: 0.1206 - accuracy: 0.9650 - val_loss: 0.2173 - val_accuracy: 0.8462 - 15s/epoch - 9ms/step\n",
      "Epoch 9/20\n",
      "\n",
      "Epoch 9: val_loss did not improve from 0.14073\n",
      "1707/1707 - 15s - loss: 0.1100 - accuracy: 0.9689 - val_loss: 0.3652 - val_accuracy: 0.8462 - 15s/epoch - 9ms/step\n",
      "Epoch 10/20\n",
      "\n",
      "Epoch 10: val_loss did not improve from 0.14073\n",
      "1707/1707 - 17s - loss: 0.1021 - accuracy: 0.9694 - val_loss: 0.3324 - val_accuracy: 0.8462 - 17s/epoch - 10ms/step\n",
      "Epoch 11/20\n",
      "\n",
      "Epoch 11: val_loss did not improve from 0.14073\n",
      "1707/1707 - 17s - loss: 0.0991 - accuracy: 0.9706 - val_loss: 0.2380 - val_accuracy: 0.8462 - 17s/epoch - 10ms/step\n",
      "Epoch 12/20\n",
      "\n",
      "Epoch 12: val_loss did not improve from 0.14073\n",
      "1707/1707 - 17s - loss: 0.0967 - accuracy: 0.9698 - val_loss: 0.3478 - val_accuracy: 0.8462 - 17s/epoch - 10ms/step\n",
      "Epoch 13/20\n",
      "\n",
      "Epoch 13: val_loss improved from 0.14073 to 0.07950, saving model to /tmp\\checkpoint.h5\n",
      "1707/1707 - 17s - loss: 0.0904 - accuracy: 0.9717 - val_loss: 0.0795 - val_accuracy: 1.0000 - 17s/epoch - 10ms/step\n",
      "Epoch 14/20\n",
      "\n",
      "Epoch 14: val_loss did not improve from 0.07950\n",
      "1707/1707 - 17s - loss: 0.0868 - accuracy: 0.9736 - val_loss: 0.4456 - val_accuracy: 0.8462 - 17s/epoch - 10ms/step\n",
      "Epoch 15/20\n",
      "\n",
      "Epoch 15: val_loss did not improve from 0.07950\n",
      "1707/1707 - 17s - loss: 0.0768 - accuracy: 0.9769 - val_loss: 0.4835 - val_accuracy: 0.8462 - 17s/epoch - 10ms/step\n",
      "Epoch 16/20\n",
      "\n",
      "Epoch 16: val_loss did not improve from 0.07950\n",
      "1707/1707 - 17s - loss: 0.0767 - accuracy: 0.9756 - val_loss: 0.6700 - val_accuracy: 0.6923 - 17s/epoch - 10ms/step\n",
      "Epoch 17/20\n",
      "\n",
      "Epoch 17: val_loss did not improve from 0.07950\n",
      "1707/1707 - 17s - loss: 0.0828 - accuracy: 0.9746 - val_loss: 0.5073 - val_accuracy: 0.8462 - 17s/epoch - 10ms/step\n",
      "Epoch 18/20\n",
      "\n",
      "Epoch 18: val_loss did not improve from 0.07950\n",
      "1707/1707 - 16s - loss: 0.0696 - accuracy: 0.9796 - val_loss: 0.2919 - val_accuracy: 0.8010 - 16s/epoch - 10ms/step\n",
      "Epoch 19/20\n",
      "\n",
      "Epoch 19: val_loss did not improve from 0.07950\n",
      "1707/1707 - 17s - loss: 0.0826 - accuracy: 0.9763 - val_loss: 0.2076 - val_accuracy: 0.9169 - 17s/epoch - 10ms/step\n",
      "Epoch 20/20\n",
      "\n",
      "Epoch 20: val_loss did not improve from 0.07950\n",
      "1707/1707 - 17s - loss: 0.0703 - accuracy: 0.9801 - val_loss: 0.3905 - val_accuracy: 0.8462 - 17s/epoch - 10ms/step\n",
      "61/61 [==============================] - 1s 8ms/step\n",
      "Classification accuracy: 0.625257 \n",
      "              precision    recall  f1-score   support\n",
      "\n",
      "         0.0       1.00      1.00      1.00      1463\n",
      "         1.0       1.00      1.00      1.00       487\n",
      "\n",
      "    accuracy                           1.00      1950\n",
      "   macro avg       1.00      1.00      1.00      1950\n",
      "weighted avg       1.00      1.00      1.00      1950\n",
      "\n"
     ]
    },
    {
     "data": {
      "application/vnd.plotly.v1+json": {
       "config": {
        "plotlyServerURL": "https://plot.ly"
       },
       "data": [
        {
         "name": "val_loss",
         "type": "scatter",
         "xaxis": "x",
         "y": [
          0.4323737919330597,
          0.5427656769752502,
          0.495351642370224,
          0.548586368560791,
          0.2405150979757309,
          0.17340289056301117,
          0.14072871208190918,
          0.21734578907489777,
          0.3652479350566864,
          0.33242666721343994,
          0.23802968859672546,
          0.34778285026550293,
          0.07950183004140854,
          0.4456430971622467,
          0.48349282145500183,
          0.6699716448783875,
          0.507292628288269,
          0.29185253381729126,
          0.2076335996389389,
          0.390543669462204
         ],
         "yaxis": "y"
        },
        {
         "name": "loss",
         "type": "scatter",
         "xaxis": "x",
         "y": [
          0.3887227475643158,
          0.2696239650249481,
          0.2045079469680786,
          0.17895016074180603,
          0.15735402703285217,
          0.13111573457717896,
          0.11828510463237762,
          0.1205843910574913,
          0.11004491150379181,
          0.10213823616504669,
          0.09908125549554825,
          0.09672965854406357,
          0.09043277055025101,
          0.08684974163770676,
          0.0768088772892952,
          0.07667931169271469,
          0.08282957971096039,
          0.06964686512947083,
          0.08258526772260666,
          0.07032319903373718
         ],
         "yaxis": "y"
        },
        {
         "name": "val accuracy",
         "type": "scatter",
         "xaxis": "x",
         "y": [
          0.692307710647583,
          0.692307710647583,
          0.8461538553237915,
          0.692307710647583,
          0.8461538553237915,
          0.8461538553237915,
          0.846666693687439,
          0.8461538553237915,
          0.8461538553237915,
          0.8461538553237915,
          0.8461538553237915,
          0.8461538553237915,
          1,
          0.8461538553237915,
          0.8461538553237915,
          0.692307710647583,
          0.8461538553237915,
          0.8010256290435791,
          0.9169231057167053,
          0.8461538553237915
         ],
         "yaxis": "y2"
        },
        {
         "name": "accuracy",
         "type": "scatter",
         "xaxis": "x",
         "y": [
          0.8820512890815735,
          0.9243223667144775,
          0.9448351860046387,
          0.953406572341919,
          0.9580952525138855,
          0.9634432196617126,
          0.9667399525642395,
          0.9649816751480103,
          0.9689377546310425,
          0.9693772792816162,
          0.970622718334198,
          0.9698168635368347,
          0.9717215895652771,
          0.9736263751983643,
          0.9769230484962463,
          0.9756044149398804,
          0.9745787382125854,
          0.9796336889266968,
          0.9762637615203857,
          0.9800732731819153
         ],
         "yaxis": "y2"
        }
       ],
       "layout": {
        "template": {
         "data": {
          "bar": [
           {
            "error_x": {
             "color": "#2a3f5f"
            },
            "error_y": {
             "color": "#2a3f5f"
            },
            "marker": {
             "line": {
              "color": "#E5ECF6",
              "width": 0.5
             },
             "pattern": {
              "fillmode": "overlay",
              "size": 10,
              "solidity": 0.2
             }
            },
            "type": "bar"
           }
          ],
          "barpolar": [
           {
            "marker": {
             "line": {
              "color": "#E5ECF6",
              "width": 0.5
             },
             "pattern": {
              "fillmode": "overlay",
              "size": 10,
              "solidity": 0.2
             }
            },
            "type": "barpolar"
           }
          ],
          "carpet": [
           {
            "aaxis": {
             "endlinecolor": "#2a3f5f",
             "gridcolor": "white",
             "linecolor": "white",
             "minorgridcolor": "white",
             "startlinecolor": "#2a3f5f"
            },
            "baxis": {
             "endlinecolor": "#2a3f5f",
             "gridcolor": "white",
             "linecolor": "white",
             "minorgridcolor": "white",
             "startlinecolor": "#2a3f5f"
            },
            "type": "carpet"
           }
          ],
          "choropleth": [
           {
            "colorbar": {
             "outlinewidth": 0,
             "ticks": ""
            },
            "type": "choropleth"
           }
          ],
          "contour": [
           {
            "colorbar": {
             "outlinewidth": 0,
             "ticks": ""
            },
            "colorscale": [
             [
              0,
              "#0d0887"
             ],
             [
              0.1111111111111111,
              "#46039f"
             ],
             [
              0.2222222222222222,
              "#7201a8"
             ],
             [
              0.3333333333333333,
              "#9c179e"
             ],
             [
              0.4444444444444444,
              "#bd3786"
             ],
             [
              0.5555555555555556,
              "#d8576b"
             ],
             [
              0.6666666666666666,
              "#ed7953"
             ],
             [
              0.7777777777777778,
              "#fb9f3a"
             ],
             [
              0.8888888888888888,
              "#fdca26"
             ],
             [
              1,
              "#f0f921"
             ]
            ],
            "type": "contour"
           }
          ],
          "contourcarpet": [
           {
            "colorbar": {
             "outlinewidth": 0,
             "ticks": ""
            },
            "type": "contourcarpet"
           }
          ],
          "heatmap": [
           {
            "colorbar": {
             "outlinewidth": 0,
             "ticks": ""
            },
            "colorscale": [
             [
              0,
              "#0d0887"
             ],
             [
              0.1111111111111111,
              "#46039f"
             ],
             [
              0.2222222222222222,
              "#7201a8"
             ],
             [
              0.3333333333333333,
              "#9c179e"
             ],
             [
              0.4444444444444444,
              "#bd3786"
             ],
             [
              0.5555555555555556,
              "#d8576b"
             ],
             [
              0.6666666666666666,
              "#ed7953"
             ],
             [
              0.7777777777777778,
              "#fb9f3a"
             ],
             [
              0.8888888888888888,
              "#fdca26"
             ],
             [
              1,
              "#f0f921"
             ]
            ],
            "type": "heatmap"
           }
          ],
          "heatmapgl": [
           {
            "colorbar": {
             "outlinewidth": 0,
             "ticks": ""
            },
            "colorscale": [
             [
              0,
              "#0d0887"
             ],
             [
              0.1111111111111111,
              "#46039f"
             ],
             [
              0.2222222222222222,
              "#7201a8"
             ],
             [
              0.3333333333333333,
              "#9c179e"
             ],
             [
              0.4444444444444444,
              "#bd3786"
             ],
             [
              0.5555555555555556,
              "#d8576b"
             ],
             [
              0.6666666666666666,
              "#ed7953"
             ],
             [
              0.7777777777777778,
              "#fb9f3a"
             ],
             [
              0.8888888888888888,
              "#fdca26"
             ],
             [
              1,
              "#f0f921"
             ]
            ],
            "type": "heatmapgl"
           }
          ],
          "histogram": [
           {
            "marker": {
             "pattern": {
              "fillmode": "overlay",
              "size": 10,
              "solidity": 0.2
             }
            },
            "type": "histogram"
           }
          ],
          "histogram2d": [
           {
            "colorbar": {
             "outlinewidth": 0,
             "ticks": ""
            },
            "colorscale": [
             [
              0,
              "#0d0887"
             ],
             [
              0.1111111111111111,
              "#46039f"
             ],
             [
              0.2222222222222222,
              "#7201a8"
             ],
             [
              0.3333333333333333,
              "#9c179e"
             ],
             [
              0.4444444444444444,
              "#bd3786"
             ],
             [
              0.5555555555555556,
              "#d8576b"
             ],
             [
              0.6666666666666666,
              "#ed7953"
             ],
             [
              0.7777777777777778,
              "#fb9f3a"
             ],
             [
              0.8888888888888888,
              "#fdca26"
             ],
             [
              1,
              "#f0f921"
             ]
            ],
            "type": "histogram2d"
           }
          ],
          "histogram2dcontour": [
           {
            "colorbar": {
             "outlinewidth": 0,
             "ticks": ""
            },
            "colorscale": [
             [
              0,
              "#0d0887"
             ],
             [
              0.1111111111111111,
              "#46039f"
             ],
             [
              0.2222222222222222,
              "#7201a8"
             ],
             [
              0.3333333333333333,
              "#9c179e"
             ],
             [
              0.4444444444444444,
              "#bd3786"
             ],
             [
              0.5555555555555556,
              "#d8576b"
             ],
             [
              0.6666666666666666,
              "#ed7953"
             ],
             [
              0.7777777777777778,
              "#fb9f3a"
             ],
             [
              0.8888888888888888,
              "#fdca26"
             ],
             [
              1,
              "#f0f921"
             ]
            ],
            "type": "histogram2dcontour"
           }
          ],
          "mesh3d": [
           {
            "colorbar": {
             "outlinewidth": 0,
             "ticks": ""
            },
            "type": "mesh3d"
           }
          ],
          "parcoords": [
           {
            "line": {
             "colorbar": {
              "outlinewidth": 0,
              "ticks": ""
             }
            },
            "type": "parcoords"
           }
          ],
          "pie": [
           {
            "automargin": true,
            "type": "pie"
           }
          ],
          "scatter": [
           {
            "fillpattern": {
             "fillmode": "overlay",
             "size": 10,
             "solidity": 0.2
            },
            "type": "scatter"
           }
          ],
          "scatter3d": [
           {
            "line": {
             "colorbar": {
              "outlinewidth": 0,
              "ticks": ""
             }
            },
            "marker": {
             "colorbar": {
              "outlinewidth": 0,
              "ticks": ""
             }
            },
            "type": "scatter3d"
           }
          ],
          "scattercarpet": [
           {
            "marker": {
             "colorbar": {
              "outlinewidth": 0,
              "ticks": ""
             }
            },
            "type": "scattercarpet"
           }
          ],
          "scattergeo": [
           {
            "marker": {
             "colorbar": {
              "outlinewidth": 0,
              "ticks": ""
             }
            },
            "type": "scattergeo"
           }
          ],
          "scattergl": [
           {
            "marker": {
             "colorbar": {
              "outlinewidth": 0,
              "ticks": ""
             }
            },
            "type": "scattergl"
           }
          ],
          "scattermapbox": [
           {
            "marker": {
             "colorbar": {
              "outlinewidth": 0,
              "ticks": ""
             }
            },
            "type": "scattermapbox"
           }
          ],
          "scatterpolar": [
           {
            "marker": {
             "colorbar": {
              "outlinewidth": 0,
              "ticks": ""
             }
            },
            "type": "scatterpolar"
           }
          ],
          "scatterpolargl": [
           {
            "marker": {
             "colorbar": {
              "outlinewidth": 0,
              "ticks": ""
             }
            },
            "type": "scatterpolargl"
           }
          ],
          "scatterternary": [
           {
            "marker": {
             "colorbar": {
              "outlinewidth": 0,
              "ticks": ""
             }
            },
            "type": "scatterternary"
           }
          ],
          "surface": [
           {
            "colorbar": {
             "outlinewidth": 0,
             "ticks": ""
            },
            "colorscale": [
             [
              0,
              "#0d0887"
             ],
             [
              0.1111111111111111,
              "#46039f"
             ],
             [
              0.2222222222222222,
              "#7201a8"
             ],
             [
              0.3333333333333333,
              "#9c179e"
             ],
             [
              0.4444444444444444,
              "#bd3786"
             ],
             [
              0.5555555555555556,
              "#d8576b"
             ],
             [
              0.6666666666666666,
              "#ed7953"
             ],
             [
              0.7777777777777778,
              "#fb9f3a"
             ],
             [
              0.8888888888888888,
              "#fdca26"
             ],
             [
              1,
              "#f0f921"
             ]
            ],
            "type": "surface"
           }
          ],
          "table": [
           {
            "cells": {
             "fill": {
              "color": "#EBF0F8"
             },
             "line": {
              "color": "white"
             }
            },
            "header": {
             "fill": {
              "color": "#C8D4E3"
             },
             "line": {
              "color": "white"
             }
            },
            "type": "table"
           }
          ]
         },
         "layout": {
          "annotationdefaults": {
           "arrowcolor": "#2a3f5f",
           "arrowhead": 0,
           "arrowwidth": 1
          },
          "autotypenumbers": "strict",
          "coloraxis": {
           "colorbar": {
            "outlinewidth": 0,
            "ticks": ""
           }
          },
          "colorscale": {
           "diverging": [
            [
             0,
             "#8e0152"
            ],
            [
             0.1,
             "#c51b7d"
            ],
            [
             0.2,
             "#de77ae"
            ],
            [
             0.3,
             "#f1b6da"
            ],
            [
             0.4,
             "#fde0ef"
            ],
            [
             0.5,
             "#f7f7f7"
            ],
            [
             0.6,
             "#e6f5d0"
            ],
            [
             0.7,
             "#b8e186"
            ],
            [
             0.8,
             "#7fbc41"
            ],
            [
             0.9,
             "#4d9221"
            ],
            [
             1,
             "#276419"
            ]
           ],
           "sequential": [
            [
             0,
             "#0d0887"
            ],
            [
             0.1111111111111111,
             "#46039f"
            ],
            [
             0.2222222222222222,
             "#7201a8"
            ],
            [
             0.3333333333333333,
             "#9c179e"
            ],
            [
             0.4444444444444444,
             "#bd3786"
            ],
            [
             0.5555555555555556,
             "#d8576b"
            ],
            [
             0.6666666666666666,
             "#ed7953"
            ],
            [
             0.7777777777777778,
             "#fb9f3a"
            ],
            [
             0.8888888888888888,
             "#fdca26"
            ],
            [
             1,
             "#f0f921"
            ]
           ],
           "sequentialminus": [
            [
             0,
             "#0d0887"
            ],
            [
             0.1111111111111111,
             "#46039f"
            ],
            [
             0.2222222222222222,
             "#7201a8"
            ],
            [
             0.3333333333333333,
             "#9c179e"
            ],
            [
             0.4444444444444444,
             "#bd3786"
            ],
            [
             0.5555555555555556,
             "#d8576b"
            ],
            [
             0.6666666666666666,
             "#ed7953"
            ],
            [
             0.7777777777777778,
             "#fb9f3a"
            ],
            [
             0.8888888888888888,
             "#fdca26"
            ],
            [
             1,
             "#f0f921"
            ]
           ]
          },
          "colorway": [
           "#636efa",
           "#EF553B",
           "#00cc96",
           "#ab63fa",
           "#FFA15A",
           "#19d3f3",
           "#FF6692",
           "#B6E880",
           "#FF97FF",
           "#FECB52"
          ],
          "font": {
           "color": "#2a3f5f"
          },
          "geo": {
           "bgcolor": "white",
           "lakecolor": "white",
           "landcolor": "#E5ECF6",
           "showlakes": true,
           "showland": true,
           "subunitcolor": "white"
          },
          "hoverlabel": {
           "align": "left"
          },
          "hovermode": "closest",
          "mapbox": {
           "style": "light"
          },
          "paper_bgcolor": "white",
          "plot_bgcolor": "#E5ECF6",
          "polar": {
           "angularaxis": {
            "gridcolor": "white",
            "linecolor": "white",
            "ticks": ""
           },
           "bgcolor": "#E5ECF6",
           "radialaxis": {
            "gridcolor": "white",
            "linecolor": "white",
            "ticks": ""
           }
          },
          "scene": {
           "xaxis": {
            "backgroundcolor": "#E5ECF6",
            "gridcolor": "white",
            "gridwidth": 2,
            "linecolor": "white",
            "showbackground": true,
            "ticks": "",
            "zerolinecolor": "white"
           },
           "yaxis": {
            "backgroundcolor": "#E5ECF6",
            "gridcolor": "white",
            "gridwidth": 2,
            "linecolor": "white",
            "showbackground": true,
            "ticks": "",
            "zerolinecolor": "white"
           },
           "zaxis": {
            "backgroundcolor": "#E5ECF6",
            "gridcolor": "white",
            "gridwidth": 2,
            "linecolor": "white",
            "showbackground": true,
            "ticks": "",
            "zerolinecolor": "white"
           }
          },
          "shapedefaults": {
           "line": {
            "color": "#2a3f5f"
           }
          },
          "ternary": {
           "aaxis": {
            "gridcolor": "white",
            "linecolor": "white",
            "ticks": ""
           },
           "baxis": {
            "gridcolor": "white",
            "linecolor": "white",
            "ticks": ""
           },
           "bgcolor": "#E5ECF6",
           "caxis": {
            "gridcolor": "white",
            "linecolor": "white",
            "ticks": ""
           }
          },
          "title": {
           "x": 0.05
          },
          "xaxis": {
           "automargin": true,
           "gridcolor": "white",
           "linecolor": "white",
           "ticks": "",
           "title": {
            "standoff": 15
           },
           "zerolinecolor": "white",
           "zerolinewidth": 2
          },
          "yaxis": {
           "automargin": true,
           "gridcolor": "white",
           "linecolor": "white",
           "ticks": "",
           "title": {
            "standoff": 15
           },
           "zerolinecolor": "white",
           "zerolinewidth": 2
          }
         }
        },
        "title": {
         "text": "Loss/Accuracy of EEGNet"
        },
        "xaxis": {
         "anchor": "y",
         "domain": [
          0,
          0.94
         ],
         "title": {
          "text": "Epoch"
         }
        },
        "yaxis": {
         "anchor": "x",
         "domain": [
          0,
          1
         ],
         "title": {
          "text": "Loss"
         }
        },
        "yaxis2": {
         "anchor": "x",
         "overlaying": "y",
         "side": "right",
         "title": {
          "text": "Accuracy"
         }
        }
       }
      }
     },
     "metadata": {},
     "output_type": "display_data"
    },
    {
     "name": "stdout",
     "output_type": "stream",
     "text": [
      "Epoch 1/20\n",
      "\n",
      "Epoch 1: val_loss improved from 0.07950 to 0.00947, saving model to /tmp\\checkpoint.h5\n",
      "1707/1707 - 18s - loss: 0.0885 - accuracy: 0.9736 - val_loss: 0.0095 - val_accuracy: 1.0000 - 18s/epoch - 11ms/step\n",
      "Epoch 2/20\n",
      "\n",
      "Epoch 2: val_loss did not improve from 0.00947\n",
      "1707/1707 - 17s - loss: 0.0722 - accuracy: 0.9779 - val_loss: 0.1084 - val_accuracy: 0.9333 - 17s/epoch - 10ms/step\n",
      "Epoch 3/20\n",
      "\n",
      "Epoch 3: val_loss did not improve from 0.00947\n",
      "1707/1707 - 18s - loss: 0.0724 - accuracy: 0.9780 - val_loss: 0.2164 - val_accuracy: 0.8462 - 18s/epoch - 10ms/step\n",
      "Epoch 4/20\n",
      "\n",
      "Epoch 4: val_loss did not improve from 0.00947\n",
      "1707/1707 - 17s - loss: 0.0663 - accuracy: 0.9808 - val_loss: 0.3449 - val_accuracy: 0.8462 - 17s/epoch - 10ms/step\n",
      "Epoch 5/20\n",
      "\n",
      "Epoch 5: val_loss did not improve from 0.00947\n",
      "1707/1707 - 17s - loss: 0.0725 - accuracy: 0.9785 - val_loss: 0.3327 - val_accuracy: 0.8462 - 17s/epoch - 10ms/step\n",
      "Epoch 6/20\n",
      "\n",
      "Epoch 6: val_loss did not improve from 0.00947\n",
      "1707/1707 - 17s - loss: 0.0584 - accuracy: 0.9822 - val_loss: 0.5601 - val_accuracy: 0.8462 - 17s/epoch - 10ms/step\n",
      "Epoch 7/20\n",
      "\n",
      "Epoch 7: val_loss did not improve from 0.00947\n",
      "1707/1707 - 16s - loss: 0.0567 - accuracy: 0.9839 - val_loss: 0.4962 - val_accuracy: 0.8462 - 16s/epoch - 10ms/step\n",
      "Epoch 8/20\n",
      "\n",
      "Epoch 8: val_loss did not improve from 0.00947\n",
      "1707/1707 - 16s - loss: 0.0580 - accuracy: 0.9828 - val_loss: 0.7414 - val_accuracy: 0.8462 - 16s/epoch - 9ms/step\n",
      "Epoch 9/20\n",
      "\n",
      "Epoch 9: val_loss did not improve from 0.00947\n",
      "1707/1707 - 16s - loss: 0.0553 - accuracy: 0.9845 - val_loss: 0.3025 - val_accuracy: 0.8462 - 16s/epoch - 10ms/step\n",
      "Epoch 10/20\n",
      "\n",
      "Epoch 10: val_loss did not improve from 0.00947\n",
      "1707/1707 - 16s - loss: 0.0549 - accuracy: 0.9837 - val_loss: 0.5470 - val_accuracy: 0.8462 - 16s/epoch - 9ms/step\n",
      "Epoch 11/20\n",
      "\n",
      "Epoch 11: val_loss did not improve from 0.00947\n",
      "1707/1707 - 15s - loss: 0.0493 - accuracy: 0.9853 - val_loss: 0.4730 - val_accuracy: 0.8462 - 15s/epoch - 9ms/step\n",
      "Epoch 12/20\n",
      "\n",
      "Epoch 12: val_loss did not improve from 0.00947\n",
      "1707/1707 - 15s - loss: 0.0489 - accuracy: 0.9851 - val_loss: 0.5002 - val_accuracy: 0.8462 - 15s/epoch - 9ms/step\n",
      "Epoch 13/20\n",
      "\n",
      "Epoch 13: val_loss did not improve from 0.00947\n",
      "1707/1707 - 14s - loss: 0.0418 - accuracy: 0.9873 - val_loss: 0.5936 - val_accuracy: 0.8462 - 14s/epoch - 8ms/step\n",
      "Epoch 14/20\n",
      "\n",
      "Epoch 14: val_loss did not improve from 0.00947\n",
      "1707/1707 - 15s - loss: 0.0468 - accuracy: 0.9864 - val_loss: 0.4168 - val_accuracy: 0.8462 - 15s/epoch - 9ms/step\n",
      "Epoch 15/20\n",
      "\n",
      "Epoch 15: val_loss did not improve from 0.00947\n",
      "1707/1707 - 15s - loss: 0.0486 - accuracy: 0.9856 - val_loss: 0.8054 - val_accuracy: 0.8462 - 15s/epoch - 9ms/step\n",
      "Epoch 16/20\n",
      "\n",
      "Epoch 16: val_loss did not improve from 0.00947\n",
      "1707/1707 - 15s - loss: 0.0437 - accuracy: 0.9875 - val_loss: 0.8473 - val_accuracy: 0.8462 - 15s/epoch - 9ms/step\n",
      "Epoch 17/20\n",
      "\n",
      "Epoch 17: val_loss did not improve from 0.00947\n",
      "1707/1707 - 15s - loss: 0.0405 - accuracy: 0.9884 - val_loss: 0.5809 - val_accuracy: 0.8462 - 15s/epoch - 9ms/step\n",
      "Epoch 18/20\n",
      "\n",
      "Epoch 18: val_loss did not improve from 0.00947\n",
      "1707/1707 - 15s - loss: 0.0405 - accuracy: 0.9885 - val_loss: 0.8082 - val_accuracy: 0.8462 - 15s/epoch - 9ms/step\n",
      "Epoch 19/20\n",
      "\n",
      "Epoch 19: val_loss did not improve from 0.00947\n",
      "1707/1707 - 16s - loss: 0.0446 - accuracy: 0.9871 - val_loss: 0.4344 - val_accuracy: 0.8462 - 16s/epoch - 9ms/step\n",
      "Epoch 20/20\n",
      "\n",
      "Epoch 20: val_loss did not improve from 0.00947\n",
      "1707/1707 - 16s - loss: 0.0290 - accuracy: 0.9929 - val_loss: 0.7382 - val_accuracy: 0.8462 - 16s/epoch - 10ms/step\n",
      "61/61 [==============================] - 0s 7ms/step\n",
      "Classification accuracy: 0.625257 \n",
      "              precision    recall  f1-score   support\n",
      "\n",
      "         0.0       1.00      1.00      1.00      1463\n",
      "         1.0       1.00      1.00      1.00       487\n",
      "\n",
      "    accuracy                           1.00      1950\n",
      "   macro avg       1.00      1.00      1.00      1950\n",
      "weighted avg       1.00      1.00      1.00      1950\n",
      "\n"
     ]
    },
    {
     "data": {
      "application/vnd.plotly.v1+json": {
       "config": {
        "plotlyServerURL": "https://plot.ly"
       },
       "data": [
        {
         "name": "val_loss",
         "type": "scatter",
         "xaxis": "x",
         "y": [
          0.009467905387282372,
          0.10835368186235428,
          0.21636295318603516,
          0.34494489431381226,
          0.3326924443244934,
          0.5600981116294861,
          0.4961870610713959,
          0.7413798570632935,
          0.3025066554546356,
          0.547021210193634,
          0.4729868471622467,
          0.5001994967460632,
          0.5936198830604553,
          0.4167848229408264,
          0.8054322004318237,
          0.8473252058029175,
          0.5809430480003357,
          0.808207094669342,
          0.43439239263534546,
          0.7381951808929443
         ],
         "yaxis": "y"
        },
        {
         "name": "loss",
         "type": "scatter",
         "xaxis": "x",
         "y": [
          0.0884937047958374,
          0.0721685066819191,
          0.07238123565912247,
          0.06628108024597168,
          0.07247155904769897,
          0.05837415158748627,
          0.05673373490571976,
          0.05797254666686058,
          0.05534667149186134,
          0.054923005402088165,
          0.049328017979860306,
          0.04892701655626297,
          0.041848938912153244,
          0.046811435371637344,
          0.04857579246163368,
          0.04374594986438751,
          0.040454719215631485,
          0.04049323499202728,
          0.04463697597384453,
          0.02895834669470787
         ],
         "yaxis": "y"
        },
        {
         "name": "val accuracy",
         "type": "scatter",
         "xaxis": "x",
         "y": [
          1,
          0.9333333373069763,
          0.8461538553237915,
          0.8461538553237915,
          0.8461538553237915,
          0.8461538553237915,
          0.8461538553237915,
          0.8461538553237915,
          0.8461538553237915,
          0.8461538553237915,
          0.8461538553237915,
          0.8461538553237915,
          0.8461538553237915,
          0.8461538553237915,
          0.8461538553237915,
          0.8461538553237915,
          0.8461538553237915,
          0.8461538553237915,
          0.8461538553237915,
          0.8461538553237915
         ],
         "yaxis": "y2"
        },
        {
         "name": "accuracy",
         "type": "scatter",
         "xaxis": "x",
         "y": [
          0.9735531210899353,
          0.9779487252235413,
          0.9780219793319702,
          0.9808058738708496,
          0.9785348176956177,
          0.9821978211402893,
          0.9838827848434448,
          0.982783854007721,
          0.9844688773155212,
          0.9837362766265869,
          0.9852747321128845,
          0.9850549697875977,
          0.9872527718544006,
          0.9864468574523926,
          0.9856410026550293,
          0.9874725341796875,
          0.9883516430854797,
          0.9884981513023376,
          0.987106204032898,
          0.9928937554359436
         ],
         "yaxis": "y2"
        }
       ],
       "layout": {
        "template": {
         "data": {
          "bar": [
           {
            "error_x": {
             "color": "#2a3f5f"
            },
            "error_y": {
             "color": "#2a3f5f"
            },
            "marker": {
             "line": {
              "color": "#E5ECF6",
              "width": 0.5
             },
             "pattern": {
              "fillmode": "overlay",
              "size": 10,
              "solidity": 0.2
             }
            },
            "type": "bar"
           }
          ],
          "barpolar": [
           {
            "marker": {
             "line": {
              "color": "#E5ECF6",
              "width": 0.5
             },
             "pattern": {
              "fillmode": "overlay",
              "size": 10,
              "solidity": 0.2
             }
            },
            "type": "barpolar"
           }
          ],
          "carpet": [
           {
            "aaxis": {
             "endlinecolor": "#2a3f5f",
             "gridcolor": "white",
             "linecolor": "white",
             "minorgridcolor": "white",
             "startlinecolor": "#2a3f5f"
            },
            "baxis": {
             "endlinecolor": "#2a3f5f",
             "gridcolor": "white",
             "linecolor": "white",
             "minorgridcolor": "white",
             "startlinecolor": "#2a3f5f"
            },
            "type": "carpet"
           }
          ],
          "choropleth": [
           {
            "colorbar": {
             "outlinewidth": 0,
             "ticks": ""
            },
            "type": "choropleth"
           }
          ],
          "contour": [
           {
            "colorbar": {
             "outlinewidth": 0,
             "ticks": ""
            },
            "colorscale": [
             [
              0,
              "#0d0887"
             ],
             [
              0.1111111111111111,
              "#46039f"
             ],
             [
              0.2222222222222222,
              "#7201a8"
             ],
             [
              0.3333333333333333,
              "#9c179e"
             ],
             [
              0.4444444444444444,
              "#bd3786"
             ],
             [
              0.5555555555555556,
              "#d8576b"
             ],
             [
              0.6666666666666666,
              "#ed7953"
             ],
             [
              0.7777777777777778,
              "#fb9f3a"
             ],
             [
              0.8888888888888888,
              "#fdca26"
             ],
             [
              1,
              "#f0f921"
             ]
            ],
            "type": "contour"
           }
          ],
          "contourcarpet": [
           {
            "colorbar": {
             "outlinewidth": 0,
             "ticks": ""
            },
            "type": "contourcarpet"
           }
          ],
          "heatmap": [
           {
            "colorbar": {
             "outlinewidth": 0,
             "ticks": ""
            },
            "colorscale": [
             [
              0,
              "#0d0887"
             ],
             [
              0.1111111111111111,
              "#46039f"
             ],
             [
              0.2222222222222222,
              "#7201a8"
             ],
             [
              0.3333333333333333,
              "#9c179e"
             ],
             [
              0.4444444444444444,
              "#bd3786"
             ],
             [
              0.5555555555555556,
              "#d8576b"
             ],
             [
              0.6666666666666666,
              "#ed7953"
             ],
             [
              0.7777777777777778,
              "#fb9f3a"
             ],
             [
              0.8888888888888888,
              "#fdca26"
             ],
             [
              1,
              "#f0f921"
             ]
            ],
            "type": "heatmap"
           }
          ],
          "heatmapgl": [
           {
            "colorbar": {
             "outlinewidth": 0,
             "ticks": ""
            },
            "colorscale": [
             [
              0,
              "#0d0887"
             ],
             [
              0.1111111111111111,
              "#46039f"
             ],
             [
              0.2222222222222222,
              "#7201a8"
             ],
             [
              0.3333333333333333,
              "#9c179e"
             ],
             [
              0.4444444444444444,
              "#bd3786"
             ],
             [
              0.5555555555555556,
              "#d8576b"
             ],
             [
              0.6666666666666666,
              "#ed7953"
             ],
             [
              0.7777777777777778,
              "#fb9f3a"
             ],
             [
              0.8888888888888888,
              "#fdca26"
             ],
             [
              1,
              "#f0f921"
             ]
            ],
            "type": "heatmapgl"
           }
          ],
          "histogram": [
           {
            "marker": {
             "pattern": {
              "fillmode": "overlay",
              "size": 10,
              "solidity": 0.2
             }
            },
            "type": "histogram"
           }
          ],
          "histogram2d": [
           {
            "colorbar": {
             "outlinewidth": 0,
             "ticks": ""
            },
            "colorscale": [
             [
              0,
              "#0d0887"
             ],
             [
              0.1111111111111111,
              "#46039f"
             ],
             [
              0.2222222222222222,
              "#7201a8"
             ],
             [
              0.3333333333333333,
              "#9c179e"
             ],
             [
              0.4444444444444444,
              "#bd3786"
             ],
             [
              0.5555555555555556,
              "#d8576b"
             ],
             [
              0.6666666666666666,
              "#ed7953"
             ],
             [
              0.7777777777777778,
              "#fb9f3a"
             ],
             [
              0.8888888888888888,
              "#fdca26"
             ],
             [
              1,
              "#f0f921"
             ]
            ],
            "type": "histogram2d"
           }
          ],
          "histogram2dcontour": [
           {
            "colorbar": {
             "outlinewidth": 0,
             "ticks": ""
            },
            "colorscale": [
             [
              0,
              "#0d0887"
             ],
             [
              0.1111111111111111,
              "#46039f"
             ],
             [
              0.2222222222222222,
              "#7201a8"
             ],
             [
              0.3333333333333333,
              "#9c179e"
             ],
             [
              0.4444444444444444,
              "#bd3786"
             ],
             [
              0.5555555555555556,
              "#d8576b"
             ],
             [
              0.6666666666666666,
              "#ed7953"
             ],
             [
              0.7777777777777778,
              "#fb9f3a"
             ],
             [
              0.8888888888888888,
              "#fdca26"
             ],
             [
              1,
              "#f0f921"
             ]
            ],
            "type": "histogram2dcontour"
           }
          ],
          "mesh3d": [
           {
            "colorbar": {
             "outlinewidth": 0,
             "ticks": ""
            },
            "type": "mesh3d"
           }
          ],
          "parcoords": [
           {
            "line": {
             "colorbar": {
              "outlinewidth": 0,
              "ticks": ""
             }
            },
            "type": "parcoords"
           }
          ],
          "pie": [
           {
            "automargin": true,
            "type": "pie"
           }
          ],
          "scatter": [
           {
            "fillpattern": {
             "fillmode": "overlay",
             "size": 10,
             "solidity": 0.2
            },
            "type": "scatter"
           }
          ],
          "scatter3d": [
           {
            "line": {
             "colorbar": {
              "outlinewidth": 0,
              "ticks": ""
             }
            },
            "marker": {
             "colorbar": {
              "outlinewidth": 0,
              "ticks": ""
             }
            },
            "type": "scatter3d"
           }
          ],
          "scattercarpet": [
           {
            "marker": {
             "colorbar": {
              "outlinewidth": 0,
              "ticks": ""
             }
            },
            "type": "scattercarpet"
           }
          ],
          "scattergeo": [
           {
            "marker": {
             "colorbar": {
              "outlinewidth": 0,
              "ticks": ""
             }
            },
            "type": "scattergeo"
           }
          ],
          "scattergl": [
           {
            "marker": {
             "colorbar": {
              "outlinewidth": 0,
              "ticks": ""
             }
            },
            "type": "scattergl"
           }
          ],
          "scattermapbox": [
           {
            "marker": {
             "colorbar": {
              "outlinewidth": 0,
              "ticks": ""
             }
            },
            "type": "scattermapbox"
           }
          ],
          "scatterpolar": [
           {
            "marker": {
             "colorbar": {
              "outlinewidth": 0,
              "ticks": ""
             }
            },
            "type": "scatterpolar"
           }
          ],
          "scatterpolargl": [
           {
            "marker": {
             "colorbar": {
              "outlinewidth": 0,
              "ticks": ""
             }
            },
            "type": "scatterpolargl"
           }
          ],
          "scatterternary": [
           {
            "marker": {
             "colorbar": {
              "outlinewidth": 0,
              "ticks": ""
             }
            },
            "type": "scatterternary"
           }
          ],
          "surface": [
           {
            "colorbar": {
             "outlinewidth": 0,
             "ticks": ""
            },
            "colorscale": [
             [
              0,
              "#0d0887"
             ],
             [
              0.1111111111111111,
              "#46039f"
             ],
             [
              0.2222222222222222,
              "#7201a8"
             ],
             [
              0.3333333333333333,
              "#9c179e"
             ],
             [
              0.4444444444444444,
              "#bd3786"
             ],
             [
              0.5555555555555556,
              "#d8576b"
             ],
             [
              0.6666666666666666,
              "#ed7953"
             ],
             [
              0.7777777777777778,
              "#fb9f3a"
             ],
             [
              0.8888888888888888,
              "#fdca26"
             ],
             [
              1,
              "#f0f921"
             ]
            ],
            "type": "surface"
           }
          ],
          "table": [
           {
            "cells": {
             "fill": {
              "color": "#EBF0F8"
             },
             "line": {
              "color": "white"
             }
            },
            "header": {
             "fill": {
              "color": "#C8D4E3"
             },
             "line": {
              "color": "white"
             }
            },
            "type": "table"
           }
          ]
         },
         "layout": {
          "annotationdefaults": {
           "arrowcolor": "#2a3f5f",
           "arrowhead": 0,
           "arrowwidth": 1
          },
          "autotypenumbers": "strict",
          "coloraxis": {
           "colorbar": {
            "outlinewidth": 0,
            "ticks": ""
           }
          },
          "colorscale": {
           "diverging": [
            [
             0,
             "#8e0152"
            ],
            [
             0.1,
             "#c51b7d"
            ],
            [
             0.2,
             "#de77ae"
            ],
            [
             0.3,
             "#f1b6da"
            ],
            [
             0.4,
             "#fde0ef"
            ],
            [
             0.5,
             "#f7f7f7"
            ],
            [
             0.6,
             "#e6f5d0"
            ],
            [
             0.7,
             "#b8e186"
            ],
            [
             0.8,
             "#7fbc41"
            ],
            [
             0.9,
             "#4d9221"
            ],
            [
             1,
             "#276419"
            ]
           ],
           "sequential": [
            [
             0,
             "#0d0887"
            ],
            [
             0.1111111111111111,
             "#46039f"
            ],
            [
             0.2222222222222222,
             "#7201a8"
            ],
            [
             0.3333333333333333,
             "#9c179e"
            ],
            [
             0.4444444444444444,
             "#bd3786"
            ],
            [
             0.5555555555555556,
             "#d8576b"
            ],
            [
             0.6666666666666666,
             "#ed7953"
            ],
            [
             0.7777777777777778,
             "#fb9f3a"
            ],
            [
             0.8888888888888888,
             "#fdca26"
            ],
            [
             1,
             "#f0f921"
            ]
           ],
           "sequentialminus": [
            [
             0,
             "#0d0887"
            ],
            [
             0.1111111111111111,
             "#46039f"
            ],
            [
             0.2222222222222222,
             "#7201a8"
            ],
            [
             0.3333333333333333,
             "#9c179e"
            ],
            [
             0.4444444444444444,
             "#bd3786"
            ],
            [
             0.5555555555555556,
             "#d8576b"
            ],
            [
             0.6666666666666666,
             "#ed7953"
            ],
            [
             0.7777777777777778,
             "#fb9f3a"
            ],
            [
             0.8888888888888888,
             "#fdca26"
            ],
            [
             1,
             "#f0f921"
            ]
           ]
          },
          "colorway": [
           "#636efa",
           "#EF553B",
           "#00cc96",
           "#ab63fa",
           "#FFA15A",
           "#19d3f3",
           "#FF6692",
           "#B6E880",
           "#FF97FF",
           "#FECB52"
          ],
          "font": {
           "color": "#2a3f5f"
          },
          "geo": {
           "bgcolor": "white",
           "lakecolor": "white",
           "landcolor": "#E5ECF6",
           "showlakes": true,
           "showland": true,
           "subunitcolor": "white"
          },
          "hoverlabel": {
           "align": "left"
          },
          "hovermode": "closest",
          "mapbox": {
           "style": "light"
          },
          "paper_bgcolor": "white",
          "plot_bgcolor": "#E5ECF6",
          "polar": {
           "angularaxis": {
            "gridcolor": "white",
            "linecolor": "white",
            "ticks": ""
           },
           "bgcolor": "#E5ECF6",
           "radialaxis": {
            "gridcolor": "white",
            "linecolor": "white",
            "ticks": ""
           }
          },
          "scene": {
           "xaxis": {
            "backgroundcolor": "#E5ECF6",
            "gridcolor": "white",
            "gridwidth": 2,
            "linecolor": "white",
            "showbackground": true,
            "ticks": "",
            "zerolinecolor": "white"
           },
           "yaxis": {
            "backgroundcolor": "#E5ECF6",
            "gridcolor": "white",
            "gridwidth": 2,
            "linecolor": "white",
            "showbackground": true,
            "ticks": "",
            "zerolinecolor": "white"
           },
           "zaxis": {
            "backgroundcolor": "#E5ECF6",
            "gridcolor": "white",
            "gridwidth": 2,
            "linecolor": "white",
            "showbackground": true,
            "ticks": "",
            "zerolinecolor": "white"
           }
          },
          "shapedefaults": {
           "line": {
            "color": "#2a3f5f"
           }
          },
          "ternary": {
           "aaxis": {
            "gridcolor": "white",
            "linecolor": "white",
            "ticks": ""
           },
           "baxis": {
            "gridcolor": "white",
            "linecolor": "white",
            "ticks": ""
           },
           "bgcolor": "#E5ECF6",
           "caxis": {
            "gridcolor": "white",
            "linecolor": "white",
            "ticks": ""
           }
          },
          "title": {
           "x": 0.05
          },
          "xaxis": {
           "automargin": true,
           "gridcolor": "white",
           "linecolor": "white",
           "ticks": "",
           "title": {
            "standoff": 15
           },
           "zerolinecolor": "white",
           "zerolinewidth": 2
          },
          "yaxis": {
           "automargin": true,
           "gridcolor": "white",
           "linecolor": "white",
           "ticks": "",
           "title": {
            "standoff": 15
           },
           "zerolinecolor": "white",
           "zerolinewidth": 2
          }
         }
        },
        "title": {
         "text": "Loss/Accuracy of EEGNet"
        },
        "xaxis": {
         "anchor": "y",
         "domain": [
          0,
          0.94
         ],
         "title": {
          "text": "Epoch"
         }
        },
        "yaxis": {
         "anchor": "x",
         "domain": [
          0,
          1
         ],
         "title": {
          "text": "Loss"
         }
        },
        "yaxis2": {
         "anchor": "x",
         "overlaying": "y",
         "side": "right",
         "title": {
          "text": "Accuracy"
         }
        }
       }
      }
     },
     "metadata": {},
     "output_type": "display_data"
    },
    {
     "name": "stdout",
     "output_type": "stream",
     "text": [
      "Epoch 1/20\n",
      "\n",
      "Epoch 1: val_loss did not improve from 0.00947\n",
      "1707/1707 - 17s - loss: 0.0901 - accuracy: 0.9727 - val_loss: 0.0455 - val_accuracy: 1.0000 - 17s/epoch - 10ms/step\n",
      "Epoch 2/20\n",
      "\n",
      "Epoch 2: val_loss did not improve from 0.00947\n",
      "1707/1707 - 16s - loss: 0.0820 - accuracy: 0.9747 - val_loss: 0.4469 - val_accuracy: 0.8462 - 16s/epoch - 10ms/step\n",
      "Epoch 3/20\n",
      "\n",
      "Epoch 3: val_loss did not improve from 0.00947\n",
      "1707/1707 - 19s - loss: 0.0762 - accuracy: 0.9761 - val_loss: 0.5432 - val_accuracy: 0.8462 - 19s/epoch - 11ms/step\n",
      "Epoch 4/20\n",
      "\n",
      "Epoch 4: val_loss did not improve from 0.00947\n",
      "1707/1707 - 16s - loss: 0.0693 - accuracy: 0.9788 - val_loss: 0.3088 - val_accuracy: 0.8462 - 16s/epoch - 10ms/step\n",
      "Epoch 5/20\n",
      "\n",
      "Epoch 5: val_loss did not improve from 0.00947\n",
      "1707/1707 - 16s - loss: 0.0685 - accuracy: 0.9790 - val_loss: 0.5054 - val_accuracy: 0.8462 - 16s/epoch - 10ms/step\n",
      "Epoch 6/20\n",
      "\n",
      "Epoch 6: val_loss did not improve from 0.00947\n",
      "1707/1707 - 16s - loss: 0.0570 - accuracy: 0.9827 - val_loss: 0.7713 - val_accuracy: 0.8462 - 16s/epoch - 10ms/step\n",
      "Epoch 7/20\n",
      "\n",
      "Epoch 7: val_loss did not improve from 0.00947\n",
      "1707/1707 - 16s - loss: 0.0552 - accuracy: 0.9832 - val_loss: 0.5522 - val_accuracy: 0.8462 - 16s/epoch - 9ms/step\n",
      "Epoch 8/20\n",
      "\n",
      "Epoch 8: val_loss did not improve from 0.00947\n",
      "1707/1707 - 17s - loss: 0.0584 - accuracy: 0.9840 - val_loss: 0.7306 - val_accuracy: 0.8462 - 17s/epoch - 10ms/step\n",
      "Epoch 9/20\n",
      "\n",
      "Epoch 9: val_loss did not improve from 0.00947\n",
      "1707/1707 - 16s - loss: 0.0564 - accuracy: 0.9826 - val_loss: 0.9441 - val_accuracy: 0.8462 - 16s/epoch - 9ms/step\n",
      "Epoch 10/20\n",
      "\n",
      "Epoch 10: val_loss did not improve from 0.00947\n",
      "1707/1707 - 16s - loss: 0.0610 - accuracy: 0.9818 - val_loss: 0.7609 - val_accuracy: 0.8462 - 16s/epoch - 9ms/step\n",
      "Epoch 11/20\n",
      "\n",
      "Epoch 11: val_loss did not improve from 0.00947\n",
      "1707/1707 - 15s - loss: 0.0457 - accuracy: 0.9865 - val_loss: 0.8038 - val_accuracy: 0.8462 - 15s/epoch - 9ms/step\n",
      "Epoch 12/20\n",
      "\n",
      "Epoch 12: val_loss did not improve from 0.00947\n",
      "1707/1707 - 15s - loss: 0.0483 - accuracy: 0.9860 - val_loss: 0.9954 - val_accuracy: 0.8462 - 15s/epoch - 9ms/step\n",
      "Epoch 13/20\n",
      "\n",
      "Epoch 13: val_loss did not improve from 0.00947\n",
      "1707/1707 - 15s - loss: 0.0638 - accuracy: 0.9821 - val_loss: 1.0783 - val_accuracy: 0.8462 - 15s/epoch - 9ms/step\n",
      "Epoch 14/20\n",
      "\n",
      "Epoch 14: val_loss did not improve from 0.00947\n",
      "1707/1707 - 16s - loss: 0.0460 - accuracy: 0.9860 - val_loss: 0.9873 - val_accuracy: 0.8462 - 16s/epoch - 9ms/step\n",
      "Epoch 15/20\n",
      "\n",
      "Epoch 15: val_loss did not improve from 0.00947\n",
      "1707/1707 - 15s - loss: 0.0469 - accuracy: 0.9862 - val_loss: 1.0805 - val_accuracy: 0.8462 - 15s/epoch - 9ms/step\n",
      "Epoch 16/20\n",
      "\n",
      "Epoch 16: val_loss did not improve from 0.00947\n",
      "1707/1707 - 16s - loss: 0.0424 - accuracy: 0.9890 - val_loss: 1.1078 - val_accuracy: 0.8462 - 16s/epoch - 9ms/step\n",
      "Epoch 17/20\n",
      "\n",
      "Epoch 17: val_loss did not improve from 0.00947\n",
      "1707/1707 - 16s - loss: 0.0372 - accuracy: 0.9893 - val_loss: 1.0959 - val_accuracy: 0.8462 - 16s/epoch - 9ms/step\n",
      "Epoch 18/20\n",
      "\n",
      "Epoch 18: val_loss did not improve from 0.00947\n",
      "1707/1707 - 16s - loss: 0.0568 - accuracy: 0.9840 - val_loss: 1.2640 - val_accuracy: 0.8462 - 16s/epoch - 9ms/step\n",
      "Epoch 19/20\n",
      "\n",
      "Epoch 19: val_loss did not improve from 0.00947\n",
      "1707/1707 - 16s - loss: 0.0417 - accuracy: 0.9878 - val_loss: 1.2239 - val_accuracy: 0.8462 - 16s/epoch - 10ms/step\n",
      "Epoch 20/20\n",
      "\n",
      "Epoch 20: val_loss did not improve from 0.00947\n",
      "1707/1707 - 16s - loss: 0.0507 - accuracy: 0.9864 - val_loss: 1.0412 - val_accuracy: 0.8462 - 16s/epoch - 10ms/step\n",
      "61/61 [==============================] - 0s 7ms/step\n",
      "Classification accuracy: 0.625257 \n",
      "              precision    recall  f1-score   support\n",
      "\n",
      "         0.0       1.00      1.00      1.00      1463\n",
      "         1.0       1.00      1.00      1.00       487\n",
      "\n",
      "    accuracy                           1.00      1950\n",
      "   macro avg       1.00      1.00      1.00      1950\n",
      "weighted avg       1.00      1.00      1.00      1950\n",
      "\n"
     ]
    },
    {
     "data": {
      "application/vnd.plotly.v1+json": {
       "config": {
        "plotlyServerURL": "https://plot.ly"
       },
       "data": [
        {
         "name": "val_loss",
         "type": "scatter",
         "xaxis": "x",
         "y": [
          0.04548940435051918,
          0.44693800806999207,
          0.543248176574707,
          0.30878549814224243,
          0.5053544640541077,
          0.7712833881378174,
          0.5522221326828003,
          0.7305743098258972,
          0.9441102743148804,
          0.7608610987663269,
          0.8038021922111511,
          0.9953508973121643,
          1.0783452987670898,
          0.9872760772705078,
          1.080533504486084,
          1.107839584350586,
          1.0959419012069702,
          1.2640342712402344,
          1.2238712310791016,
          1.0412102937698364
         ],
         "yaxis": "y"
        },
        {
         "name": "loss",
         "type": "scatter",
         "xaxis": "x",
         "y": [
          0.09005526453256607,
          0.0819912999868393,
          0.07616700977087021,
          0.06933905184268951,
          0.06853128969669342,
          0.05704156681895256,
          0.05521976947784424,
          0.0584176704287529,
          0.056367773562669754,
          0.060975581407547,
          0.0456918440759182,
          0.048255376517772675,
          0.06382304430007935,
          0.04601467400789261,
          0.04688519984483719,
          0.04239079728722572,
          0.037207141518592834,
          0.05677269399166107,
          0.04171773046255112,
          0.05069664120674133
         ],
         "yaxis": "y"
        },
        {
         "name": "val accuracy",
         "type": "scatter",
         "xaxis": "x",
         "y": [
          1,
          0.8461538553237915,
          0.8461538553237915,
          0.8461538553237915,
          0.8461538553237915,
          0.8461538553237915,
          0.8461538553237915,
          0.8461538553237915,
          0.8461538553237915,
          0.8461538553237915,
          0.8461538553237915,
          0.8461538553237915,
          0.8461538553237915,
          0.8461538553237915,
          0.8461538553237915,
          0.8461538553237915,
          0.8461538553237915,
          0.8461538553237915,
          0.8461538553237915,
          0.8461538553237915
         ],
         "yaxis": "y2"
        },
        {
         "name": "accuracy",
         "type": "scatter",
         "xaxis": "x",
         "y": [
          0.972747266292572,
          0.9747252464294434,
          0.9761171936988831,
          0.9787545800209045,
          0.9789743423461914,
          0.982710599899292,
          0.9832234382629395,
          0.9839560389518738,
          0.982637345790863,
          0.9817582368850708,
          0.9865201711654663,
          0.9860073328018188,
          0.9821245670318604,
          0.9860073328018188,
          0.9861538410186768,
          0.9890109896659851,
          0.9893040060997009,
          0.9839560389518738,
          0.9877655506134033,
          0.9864468574523926
         ],
         "yaxis": "y2"
        }
       ],
       "layout": {
        "template": {
         "data": {
          "bar": [
           {
            "error_x": {
             "color": "#2a3f5f"
            },
            "error_y": {
             "color": "#2a3f5f"
            },
            "marker": {
             "line": {
              "color": "#E5ECF6",
              "width": 0.5
             },
             "pattern": {
              "fillmode": "overlay",
              "size": 10,
              "solidity": 0.2
             }
            },
            "type": "bar"
           }
          ],
          "barpolar": [
           {
            "marker": {
             "line": {
              "color": "#E5ECF6",
              "width": 0.5
             },
             "pattern": {
              "fillmode": "overlay",
              "size": 10,
              "solidity": 0.2
             }
            },
            "type": "barpolar"
           }
          ],
          "carpet": [
           {
            "aaxis": {
             "endlinecolor": "#2a3f5f",
             "gridcolor": "white",
             "linecolor": "white",
             "minorgridcolor": "white",
             "startlinecolor": "#2a3f5f"
            },
            "baxis": {
             "endlinecolor": "#2a3f5f",
             "gridcolor": "white",
             "linecolor": "white",
             "minorgridcolor": "white",
             "startlinecolor": "#2a3f5f"
            },
            "type": "carpet"
           }
          ],
          "choropleth": [
           {
            "colorbar": {
             "outlinewidth": 0,
             "ticks": ""
            },
            "type": "choropleth"
           }
          ],
          "contour": [
           {
            "colorbar": {
             "outlinewidth": 0,
             "ticks": ""
            },
            "colorscale": [
             [
              0,
              "#0d0887"
             ],
             [
              0.1111111111111111,
              "#46039f"
             ],
             [
              0.2222222222222222,
              "#7201a8"
             ],
             [
              0.3333333333333333,
              "#9c179e"
             ],
             [
              0.4444444444444444,
              "#bd3786"
             ],
             [
              0.5555555555555556,
              "#d8576b"
             ],
             [
              0.6666666666666666,
              "#ed7953"
             ],
             [
              0.7777777777777778,
              "#fb9f3a"
             ],
             [
              0.8888888888888888,
              "#fdca26"
             ],
             [
              1,
              "#f0f921"
             ]
            ],
            "type": "contour"
           }
          ],
          "contourcarpet": [
           {
            "colorbar": {
             "outlinewidth": 0,
             "ticks": ""
            },
            "type": "contourcarpet"
           }
          ],
          "heatmap": [
           {
            "colorbar": {
             "outlinewidth": 0,
             "ticks": ""
            },
            "colorscale": [
             [
              0,
              "#0d0887"
             ],
             [
              0.1111111111111111,
              "#46039f"
             ],
             [
              0.2222222222222222,
              "#7201a8"
             ],
             [
              0.3333333333333333,
              "#9c179e"
             ],
             [
              0.4444444444444444,
              "#bd3786"
             ],
             [
              0.5555555555555556,
              "#d8576b"
             ],
             [
              0.6666666666666666,
              "#ed7953"
             ],
             [
              0.7777777777777778,
              "#fb9f3a"
             ],
             [
              0.8888888888888888,
              "#fdca26"
             ],
             [
              1,
              "#f0f921"
             ]
            ],
            "type": "heatmap"
           }
          ],
          "heatmapgl": [
           {
            "colorbar": {
             "outlinewidth": 0,
             "ticks": ""
            },
            "colorscale": [
             [
              0,
              "#0d0887"
             ],
             [
              0.1111111111111111,
              "#46039f"
             ],
             [
              0.2222222222222222,
              "#7201a8"
             ],
             [
              0.3333333333333333,
              "#9c179e"
             ],
             [
              0.4444444444444444,
              "#bd3786"
             ],
             [
              0.5555555555555556,
              "#d8576b"
             ],
             [
              0.6666666666666666,
              "#ed7953"
             ],
             [
              0.7777777777777778,
              "#fb9f3a"
             ],
             [
              0.8888888888888888,
              "#fdca26"
             ],
             [
              1,
              "#f0f921"
             ]
            ],
            "type": "heatmapgl"
           }
          ],
          "histogram": [
           {
            "marker": {
             "pattern": {
              "fillmode": "overlay",
              "size": 10,
              "solidity": 0.2
             }
            },
            "type": "histogram"
           }
          ],
          "histogram2d": [
           {
            "colorbar": {
             "outlinewidth": 0,
             "ticks": ""
            },
            "colorscale": [
             [
              0,
              "#0d0887"
             ],
             [
              0.1111111111111111,
              "#46039f"
             ],
             [
              0.2222222222222222,
              "#7201a8"
             ],
             [
              0.3333333333333333,
              "#9c179e"
             ],
             [
              0.4444444444444444,
              "#bd3786"
             ],
             [
              0.5555555555555556,
              "#d8576b"
             ],
             [
              0.6666666666666666,
              "#ed7953"
             ],
             [
              0.7777777777777778,
              "#fb9f3a"
             ],
             [
              0.8888888888888888,
              "#fdca26"
             ],
             [
              1,
              "#f0f921"
             ]
            ],
            "type": "histogram2d"
           }
          ],
          "histogram2dcontour": [
           {
            "colorbar": {
             "outlinewidth": 0,
             "ticks": ""
            },
            "colorscale": [
             [
              0,
              "#0d0887"
             ],
             [
              0.1111111111111111,
              "#46039f"
             ],
             [
              0.2222222222222222,
              "#7201a8"
             ],
             [
              0.3333333333333333,
              "#9c179e"
             ],
             [
              0.4444444444444444,
              "#bd3786"
             ],
             [
              0.5555555555555556,
              "#d8576b"
             ],
             [
              0.6666666666666666,
              "#ed7953"
             ],
             [
              0.7777777777777778,
              "#fb9f3a"
             ],
             [
              0.8888888888888888,
              "#fdca26"
             ],
             [
              1,
              "#f0f921"
             ]
            ],
            "type": "histogram2dcontour"
           }
          ],
          "mesh3d": [
           {
            "colorbar": {
             "outlinewidth": 0,
             "ticks": ""
            },
            "type": "mesh3d"
           }
          ],
          "parcoords": [
           {
            "line": {
             "colorbar": {
              "outlinewidth": 0,
              "ticks": ""
             }
            },
            "type": "parcoords"
           }
          ],
          "pie": [
           {
            "automargin": true,
            "type": "pie"
           }
          ],
          "scatter": [
           {
            "fillpattern": {
             "fillmode": "overlay",
             "size": 10,
             "solidity": 0.2
            },
            "type": "scatter"
           }
          ],
          "scatter3d": [
           {
            "line": {
             "colorbar": {
              "outlinewidth": 0,
              "ticks": ""
             }
            },
            "marker": {
             "colorbar": {
              "outlinewidth": 0,
              "ticks": ""
             }
            },
            "type": "scatter3d"
           }
          ],
          "scattercarpet": [
           {
            "marker": {
             "colorbar": {
              "outlinewidth": 0,
              "ticks": ""
             }
            },
            "type": "scattercarpet"
           }
          ],
          "scattergeo": [
           {
            "marker": {
             "colorbar": {
              "outlinewidth": 0,
              "ticks": ""
             }
            },
            "type": "scattergeo"
           }
          ],
          "scattergl": [
           {
            "marker": {
             "colorbar": {
              "outlinewidth": 0,
              "ticks": ""
             }
            },
            "type": "scattergl"
           }
          ],
          "scattermapbox": [
           {
            "marker": {
             "colorbar": {
              "outlinewidth": 0,
              "ticks": ""
             }
            },
            "type": "scattermapbox"
           }
          ],
          "scatterpolar": [
           {
            "marker": {
             "colorbar": {
              "outlinewidth": 0,
              "ticks": ""
             }
            },
            "type": "scatterpolar"
           }
          ],
          "scatterpolargl": [
           {
            "marker": {
             "colorbar": {
              "outlinewidth": 0,
              "ticks": ""
             }
            },
            "type": "scatterpolargl"
           }
          ],
          "scatterternary": [
           {
            "marker": {
             "colorbar": {
              "outlinewidth": 0,
              "ticks": ""
             }
            },
            "type": "scatterternary"
           }
          ],
          "surface": [
           {
            "colorbar": {
             "outlinewidth": 0,
             "ticks": ""
            },
            "colorscale": [
             [
              0,
              "#0d0887"
             ],
             [
              0.1111111111111111,
              "#46039f"
             ],
             [
              0.2222222222222222,
              "#7201a8"
             ],
             [
              0.3333333333333333,
              "#9c179e"
             ],
             [
              0.4444444444444444,
              "#bd3786"
             ],
             [
              0.5555555555555556,
              "#d8576b"
             ],
             [
              0.6666666666666666,
              "#ed7953"
             ],
             [
              0.7777777777777778,
              "#fb9f3a"
             ],
             [
              0.8888888888888888,
              "#fdca26"
             ],
             [
              1,
              "#f0f921"
             ]
            ],
            "type": "surface"
           }
          ],
          "table": [
           {
            "cells": {
             "fill": {
              "color": "#EBF0F8"
             },
             "line": {
              "color": "white"
             }
            },
            "header": {
             "fill": {
              "color": "#C8D4E3"
             },
             "line": {
              "color": "white"
             }
            },
            "type": "table"
           }
          ]
         },
         "layout": {
          "annotationdefaults": {
           "arrowcolor": "#2a3f5f",
           "arrowhead": 0,
           "arrowwidth": 1
          },
          "autotypenumbers": "strict",
          "coloraxis": {
           "colorbar": {
            "outlinewidth": 0,
            "ticks": ""
           }
          },
          "colorscale": {
           "diverging": [
            [
             0,
             "#8e0152"
            ],
            [
             0.1,
             "#c51b7d"
            ],
            [
             0.2,
             "#de77ae"
            ],
            [
             0.3,
             "#f1b6da"
            ],
            [
             0.4,
             "#fde0ef"
            ],
            [
             0.5,
             "#f7f7f7"
            ],
            [
             0.6,
             "#e6f5d0"
            ],
            [
             0.7,
             "#b8e186"
            ],
            [
             0.8,
             "#7fbc41"
            ],
            [
             0.9,
             "#4d9221"
            ],
            [
             1,
             "#276419"
            ]
           ],
           "sequential": [
            [
             0,
             "#0d0887"
            ],
            [
             0.1111111111111111,
             "#46039f"
            ],
            [
             0.2222222222222222,
             "#7201a8"
            ],
            [
             0.3333333333333333,
             "#9c179e"
            ],
            [
             0.4444444444444444,
             "#bd3786"
            ],
            [
             0.5555555555555556,
             "#d8576b"
            ],
            [
             0.6666666666666666,
             "#ed7953"
            ],
            [
             0.7777777777777778,
             "#fb9f3a"
            ],
            [
             0.8888888888888888,
             "#fdca26"
            ],
            [
             1,
             "#f0f921"
            ]
           ],
           "sequentialminus": [
            [
             0,
             "#0d0887"
            ],
            [
             0.1111111111111111,
             "#46039f"
            ],
            [
             0.2222222222222222,
             "#7201a8"
            ],
            [
             0.3333333333333333,
             "#9c179e"
            ],
            [
             0.4444444444444444,
             "#bd3786"
            ],
            [
             0.5555555555555556,
             "#d8576b"
            ],
            [
             0.6666666666666666,
             "#ed7953"
            ],
            [
             0.7777777777777778,
             "#fb9f3a"
            ],
            [
             0.8888888888888888,
             "#fdca26"
            ],
            [
             1,
             "#f0f921"
            ]
           ]
          },
          "colorway": [
           "#636efa",
           "#EF553B",
           "#00cc96",
           "#ab63fa",
           "#FFA15A",
           "#19d3f3",
           "#FF6692",
           "#B6E880",
           "#FF97FF",
           "#FECB52"
          ],
          "font": {
           "color": "#2a3f5f"
          },
          "geo": {
           "bgcolor": "white",
           "lakecolor": "white",
           "landcolor": "#E5ECF6",
           "showlakes": true,
           "showland": true,
           "subunitcolor": "white"
          },
          "hoverlabel": {
           "align": "left"
          },
          "hovermode": "closest",
          "mapbox": {
           "style": "light"
          },
          "paper_bgcolor": "white",
          "plot_bgcolor": "#E5ECF6",
          "polar": {
           "angularaxis": {
            "gridcolor": "white",
            "linecolor": "white",
            "ticks": ""
           },
           "bgcolor": "#E5ECF6",
           "radialaxis": {
            "gridcolor": "white",
            "linecolor": "white",
            "ticks": ""
           }
          },
          "scene": {
           "xaxis": {
            "backgroundcolor": "#E5ECF6",
            "gridcolor": "white",
            "gridwidth": 2,
            "linecolor": "white",
            "showbackground": true,
            "ticks": "",
            "zerolinecolor": "white"
           },
           "yaxis": {
            "backgroundcolor": "#E5ECF6",
            "gridcolor": "white",
            "gridwidth": 2,
            "linecolor": "white",
            "showbackground": true,
            "ticks": "",
            "zerolinecolor": "white"
           },
           "zaxis": {
            "backgroundcolor": "#E5ECF6",
            "gridcolor": "white",
            "gridwidth": 2,
            "linecolor": "white",
            "showbackground": true,
            "ticks": "",
            "zerolinecolor": "white"
           }
          },
          "shapedefaults": {
           "line": {
            "color": "#2a3f5f"
           }
          },
          "ternary": {
           "aaxis": {
            "gridcolor": "white",
            "linecolor": "white",
            "ticks": ""
           },
           "baxis": {
            "gridcolor": "white",
            "linecolor": "white",
            "ticks": ""
           },
           "bgcolor": "#E5ECF6",
           "caxis": {
            "gridcolor": "white",
            "linecolor": "white",
            "ticks": ""
           }
          },
          "title": {
           "x": 0.05
          },
          "xaxis": {
           "automargin": true,
           "gridcolor": "white",
           "linecolor": "white",
           "ticks": "",
           "title": {
            "standoff": 15
           },
           "zerolinecolor": "white",
           "zerolinewidth": 2
          },
          "yaxis": {
           "automargin": true,
           "gridcolor": "white",
           "linecolor": "white",
           "ticks": "",
           "title": {
            "standoff": 15
           },
           "zerolinecolor": "white",
           "zerolinewidth": 2
          }
         }
        },
        "title": {
         "text": "Loss/Accuracy of EEGNet"
        },
        "xaxis": {
         "anchor": "y",
         "domain": [
          0,
          0.94
         ],
         "title": {
          "text": "Epoch"
         }
        },
        "yaxis": {
         "anchor": "x",
         "domain": [
          0,
          1
         ],
         "title": {
          "text": "Loss"
         }
        },
        "yaxis2": {
         "anchor": "x",
         "overlaying": "y",
         "side": "right",
         "title": {
          "text": "Accuracy"
         }
        }
       }
      }
     },
     "metadata": {},
     "output_type": "display_data"
    },
    {
     "name": "stdout",
     "output_type": "stream",
     "text": [
      "Epoch 1/20\n",
      "\n",
      "Epoch 1: val_loss improved from 0.00947 to 0.00070, saving model to /tmp\\checkpoint.h5\n",
      "1707/1707 - 17s - loss: 0.0805 - accuracy: 0.9758 - val_loss: 6.9917e-04 - val_accuracy: 1.0000 - 17s/epoch - 10ms/step\n",
      "Epoch 2/20\n",
      "\n",
      "Epoch 2: val_loss did not improve from 0.00070\n",
      "1707/1707 - 16s - loss: 0.0848 - accuracy: 0.9736 - val_loss: 0.0092 - val_accuracy: 1.0000 - 16s/epoch - 9ms/step\n",
      "Epoch 3/20\n",
      "\n",
      "Epoch 3: val_loss did not improve from 0.00070\n",
      "1707/1707 - 16s - loss: 0.0752 - accuracy: 0.9764 - val_loss: 0.0013 - val_accuracy: 1.0000 - 16s/epoch - 10ms/step\n",
      "Epoch 4/20\n",
      "\n",
      "Epoch 4: val_loss did not improve from 0.00070\n",
      "1707/1707 - 16s - loss: 0.0824 - accuracy: 0.9747 - val_loss: 0.0059 - val_accuracy: 1.0000 - 16s/epoch - 9ms/step\n",
      "Epoch 5/20\n",
      "\n",
      "Epoch 5: val_loss did not improve from 0.00070\n",
      "1707/1707 - 16s - loss: 0.0771 - accuracy: 0.9770 - val_loss: 0.0027 - val_accuracy: 1.0000 - 16s/epoch - 9ms/step\n",
      "Epoch 6/20\n",
      "\n",
      "Epoch 6: val_loss did not improve from 0.00070\n",
      "1707/1707 - 16s - loss: 0.0679 - accuracy: 0.9793 - val_loss: 0.0055 - val_accuracy: 1.0000 - 16s/epoch - 9ms/step\n",
      "Epoch 7/20\n",
      "\n",
      "Epoch 7: val_loss did not improve from 0.00070\n",
      "1707/1707 - 15s - loss: 0.0756 - accuracy: 0.9768 - val_loss: 0.0017 - val_accuracy: 1.0000 - 15s/epoch - 9ms/step\n",
      "Epoch 8/20\n",
      "\n",
      "Epoch 8: val_loss did not improve from 0.00070\n",
      "1707/1707 - 16s - loss: 0.0596 - accuracy: 0.9827 - val_loss: 0.0011 - val_accuracy: 1.0000 - 16s/epoch - 9ms/step\n",
      "Epoch 9/20\n",
      "\n",
      "Epoch 9: val_loss did not improve from 0.00070\n",
      "1707/1707 - 16s - loss: 0.0649 - accuracy: 0.9797 - val_loss: 0.0017 - val_accuracy: 1.0000 - 16s/epoch - 10ms/step\n",
      "Epoch 10/20\n",
      "\n",
      "Epoch 10: val_loss did not improve from 0.00070\n",
      "1707/1707 - 15s - loss: 0.0565 - accuracy: 0.9822 - val_loss: 0.0014 - val_accuracy: 1.0000 - 15s/epoch - 9ms/step\n",
      "Epoch 11/20\n",
      "\n",
      "Epoch 11: val_loss did not improve from 0.00070\n",
      "1707/1707 - 16s - loss: 0.0687 - accuracy: 0.9797 - val_loss: 0.0011 - val_accuracy: 1.0000 - 16s/epoch - 9ms/step\n",
      "Epoch 12/20\n",
      "\n",
      "Epoch 12: val_loss did not improve from 0.00070\n",
      "1707/1707 - 15s - loss: 0.0468 - accuracy: 0.9866 - val_loss: 8.5897e-04 - val_accuracy: 1.0000 - 15s/epoch - 9ms/step\n",
      "Epoch 13/20\n",
      "\n",
      "Epoch 13: val_loss did not improve from 0.00070\n",
      "1707/1707 - 15s - loss: 0.0632 - accuracy: 0.9815 - val_loss: 0.0013 - val_accuracy: 1.0000 - 15s/epoch - 9ms/step\n",
      "Epoch 14/20\n",
      "\n",
      "Epoch 14: val_loss did not improve from 0.00070\n",
      "1707/1707 - 14s - loss: 0.0512 - accuracy: 0.9851 - val_loss: 9.9112e-04 - val_accuracy: 1.0000 - 14s/epoch - 8ms/step\n",
      "Epoch 15/20\n",
      "\n",
      "Epoch 15: val_loss did not improve from 0.00070\n",
      "1707/1707 - 14s - loss: 0.0533 - accuracy: 0.9843 - val_loss: 0.0017 - val_accuracy: 1.0000 - 14s/epoch - 8ms/step\n",
      "Epoch 16/20\n",
      "\n",
      "Epoch 16: val_loss did not improve from 0.00070\n",
      "1707/1707 - 14s - loss: 0.0502 - accuracy: 0.9846 - val_loss: 9.2389e-04 - val_accuracy: 1.0000 - 14s/epoch - 8ms/step\n",
      "Epoch 17/20\n",
      "\n",
      "Epoch 17: val_loss did not improve from 0.00070\n",
      "1707/1707 - 15s - loss: 0.0495 - accuracy: 0.9851 - val_loss: 0.0021 - val_accuracy: 1.0000 - 15s/epoch - 9ms/step\n",
      "Epoch 18/20\n",
      "\n",
      "Epoch 18: val_loss did not improve from 0.00070\n",
      "1707/1707 - 15s - loss: 0.0372 - accuracy: 0.9890 - val_loss: 0.0016 - val_accuracy: 1.0000 - 15s/epoch - 9ms/step\n",
      "Epoch 19/20\n",
      "\n",
      "Epoch 19: val_loss did not improve from 0.00070\n",
      "1707/1707 - 16s - loss: 0.0594 - accuracy: 0.9841 - val_loss: 7.9881e-04 - val_accuracy: 1.0000 - 16s/epoch - 9ms/step\n",
      "Epoch 20/20\n",
      "\n",
      "Epoch 20: val_loss improved from 0.00070 to 0.00067, saving model to /tmp\\checkpoint.h5\n",
      "1707/1707 - 16s - loss: 0.0628 - accuracy: 0.9815 - val_loss: 6.7495e-04 - val_accuracy: 1.0000 - 16s/epoch - 9ms/step\n",
      "61/61 [==============================] - 0s 8ms/step\n",
      "Classification accuracy: 0.625257 \n",
      "              precision    recall  f1-score   support\n",
      "\n",
      "         0.0       1.00      1.00      1.00      1463\n",
      "         1.0       1.00      1.00      1.00       487\n",
      "\n",
      "    accuracy                           1.00      1950\n",
      "   macro avg       1.00      1.00      1.00      1950\n",
      "weighted avg       1.00      1.00      1.00      1950\n",
      "\n"
     ]
    },
    {
     "data": {
      "application/vnd.plotly.v1+json": {
       "config": {
        "plotlyServerURL": "https://plot.ly"
       },
       "data": [
        {
         "name": "val_loss",
         "type": "scatter",
         "xaxis": "x",
         "y": [
          0.0006991726695559919,
          0.00916812103241682,
          0.0012905546464025974,
          0.005858441349118948,
          0.002735915593802929,
          0.0054616364650428295,
          0.0017391392029821873,
          0.0011430047452449799,
          0.0016983795212581754,
          0.001366003300063312,
          0.0011050318134948611,
          0.0008589718490839005,
          0.001254518167115748,
          0.0009911232627928257,
          0.0016677828971296549,
          0.0009238888742402196,
          0.0020591323263943195,
          0.0015712310560047626,
          0.0007988101569935679,
          0.0006749546155333519
         ],
         "yaxis": "y"
        },
        {
         "name": "loss",
         "type": "scatter",
         "xaxis": "x",
         "y": [
          0.08050959557294846,
          0.08484744280576706,
          0.07521799951791763,
          0.08244235068559647,
          0.07706334441900253,
          0.06789099425077438,
          0.0755753144621849,
          0.059610769152641296,
          0.06492705643177032,
          0.05650347098708153,
          0.06871268898248672,
          0.046757910400629044,
          0.06322862207889557,
          0.05115579441189766,
          0.05334245786070824,
          0.05023597553372383,
          0.04953105375170708,
          0.037166666239500046,
          0.059385996311903,
          0.0628429651260376
         ],
         "yaxis": "y"
        },
        {
         "name": "val accuracy",
         "type": "scatter",
         "xaxis": "x",
         "y": [
          1,
          1,
          1,
          1,
          1,
          1,
          1,
          1,
          1,
          1,
          1,
          1,
          1,
          1,
          1,
          1,
          1,
          1,
          1,
          1
         ],
         "yaxis": "y2"
        },
        {
         "name": "accuracy",
         "type": "scatter",
         "xaxis": "x",
         "y": [
          0.9758241772651672,
          0.9736263751983643,
          0.9764102697372437,
          0.9746519923210144,
          0.9769963622093201,
          0.979267418384552,
          0.9767765402793884,
          0.982710599899292,
          0.9797069430351257,
          0.9821978211402893,
          0.9797069430351257,
          0.9865934252738953,
          0.9815384745597839,
          0.9851282238960266,
          0.9843223690986633,
          0.9846153855323792,
          0.9851282238960266,
          0.9890109896659851,
          0.9841025471687317,
          0.9815384745597839
         ],
         "yaxis": "y2"
        }
       ],
       "layout": {
        "template": {
         "data": {
          "bar": [
           {
            "error_x": {
             "color": "#2a3f5f"
            },
            "error_y": {
             "color": "#2a3f5f"
            },
            "marker": {
             "line": {
              "color": "#E5ECF6",
              "width": 0.5
             },
             "pattern": {
              "fillmode": "overlay",
              "size": 10,
              "solidity": 0.2
             }
            },
            "type": "bar"
           }
          ],
          "barpolar": [
           {
            "marker": {
             "line": {
              "color": "#E5ECF6",
              "width": 0.5
             },
             "pattern": {
              "fillmode": "overlay",
              "size": 10,
              "solidity": 0.2
             }
            },
            "type": "barpolar"
           }
          ],
          "carpet": [
           {
            "aaxis": {
             "endlinecolor": "#2a3f5f",
             "gridcolor": "white",
             "linecolor": "white",
             "minorgridcolor": "white",
             "startlinecolor": "#2a3f5f"
            },
            "baxis": {
             "endlinecolor": "#2a3f5f",
             "gridcolor": "white",
             "linecolor": "white",
             "minorgridcolor": "white",
             "startlinecolor": "#2a3f5f"
            },
            "type": "carpet"
           }
          ],
          "choropleth": [
           {
            "colorbar": {
             "outlinewidth": 0,
             "ticks": ""
            },
            "type": "choropleth"
           }
          ],
          "contour": [
           {
            "colorbar": {
             "outlinewidth": 0,
             "ticks": ""
            },
            "colorscale": [
             [
              0,
              "#0d0887"
             ],
             [
              0.1111111111111111,
              "#46039f"
             ],
             [
              0.2222222222222222,
              "#7201a8"
             ],
             [
              0.3333333333333333,
              "#9c179e"
             ],
             [
              0.4444444444444444,
              "#bd3786"
             ],
             [
              0.5555555555555556,
              "#d8576b"
             ],
             [
              0.6666666666666666,
              "#ed7953"
             ],
             [
              0.7777777777777778,
              "#fb9f3a"
             ],
             [
              0.8888888888888888,
              "#fdca26"
             ],
             [
              1,
              "#f0f921"
             ]
            ],
            "type": "contour"
           }
          ],
          "contourcarpet": [
           {
            "colorbar": {
             "outlinewidth": 0,
             "ticks": ""
            },
            "type": "contourcarpet"
           }
          ],
          "heatmap": [
           {
            "colorbar": {
             "outlinewidth": 0,
             "ticks": ""
            },
            "colorscale": [
             [
              0,
              "#0d0887"
             ],
             [
              0.1111111111111111,
              "#46039f"
             ],
             [
              0.2222222222222222,
              "#7201a8"
             ],
             [
              0.3333333333333333,
              "#9c179e"
             ],
             [
              0.4444444444444444,
              "#bd3786"
             ],
             [
              0.5555555555555556,
              "#d8576b"
             ],
             [
              0.6666666666666666,
              "#ed7953"
             ],
             [
              0.7777777777777778,
              "#fb9f3a"
             ],
             [
              0.8888888888888888,
              "#fdca26"
             ],
             [
              1,
              "#f0f921"
             ]
            ],
            "type": "heatmap"
           }
          ],
          "heatmapgl": [
           {
            "colorbar": {
             "outlinewidth": 0,
             "ticks": ""
            },
            "colorscale": [
             [
              0,
              "#0d0887"
             ],
             [
              0.1111111111111111,
              "#46039f"
             ],
             [
              0.2222222222222222,
              "#7201a8"
             ],
             [
              0.3333333333333333,
              "#9c179e"
             ],
             [
              0.4444444444444444,
              "#bd3786"
             ],
             [
              0.5555555555555556,
              "#d8576b"
             ],
             [
              0.6666666666666666,
              "#ed7953"
             ],
             [
              0.7777777777777778,
              "#fb9f3a"
             ],
             [
              0.8888888888888888,
              "#fdca26"
             ],
             [
              1,
              "#f0f921"
             ]
            ],
            "type": "heatmapgl"
           }
          ],
          "histogram": [
           {
            "marker": {
             "pattern": {
              "fillmode": "overlay",
              "size": 10,
              "solidity": 0.2
             }
            },
            "type": "histogram"
           }
          ],
          "histogram2d": [
           {
            "colorbar": {
             "outlinewidth": 0,
             "ticks": ""
            },
            "colorscale": [
             [
              0,
              "#0d0887"
             ],
             [
              0.1111111111111111,
              "#46039f"
             ],
             [
              0.2222222222222222,
              "#7201a8"
             ],
             [
              0.3333333333333333,
              "#9c179e"
             ],
             [
              0.4444444444444444,
              "#bd3786"
             ],
             [
              0.5555555555555556,
              "#d8576b"
             ],
             [
              0.6666666666666666,
              "#ed7953"
             ],
             [
              0.7777777777777778,
              "#fb9f3a"
             ],
             [
              0.8888888888888888,
              "#fdca26"
             ],
             [
              1,
              "#f0f921"
             ]
            ],
            "type": "histogram2d"
           }
          ],
          "histogram2dcontour": [
           {
            "colorbar": {
             "outlinewidth": 0,
             "ticks": ""
            },
            "colorscale": [
             [
              0,
              "#0d0887"
             ],
             [
              0.1111111111111111,
              "#46039f"
             ],
             [
              0.2222222222222222,
              "#7201a8"
             ],
             [
              0.3333333333333333,
              "#9c179e"
             ],
             [
              0.4444444444444444,
              "#bd3786"
             ],
             [
              0.5555555555555556,
              "#d8576b"
             ],
             [
              0.6666666666666666,
              "#ed7953"
             ],
             [
              0.7777777777777778,
              "#fb9f3a"
             ],
             [
              0.8888888888888888,
              "#fdca26"
             ],
             [
              1,
              "#f0f921"
             ]
            ],
            "type": "histogram2dcontour"
           }
          ],
          "mesh3d": [
           {
            "colorbar": {
             "outlinewidth": 0,
             "ticks": ""
            },
            "type": "mesh3d"
           }
          ],
          "parcoords": [
           {
            "line": {
             "colorbar": {
              "outlinewidth": 0,
              "ticks": ""
             }
            },
            "type": "parcoords"
           }
          ],
          "pie": [
           {
            "automargin": true,
            "type": "pie"
           }
          ],
          "scatter": [
           {
            "fillpattern": {
             "fillmode": "overlay",
             "size": 10,
             "solidity": 0.2
            },
            "type": "scatter"
           }
          ],
          "scatter3d": [
           {
            "line": {
             "colorbar": {
              "outlinewidth": 0,
              "ticks": ""
             }
            },
            "marker": {
             "colorbar": {
              "outlinewidth": 0,
              "ticks": ""
             }
            },
            "type": "scatter3d"
           }
          ],
          "scattercarpet": [
           {
            "marker": {
             "colorbar": {
              "outlinewidth": 0,
              "ticks": ""
             }
            },
            "type": "scattercarpet"
           }
          ],
          "scattergeo": [
           {
            "marker": {
             "colorbar": {
              "outlinewidth": 0,
              "ticks": ""
             }
            },
            "type": "scattergeo"
           }
          ],
          "scattergl": [
           {
            "marker": {
             "colorbar": {
              "outlinewidth": 0,
              "ticks": ""
             }
            },
            "type": "scattergl"
           }
          ],
          "scattermapbox": [
           {
            "marker": {
             "colorbar": {
              "outlinewidth": 0,
              "ticks": ""
             }
            },
            "type": "scattermapbox"
           }
          ],
          "scatterpolar": [
           {
            "marker": {
             "colorbar": {
              "outlinewidth": 0,
              "ticks": ""
             }
            },
            "type": "scatterpolar"
           }
          ],
          "scatterpolargl": [
           {
            "marker": {
             "colorbar": {
              "outlinewidth": 0,
              "ticks": ""
             }
            },
            "type": "scatterpolargl"
           }
          ],
          "scatterternary": [
           {
            "marker": {
             "colorbar": {
              "outlinewidth": 0,
              "ticks": ""
             }
            },
            "type": "scatterternary"
           }
          ],
          "surface": [
           {
            "colorbar": {
             "outlinewidth": 0,
             "ticks": ""
            },
            "colorscale": [
             [
              0,
              "#0d0887"
             ],
             [
              0.1111111111111111,
              "#46039f"
             ],
             [
              0.2222222222222222,
              "#7201a8"
             ],
             [
              0.3333333333333333,
              "#9c179e"
             ],
             [
              0.4444444444444444,
              "#bd3786"
             ],
             [
              0.5555555555555556,
              "#d8576b"
             ],
             [
              0.6666666666666666,
              "#ed7953"
             ],
             [
              0.7777777777777778,
              "#fb9f3a"
             ],
             [
              0.8888888888888888,
              "#fdca26"
             ],
             [
              1,
              "#f0f921"
             ]
            ],
            "type": "surface"
           }
          ],
          "table": [
           {
            "cells": {
             "fill": {
              "color": "#EBF0F8"
             },
             "line": {
              "color": "white"
             }
            },
            "header": {
             "fill": {
              "color": "#C8D4E3"
             },
             "line": {
              "color": "white"
             }
            },
            "type": "table"
           }
          ]
         },
         "layout": {
          "annotationdefaults": {
           "arrowcolor": "#2a3f5f",
           "arrowhead": 0,
           "arrowwidth": 1
          },
          "autotypenumbers": "strict",
          "coloraxis": {
           "colorbar": {
            "outlinewidth": 0,
            "ticks": ""
           }
          },
          "colorscale": {
           "diverging": [
            [
             0,
             "#8e0152"
            ],
            [
             0.1,
             "#c51b7d"
            ],
            [
             0.2,
             "#de77ae"
            ],
            [
             0.3,
             "#f1b6da"
            ],
            [
             0.4,
             "#fde0ef"
            ],
            [
             0.5,
             "#f7f7f7"
            ],
            [
             0.6,
             "#e6f5d0"
            ],
            [
             0.7,
             "#b8e186"
            ],
            [
             0.8,
             "#7fbc41"
            ],
            [
             0.9,
             "#4d9221"
            ],
            [
             1,
             "#276419"
            ]
           ],
           "sequential": [
            [
             0,
             "#0d0887"
            ],
            [
             0.1111111111111111,
             "#46039f"
            ],
            [
             0.2222222222222222,
             "#7201a8"
            ],
            [
             0.3333333333333333,
             "#9c179e"
            ],
            [
             0.4444444444444444,
             "#bd3786"
            ],
            [
             0.5555555555555556,
             "#d8576b"
            ],
            [
             0.6666666666666666,
             "#ed7953"
            ],
            [
             0.7777777777777778,
             "#fb9f3a"
            ],
            [
             0.8888888888888888,
             "#fdca26"
            ],
            [
             1,
             "#f0f921"
            ]
           ],
           "sequentialminus": [
            [
             0,
             "#0d0887"
            ],
            [
             0.1111111111111111,
             "#46039f"
            ],
            [
             0.2222222222222222,
             "#7201a8"
            ],
            [
             0.3333333333333333,
             "#9c179e"
            ],
            [
             0.4444444444444444,
             "#bd3786"
            ],
            [
             0.5555555555555556,
             "#d8576b"
            ],
            [
             0.6666666666666666,
             "#ed7953"
            ],
            [
             0.7777777777777778,
             "#fb9f3a"
            ],
            [
             0.8888888888888888,
             "#fdca26"
            ],
            [
             1,
             "#f0f921"
            ]
           ]
          },
          "colorway": [
           "#636efa",
           "#EF553B",
           "#00cc96",
           "#ab63fa",
           "#FFA15A",
           "#19d3f3",
           "#FF6692",
           "#B6E880",
           "#FF97FF",
           "#FECB52"
          ],
          "font": {
           "color": "#2a3f5f"
          },
          "geo": {
           "bgcolor": "white",
           "lakecolor": "white",
           "landcolor": "#E5ECF6",
           "showlakes": true,
           "showland": true,
           "subunitcolor": "white"
          },
          "hoverlabel": {
           "align": "left"
          },
          "hovermode": "closest",
          "mapbox": {
           "style": "light"
          },
          "paper_bgcolor": "white",
          "plot_bgcolor": "#E5ECF6",
          "polar": {
           "angularaxis": {
            "gridcolor": "white",
            "linecolor": "white",
            "ticks": ""
           },
           "bgcolor": "#E5ECF6",
           "radialaxis": {
            "gridcolor": "white",
            "linecolor": "white",
            "ticks": ""
           }
          },
          "scene": {
           "xaxis": {
            "backgroundcolor": "#E5ECF6",
            "gridcolor": "white",
            "gridwidth": 2,
            "linecolor": "white",
            "showbackground": true,
            "ticks": "",
            "zerolinecolor": "white"
           },
           "yaxis": {
            "backgroundcolor": "#E5ECF6",
            "gridcolor": "white",
            "gridwidth": 2,
            "linecolor": "white",
            "showbackground": true,
            "ticks": "",
            "zerolinecolor": "white"
           },
           "zaxis": {
            "backgroundcolor": "#E5ECF6",
            "gridcolor": "white",
            "gridwidth": 2,
            "linecolor": "white",
            "showbackground": true,
            "ticks": "",
            "zerolinecolor": "white"
           }
          },
          "shapedefaults": {
           "line": {
            "color": "#2a3f5f"
           }
          },
          "ternary": {
           "aaxis": {
            "gridcolor": "white",
            "linecolor": "white",
            "ticks": ""
           },
           "baxis": {
            "gridcolor": "white",
            "linecolor": "white",
            "ticks": ""
           },
           "bgcolor": "#E5ECF6",
           "caxis": {
            "gridcolor": "white",
            "linecolor": "white",
            "ticks": ""
           }
          },
          "title": {
           "x": 0.05
          },
          "xaxis": {
           "automargin": true,
           "gridcolor": "white",
           "linecolor": "white",
           "ticks": "",
           "title": {
            "standoff": 15
           },
           "zerolinecolor": "white",
           "zerolinewidth": 2
          },
          "yaxis": {
           "automargin": true,
           "gridcolor": "white",
           "linecolor": "white",
           "ticks": "",
           "title": {
            "standoff": 15
           },
           "zerolinecolor": "white",
           "zerolinewidth": 2
          }
         }
        },
        "title": {
         "text": "Loss/Accuracy of EEGNet"
        },
        "xaxis": {
         "anchor": "y",
         "domain": [
          0,
          0.94
         ],
         "title": {
          "text": "Epoch"
         }
        },
        "yaxis": {
         "anchor": "x",
         "domain": [
          0,
          1
         ],
         "title": {
          "text": "Loss"
         }
        },
        "yaxis2": {
         "anchor": "x",
         "overlaying": "y",
         "side": "right",
         "title": {
          "text": "Accuracy"
         }
        }
       }
      }
     },
     "metadata": {},
     "output_type": "display_data"
    },
    {
     "name": "stdout",
     "output_type": "stream",
     "text": [
      "Epoch 1/20\n",
      "\n",
      "Epoch 1: val_loss did not improve from 0.00067\n",
      "1707/1707 - 16s - loss: 0.0493 - accuracy: 0.9856 - val_loss: 0.0042 - val_accuracy: 1.0000 - 16s/epoch - 9ms/step\n",
      "Epoch 2/20\n",
      "\n",
      "Epoch 2: val_loss did not improve from 0.00067\n",
      "1707/1707 - 16s - loss: 0.0416 - accuracy: 0.9880 - val_loss: 0.0012 - val_accuracy: 1.0000 - 16s/epoch - 9ms/step\n",
      "Epoch 3/20\n",
      "\n",
      "Epoch 3: val_loss did not improve from 0.00067\n",
      "1707/1707 - 16s - loss: 0.0297 - accuracy: 0.9915 - val_loss: 0.0111 - val_accuracy: 1.0000 - 16s/epoch - 9ms/step\n",
      "Epoch 4/20\n",
      "\n",
      "Epoch 4: val_loss did not improve from 0.00067\n",
      "1707/1707 - 16s - loss: 0.0453 - accuracy: 0.9878 - val_loss: 0.0290 - val_accuracy: 1.0000 - 16s/epoch - 9ms/step\n",
      "Epoch 5/20\n",
      "\n",
      "Epoch 5: val_loss did not improve from 0.00067\n",
      "1707/1707 - 16s - loss: 0.0381 - accuracy: 0.9897 - val_loss: 0.0035 - val_accuracy: 1.0000 - 16s/epoch - 10ms/step\n",
      "Epoch 6/20\n",
      "\n",
      "Epoch 6: val_loss did not improve from 0.00067\n",
      "1707/1707 - 16s - loss: 0.0354 - accuracy: 0.9901 - val_loss: 0.0272 - val_accuracy: 1.0000 - 16s/epoch - 9ms/step\n",
      "Epoch 7/20\n",
      "\n",
      "Epoch 7: val_loss did not improve from 0.00067\n",
      "1707/1707 - 16s - loss: 0.0396 - accuracy: 0.9896 - val_loss: 0.0123 - val_accuracy: 1.0000 - 16s/epoch - 10ms/step\n",
      "Epoch 8/20\n",
      "\n",
      "Epoch 8: val_loss did not improve from 0.00067\n",
      "1707/1707 - 16s - loss: 0.0420 - accuracy: 0.9872 - val_loss: 0.1424 - val_accuracy: 0.8985 - 16s/epoch - 9ms/step\n",
      "Epoch 9/20\n",
      "\n",
      "Epoch 9: val_loss did not improve from 0.00067\n",
      "1707/1707 - 16s - loss: 0.0348 - accuracy: 0.9905 - val_loss: 0.0131 - val_accuracy: 1.0000 - 16s/epoch - 9ms/step\n",
      "Epoch 10/20\n",
      "\n",
      "Epoch 10: val_loss did not improve from 0.00067\n",
      "1707/1707 - 16s - loss: 0.0278 - accuracy: 0.9919 - val_loss: 0.1330 - val_accuracy: 0.9051 - 16s/epoch - 9ms/step\n",
      "Epoch 11/20\n",
      "\n",
      "Epoch 11: val_loss did not improve from 0.00067\n",
      "1707/1707 - 16s - loss: 0.0265 - accuracy: 0.9925 - val_loss: 0.1924 - val_accuracy: 0.8954 - 16s/epoch - 9ms/step\n",
      "Epoch 12/20\n",
      "\n",
      "Epoch 12: val_loss did not improve from 0.00067\n",
      "1707/1707 - 16s - loss: 0.0303 - accuracy: 0.9920 - val_loss: 0.0648 - val_accuracy: 0.9636 - 16s/epoch - 9ms/step\n",
      "Epoch 13/20\n",
      "\n",
      "Epoch 13: val_loss did not improve from 0.00067\n",
      "1707/1707 - 16s - loss: 0.0351 - accuracy: 0.9900 - val_loss: 0.0772 - val_accuracy: 0.9508 - 16s/epoch - 9ms/step\n",
      "Epoch 14/20\n",
      "\n",
      "Epoch 14: val_loss did not improve from 0.00067\n",
      "1707/1707 - 16s - loss: 0.0316 - accuracy: 0.9909 - val_loss: 0.0266 - val_accuracy: 1.0000 - 16s/epoch - 9ms/step\n",
      "Epoch 15/20\n",
      "\n",
      "Epoch 15: val_loss did not improve from 0.00067\n",
      "1707/1707 - 19s - loss: 0.0330 - accuracy: 0.9904 - val_loss: 0.0711 - val_accuracy: 0.9538 - 19s/epoch - 11ms/step\n",
      "Epoch 16/20\n",
      "\n",
      "Epoch 16: val_loss did not improve from 0.00067\n",
      "1707/1707 - 17s - loss: 0.0221 - accuracy: 0.9938 - val_loss: 0.0434 - val_accuracy: 0.9933 - 17s/epoch - 10ms/step\n",
      "Epoch 17/20\n",
      "\n",
      "Epoch 17: val_loss did not improve from 0.00067\n",
      "1707/1707 - 20s - loss: 0.0231 - accuracy: 0.9935 - val_loss: 0.2934 - val_accuracy: 0.8872 - 20s/epoch - 12ms/step\n",
      "Epoch 18/20\n",
      "\n",
      "Epoch 18: val_loss did not improve from 0.00067\n",
      "1707/1707 - 17s - loss: 0.0295 - accuracy: 0.9919 - val_loss: 0.2238 - val_accuracy: 0.8979 - 17s/epoch - 10ms/step\n",
      "Epoch 19/20\n",
      "\n",
      "Epoch 19: val_loss did not improve from 0.00067\n",
      "1707/1707 - 21s - loss: 0.0247 - accuracy: 0.9936 - val_loss: 0.2923 - val_accuracy: 0.8846 - 21s/epoch - 13ms/step\n",
      "Epoch 20/20\n",
      "\n",
      "Epoch 20: val_loss did not improve from 0.00067\n",
      "1707/1707 - 18s - loss: 0.0312 - accuracy: 0.9917 - val_loss: 0.2531 - val_accuracy: 0.8759 - 18s/epoch - 11ms/step\n",
      "61/61 [==============================] - 1s 8ms/step\n",
      "Classification accuracy: 0.624744 \n",
      "              precision    recall  f1-score   support\n",
      "\n",
      "         0.0       1.00      1.00      1.00      1462\n",
      "         1.0       1.00      1.00      1.00       488\n",
      "\n",
      "    accuracy                           1.00      1950\n",
      "   macro avg       1.00      1.00      1.00      1950\n",
      "weighted avg       1.00      1.00      1.00      1950\n",
      "\n"
     ]
    },
    {
     "data": {
      "application/vnd.plotly.v1+json": {
       "config": {
        "plotlyServerURL": "https://plot.ly"
       },
       "data": [
        {
         "name": "val_loss",
         "type": "scatter",
         "xaxis": "x",
         "y": [
          0.004158428870141506,
          0.0012167355744168162,
          0.011107472702860832,
          0.029042620211839676,
          0.003519232152029872,
          0.027180181816220284,
          0.012260339222848415,
          0.1424129605293274,
          0.01309908740222454,
          0.13296765089035034,
          0.1923884153366089,
          0.06477319449186325,
          0.07719648629426956,
          0.026560820639133453,
          0.07113147526979446,
          0.043355412781238556,
          0.29335206747055054,
          0.22383689880371094,
          0.29233041405677795,
          0.25306832790374756
         ],
         "yaxis": "y"
        },
        {
         "name": "loss",
         "type": "scatter",
         "xaxis": "x",
         "y": [
          0.04930669814348221,
          0.04156913235783577,
          0.029689442366361618,
          0.0452602282166481,
          0.038076452910900116,
          0.03541848808526993,
          0.03956158831715584,
          0.0419972687959671,
          0.034783054143190384,
          0.027798540890216827,
          0.02645794115960598,
          0.030321644619107246,
          0.03508920595049858,
          0.031558990478515625,
          0.03304486349225044,
          0.02213534340262413,
          0.02313661016523838,
          0.029454883188009262,
          0.024708162993192673,
          0.031182851642370224
         ],
         "yaxis": "y"
        },
        {
         "name": "val accuracy",
         "type": "scatter",
         "xaxis": "x",
         "y": [
          1,
          1,
          1,
          1,
          1,
          1,
          1,
          0.8984615206718445,
          1,
          0.9051281809806824,
          0.8953846096992493,
          0.9635897278785706,
          0.9507692456245422,
          1,
          0.9538461565971375,
          0.9933333396911621,
          0.8871794939041138,
          0.8979487419128418,
          0.8846153616905212,
          0.8758974075317383
         ],
         "yaxis": "y2"
        },
        {
         "name": "accuracy",
         "type": "scatter",
         "xaxis": "x",
         "y": [
          0.9855677485466003,
          0.987985372543335,
          0.9915018081665039,
          0.9878388047218323,
          0.9897435903549194,
          0.9901098608970642,
          0.9895970821380615,
          0.9871794581413269,
          0.9905494451522827,
          0.9919413924217224,
          0.9925274848937988,
          0.9920146465301514,
          0.9900366067886353,
          0.9909157752990723,
          0.9904029369354248,
          0.9937728643417358,
          0.99347984790802,
          0.9918681383132935,
          0.993553102016449,
          0.9917216300964355
         ],
         "yaxis": "y2"
        }
       ],
       "layout": {
        "template": {
         "data": {
          "bar": [
           {
            "error_x": {
             "color": "#2a3f5f"
            },
            "error_y": {
             "color": "#2a3f5f"
            },
            "marker": {
             "line": {
              "color": "#E5ECF6",
              "width": 0.5
             },
             "pattern": {
              "fillmode": "overlay",
              "size": 10,
              "solidity": 0.2
             }
            },
            "type": "bar"
           }
          ],
          "barpolar": [
           {
            "marker": {
             "line": {
              "color": "#E5ECF6",
              "width": 0.5
             },
             "pattern": {
              "fillmode": "overlay",
              "size": 10,
              "solidity": 0.2
             }
            },
            "type": "barpolar"
           }
          ],
          "carpet": [
           {
            "aaxis": {
             "endlinecolor": "#2a3f5f",
             "gridcolor": "white",
             "linecolor": "white",
             "minorgridcolor": "white",
             "startlinecolor": "#2a3f5f"
            },
            "baxis": {
             "endlinecolor": "#2a3f5f",
             "gridcolor": "white",
             "linecolor": "white",
             "minorgridcolor": "white",
             "startlinecolor": "#2a3f5f"
            },
            "type": "carpet"
           }
          ],
          "choropleth": [
           {
            "colorbar": {
             "outlinewidth": 0,
             "ticks": ""
            },
            "type": "choropleth"
           }
          ],
          "contour": [
           {
            "colorbar": {
             "outlinewidth": 0,
             "ticks": ""
            },
            "colorscale": [
             [
              0,
              "#0d0887"
             ],
             [
              0.1111111111111111,
              "#46039f"
             ],
             [
              0.2222222222222222,
              "#7201a8"
             ],
             [
              0.3333333333333333,
              "#9c179e"
             ],
             [
              0.4444444444444444,
              "#bd3786"
             ],
             [
              0.5555555555555556,
              "#d8576b"
             ],
             [
              0.6666666666666666,
              "#ed7953"
             ],
             [
              0.7777777777777778,
              "#fb9f3a"
             ],
             [
              0.8888888888888888,
              "#fdca26"
             ],
             [
              1,
              "#f0f921"
             ]
            ],
            "type": "contour"
           }
          ],
          "contourcarpet": [
           {
            "colorbar": {
             "outlinewidth": 0,
             "ticks": ""
            },
            "type": "contourcarpet"
           }
          ],
          "heatmap": [
           {
            "colorbar": {
             "outlinewidth": 0,
             "ticks": ""
            },
            "colorscale": [
             [
              0,
              "#0d0887"
             ],
             [
              0.1111111111111111,
              "#46039f"
             ],
             [
              0.2222222222222222,
              "#7201a8"
             ],
             [
              0.3333333333333333,
              "#9c179e"
             ],
             [
              0.4444444444444444,
              "#bd3786"
             ],
             [
              0.5555555555555556,
              "#d8576b"
             ],
             [
              0.6666666666666666,
              "#ed7953"
             ],
             [
              0.7777777777777778,
              "#fb9f3a"
             ],
             [
              0.8888888888888888,
              "#fdca26"
             ],
             [
              1,
              "#f0f921"
             ]
            ],
            "type": "heatmap"
           }
          ],
          "heatmapgl": [
           {
            "colorbar": {
             "outlinewidth": 0,
             "ticks": ""
            },
            "colorscale": [
             [
              0,
              "#0d0887"
             ],
             [
              0.1111111111111111,
              "#46039f"
             ],
             [
              0.2222222222222222,
              "#7201a8"
             ],
             [
              0.3333333333333333,
              "#9c179e"
             ],
             [
              0.4444444444444444,
              "#bd3786"
             ],
             [
              0.5555555555555556,
              "#d8576b"
             ],
             [
              0.6666666666666666,
              "#ed7953"
             ],
             [
              0.7777777777777778,
              "#fb9f3a"
             ],
             [
              0.8888888888888888,
              "#fdca26"
             ],
             [
              1,
              "#f0f921"
             ]
            ],
            "type": "heatmapgl"
           }
          ],
          "histogram": [
           {
            "marker": {
             "pattern": {
              "fillmode": "overlay",
              "size": 10,
              "solidity": 0.2
             }
            },
            "type": "histogram"
           }
          ],
          "histogram2d": [
           {
            "colorbar": {
             "outlinewidth": 0,
             "ticks": ""
            },
            "colorscale": [
             [
              0,
              "#0d0887"
             ],
             [
              0.1111111111111111,
              "#46039f"
             ],
             [
              0.2222222222222222,
              "#7201a8"
             ],
             [
              0.3333333333333333,
              "#9c179e"
             ],
             [
              0.4444444444444444,
              "#bd3786"
             ],
             [
              0.5555555555555556,
              "#d8576b"
             ],
             [
              0.6666666666666666,
              "#ed7953"
             ],
             [
              0.7777777777777778,
              "#fb9f3a"
             ],
             [
              0.8888888888888888,
              "#fdca26"
             ],
             [
              1,
              "#f0f921"
             ]
            ],
            "type": "histogram2d"
           }
          ],
          "histogram2dcontour": [
           {
            "colorbar": {
             "outlinewidth": 0,
             "ticks": ""
            },
            "colorscale": [
             [
              0,
              "#0d0887"
             ],
             [
              0.1111111111111111,
              "#46039f"
             ],
             [
              0.2222222222222222,
              "#7201a8"
             ],
             [
              0.3333333333333333,
              "#9c179e"
             ],
             [
              0.4444444444444444,
              "#bd3786"
             ],
             [
              0.5555555555555556,
              "#d8576b"
             ],
             [
              0.6666666666666666,
              "#ed7953"
             ],
             [
              0.7777777777777778,
              "#fb9f3a"
             ],
             [
              0.8888888888888888,
              "#fdca26"
             ],
             [
              1,
              "#f0f921"
             ]
            ],
            "type": "histogram2dcontour"
           }
          ],
          "mesh3d": [
           {
            "colorbar": {
             "outlinewidth": 0,
             "ticks": ""
            },
            "type": "mesh3d"
           }
          ],
          "parcoords": [
           {
            "line": {
             "colorbar": {
              "outlinewidth": 0,
              "ticks": ""
             }
            },
            "type": "parcoords"
           }
          ],
          "pie": [
           {
            "automargin": true,
            "type": "pie"
           }
          ],
          "scatter": [
           {
            "fillpattern": {
             "fillmode": "overlay",
             "size": 10,
             "solidity": 0.2
            },
            "type": "scatter"
           }
          ],
          "scatter3d": [
           {
            "line": {
             "colorbar": {
              "outlinewidth": 0,
              "ticks": ""
             }
            },
            "marker": {
             "colorbar": {
              "outlinewidth": 0,
              "ticks": ""
             }
            },
            "type": "scatter3d"
           }
          ],
          "scattercarpet": [
           {
            "marker": {
             "colorbar": {
              "outlinewidth": 0,
              "ticks": ""
             }
            },
            "type": "scattercarpet"
           }
          ],
          "scattergeo": [
           {
            "marker": {
             "colorbar": {
              "outlinewidth": 0,
              "ticks": ""
             }
            },
            "type": "scattergeo"
           }
          ],
          "scattergl": [
           {
            "marker": {
             "colorbar": {
              "outlinewidth": 0,
              "ticks": ""
             }
            },
            "type": "scattergl"
           }
          ],
          "scattermapbox": [
           {
            "marker": {
             "colorbar": {
              "outlinewidth": 0,
              "ticks": ""
             }
            },
            "type": "scattermapbox"
           }
          ],
          "scatterpolar": [
           {
            "marker": {
             "colorbar": {
              "outlinewidth": 0,
              "ticks": ""
             }
            },
            "type": "scatterpolar"
           }
          ],
          "scatterpolargl": [
           {
            "marker": {
             "colorbar": {
              "outlinewidth": 0,
              "ticks": ""
             }
            },
            "type": "scatterpolargl"
           }
          ],
          "scatterternary": [
           {
            "marker": {
             "colorbar": {
              "outlinewidth": 0,
              "ticks": ""
             }
            },
            "type": "scatterternary"
           }
          ],
          "surface": [
           {
            "colorbar": {
             "outlinewidth": 0,
             "ticks": ""
            },
            "colorscale": [
             [
              0,
              "#0d0887"
             ],
             [
              0.1111111111111111,
              "#46039f"
             ],
             [
              0.2222222222222222,
              "#7201a8"
             ],
             [
              0.3333333333333333,
              "#9c179e"
             ],
             [
              0.4444444444444444,
              "#bd3786"
             ],
             [
              0.5555555555555556,
              "#d8576b"
             ],
             [
              0.6666666666666666,
              "#ed7953"
             ],
             [
              0.7777777777777778,
              "#fb9f3a"
             ],
             [
              0.8888888888888888,
              "#fdca26"
             ],
             [
              1,
              "#f0f921"
             ]
            ],
            "type": "surface"
           }
          ],
          "table": [
           {
            "cells": {
             "fill": {
              "color": "#EBF0F8"
             },
             "line": {
              "color": "white"
             }
            },
            "header": {
             "fill": {
              "color": "#C8D4E3"
             },
             "line": {
              "color": "white"
             }
            },
            "type": "table"
           }
          ]
         },
         "layout": {
          "annotationdefaults": {
           "arrowcolor": "#2a3f5f",
           "arrowhead": 0,
           "arrowwidth": 1
          },
          "autotypenumbers": "strict",
          "coloraxis": {
           "colorbar": {
            "outlinewidth": 0,
            "ticks": ""
           }
          },
          "colorscale": {
           "diverging": [
            [
             0,
             "#8e0152"
            ],
            [
             0.1,
             "#c51b7d"
            ],
            [
             0.2,
             "#de77ae"
            ],
            [
             0.3,
             "#f1b6da"
            ],
            [
             0.4,
             "#fde0ef"
            ],
            [
             0.5,
             "#f7f7f7"
            ],
            [
             0.6,
             "#e6f5d0"
            ],
            [
             0.7,
             "#b8e186"
            ],
            [
             0.8,
             "#7fbc41"
            ],
            [
             0.9,
             "#4d9221"
            ],
            [
             1,
             "#276419"
            ]
           ],
           "sequential": [
            [
             0,
             "#0d0887"
            ],
            [
             0.1111111111111111,
             "#46039f"
            ],
            [
             0.2222222222222222,
             "#7201a8"
            ],
            [
             0.3333333333333333,
             "#9c179e"
            ],
            [
             0.4444444444444444,
             "#bd3786"
            ],
            [
             0.5555555555555556,
             "#d8576b"
            ],
            [
             0.6666666666666666,
             "#ed7953"
            ],
            [
             0.7777777777777778,
             "#fb9f3a"
            ],
            [
             0.8888888888888888,
             "#fdca26"
            ],
            [
             1,
             "#f0f921"
            ]
           ],
           "sequentialminus": [
            [
             0,
             "#0d0887"
            ],
            [
             0.1111111111111111,
             "#46039f"
            ],
            [
             0.2222222222222222,
             "#7201a8"
            ],
            [
             0.3333333333333333,
             "#9c179e"
            ],
            [
             0.4444444444444444,
             "#bd3786"
            ],
            [
             0.5555555555555556,
             "#d8576b"
            ],
            [
             0.6666666666666666,
             "#ed7953"
            ],
            [
             0.7777777777777778,
             "#fb9f3a"
            ],
            [
             0.8888888888888888,
             "#fdca26"
            ],
            [
             1,
             "#f0f921"
            ]
           ]
          },
          "colorway": [
           "#636efa",
           "#EF553B",
           "#00cc96",
           "#ab63fa",
           "#FFA15A",
           "#19d3f3",
           "#FF6692",
           "#B6E880",
           "#FF97FF",
           "#FECB52"
          ],
          "font": {
           "color": "#2a3f5f"
          },
          "geo": {
           "bgcolor": "white",
           "lakecolor": "white",
           "landcolor": "#E5ECF6",
           "showlakes": true,
           "showland": true,
           "subunitcolor": "white"
          },
          "hoverlabel": {
           "align": "left"
          },
          "hovermode": "closest",
          "mapbox": {
           "style": "light"
          },
          "paper_bgcolor": "white",
          "plot_bgcolor": "#E5ECF6",
          "polar": {
           "angularaxis": {
            "gridcolor": "white",
            "linecolor": "white",
            "ticks": ""
           },
           "bgcolor": "#E5ECF6",
           "radialaxis": {
            "gridcolor": "white",
            "linecolor": "white",
            "ticks": ""
           }
          },
          "scene": {
           "xaxis": {
            "backgroundcolor": "#E5ECF6",
            "gridcolor": "white",
            "gridwidth": 2,
            "linecolor": "white",
            "showbackground": true,
            "ticks": "",
            "zerolinecolor": "white"
           },
           "yaxis": {
            "backgroundcolor": "#E5ECF6",
            "gridcolor": "white",
            "gridwidth": 2,
            "linecolor": "white",
            "showbackground": true,
            "ticks": "",
            "zerolinecolor": "white"
           },
           "zaxis": {
            "backgroundcolor": "#E5ECF6",
            "gridcolor": "white",
            "gridwidth": 2,
            "linecolor": "white",
            "showbackground": true,
            "ticks": "",
            "zerolinecolor": "white"
           }
          },
          "shapedefaults": {
           "line": {
            "color": "#2a3f5f"
           }
          },
          "ternary": {
           "aaxis": {
            "gridcolor": "white",
            "linecolor": "white",
            "ticks": ""
           },
           "baxis": {
            "gridcolor": "white",
            "linecolor": "white",
            "ticks": ""
           },
           "bgcolor": "#E5ECF6",
           "caxis": {
            "gridcolor": "white",
            "linecolor": "white",
            "ticks": ""
           }
          },
          "title": {
           "x": 0.05
          },
          "xaxis": {
           "automargin": true,
           "gridcolor": "white",
           "linecolor": "white",
           "ticks": "",
           "title": {
            "standoff": 15
           },
           "zerolinecolor": "white",
           "zerolinewidth": 2
          },
          "yaxis": {
           "automargin": true,
           "gridcolor": "white",
           "linecolor": "white",
           "ticks": "",
           "title": {
            "standoff": 15
           },
           "zerolinecolor": "white",
           "zerolinewidth": 2
          }
         }
        },
        "title": {
         "text": "Loss/Accuracy of EEGNet"
        },
        "xaxis": {
         "anchor": "y",
         "domain": [
          0,
          0.94
         ],
         "title": {
          "text": "Epoch"
         }
        },
        "yaxis": {
         "anchor": "x",
         "domain": [
          0,
          1
         ],
         "title": {
          "text": "Loss"
         }
        },
        "yaxis2": {
         "anchor": "x",
         "overlaying": "y",
         "side": "right",
         "title": {
          "text": "Accuracy"
         }
        }
       }
      }
     },
     "metadata": {},
     "output_type": "display_data"
    },
    {
     "name": "stdout",
     "output_type": "stream",
     "text": [
      "Epoch 1/20\n",
      "\n",
      "Epoch 1: val_loss did not improve from 0.00067\n",
      "1707/1707 - 18s - loss: 0.0128 - accuracy: 0.9974 - val_loss: 0.4871 - val_accuracy: 0.8462 - 18s/epoch - 11ms/step\n",
      "Epoch 2/20\n",
      "\n",
      "Epoch 2: val_loss did not improve from 0.00067\n",
      "1707/1707 - 17s - loss: 0.0095 - accuracy: 0.9982 - val_loss: 0.8386 - val_accuracy: 0.6923 - 17s/epoch - 10ms/step\n",
      "Epoch 3/20\n",
      "\n",
      "Epoch 3: val_loss did not improve from 0.00067\n",
      "1707/1707 - 17s - loss: 0.0093 - accuracy: 0.9979 - val_loss: 1.0436 - val_accuracy: 0.7215 - 17s/epoch - 10ms/step\n",
      "Epoch 4/20\n",
      "\n",
      "Epoch 4: val_loss did not improve from 0.00067\n",
      "1707/1707 - 17s - loss: 0.0141 - accuracy: 0.9968 - val_loss: 1.4732 - val_accuracy: 0.6923 - 17s/epoch - 10ms/step\n",
      "Epoch 5/20\n",
      "\n",
      "Epoch 5: val_loss did not improve from 0.00067\n",
      "1707/1707 - 17s - loss: 0.0057 - accuracy: 0.9990 - val_loss: 1.3121 - val_accuracy: 0.6923 - 17s/epoch - 10ms/step\n",
      "Epoch 6/20\n",
      "\n",
      "Epoch 6: val_loss did not improve from 0.00067\n",
      "1707/1707 - 16s - loss: 0.0097 - accuracy: 0.9980 - val_loss: 1.3716 - val_accuracy: 0.6923 - 16s/epoch - 9ms/step\n",
      "Epoch 7/20\n",
      "\n",
      "Epoch 7: val_loss did not improve from 0.00067\n",
      "1707/1707 - 15s - loss: 0.0111 - accuracy: 0.9977 - val_loss: 1.1026 - val_accuracy: 0.6923 - 15s/epoch - 9ms/step\n",
      "Epoch 8/20\n",
      "\n",
      "Epoch 8: val_loss did not improve from 0.00067\n",
      "1707/1707 - 16s - loss: 0.0090 - accuracy: 0.9983 - val_loss: 1.3720 - val_accuracy: 0.6923 - 16s/epoch - 10ms/step\n",
      "Epoch 9/20\n",
      "\n",
      "Epoch 9: val_loss did not improve from 0.00067\n",
      "1707/1707 - 16s - loss: 0.0097 - accuracy: 0.9978 - val_loss: 1.0538 - val_accuracy: 0.8159 - 16s/epoch - 9ms/step\n",
      "Epoch 10/20\n",
      "\n",
      "Epoch 10: val_loss did not improve from 0.00067\n",
      "1707/1707 - 15s - loss: 0.0116 - accuracy: 0.9977 - val_loss: 1.6861 - val_accuracy: 0.6923 - 15s/epoch - 9ms/step\n",
      "Epoch 11/20\n",
      "\n",
      "Epoch 11: val_loss did not improve from 0.00067\n",
      "1707/1707 - 17s - loss: 0.0101 - accuracy: 0.9982 - val_loss: 1.3951 - val_accuracy: 0.6923 - 17s/epoch - 10ms/step\n",
      "Epoch 12/20\n",
      "\n",
      "Epoch 12: val_loss did not improve from 0.00067\n",
      "1707/1707 - 16s - loss: 0.0054 - accuracy: 0.9988 - val_loss: 1.2552 - val_accuracy: 0.6923 - 16s/epoch - 10ms/step\n",
      "Epoch 13/20\n",
      "\n",
      "Epoch 13: val_loss did not improve from 0.00067\n",
      "1707/1707 - 19s - loss: 0.0082 - accuracy: 0.9984 - val_loss: 1.6595 - val_accuracy: 0.6923 - 19s/epoch - 11ms/step\n",
      "Epoch 14/20\n",
      "\n",
      "Epoch 14: val_loss did not improve from 0.00067\n",
      "1707/1707 - 20s - loss: 0.0088 - accuracy: 0.9979 - val_loss: 1.5932 - val_accuracy: 0.6923 - 20s/epoch - 11ms/step\n",
      "Epoch 15/20\n",
      "\n",
      "Epoch 15: val_loss did not improve from 0.00067\n",
      "1707/1707 - 20s - loss: 0.0049 - accuracy: 0.9990 - val_loss: 1.9181 - val_accuracy: 0.6923 - 20s/epoch - 12ms/step\n",
      "Epoch 16/20\n",
      "\n",
      "Epoch 16: val_loss did not improve from 0.00067\n",
      "1707/1707 - 18s - loss: 0.0051 - accuracy: 0.9990 - val_loss: 1.9806 - val_accuracy: 0.6923 - 18s/epoch - 11ms/step\n",
      "Epoch 17/20\n",
      "\n",
      "Epoch 17: val_loss did not improve from 0.00067\n",
      "1707/1707 - 19s - loss: 0.0041 - accuracy: 0.9990 - val_loss: 1.3175 - val_accuracy: 0.8462 - 19s/epoch - 11ms/step\n",
      "Epoch 18/20\n",
      "\n",
      "Epoch 18: val_loss did not improve from 0.00067\n",
      "1707/1707 - 17s - loss: 0.0032 - accuracy: 0.9996 - val_loss: 2.0588 - val_accuracy: 0.6923 - 17s/epoch - 10ms/step\n",
      "Epoch 19/20\n",
      "\n",
      "Epoch 19: val_loss did not improve from 0.00067\n",
      "1707/1707 - 21s - loss: 0.0081 - accuracy: 0.9983 - val_loss: 1.7643 - val_accuracy: 0.6923 - 21s/epoch - 12ms/step\n",
      "Epoch 20/20\n",
      "\n",
      "Epoch 20: val_loss did not improve from 0.00067\n",
      "1707/1707 - 17s - loss: 0.0027 - accuracy: 0.9994 - val_loss: 1.9329 - val_accuracy: 0.6923 - 17s/epoch - 10ms/step\n",
      "61/61 [==============================] - 0s 6ms/step\n",
      "Classification accuracy: 0.584785 \n",
      "              precision    recall  f1-score   support\n",
      "\n",
      "         0.0       1.00      0.89      0.94      1462\n",
      "         1.0       0.76      1.00      0.86       488\n",
      "\n",
      "    accuracy                           0.92      1950\n",
      "   macro avg       0.88      0.95      0.90      1950\n",
      "weighted avg       0.94      0.92      0.92      1950\n",
      "\n"
     ]
    },
    {
     "data": {
      "application/vnd.plotly.v1+json": {
       "config": {
        "plotlyServerURL": "https://plot.ly"
       },
       "data": [
        {
         "name": "val_loss",
         "type": "scatter",
         "xaxis": "x",
         "y": [
          0.48710498213768005,
          0.8386338949203491,
          1.04362952709198,
          1.473189353942871,
          1.3120979070663452,
          1.3716264963150024,
          1.102624535560608,
          1.3719696998596191,
          1.0538095235824585,
          1.686074137687683,
          1.3950974941253662,
          1.2551662921905518,
          1.6595487594604492,
          1.5931541919708252,
          1.918106198310852,
          1.9805817604064941,
          1.3175232410430908,
          2.0587589740753174,
          1.7643496990203857,
          1.932944893836975
         ],
         "yaxis": "y"
        },
        {
         "name": "loss",
         "type": "scatter",
         "xaxis": "x",
         "y": [
          0.012792236171662807,
          0.009509079158306122,
          0.009265839122235775,
          0.014113794080913067,
          0.005685934331268072,
          0.009660086594522,
          0.011143326759338379,
          0.00901020597666502,
          0.00971763301640749,
          0.011578681878745556,
          0.010140078142285347,
          0.005379626527428627,
          0.008153928443789482,
          0.008808748796582222,
          0.004894657526165247,
          0.0051445974968373775,
          0.004082033410668373,
          0.003219068283215165,
          0.008136196061968803,
          0.0027299856301397085
         ],
         "yaxis": "y"
        },
        {
         "name": "val accuracy",
         "type": "scatter",
         "xaxis": "x",
         "y": [
          0.8461538553237915,
          0.692307710647583,
          0.7215384840965271,
          0.692307710647583,
          0.692307710647583,
          0.692307710647583,
          0.692307710647583,
          0.692307710647583,
          0.8158974647521973,
          0.692307710647583,
          0.692307710647583,
          0.692307710647583,
          0.692307710647583,
          0.692307710647583,
          0.692307710647583,
          0.692307710647583,
          0.8461538553237915,
          0.692307710647583,
          0.692307710647583,
          0.692307710647583
         ],
         "yaxis": "y2"
        },
        {
         "name": "accuracy",
         "type": "scatter",
         "xaxis": "x",
         "y": [
          0.9974358677864075,
          0.9982417821884155,
          0.9979487061500549,
          0.9968498349189758,
          0.9989743828773499,
          0.9980219602584839,
          0.9977289438247681,
          0.9983150362968445,
          0.997802197933197,
          0.9977289438247681,
          0.9981684684753418,
          0.9987545609474182,
          0.9983882904052734,
          0.9979487061500549,
          0.9989743828773499,
          0.9989743828773499,
          0.9990476369857788,
          0.9996336698532104,
          0.9983150362968445,
          0.9994139075279236
         ],
         "yaxis": "y2"
        }
       ],
       "layout": {
        "template": {
         "data": {
          "bar": [
           {
            "error_x": {
             "color": "#2a3f5f"
            },
            "error_y": {
             "color": "#2a3f5f"
            },
            "marker": {
             "line": {
              "color": "#E5ECF6",
              "width": 0.5
             },
             "pattern": {
              "fillmode": "overlay",
              "size": 10,
              "solidity": 0.2
             }
            },
            "type": "bar"
           }
          ],
          "barpolar": [
           {
            "marker": {
             "line": {
              "color": "#E5ECF6",
              "width": 0.5
             },
             "pattern": {
              "fillmode": "overlay",
              "size": 10,
              "solidity": 0.2
             }
            },
            "type": "barpolar"
           }
          ],
          "carpet": [
           {
            "aaxis": {
             "endlinecolor": "#2a3f5f",
             "gridcolor": "white",
             "linecolor": "white",
             "minorgridcolor": "white",
             "startlinecolor": "#2a3f5f"
            },
            "baxis": {
             "endlinecolor": "#2a3f5f",
             "gridcolor": "white",
             "linecolor": "white",
             "minorgridcolor": "white",
             "startlinecolor": "#2a3f5f"
            },
            "type": "carpet"
           }
          ],
          "choropleth": [
           {
            "colorbar": {
             "outlinewidth": 0,
             "ticks": ""
            },
            "type": "choropleth"
           }
          ],
          "contour": [
           {
            "colorbar": {
             "outlinewidth": 0,
             "ticks": ""
            },
            "colorscale": [
             [
              0,
              "#0d0887"
             ],
             [
              0.1111111111111111,
              "#46039f"
             ],
             [
              0.2222222222222222,
              "#7201a8"
             ],
             [
              0.3333333333333333,
              "#9c179e"
             ],
             [
              0.4444444444444444,
              "#bd3786"
             ],
             [
              0.5555555555555556,
              "#d8576b"
             ],
             [
              0.6666666666666666,
              "#ed7953"
             ],
             [
              0.7777777777777778,
              "#fb9f3a"
             ],
             [
              0.8888888888888888,
              "#fdca26"
             ],
             [
              1,
              "#f0f921"
             ]
            ],
            "type": "contour"
           }
          ],
          "contourcarpet": [
           {
            "colorbar": {
             "outlinewidth": 0,
             "ticks": ""
            },
            "type": "contourcarpet"
           }
          ],
          "heatmap": [
           {
            "colorbar": {
             "outlinewidth": 0,
             "ticks": ""
            },
            "colorscale": [
             [
              0,
              "#0d0887"
             ],
             [
              0.1111111111111111,
              "#46039f"
             ],
             [
              0.2222222222222222,
              "#7201a8"
             ],
             [
              0.3333333333333333,
              "#9c179e"
             ],
             [
              0.4444444444444444,
              "#bd3786"
             ],
             [
              0.5555555555555556,
              "#d8576b"
             ],
             [
              0.6666666666666666,
              "#ed7953"
             ],
             [
              0.7777777777777778,
              "#fb9f3a"
             ],
             [
              0.8888888888888888,
              "#fdca26"
             ],
             [
              1,
              "#f0f921"
             ]
            ],
            "type": "heatmap"
           }
          ],
          "heatmapgl": [
           {
            "colorbar": {
             "outlinewidth": 0,
             "ticks": ""
            },
            "colorscale": [
             [
              0,
              "#0d0887"
             ],
             [
              0.1111111111111111,
              "#46039f"
             ],
             [
              0.2222222222222222,
              "#7201a8"
             ],
             [
              0.3333333333333333,
              "#9c179e"
             ],
             [
              0.4444444444444444,
              "#bd3786"
             ],
             [
              0.5555555555555556,
              "#d8576b"
             ],
             [
              0.6666666666666666,
              "#ed7953"
             ],
             [
              0.7777777777777778,
              "#fb9f3a"
             ],
             [
              0.8888888888888888,
              "#fdca26"
             ],
             [
              1,
              "#f0f921"
             ]
            ],
            "type": "heatmapgl"
           }
          ],
          "histogram": [
           {
            "marker": {
             "pattern": {
              "fillmode": "overlay",
              "size": 10,
              "solidity": 0.2
             }
            },
            "type": "histogram"
           }
          ],
          "histogram2d": [
           {
            "colorbar": {
             "outlinewidth": 0,
             "ticks": ""
            },
            "colorscale": [
             [
              0,
              "#0d0887"
             ],
             [
              0.1111111111111111,
              "#46039f"
             ],
             [
              0.2222222222222222,
              "#7201a8"
             ],
             [
              0.3333333333333333,
              "#9c179e"
             ],
             [
              0.4444444444444444,
              "#bd3786"
             ],
             [
              0.5555555555555556,
              "#d8576b"
             ],
             [
              0.6666666666666666,
              "#ed7953"
             ],
             [
              0.7777777777777778,
              "#fb9f3a"
             ],
             [
              0.8888888888888888,
              "#fdca26"
             ],
             [
              1,
              "#f0f921"
             ]
            ],
            "type": "histogram2d"
           }
          ],
          "histogram2dcontour": [
           {
            "colorbar": {
             "outlinewidth": 0,
             "ticks": ""
            },
            "colorscale": [
             [
              0,
              "#0d0887"
             ],
             [
              0.1111111111111111,
              "#46039f"
             ],
             [
              0.2222222222222222,
              "#7201a8"
             ],
             [
              0.3333333333333333,
              "#9c179e"
             ],
             [
              0.4444444444444444,
              "#bd3786"
             ],
             [
              0.5555555555555556,
              "#d8576b"
             ],
             [
              0.6666666666666666,
              "#ed7953"
             ],
             [
              0.7777777777777778,
              "#fb9f3a"
             ],
             [
              0.8888888888888888,
              "#fdca26"
             ],
             [
              1,
              "#f0f921"
             ]
            ],
            "type": "histogram2dcontour"
           }
          ],
          "mesh3d": [
           {
            "colorbar": {
             "outlinewidth": 0,
             "ticks": ""
            },
            "type": "mesh3d"
           }
          ],
          "parcoords": [
           {
            "line": {
             "colorbar": {
              "outlinewidth": 0,
              "ticks": ""
             }
            },
            "type": "parcoords"
           }
          ],
          "pie": [
           {
            "automargin": true,
            "type": "pie"
           }
          ],
          "scatter": [
           {
            "fillpattern": {
             "fillmode": "overlay",
             "size": 10,
             "solidity": 0.2
            },
            "type": "scatter"
           }
          ],
          "scatter3d": [
           {
            "line": {
             "colorbar": {
              "outlinewidth": 0,
              "ticks": ""
             }
            },
            "marker": {
             "colorbar": {
              "outlinewidth": 0,
              "ticks": ""
             }
            },
            "type": "scatter3d"
           }
          ],
          "scattercarpet": [
           {
            "marker": {
             "colorbar": {
              "outlinewidth": 0,
              "ticks": ""
             }
            },
            "type": "scattercarpet"
           }
          ],
          "scattergeo": [
           {
            "marker": {
             "colorbar": {
              "outlinewidth": 0,
              "ticks": ""
             }
            },
            "type": "scattergeo"
           }
          ],
          "scattergl": [
           {
            "marker": {
             "colorbar": {
              "outlinewidth": 0,
              "ticks": ""
             }
            },
            "type": "scattergl"
           }
          ],
          "scattermapbox": [
           {
            "marker": {
             "colorbar": {
              "outlinewidth": 0,
              "ticks": ""
             }
            },
            "type": "scattermapbox"
           }
          ],
          "scatterpolar": [
           {
            "marker": {
             "colorbar": {
              "outlinewidth": 0,
              "ticks": ""
             }
            },
            "type": "scatterpolar"
           }
          ],
          "scatterpolargl": [
           {
            "marker": {
             "colorbar": {
              "outlinewidth": 0,
              "ticks": ""
             }
            },
            "type": "scatterpolargl"
           }
          ],
          "scatterternary": [
           {
            "marker": {
             "colorbar": {
              "outlinewidth": 0,
              "ticks": ""
             }
            },
            "type": "scatterternary"
           }
          ],
          "surface": [
           {
            "colorbar": {
             "outlinewidth": 0,
             "ticks": ""
            },
            "colorscale": [
             [
              0,
              "#0d0887"
             ],
             [
              0.1111111111111111,
              "#46039f"
             ],
             [
              0.2222222222222222,
              "#7201a8"
             ],
             [
              0.3333333333333333,
              "#9c179e"
             ],
             [
              0.4444444444444444,
              "#bd3786"
             ],
             [
              0.5555555555555556,
              "#d8576b"
             ],
             [
              0.6666666666666666,
              "#ed7953"
             ],
             [
              0.7777777777777778,
              "#fb9f3a"
             ],
             [
              0.8888888888888888,
              "#fdca26"
             ],
             [
              1,
              "#f0f921"
             ]
            ],
            "type": "surface"
           }
          ],
          "table": [
           {
            "cells": {
             "fill": {
              "color": "#EBF0F8"
             },
             "line": {
              "color": "white"
             }
            },
            "header": {
             "fill": {
              "color": "#C8D4E3"
             },
             "line": {
              "color": "white"
             }
            },
            "type": "table"
           }
          ]
         },
         "layout": {
          "annotationdefaults": {
           "arrowcolor": "#2a3f5f",
           "arrowhead": 0,
           "arrowwidth": 1
          },
          "autotypenumbers": "strict",
          "coloraxis": {
           "colorbar": {
            "outlinewidth": 0,
            "ticks": ""
           }
          },
          "colorscale": {
           "diverging": [
            [
             0,
             "#8e0152"
            ],
            [
             0.1,
             "#c51b7d"
            ],
            [
             0.2,
             "#de77ae"
            ],
            [
             0.3,
             "#f1b6da"
            ],
            [
             0.4,
             "#fde0ef"
            ],
            [
             0.5,
             "#f7f7f7"
            ],
            [
             0.6,
             "#e6f5d0"
            ],
            [
             0.7,
             "#b8e186"
            ],
            [
             0.8,
             "#7fbc41"
            ],
            [
             0.9,
             "#4d9221"
            ],
            [
             1,
             "#276419"
            ]
           ],
           "sequential": [
            [
             0,
             "#0d0887"
            ],
            [
             0.1111111111111111,
             "#46039f"
            ],
            [
             0.2222222222222222,
             "#7201a8"
            ],
            [
             0.3333333333333333,
             "#9c179e"
            ],
            [
             0.4444444444444444,
             "#bd3786"
            ],
            [
             0.5555555555555556,
             "#d8576b"
            ],
            [
             0.6666666666666666,
             "#ed7953"
            ],
            [
             0.7777777777777778,
             "#fb9f3a"
            ],
            [
             0.8888888888888888,
             "#fdca26"
            ],
            [
             1,
             "#f0f921"
            ]
           ],
           "sequentialminus": [
            [
             0,
             "#0d0887"
            ],
            [
             0.1111111111111111,
             "#46039f"
            ],
            [
             0.2222222222222222,
             "#7201a8"
            ],
            [
             0.3333333333333333,
             "#9c179e"
            ],
            [
             0.4444444444444444,
             "#bd3786"
            ],
            [
             0.5555555555555556,
             "#d8576b"
            ],
            [
             0.6666666666666666,
             "#ed7953"
            ],
            [
             0.7777777777777778,
             "#fb9f3a"
            ],
            [
             0.8888888888888888,
             "#fdca26"
            ],
            [
             1,
             "#f0f921"
            ]
           ]
          },
          "colorway": [
           "#636efa",
           "#EF553B",
           "#00cc96",
           "#ab63fa",
           "#FFA15A",
           "#19d3f3",
           "#FF6692",
           "#B6E880",
           "#FF97FF",
           "#FECB52"
          ],
          "font": {
           "color": "#2a3f5f"
          },
          "geo": {
           "bgcolor": "white",
           "lakecolor": "white",
           "landcolor": "#E5ECF6",
           "showlakes": true,
           "showland": true,
           "subunitcolor": "white"
          },
          "hoverlabel": {
           "align": "left"
          },
          "hovermode": "closest",
          "mapbox": {
           "style": "light"
          },
          "paper_bgcolor": "white",
          "plot_bgcolor": "#E5ECF6",
          "polar": {
           "angularaxis": {
            "gridcolor": "white",
            "linecolor": "white",
            "ticks": ""
           },
           "bgcolor": "#E5ECF6",
           "radialaxis": {
            "gridcolor": "white",
            "linecolor": "white",
            "ticks": ""
           }
          },
          "scene": {
           "xaxis": {
            "backgroundcolor": "#E5ECF6",
            "gridcolor": "white",
            "gridwidth": 2,
            "linecolor": "white",
            "showbackground": true,
            "ticks": "",
            "zerolinecolor": "white"
           },
           "yaxis": {
            "backgroundcolor": "#E5ECF6",
            "gridcolor": "white",
            "gridwidth": 2,
            "linecolor": "white",
            "showbackground": true,
            "ticks": "",
            "zerolinecolor": "white"
           },
           "zaxis": {
            "backgroundcolor": "#E5ECF6",
            "gridcolor": "white",
            "gridwidth": 2,
            "linecolor": "white",
            "showbackground": true,
            "ticks": "",
            "zerolinecolor": "white"
           }
          },
          "shapedefaults": {
           "line": {
            "color": "#2a3f5f"
           }
          },
          "ternary": {
           "aaxis": {
            "gridcolor": "white",
            "linecolor": "white",
            "ticks": ""
           },
           "baxis": {
            "gridcolor": "white",
            "linecolor": "white",
            "ticks": ""
           },
           "bgcolor": "#E5ECF6",
           "caxis": {
            "gridcolor": "white",
            "linecolor": "white",
            "ticks": ""
           }
          },
          "title": {
           "x": 0.05
          },
          "xaxis": {
           "automargin": true,
           "gridcolor": "white",
           "linecolor": "white",
           "ticks": "",
           "title": {
            "standoff": 15
           },
           "zerolinecolor": "white",
           "zerolinewidth": 2
          },
          "yaxis": {
           "automargin": true,
           "gridcolor": "white",
           "linecolor": "white",
           "ticks": "",
           "title": {
            "standoff": 15
           },
           "zerolinecolor": "white",
           "zerolinewidth": 2
          }
         }
        },
        "title": {
         "text": "Loss/Accuracy of EEGNet"
        },
        "xaxis": {
         "anchor": "y",
         "domain": [
          0,
          0.94
         ],
         "title": {
          "text": "Epoch"
         }
        },
        "yaxis": {
         "anchor": "x",
         "domain": [
          0,
          1
         ],
         "title": {
          "text": "Loss"
         }
        },
        "yaxis2": {
         "anchor": "x",
         "overlaying": "y",
         "side": "right",
         "title": {
          "text": "Accuracy"
         }
        }
       }
      }
     },
     "metadata": {},
     "output_type": "display_data"
    },
    {
     "name": "stdout",
     "output_type": "stream",
     "text": [
      "Epoch 1/20\n",
      "\n",
      "Epoch 1: val_loss did not improve from 0.00067\n",
      "1707/1707 - 19s - loss: 0.0599 - accuracy: 0.9820 - val_loss: 0.0036 - val_accuracy: 1.0000 - 19s/epoch - 11ms/step\n",
      "Epoch 2/20\n",
      "\n",
      "Epoch 2: val_loss did not improve from 0.00067\n",
      "1707/1707 - 18s - loss: 0.0463 - accuracy: 0.9856 - val_loss: 0.0033 - val_accuracy: 1.0000 - 18s/epoch - 10ms/step\n",
      "Epoch 3/20\n",
      "\n",
      "Epoch 3: val_loss did not improve from 0.00067\n",
      "1707/1707 - 18s - loss: 0.0415 - accuracy: 0.9888 - val_loss: 0.0042 - val_accuracy: 1.0000 - 18s/epoch - 10ms/step\n",
      "Epoch 4/20\n",
      "\n",
      "Epoch 4: val_loss did not improve from 0.00067\n",
      "1707/1707 - 18s - loss: 0.0366 - accuracy: 0.9893 - val_loss: 0.0027 - val_accuracy: 1.0000 - 18s/epoch - 11ms/step\n",
      "Epoch 5/20\n",
      "\n",
      "Epoch 5: val_loss did not improve from 0.00067\n",
      "1707/1707 - 18s - loss: 0.0408 - accuracy: 0.9890 - val_loss: 0.0132 - val_accuracy: 1.0000 - 18s/epoch - 11ms/step\n",
      "Epoch 6/20\n",
      "\n",
      "Epoch 6: val_loss did not improve from 0.00067\n",
      "1707/1707 - 18s - loss: 0.0413 - accuracy: 0.9889 - val_loss: 0.0031 - val_accuracy: 1.0000 - 18s/epoch - 11ms/step\n",
      "Epoch 7/20\n",
      "\n",
      "Epoch 7: val_loss did not improve from 0.00067\n",
      "1707/1707 - 18s - loss: 0.0398 - accuracy: 0.9887 - val_loss: 0.0116 - val_accuracy: 1.0000 - 18s/epoch - 11ms/step\n",
      "Epoch 8/20\n",
      "\n",
      "Epoch 8: val_loss did not improve from 0.00067\n",
      "1707/1707 - 18s - loss: 0.0325 - accuracy: 0.9911 - val_loss: 0.0054 - val_accuracy: 1.0000 - 18s/epoch - 11ms/step\n",
      "Epoch 9/20\n",
      "\n",
      "Epoch 9: val_loss did not improve from 0.00067\n",
      "1707/1707 - 18s - loss: 0.0332 - accuracy: 0.9910 - val_loss: 0.0027 - val_accuracy: 1.0000 - 18s/epoch - 10ms/step\n",
      "Epoch 10/20\n",
      "\n",
      "Epoch 10: val_loss did not improve from 0.00067\n",
      "1707/1707 - 19s - loss: 0.0321 - accuracy: 0.9905 - val_loss: 9.3335e-04 - val_accuracy: 1.0000 - 19s/epoch - 11ms/step\n",
      "Epoch 11/20\n",
      "\n",
      "Epoch 11: val_loss did not improve from 0.00067\n",
      "1707/1707 - 18s - loss: 0.0395 - accuracy: 0.9889 - val_loss: 0.0019 - val_accuracy: 1.0000 - 18s/epoch - 11ms/step\n",
      "Epoch 12/20\n",
      "\n",
      "Epoch 12: val_loss did not improve from 0.00067\n",
      "1707/1707 - 20s - loss: 0.0384 - accuracy: 0.9907 - val_loss: 0.0745 - val_accuracy: 1.0000 - 20s/epoch - 12ms/step\n",
      "Epoch 13/20\n",
      "\n",
      "Epoch 13: val_loss did not improve from 0.00067\n",
      "1707/1707 - 18s - loss: 0.0562 - accuracy: 0.9827 - val_loss: 0.0508 - val_accuracy: 0.9995 - 18s/epoch - 10ms/step\n",
      "Epoch 14/20\n",
      "\n",
      "Epoch 14: val_loss did not improve from 0.00067\n",
      "1707/1707 - 18s - loss: 0.0407 - accuracy: 0.9871 - val_loss: 0.0170 - val_accuracy: 1.0000 - 18s/epoch - 11ms/step\n",
      "Epoch 15/20\n",
      "\n",
      "Epoch 15: val_loss did not improve from 0.00067\n",
      "1707/1707 - 19s - loss: 0.0278 - accuracy: 0.9924 - val_loss: 0.0104 - val_accuracy: 1.0000 - 19s/epoch - 11ms/step\n",
      "Epoch 16/20\n",
      "\n",
      "Epoch 16: val_loss did not improve from 0.00067\n",
      "1707/1707 - 18s - loss: 0.0452 - accuracy: 0.9872 - val_loss: 0.0015 - val_accuracy: 1.0000 - 18s/epoch - 10ms/step\n",
      "Epoch 17/20\n",
      "\n",
      "Epoch 17: val_loss did not improve from 0.00067\n",
      "1707/1707 - 19s - loss: 0.0279 - accuracy: 0.9914 - val_loss: 0.0043 - val_accuracy: 1.0000 - 19s/epoch - 11ms/step\n",
      "Epoch 18/20\n",
      "\n",
      "Epoch 18: val_loss did not improve from 0.00067\n",
      "1707/1707 - 19s - loss: 0.0311 - accuracy: 0.9915 - val_loss: 0.0034 - val_accuracy: 1.0000 - 19s/epoch - 11ms/step\n",
      "Epoch 19/20\n",
      "\n",
      "Epoch 19: val_loss improved from 0.00067 to 0.00055, saving model to /tmp\\checkpoint.h5\n",
      "1707/1707 - 19s - loss: 0.0289 - accuracy: 0.9929 - val_loss: 5.5025e-04 - val_accuracy: 1.0000 - 19s/epoch - 11ms/step\n",
      "Epoch 20/20\n",
      "\n",
      "Epoch 20: val_loss did not improve from 0.00055\n",
      "1707/1707 - 18s - loss: 0.0362 - accuracy: 0.9899 - val_loss: 0.0044 - val_accuracy: 1.0000 - 18s/epoch - 11ms/step\n",
      "61/61 [==============================] - 0s 7ms/step\n",
      "Classification accuracy: 0.624744 \n",
      "              precision    recall  f1-score   support\n",
      "\n",
      "         0.0       1.00      1.00      1.00      1462\n",
      "         1.0       1.00      1.00      1.00       488\n",
      "\n",
      "    accuracy                           1.00      1950\n",
      "   macro avg       1.00      1.00      1.00      1950\n",
      "weighted avg       1.00      1.00      1.00      1950\n",
      "\n"
     ]
    },
    {
     "data": {
      "application/vnd.plotly.v1+json": {
       "config": {
        "plotlyServerURL": "https://plot.ly"
       },
       "data": [
        {
         "name": "val_loss",
         "type": "scatter",
         "xaxis": "x",
         "y": [
          0.003564964747056365,
          0.0032512263860553503,
          0.004246034659445286,
          0.002737080678343773,
          0.013202514499425888,
          0.0030581646133214235,
          0.011561378836631775,
          0.005427604075521231,
          0.0026602556463330984,
          0.0009333469206467271,
          0.0019262984860688448,
          0.0745118260383606,
          0.050809524953365326,
          0.016966693103313446,
          0.010370315052568913,
          0.0015063999453559518,
          0.004263406619429588,
          0.003375180996954441,
          0.0005502509302459657,
          0.0043510813266038895
         ],
         "yaxis": "y"
        },
        {
         "name": "loss",
         "type": "scatter",
         "xaxis": "x",
         "y": [
          0.05994505435228348,
          0.04629559442400932,
          0.04146664962172508,
          0.03655000776052475,
          0.04079490900039673,
          0.041286930441856384,
          0.03980061411857605,
          0.0325302816927433,
          0.03318037465214729,
          0.03213885799050331,
          0.039477717131376266,
          0.03843666985630989,
          0.0561906136572361,
          0.04071591794490814,
          0.027778305113315582,
          0.04522283747792244,
          0.027911897748708725,
          0.031110361218452454,
          0.028890743851661682,
          0.036219608038663864
         ],
         "yaxis": "y"
        },
        {
         "name": "val accuracy",
         "type": "scatter",
         "xaxis": "x",
         "y": [
          1,
          1,
          1,
          1,
          1,
          1,
          1,
          1,
          1,
          1,
          1,
          1,
          0.9994871616363525,
          1,
          1,
          1,
          1,
          1,
          1,
          1
         ],
         "yaxis": "y2"
        },
        {
         "name": "accuracy",
         "type": "scatter",
         "xaxis": "x",
         "y": [
          0.9819779992103577,
          0.9855677485466003,
          0.9887912273406982,
          0.9893040060997009,
          0.9890109896659851,
          0.9889377355575562,
          0.9887179732322693,
          0.9911355376243591,
          0.9909890294075012,
          0.9904761910438538,
          0.9889377355575562,
          0.9906959533691406,
          0.982710599899292,
          0.987106204032898,
          0.9923809766769409,
          0.9871794581413269,
          0.991428554058075,
          0.9915018081665039,
          0.9928937554359436,
          0.9898900985717773
         ],
         "yaxis": "y2"
        }
       ],
       "layout": {
        "template": {
         "data": {
          "bar": [
           {
            "error_x": {
             "color": "#2a3f5f"
            },
            "error_y": {
             "color": "#2a3f5f"
            },
            "marker": {
             "line": {
              "color": "#E5ECF6",
              "width": 0.5
             },
             "pattern": {
              "fillmode": "overlay",
              "size": 10,
              "solidity": 0.2
             }
            },
            "type": "bar"
           }
          ],
          "barpolar": [
           {
            "marker": {
             "line": {
              "color": "#E5ECF6",
              "width": 0.5
             },
             "pattern": {
              "fillmode": "overlay",
              "size": 10,
              "solidity": 0.2
             }
            },
            "type": "barpolar"
           }
          ],
          "carpet": [
           {
            "aaxis": {
             "endlinecolor": "#2a3f5f",
             "gridcolor": "white",
             "linecolor": "white",
             "minorgridcolor": "white",
             "startlinecolor": "#2a3f5f"
            },
            "baxis": {
             "endlinecolor": "#2a3f5f",
             "gridcolor": "white",
             "linecolor": "white",
             "minorgridcolor": "white",
             "startlinecolor": "#2a3f5f"
            },
            "type": "carpet"
           }
          ],
          "choropleth": [
           {
            "colorbar": {
             "outlinewidth": 0,
             "ticks": ""
            },
            "type": "choropleth"
           }
          ],
          "contour": [
           {
            "colorbar": {
             "outlinewidth": 0,
             "ticks": ""
            },
            "colorscale": [
             [
              0,
              "#0d0887"
             ],
             [
              0.1111111111111111,
              "#46039f"
             ],
             [
              0.2222222222222222,
              "#7201a8"
             ],
             [
              0.3333333333333333,
              "#9c179e"
             ],
             [
              0.4444444444444444,
              "#bd3786"
             ],
             [
              0.5555555555555556,
              "#d8576b"
             ],
             [
              0.6666666666666666,
              "#ed7953"
             ],
             [
              0.7777777777777778,
              "#fb9f3a"
             ],
             [
              0.8888888888888888,
              "#fdca26"
             ],
             [
              1,
              "#f0f921"
             ]
            ],
            "type": "contour"
           }
          ],
          "contourcarpet": [
           {
            "colorbar": {
             "outlinewidth": 0,
             "ticks": ""
            },
            "type": "contourcarpet"
           }
          ],
          "heatmap": [
           {
            "colorbar": {
             "outlinewidth": 0,
             "ticks": ""
            },
            "colorscale": [
             [
              0,
              "#0d0887"
             ],
             [
              0.1111111111111111,
              "#46039f"
             ],
             [
              0.2222222222222222,
              "#7201a8"
             ],
             [
              0.3333333333333333,
              "#9c179e"
             ],
             [
              0.4444444444444444,
              "#bd3786"
             ],
             [
              0.5555555555555556,
              "#d8576b"
             ],
             [
              0.6666666666666666,
              "#ed7953"
             ],
             [
              0.7777777777777778,
              "#fb9f3a"
             ],
             [
              0.8888888888888888,
              "#fdca26"
             ],
             [
              1,
              "#f0f921"
             ]
            ],
            "type": "heatmap"
           }
          ],
          "heatmapgl": [
           {
            "colorbar": {
             "outlinewidth": 0,
             "ticks": ""
            },
            "colorscale": [
             [
              0,
              "#0d0887"
             ],
             [
              0.1111111111111111,
              "#46039f"
             ],
             [
              0.2222222222222222,
              "#7201a8"
             ],
             [
              0.3333333333333333,
              "#9c179e"
             ],
             [
              0.4444444444444444,
              "#bd3786"
             ],
             [
              0.5555555555555556,
              "#d8576b"
             ],
             [
              0.6666666666666666,
              "#ed7953"
             ],
             [
              0.7777777777777778,
              "#fb9f3a"
             ],
             [
              0.8888888888888888,
              "#fdca26"
             ],
             [
              1,
              "#f0f921"
             ]
            ],
            "type": "heatmapgl"
           }
          ],
          "histogram": [
           {
            "marker": {
             "pattern": {
              "fillmode": "overlay",
              "size": 10,
              "solidity": 0.2
             }
            },
            "type": "histogram"
           }
          ],
          "histogram2d": [
           {
            "colorbar": {
             "outlinewidth": 0,
             "ticks": ""
            },
            "colorscale": [
             [
              0,
              "#0d0887"
             ],
             [
              0.1111111111111111,
              "#46039f"
             ],
             [
              0.2222222222222222,
              "#7201a8"
             ],
             [
              0.3333333333333333,
              "#9c179e"
             ],
             [
              0.4444444444444444,
              "#bd3786"
             ],
             [
              0.5555555555555556,
              "#d8576b"
             ],
             [
              0.6666666666666666,
              "#ed7953"
             ],
             [
              0.7777777777777778,
              "#fb9f3a"
             ],
             [
              0.8888888888888888,
              "#fdca26"
             ],
             [
              1,
              "#f0f921"
             ]
            ],
            "type": "histogram2d"
           }
          ],
          "histogram2dcontour": [
           {
            "colorbar": {
             "outlinewidth": 0,
             "ticks": ""
            },
            "colorscale": [
             [
              0,
              "#0d0887"
             ],
             [
              0.1111111111111111,
              "#46039f"
             ],
             [
              0.2222222222222222,
              "#7201a8"
             ],
             [
              0.3333333333333333,
              "#9c179e"
             ],
             [
              0.4444444444444444,
              "#bd3786"
             ],
             [
              0.5555555555555556,
              "#d8576b"
             ],
             [
              0.6666666666666666,
              "#ed7953"
             ],
             [
              0.7777777777777778,
              "#fb9f3a"
             ],
             [
              0.8888888888888888,
              "#fdca26"
             ],
             [
              1,
              "#f0f921"
             ]
            ],
            "type": "histogram2dcontour"
           }
          ],
          "mesh3d": [
           {
            "colorbar": {
             "outlinewidth": 0,
             "ticks": ""
            },
            "type": "mesh3d"
           }
          ],
          "parcoords": [
           {
            "line": {
             "colorbar": {
              "outlinewidth": 0,
              "ticks": ""
             }
            },
            "type": "parcoords"
           }
          ],
          "pie": [
           {
            "automargin": true,
            "type": "pie"
           }
          ],
          "scatter": [
           {
            "fillpattern": {
             "fillmode": "overlay",
             "size": 10,
             "solidity": 0.2
            },
            "type": "scatter"
           }
          ],
          "scatter3d": [
           {
            "line": {
             "colorbar": {
              "outlinewidth": 0,
              "ticks": ""
             }
            },
            "marker": {
             "colorbar": {
              "outlinewidth": 0,
              "ticks": ""
             }
            },
            "type": "scatter3d"
           }
          ],
          "scattercarpet": [
           {
            "marker": {
             "colorbar": {
              "outlinewidth": 0,
              "ticks": ""
             }
            },
            "type": "scattercarpet"
           }
          ],
          "scattergeo": [
           {
            "marker": {
             "colorbar": {
              "outlinewidth": 0,
              "ticks": ""
             }
            },
            "type": "scattergeo"
           }
          ],
          "scattergl": [
           {
            "marker": {
             "colorbar": {
              "outlinewidth": 0,
              "ticks": ""
             }
            },
            "type": "scattergl"
           }
          ],
          "scattermapbox": [
           {
            "marker": {
             "colorbar": {
              "outlinewidth": 0,
              "ticks": ""
             }
            },
            "type": "scattermapbox"
           }
          ],
          "scatterpolar": [
           {
            "marker": {
             "colorbar": {
              "outlinewidth": 0,
              "ticks": ""
             }
            },
            "type": "scatterpolar"
           }
          ],
          "scatterpolargl": [
           {
            "marker": {
             "colorbar": {
              "outlinewidth": 0,
              "ticks": ""
             }
            },
            "type": "scatterpolargl"
           }
          ],
          "scatterternary": [
           {
            "marker": {
             "colorbar": {
              "outlinewidth": 0,
              "ticks": ""
             }
            },
            "type": "scatterternary"
           }
          ],
          "surface": [
           {
            "colorbar": {
             "outlinewidth": 0,
             "ticks": ""
            },
            "colorscale": [
             [
              0,
              "#0d0887"
             ],
             [
              0.1111111111111111,
              "#46039f"
             ],
             [
              0.2222222222222222,
              "#7201a8"
             ],
             [
              0.3333333333333333,
              "#9c179e"
             ],
             [
              0.4444444444444444,
              "#bd3786"
             ],
             [
              0.5555555555555556,
              "#d8576b"
             ],
             [
              0.6666666666666666,
              "#ed7953"
             ],
             [
              0.7777777777777778,
              "#fb9f3a"
             ],
             [
              0.8888888888888888,
              "#fdca26"
             ],
             [
              1,
              "#f0f921"
             ]
            ],
            "type": "surface"
           }
          ],
          "table": [
           {
            "cells": {
             "fill": {
              "color": "#EBF0F8"
             },
             "line": {
              "color": "white"
             }
            },
            "header": {
             "fill": {
              "color": "#C8D4E3"
             },
             "line": {
              "color": "white"
             }
            },
            "type": "table"
           }
          ]
         },
         "layout": {
          "annotationdefaults": {
           "arrowcolor": "#2a3f5f",
           "arrowhead": 0,
           "arrowwidth": 1
          },
          "autotypenumbers": "strict",
          "coloraxis": {
           "colorbar": {
            "outlinewidth": 0,
            "ticks": ""
           }
          },
          "colorscale": {
           "diverging": [
            [
             0,
             "#8e0152"
            ],
            [
             0.1,
             "#c51b7d"
            ],
            [
             0.2,
             "#de77ae"
            ],
            [
             0.3,
             "#f1b6da"
            ],
            [
             0.4,
             "#fde0ef"
            ],
            [
             0.5,
             "#f7f7f7"
            ],
            [
             0.6,
             "#e6f5d0"
            ],
            [
             0.7,
             "#b8e186"
            ],
            [
             0.8,
             "#7fbc41"
            ],
            [
             0.9,
             "#4d9221"
            ],
            [
             1,
             "#276419"
            ]
           ],
           "sequential": [
            [
             0,
             "#0d0887"
            ],
            [
             0.1111111111111111,
             "#46039f"
            ],
            [
             0.2222222222222222,
             "#7201a8"
            ],
            [
             0.3333333333333333,
             "#9c179e"
            ],
            [
             0.4444444444444444,
             "#bd3786"
            ],
            [
             0.5555555555555556,
             "#d8576b"
            ],
            [
             0.6666666666666666,
             "#ed7953"
            ],
            [
             0.7777777777777778,
             "#fb9f3a"
            ],
            [
             0.8888888888888888,
             "#fdca26"
            ],
            [
             1,
             "#f0f921"
            ]
           ],
           "sequentialminus": [
            [
             0,
             "#0d0887"
            ],
            [
             0.1111111111111111,
             "#46039f"
            ],
            [
             0.2222222222222222,
             "#7201a8"
            ],
            [
             0.3333333333333333,
             "#9c179e"
            ],
            [
             0.4444444444444444,
             "#bd3786"
            ],
            [
             0.5555555555555556,
             "#d8576b"
            ],
            [
             0.6666666666666666,
             "#ed7953"
            ],
            [
             0.7777777777777778,
             "#fb9f3a"
            ],
            [
             0.8888888888888888,
             "#fdca26"
            ],
            [
             1,
             "#f0f921"
            ]
           ]
          },
          "colorway": [
           "#636efa",
           "#EF553B",
           "#00cc96",
           "#ab63fa",
           "#FFA15A",
           "#19d3f3",
           "#FF6692",
           "#B6E880",
           "#FF97FF",
           "#FECB52"
          ],
          "font": {
           "color": "#2a3f5f"
          },
          "geo": {
           "bgcolor": "white",
           "lakecolor": "white",
           "landcolor": "#E5ECF6",
           "showlakes": true,
           "showland": true,
           "subunitcolor": "white"
          },
          "hoverlabel": {
           "align": "left"
          },
          "hovermode": "closest",
          "mapbox": {
           "style": "light"
          },
          "paper_bgcolor": "white",
          "plot_bgcolor": "#E5ECF6",
          "polar": {
           "angularaxis": {
            "gridcolor": "white",
            "linecolor": "white",
            "ticks": ""
           },
           "bgcolor": "#E5ECF6",
           "radialaxis": {
            "gridcolor": "white",
            "linecolor": "white",
            "ticks": ""
           }
          },
          "scene": {
           "xaxis": {
            "backgroundcolor": "#E5ECF6",
            "gridcolor": "white",
            "gridwidth": 2,
            "linecolor": "white",
            "showbackground": true,
            "ticks": "",
            "zerolinecolor": "white"
           },
           "yaxis": {
            "backgroundcolor": "#E5ECF6",
            "gridcolor": "white",
            "gridwidth": 2,
            "linecolor": "white",
            "showbackground": true,
            "ticks": "",
            "zerolinecolor": "white"
           },
           "zaxis": {
            "backgroundcolor": "#E5ECF6",
            "gridcolor": "white",
            "gridwidth": 2,
            "linecolor": "white",
            "showbackground": true,
            "ticks": "",
            "zerolinecolor": "white"
           }
          },
          "shapedefaults": {
           "line": {
            "color": "#2a3f5f"
           }
          },
          "ternary": {
           "aaxis": {
            "gridcolor": "white",
            "linecolor": "white",
            "ticks": ""
           },
           "baxis": {
            "gridcolor": "white",
            "linecolor": "white",
            "ticks": ""
           },
           "bgcolor": "#E5ECF6",
           "caxis": {
            "gridcolor": "white",
            "linecolor": "white",
            "ticks": ""
           }
          },
          "title": {
           "x": 0.05
          },
          "xaxis": {
           "automargin": true,
           "gridcolor": "white",
           "linecolor": "white",
           "ticks": "",
           "title": {
            "standoff": 15
           },
           "zerolinecolor": "white",
           "zerolinewidth": 2
          },
          "yaxis": {
           "automargin": true,
           "gridcolor": "white",
           "linecolor": "white",
           "ticks": "",
           "title": {
            "standoff": 15
           },
           "zerolinecolor": "white",
           "zerolinewidth": 2
          }
         }
        },
        "title": {
         "text": "Loss/Accuracy of EEGNet"
        },
        "xaxis": {
         "anchor": "y",
         "domain": [
          0,
          0.94
         ],
         "title": {
          "text": "Epoch"
         }
        },
        "yaxis": {
         "anchor": "x",
         "domain": [
          0,
          1
         ],
         "title": {
          "text": "Loss"
         }
        },
        "yaxis2": {
         "anchor": "x",
         "overlaying": "y",
         "side": "right",
         "title": {
          "text": "Accuracy"
         }
        }
       }
      }
     },
     "metadata": {},
     "output_type": "display_data"
    },
    {
     "name": "stdout",
     "output_type": "stream",
     "text": [
      "Epoch 1/20\n",
      "\n",
      "Epoch 1: val_loss did not improve from 0.00055\n",
      "1707/1707 - 20s - loss: 0.0320 - accuracy: 0.9914 - val_loss: 6.2576e-04 - val_accuracy: 1.0000 - 20s/epoch - 12ms/step\n",
      "Epoch 2/20\n",
      "\n",
      "Epoch 2: val_loss improved from 0.00055 to 0.00022, saving model to /tmp\\checkpoint.h5\n",
      "1707/1707 - 21s - loss: 0.0309 - accuracy: 0.9914 - val_loss: 2.1607e-04 - val_accuracy: 1.0000 - 21s/epoch - 12ms/step\n",
      "Epoch 3/20\n",
      "\n",
      "Epoch 3: val_loss did not improve from 0.00022\n",
      "1707/1707 - 20s - loss: 0.0262 - accuracy: 0.9929 - val_loss: 2.7415e-04 - val_accuracy: 1.0000 - 20s/epoch - 12ms/step\n",
      "Epoch 4/20\n",
      "\n",
      "Epoch 4: val_loss improved from 0.00022 to 0.00013, saving model to /tmp\\checkpoint.h5\n",
      "1707/1707 - 18s - loss: 0.0337 - accuracy: 0.9905 - val_loss: 1.2906e-04 - val_accuracy: 1.0000 - 18s/epoch - 11ms/step\n",
      "Epoch 5/20\n"
     ]
    },
    {
     "ename": "KeyboardInterrupt",
     "evalue": "",
     "output_type": "error",
     "traceback": [
      "\u001b[1;31m---------------------------------------------------------------------------\u001b[0m",
      "\u001b[1;31mKeyboardInterrupt\u001b[0m                         Traceback (most recent call last)",
      "\u001b[1;32m~\\AppData\\Local\\Temp\\ipykernel_23956\\1259689581.py\u001b[0m in \u001b[0;36m<cell line: 2>\u001b[1;34m()\u001b[0m\n\u001b[0;32m      1\u001b[0m \u001b[1;31m#probs_EEGNet = EEGNet_classification(train_data, test_data, val_data, train_labels, test_labels, val_labels, data_type, epoched = True)\u001b[0m\u001b[1;33m\u001b[0m\u001b[1;33m\u001b[0m\u001b[0m\n\u001b[1;32m----> 2\u001b[1;33m \u001b[0mkfold_EEGNet_classification\u001b[0m\u001b[1;33m(\u001b[0m\u001b[0mdata\u001b[0m\u001b[1;33m,\u001b[0m \u001b[0mlabels\u001b[0m\u001b[1;33m,\u001b[0m \u001b[1;36m8\u001b[0m\u001b[1;33m,\u001b[0m \u001b[0mdata_type\u001b[0m\u001b[1;33m,\u001b[0m \u001b[0mepoched\u001b[0m \u001b[1;33m=\u001b[0m \u001b[1;32mTrue\u001b[0m\u001b[1;33m)\u001b[0m\u001b[1;33m\u001b[0m\u001b[1;33m\u001b[0m\u001b[0m\n\u001b[0m",
      "\u001b[1;32mc:\\Users\\annej\\OneDrive\\Documents\\GitHub\\MASTER-eeg-stress-det\\classifiers.py\u001b[0m in \u001b[0;36mkfold_EEGNet_classification\u001b[1;34m(data, labels, n_splits, data_type, epoched)\u001b[0m\n\u001b[0;32m    300\u001b[0m         \u001b[0mprint\u001b[0m\u001b[1;33m(\u001b[0m\u001b[1;34mf\"\\nFold nr: {fold}\"\u001b[0m\u001b[1;33m)\u001b[0m\u001b[1;33m\u001b[0m\u001b[1;33m\u001b[0m\u001b[0m\n\u001b[0;32m    301\u001b[0m         \u001b[0mtrain_data\u001b[0m\u001b[1;33m,\u001b[0m \u001b[0mtrain_labels\u001b[0m \u001b[1;33m=\u001b[0m \u001b[0mdata\u001b[0m\u001b[1;33m[\u001b[0m\u001b[0mtrain_index\u001b[0m\u001b[1;33m]\u001b[0m\u001b[1;33m,\u001b[0m \u001b[0mlabels\u001b[0m\u001b[1;33m[\u001b[0m\u001b[0mtrain_index\u001b[0m\u001b[1;33m]\u001b[0m\u001b[1;33m\u001b[0m\u001b[1;33m\u001b[0m\u001b[0m\n\u001b[1;32m--> 302\u001b[1;33m         \u001b[0mval_data\u001b[0m\u001b[1;33m,\u001b[0m \u001b[0mval_labels\u001b[0m \u001b[1;33m=\u001b[0m \u001b[0mdata\u001b[0m\u001b[1;33m[\u001b[0m\u001b[0mval_index\u001b[0m\u001b[1;33m]\u001b[0m\u001b[1;33m,\u001b[0m \u001b[0mlabels\u001b[0m\u001b[1;33m[\u001b[0m\u001b[0mval_index\u001b[0m\u001b[1;33m]\u001b[0m\u001b[1;33m\u001b[0m\u001b[1;33m\u001b[0m\u001b[0m\n\u001b[0m\u001b[0;32m    303\u001b[0m \u001b[1;33m\u001b[0m\u001b[0m\n\u001b[0;32m    304\u001b[0m         history = model.fit(train_data, train_labels, batch_size = 8, epochs = 20, \n",
      "\u001b[1;32mc:\\Users\\annej\\anaconda3\\envs\\MNE\\lib\\site-packages\\keras\\utils\\traceback_utils.py\u001b[0m in \u001b[0;36merror_handler\u001b[1;34m(*args, **kwargs)\u001b[0m\n\u001b[0;32m     63\u001b[0m         \u001b[0mfiltered_tb\u001b[0m \u001b[1;33m=\u001b[0m \u001b[1;32mNone\u001b[0m\u001b[1;33m\u001b[0m\u001b[1;33m\u001b[0m\u001b[0m\n\u001b[0;32m     64\u001b[0m         \u001b[1;32mtry\u001b[0m\u001b[1;33m:\u001b[0m\u001b[1;33m\u001b[0m\u001b[1;33m\u001b[0m\u001b[0m\n\u001b[1;32m---> 65\u001b[1;33m             \u001b[1;32mreturn\u001b[0m \u001b[0mfn\u001b[0m\u001b[1;33m(\u001b[0m\u001b[1;33m*\u001b[0m\u001b[0margs\u001b[0m\u001b[1;33m,\u001b[0m \u001b[1;33m**\u001b[0m\u001b[0mkwargs\u001b[0m\u001b[1;33m)\u001b[0m\u001b[1;33m\u001b[0m\u001b[1;33m\u001b[0m\u001b[0m\n\u001b[0m\u001b[0;32m     66\u001b[0m         \u001b[1;32mexcept\u001b[0m \u001b[0mException\u001b[0m \u001b[1;32mas\u001b[0m \u001b[0me\u001b[0m\u001b[1;33m:\u001b[0m\u001b[1;33m\u001b[0m\u001b[1;33m\u001b[0m\u001b[0m\n\u001b[0;32m     67\u001b[0m             \u001b[0mfiltered_tb\u001b[0m \u001b[1;33m=\u001b[0m \u001b[0m_process_traceback_frames\u001b[0m\u001b[1;33m(\u001b[0m\u001b[0me\u001b[0m\u001b[1;33m.\u001b[0m\u001b[0m__traceback__\u001b[0m\u001b[1;33m)\u001b[0m\u001b[1;33m\u001b[0m\u001b[1;33m\u001b[0m\u001b[0m\n",
      "\u001b[1;32mc:\\Users\\annej\\anaconda3\\envs\\MNE\\lib\\site-packages\\keras\\engine\\training.py\u001b[0m in \u001b[0;36mfit\u001b[1;34m(self, x, y, batch_size, epochs, verbose, callbacks, validation_split, validation_data, shuffle, class_weight, sample_weight, initial_epoch, steps_per_epoch, validation_steps, validation_batch_size, validation_freq, max_queue_size, workers, use_multiprocessing)\u001b[0m\n\u001b[0;32m   1648\u001b[0m                         ):\n\u001b[0;32m   1649\u001b[0m                             \u001b[0mcallbacks\u001b[0m\u001b[1;33m.\u001b[0m\u001b[0mon_train_batch_begin\u001b[0m\u001b[1;33m(\u001b[0m\u001b[0mstep\u001b[0m\u001b[1;33m)\u001b[0m\u001b[1;33m\u001b[0m\u001b[1;33m\u001b[0m\u001b[0m\n\u001b[1;32m-> 1650\u001b[1;33m                             \u001b[0mtmp_logs\u001b[0m \u001b[1;33m=\u001b[0m \u001b[0mself\u001b[0m\u001b[1;33m.\u001b[0m\u001b[0mtrain_function\u001b[0m\u001b[1;33m(\u001b[0m\u001b[0miterator\u001b[0m\u001b[1;33m)\u001b[0m\u001b[1;33m\u001b[0m\u001b[1;33m\u001b[0m\u001b[0m\n\u001b[0m\u001b[0;32m   1651\u001b[0m                             \u001b[1;32mif\u001b[0m \u001b[0mdata_handler\u001b[0m\u001b[1;33m.\u001b[0m\u001b[0mshould_sync\u001b[0m\u001b[1;33m:\u001b[0m\u001b[1;33m\u001b[0m\u001b[1;33m\u001b[0m\u001b[0m\n\u001b[0;32m   1652\u001b[0m                                 \u001b[0mcontext\u001b[0m\u001b[1;33m.\u001b[0m\u001b[0masync_wait\u001b[0m\u001b[1;33m(\u001b[0m\u001b[1;33m)\u001b[0m\u001b[1;33m\u001b[0m\u001b[1;33m\u001b[0m\u001b[0m\n",
      "\u001b[1;32mc:\\Users\\annej\\anaconda3\\envs\\MNE\\lib\\site-packages\\tensorflow\\python\\util\\traceback_utils.py\u001b[0m in \u001b[0;36merror_handler\u001b[1;34m(*args, **kwargs)\u001b[0m\n\u001b[0;32m    148\u001b[0m     \u001b[0mfiltered_tb\u001b[0m \u001b[1;33m=\u001b[0m \u001b[1;32mNone\u001b[0m\u001b[1;33m\u001b[0m\u001b[1;33m\u001b[0m\u001b[0m\n\u001b[0;32m    149\u001b[0m     \u001b[1;32mtry\u001b[0m\u001b[1;33m:\u001b[0m\u001b[1;33m\u001b[0m\u001b[1;33m\u001b[0m\u001b[0m\n\u001b[1;32m--> 150\u001b[1;33m       \u001b[1;32mreturn\u001b[0m \u001b[0mfn\u001b[0m\u001b[1;33m(\u001b[0m\u001b[1;33m*\u001b[0m\u001b[0margs\u001b[0m\u001b[1;33m,\u001b[0m \u001b[1;33m**\u001b[0m\u001b[0mkwargs\u001b[0m\u001b[1;33m)\u001b[0m\u001b[1;33m\u001b[0m\u001b[1;33m\u001b[0m\u001b[0m\n\u001b[0m\u001b[0;32m    151\u001b[0m     \u001b[1;32mexcept\u001b[0m \u001b[0mException\u001b[0m \u001b[1;32mas\u001b[0m \u001b[0me\u001b[0m\u001b[1;33m:\u001b[0m\u001b[1;33m\u001b[0m\u001b[1;33m\u001b[0m\u001b[0m\n\u001b[0;32m    152\u001b[0m       \u001b[0mfiltered_tb\u001b[0m \u001b[1;33m=\u001b[0m \u001b[0m_process_traceback_frames\u001b[0m\u001b[1;33m(\u001b[0m\u001b[0me\u001b[0m\u001b[1;33m.\u001b[0m\u001b[0m__traceback__\u001b[0m\u001b[1;33m)\u001b[0m\u001b[1;33m\u001b[0m\u001b[1;33m\u001b[0m\u001b[0m\n",
      "\u001b[1;32mc:\\Users\\annej\\anaconda3\\envs\\MNE\\lib\\site-packages\\tensorflow\\python\\eager\\polymorphic_function\\polymorphic_function.py\u001b[0m in \u001b[0;36m__call__\u001b[1;34m(self, *args, **kwds)\u001b[0m\n\u001b[0;32m    878\u001b[0m \u001b[1;33m\u001b[0m\u001b[0m\n\u001b[0;32m    879\u001b[0m       \u001b[1;32mwith\u001b[0m \u001b[0mOptionalXlaContext\u001b[0m\u001b[1;33m(\u001b[0m\u001b[0mself\u001b[0m\u001b[1;33m.\u001b[0m\u001b[0m_jit_compile\u001b[0m\u001b[1;33m)\u001b[0m\u001b[1;33m:\u001b[0m\u001b[1;33m\u001b[0m\u001b[1;33m\u001b[0m\u001b[0m\n\u001b[1;32m--> 880\u001b[1;33m         \u001b[0mresult\u001b[0m \u001b[1;33m=\u001b[0m \u001b[0mself\u001b[0m\u001b[1;33m.\u001b[0m\u001b[0m_call\u001b[0m\u001b[1;33m(\u001b[0m\u001b[1;33m*\u001b[0m\u001b[0margs\u001b[0m\u001b[1;33m,\u001b[0m \u001b[1;33m**\u001b[0m\u001b[0mkwds\u001b[0m\u001b[1;33m)\u001b[0m\u001b[1;33m\u001b[0m\u001b[1;33m\u001b[0m\u001b[0m\n\u001b[0m\u001b[0;32m    881\u001b[0m \u001b[1;33m\u001b[0m\u001b[0m\n\u001b[0;32m    882\u001b[0m       \u001b[0mnew_tracing_count\u001b[0m \u001b[1;33m=\u001b[0m \u001b[0mself\u001b[0m\u001b[1;33m.\u001b[0m\u001b[0mexperimental_get_tracing_count\u001b[0m\u001b[1;33m(\u001b[0m\u001b[1;33m)\u001b[0m\u001b[1;33m\u001b[0m\u001b[1;33m\u001b[0m\u001b[0m\n",
      "\u001b[1;32mc:\\Users\\annej\\anaconda3\\envs\\MNE\\lib\\site-packages\\tensorflow\\python\\eager\\polymorphic_function\\polymorphic_function.py\u001b[0m in \u001b[0;36m_call\u001b[1;34m(self, *args, **kwds)\u001b[0m\n\u001b[0;32m    910\u001b[0m       \u001b[1;31m# In this case we have created variables on the first call, so we run the\u001b[0m\u001b[1;33m\u001b[0m\u001b[1;33m\u001b[0m\u001b[0m\n\u001b[0;32m    911\u001b[0m       \u001b[1;31m# defunned version which is guaranteed to never create variables.\u001b[0m\u001b[1;33m\u001b[0m\u001b[1;33m\u001b[0m\u001b[0m\n\u001b[1;32m--> 912\u001b[1;33m       \u001b[1;32mreturn\u001b[0m \u001b[0mself\u001b[0m\u001b[1;33m.\u001b[0m\u001b[0m_no_variable_creation_fn\u001b[0m\u001b[1;33m(\u001b[0m\u001b[1;33m*\u001b[0m\u001b[0margs\u001b[0m\u001b[1;33m,\u001b[0m \u001b[1;33m**\u001b[0m\u001b[0mkwds\u001b[0m\u001b[1;33m)\u001b[0m  \u001b[1;31m# pylint: disable=not-callable\u001b[0m\u001b[1;33m\u001b[0m\u001b[1;33m\u001b[0m\u001b[0m\n\u001b[0m\u001b[0;32m    913\u001b[0m     \u001b[1;32melif\u001b[0m \u001b[0mself\u001b[0m\u001b[1;33m.\u001b[0m\u001b[0m_variable_creation_fn\u001b[0m \u001b[1;32mis\u001b[0m \u001b[1;32mnot\u001b[0m \u001b[1;32mNone\u001b[0m\u001b[1;33m:\u001b[0m\u001b[1;33m\u001b[0m\u001b[1;33m\u001b[0m\u001b[0m\n\u001b[0;32m    914\u001b[0m       \u001b[1;31m# Release the lock early so that multiple threads can perform the call\u001b[0m\u001b[1;33m\u001b[0m\u001b[1;33m\u001b[0m\u001b[0m\n",
      "\u001b[1;32mc:\\Users\\annej\\anaconda3\\envs\\MNE\\lib\\site-packages\\tensorflow\\python\\eager\\polymorphic_function\\tracing_compiler.py\u001b[0m in \u001b[0;36m__call__\u001b[1;34m(self, *args, **kwargs)\u001b[0m\n\u001b[0;32m    132\u001b[0m       (concrete_function,\n\u001b[0;32m    133\u001b[0m        filtered_flat_args) = self._maybe_define_function(args, kwargs)\n\u001b[1;32m--> 134\u001b[1;33m     return concrete_function._call_flat(\n\u001b[0m\u001b[0;32m    135\u001b[0m         filtered_flat_args, captured_inputs=concrete_function.captured_inputs)  # pylint: disable=protected-access\n\u001b[0;32m    136\u001b[0m \u001b[1;33m\u001b[0m\u001b[0m\n",
      "\u001b[1;32mc:\\Users\\annej\\anaconda3\\envs\\MNE\\lib\\site-packages\\tensorflow\\python\\eager\\polymorphic_function\\monomorphic_function.py\u001b[0m in \u001b[0;36m_call_flat\u001b[1;34m(self, args, captured_inputs, cancellation_manager)\u001b[0m\n\u001b[0;32m   1743\u001b[0m         and executing_eagerly):\n\u001b[0;32m   1744\u001b[0m       \u001b[1;31m# No tape is watching; skip to running the function.\u001b[0m\u001b[1;33m\u001b[0m\u001b[1;33m\u001b[0m\u001b[0m\n\u001b[1;32m-> 1745\u001b[1;33m       return self._build_call_outputs(self._inference_function.call(\n\u001b[0m\u001b[0;32m   1746\u001b[0m           ctx, args, cancellation_manager=cancellation_manager))\n\u001b[0;32m   1747\u001b[0m     forward_backward = self._select_forward_and_backward_functions(\n",
      "\u001b[1;32mc:\\Users\\annej\\anaconda3\\envs\\MNE\\lib\\site-packages\\tensorflow\\python\\eager\\polymorphic_function\\monomorphic_function.py\u001b[0m in \u001b[0;36mcall\u001b[1;34m(self, ctx, args, cancellation_manager)\u001b[0m\n\u001b[0;32m    376\u001b[0m       \u001b[1;32mwith\u001b[0m \u001b[0m_InterpolateFunctionError\u001b[0m\u001b[1;33m(\u001b[0m\u001b[0mself\u001b[0m\u001b[1;33m)\u001b[0m\u001b[1;33m:\u001b[0m\u001b[1;33m\u001b[0m\u001b[1;33m\u001b[0m\u001b[0m\n\u001b[0;32m    377\u001b[0m         \u001b[1;32mif\u001b[0m \u001b[0mcancellation_manager\u001b[0m \u001b[1;32mis\u001b[0m \u001b[1;32mNone\u001b[0m\u001b[1;33m:\u001b[0m\u001b[1;33m\u001b[0m\u001b[1;33m\u001b[0m\u001b[0m\n\u001b[1;32m--> 378\u001b[1;33m           outputs = execute.execute(\n\u001b[0m\u001b[0;32m    379\u001b[0m               \u001b[0mstr\u001b[0m\u001b[1;33m(\u001b[0m\u001b[0mself\u001b[0m\u001b[1;33m.\u001b[0m\u001b[0msignature\u001b[0m\u001b[1;33m.\u001b[0m\u001b[0mname\u001b[0m\u001b[1;33m)\u001b[0m\u001b[1;33m,\u001b[0m\u001b[1;33m\u001b[0m\u001b[1;33m\u001b[0m\u001b[0m\n\u001b[0;32m    380\u001b[0m               \u001b[0mnum_outputs\u001b[0m\u001b[1;33m=\u001b[0m\u001b[0mself\u001b[0m\u001b[1;33m.\u001b[0m\u001b[0m_num_outputs\u001b[0m\u001b[1;33m,\u001b[0m\u001b[1;33m\u001b[0m\u001b[1;33m\u001b[0m\u001b[0m\n",
      "\u001b[1;32mc:\\Users\\annej\\anaconda3\\envs\\MNE\\lib\\site-packages\\tensorflow\\python\\eager\\execute.py\u001b[0m in \u001b[0;36mquick_execute\u001b[1;34m(op_name, num_outputs, inputs, attrs, ctx, name)\u001b[0m\n\u001b[0;32m     50\u001b[0m   \u001b[1;32mtry\u001b[0m\u001b[1;33m:\u001b[0m\u001b[1;33m\u001b[0m\u001b[1;33m\u001b[0m\u001b[0m\n\u001b[0;32m     51\u001b[0m     \u001b[0mctx\u001b[0m\u001b[1;33m.\u001b[0m\u001b[0mensure_initialized\u001b[0m\u001b[1;33m(\u001b[0m\u001b[1;33m)\u001b[0m\u001b[1;33m\u001b[0m\u001b[1;33m\u001b[0m\u001b[0m\n\u001b[1;32m---> 52\u001b[1;33m     tensors = pywrap_tfe.TFE_Py_Execute(ctx._handle, device_name, op_name,\n\u001b[0m\u001b[0;32m     53\u001b[0m                                         inputs, attrs, num_outputs)\n\u001b[0;32m     54\u001b[0m   \u001b[1;32mexcept\u001b[0m \u001b[0mcore\u001b[0m\u001b[1;33m.\u001b[0m\u001b[0m_NotOkStatusException\u001b[0m \u001b[1;32mas\u001b[0m \u001b[0me\u001b[0m\u001b[1;33m:\u001b[0m\u001b[1;33m\u001b[0m\u001b[1;33m\u001b[0m\u001b[0m\n",
      "\u001b[1;31mKeyboardInterrupt\u001b[0m: "
     ]
    }
   ],
   "source": [
    "#probs_EEGNet = EEGNet_classification(train_data, test_data, val_data, train_labels, test_labels, val_labels, data_type, epoched = True)\n",
    "kfold_EEGNet_classification(data, labels, 8, data_type, epoched = True)"
   ]
  },
  {
   "cell_type": "code",
   "execution_count": null,
   "metadata": {},
   "outputs": [],
   "source": [
    "#probs_TSGL = TSGL_classification(train_data, test_data, val_data, train_labels, test_labels, val_labels, data_type, epoched = True)\n",
    "kfold_TSGL_classification(data, labels, 8, data_type, epoched = True)"
   ]
  },
  {
   "cell_type": "code",
   "execution_count": null,
   "metadata": {},
   "outputs": [],
   "source": [
    "#probs_Deep = DeepConvNet_classification(train_data, test_data, val_data, train_labels, test_labels, val_labels, data_type, epoched = True)\n",
    "kfold_DeepConvNet_classification(data, labels, 8, data_type, epoched = True)"
   ]
  },
  {
   "cell_type": "code",
   "execution_count": null,
   "metadata": {},
   "outputs": [],
   "source": [
    "#probs_Shallow = ShallowConvNet_classification(train_data, test_data, val_data, train_labels, test_labels, val_labels, data_type, epoched = True)\n",
    "kfold_ShallowConvNet_classification(data, labels, 8, data_type, epoched = True)"
   ]
  },
  {
   "cell_type": "code",
   "execution_count": null,
   "metadata": {},
   "outputs": [],
   "source": [
    "\"\"\"print(probs_Shallow)\n",
    "preds_Shallow = probs_Shallow.argmax(axis = -1)  \n",
    "print(preds_Shallow)\n",
    "print(test_labels.T)\n",
    "\n",
    "performance_Shallow = compute_metrics(test_labels, preds_Shallow)\n",
    "print(performance_Shallow)\n",
    "\n",
    "conf_matrix = metrics.confusion_matrix(test_labels,preds_Shallow)\n",
    "print(conf_matrix)\n",
    "cm_display = metrics.ConfusionMatrixDisplay(confusion_matrix = conf_matrix, display_labels = ['Non-Stressed', 'Stressed'])\n",
    "cm_display.plot()\n",
    "plt.show()\"\"\""
   ]
  }
 ],
 "metadata": {
  "kernelspec": {
   "display_name": "MNE",
   "language": "python",
   "name": "python3"
  },
  "language_info": {
   "codemirror_mode": {
    "name": "ipython",
    "version": 3
   },
   "file_extension": ".py",
   "mimetype": "text/x-python",
   "name": "python",
   "nbconvert_exporter": "python",
   "pygments_lexer": "ipython3",
   "version": "3.10.6"
  },
  "orig_nbformat": 4,
  "vscode": {
   "interpreter": {
    "hash": "f6df28382c6e70c1c1d3c02fa7b17b6f3b6fcf9f5d22d2410beebd122bfaf45e"
   }
  }
 },
 "nbformat": 4,
 "nbformat_minor": 2
}
