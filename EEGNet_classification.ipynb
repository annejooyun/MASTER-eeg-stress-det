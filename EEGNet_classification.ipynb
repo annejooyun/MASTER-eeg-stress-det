{
 "cells": [
  {
   "cell_type": "code",
   "execution_count": 1,
   "metadata": {},
   "outputs": [],
   "source": [
    "import numpy as np\n",
    "import pandas as pd\n",
    "\n",
    "from load_data import load_data\n",
    "from utils.metrics import compute_metrics\n",
    "\n",
    "from classifiers import EEGNet_classification, EEGNet_TSGL_classification, EEGNet_DeepConvNet_classification, EEGNet_ShallowConvNet_classification\n",
    "import utils.variables as v\n",
    "\n",
    "from sklearn import metrics\n",
    "import matplotlib.pyplot as plt\n"
   ]
  },
  {
   "cell_type": "code",
   "execution_count": 4,
   "metadata": {},
   "outputs": [
    {
     "name": "stdout",
     "output_type": "stream",
     "text": [
      "---- Generating all recordings ----\n",
      "All records generated\n",
      "\n",
      "---- Filtering out invalid recordings ----\n",
      "ERROR 1) Failed to read data for recording P006_S002_001\n",
      "ERROR 1) Failed to read data for recording P006_S002_002\n",
      "ERROR 1) Failed to read data for recording P028_S002_001\n",
      "ERROR 1) Failed to read data for recording P028_S002_002\n",
      "\n",
      "---- Returning valid recordings ----\n",
      "['P001_S001_001', 'P001_S001_002', 'P001_S002_001', 'P001_S002_002', 'P002_S001_001', 'P002_S001_002', 'P002_S002_001', 'P002_S002_002', 'P003_S001_001', 'P003_S001_002', 'P003_S002_001', 'P003_S002_002', 'P004_S001_001', 'P004_S001_002', 'P004_S002_001', 'P004_S002_002', 'P005_S001_001', 'P005_S001_002', 'P005_S002_001', 'P005_S002_002', 'P006_S001_001', 'P006_S001_002', 'P007_S001_001', 'P007_S001_002', 'P007_S002_001', 'P007_S002_002', 'P008_S001_001', 'P008_S001_002', 'P008_S002_001', 'P008_S002_002', 'P009_S001_001', 'P009_S001_002', 'P009_S002_001', 'P009_S002_002', 'P010_S001_002', 'P010_S002_001', 'P010_S002_002', 'P011_S001_001', 'P011_S001_002', 'P011_S002_001', 'P011_S002_002', 'P012_S001_001', 'P012_S001_002', 'P012_S002_001', 'P012_S002_002', 'P013_S002_001', 'P013_S002_002', 'P014_S001_001', 'P014_S001_002', 'P014_S002_001', 'P014_S002_002', 'P015_S001_001', 'P015_S001_002', 'P015_S002_001', 'P015_S002_002', 'P016_S001_001', 'P016_S001_002', 'P016_S002_001', 'P016_S002_002', 'P017_S001_001', 'P017_S001_002', 'P017_S002_001', 'P017_S002_002', 'P018_S001_001', 'P018_S001_002', 'P018_S002_001', 'P018_S002_002', 'P019_S001_001', 'P019_S001_002', 'P019_S002_001', 'P019_S002_002', 'P020_S001_002', 'P020_S002_001', 'P020_S002_002', 'P021_S001_001', 'P021_S001_002', 'P021_S002_001', 'P021_S002_002', 'P022_S001_001', 'P022_S001_002', 'P022_S002_001', 'P022_S002_002', 'P023_S001_001', 'P023_S001_002', 'P023_S002_001', 'P024_S001_001', 'P024_S001_002', 'P024_S002_001', 'P024_S002_002', 'P025_S001_001', 'P025_S001_002', 'P025_S002_001', 'P025_S002_002', 'P026_S001_001', 'P026_S001_002', 'P026_S002_001', 'P026_S002_002', 'P027_S001_001', 'P027_S001_002', 'P027_S002_001', 'P027_S002_002', 'P028_S001_001', 'P028_S001_002']\n",
      "\n",
      "Length of data: 103\n",
      "    S001_001  S001_002  S002_001  S002_002\n",
      "0        2.0       4.0       2.0       3.0\n",
      "1        3.0       6.0       2.0       5.0\n",
      "2        7.0       9.0       2.0       4.0\n",
      "3        6.0       8.0       2.0       3.0\n",
      "4        3.0       4.0       6.0       6.0\n",
      "5        6.0       8.0       NaN       NaN\n",
      "6        7.0       9.0       4.0       6.0\n",
      "7        4.0       6.0       2.0       3.0\n",
      "8        6.0       6.0       3.0       4.0\n",
      "9        1.0       2.0       1.0       1.0\n",
      "10       5.0       6.0       3.0       5.0\n",
      "11       2.0       5.0       2.0       6.0\n",
      "12       4.0       6.0       2.0       4.0\n",
      "13       4.0       8.0       1.0       3.0\n",
      "14       8.0       6.0       2.0       4.0\n",
      "15       4.0       5.0       1.0       2.0\n",
      "16       4.0       6.0       2.0       4.0\n",
      "17       4.0       7.0       3.0       5.0\n",
      "18       3.0       7.0       1.0       4.0\n",
      "19       4.0       5.0       2.0       3.0\n",
      "20       4.0       6.0       2.0       6.0\n",
      "21       5.0       6.0       2.0       4.0\n",
      "22       6.0       8.0       1.0       6.0\n",
      "23       7.0       5.0       4.0       5.0\n",
      "24       6.0       8.0       4.0       6.0\n",
      "25       3.0       6.0       3.0       4.0\n",
      "26       4.0       6.0       3.0       3.0\n",
      "27       NaN       NaN       1.0       4.0\n",
      "P006_S002_001 has invalid record lengthhhh\n",
      "P006_S002_002 has invalid record lengthhhh\n",
      "P010_S001_001 has invalid record lengthhhh\n",
      "P013_S001_001 has invalid record lengthhhh\n",
      "P013_S001_002 has invalid record lengthhhh\n",
      "P020_S001_001 has invalid record lengthhhh\n",
      "P023_S002_002 has invalid record lengthhhh\n",
      "P028_S002_001 has invalid record lengthhhh\n",
      "P028_S002_002 has invalid record lengthhhh\n",
      "\n",
      "---- Labels ----\n",
      "{'P001_S001_001': 0, 'P001_S001_002': 1, 'P001_S002_001': 0, 'P001_S002_002': 0, 'P002_S001_001': 0, 'P002_S001_002': 1, 'P002_S002_001': 0, 'P002_S002_002': 1, 'P003_S001_001': 2, 'P003_S001_002': 2, 'P003_S002_001': 0, 'P003_S002_002': 1, 'P004_S001_001': 1, 'P004_S001_002': 2, 'P004_S002_001': 0, 'P004_S002_002': 0, 'P005_S001_001': 0, 'P005_S001_002': 1, 'P005_S002_001': 1, 'P005_S002_002': 1, 'P006_S001_001': 1, 'P006_S001_002': 2, 'P007_S001_001': 2, 'P007_S001_002': 2, 'P007_S002_001': 1, 'P007_S002_002': 1, 'P008_S001_001': 1, 'P008_S001_002': 1, 'P008_S002_001': 0, 'P008_S002_002': 0, 'P009_S001_001': 1, 'P009_S001_002': 1, 'P009_S002_001': 0, 'P009_S002_002': 1, 'P010_S001_002': 0, 'P010_S002_001': 0, 'P010_S002_002': 0, 'P011_S001_001': 1, 'P011_S001_002': 1, 'P011_S002_001': 0, 'P011_S002_002': 1, 'P012_S001_001': 0, 'P012_S001_002': 1, 'P012_S002_001': 0, 'P012_S002_002': 1, 'P013_S002_001': 0, 'P013_S002_002': 1, 'P014_S001_001': 1, 'P014_S001_002': 2, 'P014_S002_001': 0, 'P014_S002_002': 0, 'P015_S001_001': 2, 'P015_S001_002': 1, 'P015_S002_001': 0, 'P015_S002_002': 1, 'P016_S001_001': 1, 'P016_S001_002': 1, 'P016_S002_001': 0, 'P016_S002_002': 0, 'P017_S001_001': 1, 'P017_S001_002': 1, 'P017_S002_001': 0, 'P017_S002_002': 1, 'P018_S001_001': 1, 'P018_S001_002': 2, 'P018_S002_001': 0, 'P018_S002_002': 1, 'P019_S001_001': 0, 'P019_S001_002': 2, 'P019_S002_001': 0, 'P019_S002_002': 1, 'P020_S001_002': 1, 'P020_S002_001': 0, 'P020_S002_002': 0, 'P021_S001_001': 1, 'P021_S001_002': 1, 'P021_S002_001': 0, 'P021_S002_002': 1, 'P022_S001_001': 1, 'P022_S001_002': 1, 'P022_S002_001': 0, 'P022_S002_002': 1, 'P023_S001_001': 1, 'P023_S001_002': 2, 'P023_S002_001': 0, 'P024_S001_001': 2, 'P024_S001_002': 1, 'P024_S002_001': 1, 'P024_S002_002': 1, 'P025_S001_001': 1, 'P025_S001_002': 2, 'P025_S002_001': 1, 'P025_S002_002': 1, 'P026_S001_001': 0, 'P026_S001_002': 1, 'P026_S002_001': 0, 'P026_S002_002': 1, 'P027_S001_001': 1, 'P027_S001_002': 1, 'P027_S002_001': 0, 'P027_S002_002': 0, 'P028_S001_001': 0, 'P028_S001_002': 0}\n",
      "\n",
      "Length of data after removing invalid labels: 103\n",
      "Length of labels after removing invalid labels: 103\n",
      "\n",
      "The extracted keys : \n",
      "['P001_S001_002', 'P002_S001_002', 'P002_S002_002', 'P003_S002_002', 'P004_S001_001', 'P005_S001_002', 'P005_S002_001', 'P005_S002_002', 'P006_S001_001', 'P007_S002_001', 'P007_S002_002', 'P008_S001_001', 'P008_S001_002', 'P009_S001_001', 'P009_S001_002', 'P009_S002_002', 'P011_S001_001', 'P011_S001_002', 'P011_S002_002', 'P012_S001_002', 'P012_S002_002', 'P013_S002_002', 'P014_S001_001', 'P015_S001_002', 'P015_S002_002', 'P016_S001_001', 'P016_S001_002', 'P017_S001_001', 'P017_S001_002', 'P017_S002_002', 'P018_S001_001', 'P018_S002_002', 'P019_S002_002', 'P020_S001_002', 'P021_S001_001', 'P021_S001_002', 'P021_S002_002', 'P022_S001_001', 'P022_S001_002', 'P022_S002_002', 'P023_S001_001', 'P024_S001_002', 'P024_S002_001', 'P024_S002_002', 'P025_S001_001', 'P025_S002_001', 'P025_S002_002', 'P026_S001_002', 'P026_S002_002', 'P027_S001_001', 'P027_S001_002']\n",
      "\n",
      "Length of data after removing mildly stressed subjects: 52\n",
      "Length of labels after removing  mildly stressed subjects: 52\n",
      "\n",
      "Length of train data set: 29\n",
      "Length of validation data set: 11\n",
      "Length of test data set: 12\n",
      "\n",
      "Shape of train data set: (8700, 8, 250)\n",
      "Shape of train labels set: (8700, 1)\n",
      "Shape of validation data set: (3300, 8, 250)\n",
      "Shape of validation labels set: (3300, 1)\n",
      "Shape of test data set: (3600, 8, 250)\n",
      "Shape of test labels set: (3600, 1)\n"
     ]
    }
   ],
   "source": [
    "data_type = 'raw'\n",
    "label_type = 'pss'\n",
    "\n",
    "train_data, test_data, val_data, train_labels, test_labels, val_labels = load_data(data_type, label_type, epoched = True, binary = True)"
   ]
  },
  {
   "cell_type": "code",
   "execution_count": 3,
   "metadata": {},
   "outputs": [
    {
     "ename": "NameError",
     "evalue": "name 'EEGNet_classification' is not defined",
     "output_type": "error",
     "traceback": [
      "\u001b[1;31m---------------------------------------------------------------------------\u001b[0m",
      "\u001b[1;31mNameError\u001b[0m                                 Traceback (most recent call last)",
      "\u001b[1;32m~\\AppData\\Local\\Temp\\ipykernel_12380\\1181731541.py\u001b[0m in \u001b[0;36m<cell line: 1>\u001b[1;34m()\u001b[0m\n\u001b[1;32m----> 1\u001b[1;33m \u001b[0mprobs_EEGNet\u001b[0m \u001b[1;33m=\u001b[0m \u001b[0mEEGNet_classification\u001b[0m\u001b[1;33m(\u001b[0m\u001b[0mtrain_data\u001b[0m\u001b[1;33m,\u001b[0m \u001b[0mtest_data\u001b[0m\u001b[1;33m,\u001b[0m \u001b[0mval_data\u001b[0m\u001b[1;33m,\u001b[0m \u001b[0mtrain_labels\u001b[0m\u001b[1;33m,\u001b[0m \u001b[0mtest_labels\u001b[0m\u001b[1;33m,\u001b[0m \u001b[0mval_labels\u001b[0m\u001b[1;33m,\u001b[0m \u001b[0mdata_type\u001b[0m\u001b[1;33m,\u001b[0m \u001b[0mepoched\u001b[0m \u001b[1;33m=\u001b[0m \u001b[1;32mTrue\u001b[0m\u001b[1;33m)\u001b[0m\u001b[1;33m\u001b[0m\u001b[1;33m\u001b[0m\u001b[0m\n\u001b[0m",
      "\u001b[1;31mNameError\u001b[0m: name 'EEGNet_classification' is not defined"
     ]
    }
   ],
   "source": [
    "probs_EEGNet = EEGNet_classification(train_data, test_data, val_data, train_labels, test_labels, val_labels, data_type, epoched = True)"
   ]
  },
  {
   "cell_type": "code",
   "execution_count": null,
   "metadata": {},
   "outputs": [],
   "source": [
    "preds_EEGNet = probs_EEGNet.argmax(axis = -1)  \n",
    "print(preds_EEGNet)\n",
    "print(test_labels[:,0].T)\n",
    "\n",
    "performance_EEGNet = compute_metrics(test_labels, preds_EEGNet)\n",
    "print(performance_EEGNet)\n",
    "\n",
    "conf_matrix = metrics.confusion_matrix(test_labels,preds_EEGNet)\n",
    "print(conf_matrix)\n",
    "cm_display = metrics.ConfusionMatrixDisplay(confusion_matrix = conf_matrix, display_labels = ['Non-Stressed', 'Stressed'])\n",
    "cm_display.plot()\n",
    "plt.show()"
   ]
  },
  {
   "cell_type": "code",
   "execution_count": null,
   "metadata": {},
   "outputs": [],
   "source": [
    "probs_TSGL = EEGNet_TSGL_classification(train_data, test_data, val_data, train_labels, test_labels, val_labels, data_type, epoched = True)"
   ]
  },
  {
   "cell_type": "code",
   "execution_count": null,
   "metadata": {},
   "outputs": [],
   "source": [
    "print(probs_TSGL)\n",
    "preds_TSGL = probs_TSGL.argmax(axis = -1)  \n",
    "print(preds_TSGL)\n",
    "print(test_labels[:,0].T)\n",
    "\n",
    "performance_TSGL = compute_metrics(test_labels, preds_TSGL)\n",
    "print(performance_TSGL)\n",
    "\n",
    "conf_matrix = metrics.confusion_matrix(test_labels,preds_TSGL)\n",
    "print(conf_matrix)\n",
    "cm_display = metrics.ConfusionMatrixDisplay(confusion_matrix = conf_matrix, display_labels = ['Non-Stressed', 'Stressed'])\n",
    "cm_display.plot()\n",
    "plt.show()"
   ]
  },
  {
   "cell_type": "code",
   "execution_count": null,
   "metadata": {},
   "outputs": [],
   "source": [
    "probs_Deep = EEGNet_DeepConvNet_classification(train_data, test_data, val_data, train_labels, test_labels, val_labels, data_type, epoched = True)"
   ]
  },
  {
   "cell_type": "code",
   "execution_count": null,
   "metadata": {},
   "outputs": [],
   "source": [
    "print(probs_Deep)\n",
    "preds_Deep = probs_Deep.argmax(axis = -1)  \n",
    "print(preds_Deep)\n",
    "print(test_labels.T)\n",
    "\n",
    "performance_Deep = compute_metrics(test_labels, preds_Deep)\n",
    "print(performance_Deep)\n",
    "conf_matrix = metrics.confusion_matrix(test_labels,preds_Deep)\n",
    "print(conf_matrix)\n",
    "cm_display = metrics.ConfusionMatrixDisplay(confusion_matrix = conf_matrix, display_labels = ['Non-Stressed', 'Stressed'])\n",
    "cm_display.plot()\n",
    "plt.show()"
   ]
  },
  {
   "cell_type": "code",
   "execution_count": null,
   "metadata": {},
   "outputs": [],
   "source": [
    "probs_Shallow = EEGNet_ShallowConvNet_classification(train_data, test_data, val_data, train_labels, test_labels, val_labels, data_type, epoched = True)"
   ]
  },
  {
   "cell_type": "code",
   "execution_count": null,
   "metadata": {},
   "outputs": [],
   "source": [
    "print(probs_Shallow)\n",
    "preds_Shallow = probs_Shallow.argmax(axis = -1)  \n",
    "print(preds_Shallow)\n",
    "print(test_labels.T)\n",
    "\n",
    "performance_Shallow = compute_metrics(test_labels, preds_Shallow)\n",
    "print(performance_Shallow)\n",
    "\n",
    "conf_matrix = metrics.confusion_matrix(test_labels,preds_Shallow)\n",
    "print(conf_matrix)\n",
    "cm_display = metrics.ConfusionMatrixDisplay(confusion_matrix = conf_matrix, display_labels = ['Non-Stressed', 'Stressed'])\n",
    "cm_display.plot()\n",
    "plt.show()"
   ]
  }
 ],
 "metadata": {
  "kernelspec": {
   "display_name": "MNE",
   "language": "python",
   "name": "python3"
  },
  "language_info": {
   "codemirror_mode": {
    "name": "ipython",
    "version": 3
   },
   "file_extension": ".py",
   "mimetype": "text/x-python",
   "name": "python",
   "nbconvert_exporter": "python",
   "pygments_lexer": "ipython3",
   "version": "3.10.6"
  },
  "orig_nbformat": 4,
  "vscode": {
   "interpreter": {
    "hash": "f6df28382c6e70c1c1d3c02fa7b17b6f3b6fcf9f5d22d2410beebd122bfaf45e"
   }
  }
 },
 "nbformat": 4,
 "nbformat_minor": 2
}
