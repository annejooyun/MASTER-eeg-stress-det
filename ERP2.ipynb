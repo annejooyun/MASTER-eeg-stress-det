{
 "cells": [
  {
   "cell_type": "code",
   "execution_count": 1,
   "metadata": {},
   "outputs": [],
   "source": [
    "import mne\n",
    "from mne import io\n",
    "from mne.datasets import sample"
   ]
  },
  {
   "cell_type": "code",
   "execution_count": 2,
   "metadata": {},
   "outputs": [
    {
     "name": "stdout",
     "output_type": "stream",
     "text": [
      "Using default location ~/mne_data for sample...\n"
     ]
    },
    {
     "name": "stderr",
     "output_type": "stream",
     "text": [
      "Downloading file 'MNE-sample-data-processed.tar.gz' from 'https://osf.io/86qa2/download?version=6' to 'C:\\Users\\annej\\mne_data'.\n",
      "100%|######################################| 1.65G/1.65G [00:00<00:00, 156GB/s]\n",
      "Failed to download 'MNE-sample-data-processed.tar.gz'. Will attempt the download again 2 more times.\n",
      "100%|#############################################| 1.65G/1.65G [00:00<?, ?B/s]\n",
      "Untarring contents of 'C:\\Users\\annej\\mne_data\\MNE-sample-data-processed.tar.gz' to 'C:\\Users\\annej\\mne_data'\n",
      "C:\\Users\\annej\\AppData\\Local\\Temp\\ipykernel_1480\\2506314961.py:4: DeprecationWarning: data_path functions now return pathlib.Path objects which do not natively support the plus (+) operator, switch to using forward slash (/) instead. Support for plus will be removed in 1.2.\n",
      "  raw_fname = data_path + '/MEG/sample/sample_audvis_filt-0-40_raw.fif'\n",
      "C:\\Users\\annej\\AppData\\Local\\Temp\\ipykernel_1480\\2506314961.py:5: DeprecationWarning: data_path functions now return pathlib.Path objects which do not natively support the plus (+) operator, switch to using forward slash (/) instead. Support for plus will be removed in 1.2.\n",
      "  event_fname = data_path + '/MEG/sample/sample_audvis_filt-0-40_raw-eve.fif'\n"
     ]
    }
   ],
   "source": [
    " data_path = sample.data_path()\n",
    "\n",
    "# Set parameters and read data\n",
    "raw_fname = data_path + '/MEG/sample/sample_audvis_filt-0-40_raw.fif'\n",
    "event_fname = data_path + '/MEG/sample/sample_audvis_filt-0-40_raw-eve.fif'\n",
    "tmin, tmax = -0., 1\n",
    "event_id = dict(aud_l=1, aud_r=2, vis_l=3, vis_r=4)\n"
   ]
  },
  {
   "cell_type": "code",
   "execution_count": 4,
   "metadata": {},
   "outputs": [],
   "source": [
    "raw = io.Raw(raw_fname, preload=True, verbose=False)"
   ]
  },
  {
   "cell_type": "code",
   "execution_count": 10,
   "metadata": {},
   "outputs": [
    {
     "name": "stdout",
     "output_type": "stream",
     "text": [
      "<Raw | sample_audvis_filt-0-40_raw.fif, 376 x 41700 (277.7 s), ~122.9 MB, data loaded>\n"
     ]
    }
   ],
   "source": [
    "print(raw)"
   ]
  },
  {
   "cell_type": "code",
   "execution_count": 9,
   "metadata": {},
   "outputs": [
    {
     "name": "stdout",
     "output_type": "stream",
     "text": [
      "376\n"
     ]
    }
   ],
   "source": [
    "print(len(raw.ch_names))"
   ]
  }
 ],
 "metadata": {
  "kernelspec": {
   "display_name": "MNE",
   "language": "python",
   "name": "python3"
  },
  "language_info": {
   "codemirror_mode": {
    "name": "ipython",
    "version": 3
   },
   "file_extension": ".py",
   "mimetype": "text/x-python",
   "name": "python",
   "nbconvert_exporter": "python",
   "pygments_lexer": "ipython3",
   "version": "3.10.6"
  },
  "orig_nbformat": 4
 },
 "nbformat": 4,
 "nbformat_minor": 2
}
