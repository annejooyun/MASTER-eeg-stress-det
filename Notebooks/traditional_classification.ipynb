{
 "cells": [
  {
   "cell_type": "code",
   "execution_count": 1,
   "metadata": {},
   "outputs": [],
   "source": [
    "import numpy as np\n",
    "from sklearn.model_selection import train_test_split, train_test_split\n",
    "import pandas as pd\n",
    "\n",
    "import sys\n",
    "import os\n",
    "module_path = os.path.abspath(os.path.join('..'))\n",
    "sys.path.insert(1, module_path + '/utils/')\n",
    "import load_data\n",
    "import features\n",
    "import classifiers\n",
    "import variables as v"
   ]
  },
  {
   "cell_type": "code",
   "execution_count": 2,
   "metadata": {},
   "outputs": [],
   "source": [
    "def load_and_shape_data(data_type, label_type, feature, kfold, new_ica = False):\n",
    "    #Load data\n",
    "    if kfold:\n",
    "        train_data, test_data, train_labels, test_labels = load_data.load_kfold_data(data_type, label_type, epoched = False, binary = True)\n",
    "    else:\n",
    "        train_data, test_data, val_data, train_labels, test_labels, val_labels = load_data.load_data(data_type, label_type, epoched = True, binary = True)\n",
    "\n",
    "\n",
    "    if features:\n",
    "        #Reshape labels - ONLY FOR USING FEATURES\n",
    "        train_labels = np.repeat(train_labels, repeats = 8, axis = 0).reshape((train_data.shape[0]*8,1))\n",
    "        train_labels = train_labels.ravel()\n",
    "\n",
    "        test_labels = np.repeat(test_labels,repeats = 8, axis = 0).reshape((test_data.shape[0]*8,1))\n",
    "        test_labels = test_labels.ravel()\n",
    "\n",
    "        print(train_labels.shape)\n",
    "        print(test_labels.shape)\n",
    "\n",
    "        #Extract features\n",
    "        train_data = features.time_series_feature(train_data, new_ica)\n",
    "        test_data = feature.time_series_features(test_data, new_ica)\n",
    "\n",
    "        print(train_data.shape)\n",
    "        print(test_data.shape)\n",
    "    else:\n",
    "        #Reshape data - ONLY FOR USING THE WHOLE DATASET, NOT FEATURES\n",
    "        train_data = np.reshape(train_data, (train_data.shape[0]*train_data.shape[1], train_data.shape[2]))\n",
    "        train_labels = np.repeat(train_labels, repeats = 8, axis = 1).reshape(-1,1)\n",
    "        train_labels = train_labels.ravel()\n",
    "\n",
    "        test_data = np.reshape(test_data, (test_data.shape[0]*test_data.shape[1],test_data.shape[2]))\n",
    "        test_labels = np.repeat(test_labels, repeats = 8, axis = 1).reshape(-1,1)\n",
    "        test_labels = test_labels.ravel()\n",
    "    return train_data, test_data, train_labels, test_labels\n",
    "\n"
   ]
  },
  {
   "cell_type": "code",
   "execution_count": 4,
   "metadata": {},
   "outputs": [
    {
     "ename": "NameError",
     "evalue": "name 'time_series_features' is not defined",
     "output_type": "error",
     "traceback": [
      "\u001b[1;31m---------------------------------------------------------------------------\u001b[0m",
      "\u001b[1;31mNameError\u001b[0m                                 Traceback (most recent call last)",
      "\u001b[1;32m~\\AppData\\Local\\Temp\\ipykernel_28696\\816812004.py\u001b[0m in \u001b[0;36m<cell line: 6>\u001b[1;34m()\u001b[0m\n\u001b[0;32m      4\u001b[0m \u001b[0mkfold\u001b[0m \u001b[1;33m=\u001b[0m \u001b[1;32mTrue\u001b[0m\u001b[1;33m\u001b[0m\u001b[1;33m\u001b[0m\u001b[0m\n\u001b[0;32m      5\u001b[0m \u001b[1;31m# time_series_features, fractal_features, entropy_features,freq_band_features, hjorth_features, kymatio_wave_scattering\u001b[0m\u001b[1;33m\u001b[0m\u001b[1;33m\u001b[0m\u001b[0m\n\u001b[1;32m----> 6\u001b[1;33m \u001b[0mfeature\u001b[0m \u001b[1;33m=\u001b[0m \u001b[0mtime_series_features\u001b[0m\u001b[1;33m\u001b[0m\u001b[1;33m\u001b[0m\u001b[0m\n\u001b[0m\u001b[0;32m      7\u001b[0m \u001b[1;33m\u001b[0m\u001b[0m\n\u001b[0;32m      8\u001b[0m \u001b[1;33m\u001b[0m\u001b[0m\n",
      "\u001b[1;31mNameError\u001b[0m: name 'time_series_features' is not defined"
     ]
    }
   ],
   "source": [
    "data_type = 'raw'\n",
    "label_type = 'stai'\n",
    "feature = True\n",
    "kfold = True\n",
    "# time_series_features, fractal_features, entropy_features,freq_band_features, hjorth_features, kymatio_wave_scattering\n",
    "\n",
    "\n",
    "\n",
    "train_data, test_data, train_labels, test_labels = load_and_shape_data(data_type, label_type, feature, kfold)"
   ]
  },
  {
   "cell_type": "code",
   "execution_count": null,
   "metadata": {},
   "outputs": [],
   "source": [
    "print(f'{data_type} data with {label_type} labels')\n",
    "knn_classification(train_data, test_data, train_labels, test_labels)"
   ]
  },
  {
   "cell_type": "code",
   "execution_count": null,
   "metadata": {},
   "outputs": [],
   "source": [
    "print(f'{data_type} data with {label_type} labels')\n",
    "svm_classification(train_data, test_data, train_labels, test_labels)\n"
   ]
  },
  {
   "cell_type": "code",
   "execution_count": null,
   "metadata": {},
   "outputs": [],
   "source": [
    "data_type = 'init'\n",
    "\n",
    "train_data, test_data, train_labels, test_labels = load_and_shape_data(data_type, label_type, features, kfold)"
   ]
  },
  {
   "cell_type": "code",
   "execution_count": null,
   "metadata": {},
   "outputs": [],
   "source": [
    "print(f'{data_type} data with {label_type} labels')\n",
    "knn_classification(train_data, test_data, train_labels, test_labels)"
   ]
  },
  {
   "cell_type": "code",
   "execution_count": null,
   "metadata": {},
   "outputs": [],
   "source": [
    "print(f'{data_type} data with {label_type} labels')\n",
    "svm_classification(train_data, test_data, train_labels, test_labels)"
   ]
  },
  {
   "cell_type": "code",
   "execution_count": null,
   "metadata": {},
   "outputs": [],
   "source": [
    "data_type = 'ica'\n",
    "\n",
    "train_data, test_data, train_labels, test_labels = load_and_shape_data(data_type, label_type, features, kfold)"
   ]
  },
  {
   "cell_type": "code",
   "execution_count": null,
   "metadata": {},
   "outputs": [],
   "source": [
    "print(f'{data_type} data with {label_type} labels')\n",
    "knn_classification(train_data, test_data, train_labels, test_labels)"
   ]
  },
  {
   "cell_type": "code",
   "execution_count": null,
   "metadata": {},
   "outputs": [],
   "source": [
    "print(f'{data_type} data with {label_type} labels')\n",
    "svm_classification(train_data, test_data, train_labels, test_labels)"
   ]
  },
  {
   "cell_type": "code",
   "execution_count": null,
   "metadata": {},
   "outputs": [],
   "source": [
    "data_type = 'new_ica'\n",
    "\n",
    "train_data, test_data, train_labels, test_labels = load_and_shape_data(data_type, label_type, features, kfold, new_ica = False)"
   ]
  },
  {
   "cell_type": "code",
   "execution_count": null,
   "metadata": {},
   "outputs": [],
   "source": [
    "print(f'{data_type} data with {label_type} labels')\n",
    "knn_classification(train_data, test_data, train_labels, test_labels)"
   ]
  },
  {
   "cell_type": "code",
   "execution_count": null,
   "metadata": {},
   "outputs": [],
   "source": [
    "print(f'{data_type} data with {label_type} labels')\n",
    "svm_classification(train_data, test_data, train_labels, test_labels)"
   ]
  }
 ],
 "metadata": {
  "kernelspec": {
   "display_name": "MNE",
   "language": "python",
   "name": "python3"
  },
  "language_info": {
   "codemirror_mode": {
    "name": "ipython",
    "version": 3
   },
   "file_extension": ".py",
   "mimetype": "text/x-python",
   "name": "python",
   "nbconvert_exporter": "python",
   "pygments_lexer": "ipython3",
   "version": "3.10.6"
  },
  "orig_nbformat": 4,
  "vscode": {
   "interpreter": {
    "hash": "f6df28382c6e70c1c1d3c02fa7b17b6f3b6fcf9f5d22d2410beebd122bfaf45e"
   }
  }
 },
 "nbformat": 4,
 "nbformat_minor": 2
}
