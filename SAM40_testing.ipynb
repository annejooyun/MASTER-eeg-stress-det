{
 "cells": [
  {
   "cell_type": "code",
   "execution_count": null,
   "metadata": {},
   "outputs": [],
   "source": [
    "import numpy as np\n",
    "from sklearn.model_selection import train_test_split, train_test_split\n",
    "import pandas as pd\n",
    "\n",
    "import utils.load_data as ld\n",
    "import utils.load_SAM40_data as ld_SAM40\n",
    "import utils.features as f\n",
    "import utils.classifiers as clfs\n",
    "import utils.variables as v\n",
    "import utils.metrics as m"
   ]
  },
  {
   "cell_type": "code",
   "execution_count": null,
   "metadata": {},
   "outputs": [],
   "source": [
    "#Collected dataset needs to be resampled, tak a look in improve_ica"
   ]
  },
  {
   "cell_type": "code",
   "execution_count": null,
   "metadata": {},
   "outputs": [],
   "source": [
    "data_type = 'raw'\n",
    "label_type = 'stai'\n",
    "feature = True\n",
    "kfold = True\n",
    "\n",
    "\n",
    "train_data, test_data, train_labels, test_labels = ld.load_and_shape_data(data_type, label_type, feature, kfold)"
   ]
  },
  {
   "cell_type": "code",
   "execution_count": null,
   "metadata": {},
   "outputs": [],
   "source": [
    "SAM40_data, SAM40_labels = ld.load_and_shape_SAM40_data()\n",
    "\n",
    "clfs.svm_classification_SAM40(train_data, test_data, SAM40_data, train_labels, test_labels, SAM40_labels)"
   ]
  }
 ],
 "metadata": {
  "language_info": {
   "name": "python"
  },
  "orig_nbformat": 4
 },
 "nbformat": 4,
 "nbformat_minor": 2
}
