{
 "cells": [
  {
   "cell_type": "code",
   "execution_count": 1,
   "metadata": {},
   "outputs": [],
   "source": [
    "import genetic_alg as ga\n",
    "import variables as v"
   ]
  },
  {
   "cell_type": "code",
   "execution_count": 2,
   "metadata": {},
   "outputs": [],
   "source": [
    "from dataset import load_dataset, load_labels, convert_to_epochs, load_channels\n",
    "from features import time_series_features, hjorth_features\n",
    "from classifiers import KNN, SVM, NN"
   ]
  },
  {
   "cell_type": "code",
   "execution_count": 3,
   "metadata": {},
   "outputs": [],
   "source": [
    "#importing ICA filtered two times\n",
    "dataset_ica_2_ = load_dataset(data_type=\"ica2\", test_type=\"Arithmetic\")\n",
    "channels = load_channels()\n"
   ]
  },
  {
   "cell_type": "code",
   "execution_count": 6,
   "metadata": {},
   "outputs": [
    {
     "name": "stdout",
     "output_type": "stream",
     "text": [
      "[['Cz' 'C4' 'C3' 'Fp2' 'Fz' 'FC2' 'PO9' 'P8']\n",
      " ['Oz' 'Fp1' 'F8' 'O1' 'O2' 'FC1' 'CP2' 'PO9']\n",
      " ['F4' 'CP5' 'CP2' 'FC5' 'PO9' 'Fp1' 'T8' 'O2']\n",
      " ['F8' 'F7' 'Fp1' 'FC1' 'P4' 'Pz' 'F3' 'P7']\n",
      " ['FC5' 'CP5' 'CP2' 'F4' 'Fz' 'Oz' 'F7' 'Cz']]\n",
      "Generation number: 0\n",
      "(3000, 16)\n",
      "\n",
      " Confusion matrix:\n",
      "[[253  58]\n",
      " [ 45 244]]\n",
      "(3000, 16)\n"
     ]
    }
   ],
   "source": [
    "num_generations = 2\n",
    "num_genes_in_person = 8\n",
    "num_parents_mating = 2\n",
    "num_people_in_pop = 5\n",
    "\n",
    "\n",
    "equation_inputs = [1, 1, 1]  # weight for accuracy, sensitivity and specificity \n",
    "\n",
    "init_pop, label = ga.make_init_pop(dataset_ica_2_, channels, num_genes_in_person, num_people_in_pop)\n",
    "print(init_pop)\n",
    "\n",
    "pop_size = init_pop.shape[0]\n",
    "curr_pop = init_pop\n",
    "\n",
    "\n",
    "for generation in range(num_generations):\n",
    "     print(f'Generation number: {generation}')\n",
    "     # Measuring the fitness of each chromosome in the population.\n",
    "     curr_pop_fitness = ga.convert_pop_to_fitness(dataset_ica_2_, channels, curr_pop, label, num_genes_in_person)\n",
    "     fitness = ga.cal_pop_fitness(equation_inputs, curr_pop_fitness)\n",
    "     print(fitness)\n",
    "     \n",
    "    # Selecting the best parents in the population for mating.\n",
    "     parents = ga.select_mating_pool(curr_pop, fitness, num_parents_mating)\n",
    " \n",
    "     # Generating next generation using crossover.\n",
    "     offspring_crossover = ga.crossover(parents, offspring_size=(pop_size-num_parents_mating, num_genes_in_person))\n",
    "\n",
    "     # Creating the new population based on the parents and offspring.\n",
    "     curr_pop[0:num_parents_mating, :] = parents\n",
    "     curr_pop[num_parents_mating:, :] = offspring_crossover\n",
    "\n",
    "     print(len(curr_pop))"
   ]
  },
  {
   "cell_type": "code",
   "execution_count": null,
   "metadata": {},
   "outputs": [],
   "source": [
    "print(parents)\n",
    "print(offspring_crossover)\n",
    "fitness = ga.convert_parents_to_fitness(parents, label, num_parents_mating, num_genes_in_person)\n",
    "print(fitness)\n"
   ]
  },
  {
   "cell_type": "code",
   "execution_count": null,
   "metadata": {},
   "outputs": [],
   "source": [
    "# Best channels from SVM with hjorth features, num_generations = 10, num_genes_in_person = 8\n",
    "# num_parents_mating = 5, num_people_in_pop = 15, equation_inputs = [4, 1, 1]\n",
    "\n",
    "best_channels = ['C3', 'Cz', 'F4', 'T8', 'CP5', 'FT9', 'F7', 'Oz']\n",
    "best_data = ga.get_subset(dataset_ica_2_, channels, best_channels)\n",
    "\n",
    "dataset = ga.convert_to_epochs(best_data, 8, v.SFREQ)\n",
    "        \n",
    "features = hjorth_features(dataset, 8,v.SFREQ)\n",
    "\n",
    "label = ga.create_labels(dataset)\n",
    "print(SVM(features,label))"
   ]
  },
  {
   "cell_type": "code",
   "execution_count": null,
   "metadata": {},
   "outputs": [],
   "source": [
    "\n",
    "best_channels = ['T7' 'T8' 'PO9' 'FC1' 'Fp2' 'Fz' 'F3' 'F8']\n",
    "best_data = ga.get_subset(dataset_ica_2_, channels, best_channels)\n",
    "\n",
    "dataset = convert_to_epochs(best_data, 8, v.SFREQ)\n",
    "        \n",
    "features = hjorth_features(dataset, 8,v.SFREQ)\n",
    "\n",
    "label = ga.create_labels(dataset)\n",
    "print(SVM(features,label))"
   ]
  },
  {
   "cell_type": "code",
   "execution_count": null,
   "metadata": {},
   "outputs": [],
   "source": []
  }
 ],
 "metadata": {
  "kernelspec": {
   "display_name": "Python 3.10.6 ('MNE')",
   "language": "python",
   "name": "python3"
  },
  "language_info": {
   "codemirror_mode": {
    "name": "ipython",
    "version": 3
   },
   "file_extension": ".py",
   "mimetype": "text/x-python",
   "name": "python",
   "nbconvert_exporter": "python",
   "pygments_lexer": "ipython3",
   "version": "3.10.6"
  },
  "orig_nbformat": 4,
  "vscode": {
   "interpreter": {
    "hash": "f6df28382c6e70c1c1d3c02fa7b17b6f3b6fcf9f5d22d2410beebd122bfaf45e"
   }
  }
 },
 "nbformat": 4,
 "nbformat_minor": 2
}
