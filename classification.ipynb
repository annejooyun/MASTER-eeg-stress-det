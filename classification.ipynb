{
 "cells": [
  {
   "cell_type": "code",
   "execution_count": 9,
   "metadata": {},
   "outputs": [],
   "source": [
    "import numpy as np\n",
    "import pandas as pd\n"
   ]
  },
  {
   "cell_type": "code",
   "execution_count": 10,
   "metadata": {},
   "outputs": [],
   "source": [
    "from dataset import load_dataset, load_labels, convert_to_epochs, load_channels\n",
    "from features import time_series_features, nonlinear_features, entropy_features, hjorth_features, freq_band_features\n",
    "from classifiers import LR, KNN, SVM, NN\n",
    "import variables as v"
   ]
  },
  {
   "cell_type": "code",
   "execution_count": 11,
   "metadata": {},
   "outputs": [],
   "source": [
    "#Filtered from SAM40\n",
    "dataset_ = load_dataset(data_type=\"filtered\", test_type=\"Arithmetic\")\n",
    "dataset = convert_to_epochs(dataset_, v.NUM_CHANNELS, v.SFREQ)\n",
    "\n",
    "#ICA filtered\n",
    "dataset_ica_ = load_dataset(data_type=\"ica1\", test_type=\"Arithmetic\")\n",
    "dataset_ica = convert_to_epochs(dataset_ica_, v.NUM_CHANNELS, v.SFREQ)\n",
    "\n",
    "#ICA filtered two times\n",
    "dataset_ica_2_ = load_dataset(data_type=\"ica2\", test_type=\"Arithmetic\")\n",
    "dataset_ica_2 = convert_to_epochs(dataset_ica_2_, v.NUM_CHANNELS, v.SFREQ)"
   ]
  },
  {
   "cell_type": "code",
   "execution_count": 12,
   "metadata": {},
   "outputs": [
    {
     "name": "stdout",
     "output_type": "stream",
     "text": [
      "(120, 25, 32, 128)\n",
      "(120, 25, 32, 128)\n",
      "(120, 25, 32, 128)\n"
     ]
    }
   ],
   "source": [
    "features = time_series_features(dataset, v.NUM_CHANNELS)\n",
    "features_ica = time_series_features(dataset_ica, v.NUM_CHANNELS)\n",
    "features_ica_2 = time_series_features(dataset_ica_2, v.NUM_CHANNELS)\n",
    "# freq_bands = np.array([1, 4, 8, 13, 31, 50])\n",
    "# features = freq_band_features(dataset, channels, sfreq, freq_bands)\n",
    "# features = nonlinear_features(dataset, channels)\n",
    "# features = hjorth_features(dataset, channels, sfreq)\n",
    "# features = entropy_features(dataset, channels, sfreq)\n",
    "data = features\n",
    "data_ica = features_ica\n",
    "data_ica_2 = features_ica_2"
   ]
  },
  {
   "cell_type": "code",
   "execution_count": 13,
   "metadata": {},
   "outputs": [],
   "source": [
    "labels = load_labels()\n",
    "label = pd.concat([labels['t1_math'], labels['t2_math'],\n",
    "                  labels['t3_math']]).to_numpy()\n",
    "label = label.repeat(dataset.shape[1])"
   ]
  },
  {
   "cell_type": "markdown",
   "metadata": {},
   "source": [
    "### Linear Regression"
   ]
  },
  {
   "cell_type": "code",
   "execution_count": 7,
   "metadata": {},
   "outputs": [
    {
     "name": "stdout",
     "output_type": "stream",
     "text": [
      "Filtered data\n",
      "              precision    recall  f1-score   support\n",
      "\n",
      "       False       0.71      0.69      0.70       527\n",
      "        True       0.66      0.67      0.66       463\n",
      "\n",
      "    accuracy                           0.68       990\n",
      "   macro avg       0.68      0.68      0.68       990\n",
      "weighted avg       0.68      0.68      0.68       990\n",
      "\n",
      "\n",
      " Confusion matrix:\n",
      "[[364 163]\n",
      " [152 311]]\n",
      "\n",
      " Sensitivity: 0.7054263565891473\n",
      "\n",
      " Specificity: 0.6561181434599156\n",
      "\n",
      "ICA filtered data\n",
      "              precision    recall  f1-score   support\n",
      "\n",
      "       False       0.62      0.60      0.61       527\n",
      "        True       0.56      0.58      0.57       463\n",
      "\n",
      "    accuracy                           0.59       990\n",
      "   macro avg       0.59      0.59      0.59       990\n",
      "weighted avg       0.59      0.59      0.59       990\n",
      "\n",
      "\n",
      " Confusion matrix:\n",
      "[[314 213]\n",
      " [193 270]]\n",
      "\n",
      " Sensitivity: 0.6193293885601578\n",
      "\n",
      " Specificity: 0.5590062111801242\n",
      "\n",
      "ICA filtered data round 2\n",
      "              precision    recall  f1-score   support\n",
      "\n",
      "       False       0.66      0.67      0.66       527\n",
      "        True       0.62      0.61      0.61       463\n",
      "\n",
      "    accuracy                           0.64       990\n",
      "   macro avg       0.64      0.64      0.64       990\n",
      "weighted avg       0.64      0.64      0.64       990\n",
      "\n",
      "\n",
      " Confusion matrix:\n",
      "[[351 176]\n",
      " [181 282]]\n",
      "\n",
      " Sensitivity: 0.6597744360902256\n",
      "\n",
      " Specificity: 0.6157205240174672\n"
     ]
    }
   ],
   "source": [
    "print('Filtered data')\n",
    "LR(data,label)\n",
    "print('\\nICA filtered data')\n",
    "LR(data_ica,label)\n",
    "print('\\nICA filtered data round 2')\n",
    "LR(data_ica_2,label)"
   ]
  },
  {
   "cell_type": "markdown",
   "metadata": {},
   "source": [
    "### KNN"
   ]
  },
  {
   "cell_type": "code",
   "execution_count": 7,
   "metadata": {},
   "outputs": [
    {
     "name": "stdout",
     "output_type": "stream",
     "text": [
      "Filtered data\n",
      "              precision    recall  f1-score   support\n",
      "\n",
      "       False       0.79      0.77      0.78       311\n",
      "        True       0.76      0.78      0.77       289\n",
      "\n",
      "    accuracy                           0.78       600\n",
      "   macro avg       0.77      0.78      0.77       600\n",
      "weighted avg       0.78      0.78      0.78       600\n",
      "\n",
      "\n",
      " Confusion matrix:\n",
      "[[241  70]\n",
      " [ 65 224]]\n",
      "\n",
      " Sensitivity: 0.7875816993464052\n",
      "\n",
      " Specificity: 0.7619047619047619\n",
      "\n",
      "ICA filtered data\n",
      "              precision    recall  f1-score   support\n",
      "\n",
      "       False       0.63      0.65      0.64       311\n",
      "        True       0.61      0.59      0.60       289\n",
      "\n",
      "    accuracy                           0.62       600\n",
      "   macro avg       0.62      0.62      0.62       600\n",
      "weighted avg       0.62      0.62      0.62       600\n",
      "\n",
      "\n",
      " Confusion matrix:\n",
      "[[202 109]\n",
      " [118 171]]\n",
      "\n",
      " Sensitivity: 0.63125\n",
      "\n",
      " Specificity: 0.6107142857142858\n",
      "\n",
      "ICA filtered data round 2\n",
      "              precision    recall  f1-score   support\n",
      "\n",
      "       False       0.69      0.73      0.71       311\n",
      "        True       0.69      0.64      0.66       289\n",
      "\n",
      "    accuracy                           0.69       600\n",
      "   macro avg       0.69      0.69      0.69       600\n",
      "weighted avg       0.69      0.69      0.69       600\n",
      "\n",
      "\n",
      " Confusion matrix:\n",
      "[[228  83]\n",
      " [104 185]]\n",
      "\n",
      " Sensitivity: 0.6867469879518072\n",
      "\n",
      " Specificity: 0.6902985074626866\n"
     ]
    }
   ],
   "source": [
    "print('Filtered data')\n",
    "KNN(data,label)\n",
    "print('\\nICA filtered data')\n",
    "KNN(data_ica,label)\n",
    "print('\\nICA filtered data round 2')\n",
    "KNN(data_ica_2,label)"
   ]
  },
  {
   "cell_type": "markdown",
   "metadata": {},
   "source": [
    "### SVM"
   ]
  },
  {
   "cell_type": "code",
   "execution_count": 8,
   "metadata": {},
   "outputs": [
    {
     "name": "stdout",
     "output_type": "stream",
     "text": [
      "Filtered data\n",
      "              precision    recall  f1-score   support\n",
      "\n",
      "       False       0.97      0.95      0.96       311\n",
      "        True       0.95      0.97      0.96       289\n",
      "\n",
      "    accuracy                           0.96       600\n",
      "   macro avg       0.96      0.96      0.96       600\n",
      "weighted avg       0.96      0.96      0.96       600\n",
      "\n",
      "\n",
      " Confusion matrix:\n",
      "[[296  15]\n",
      " [ 10 279]]\n",
      "\n",
      " Sensitivity: 0.9673202614379085\n",
      "\n",
      " Specificity: 0.9489795918367347\n",
      "\n",
      "ICA filtered data\n",
      "              precision    recall  f1-score   support\n",
      "\n",
      "       False       0.70      0.84      0.76       311\n",
      "        True       0.78      0.61      0.68       289\n",
      "\n",
      "    accuracy                           0.73       600\n",
      "   macro avg       0.74      0.73      0.72       600\n",
      "weighted avg       0.74      0.73      0.73       600\n",
      "\n",
      "\n",
      " Confusion matrix:\n",
      "[[262  49]\n",
      " [113 176]]\n",
      "\n",
      " Sensitivity: 0.6986666666666667\n",
      "\n",
      " Specificity: 0.7822222222222223\n",
      "\n",
      "ICA filtered data round 2\n",
      "              precision    recall  f1-score   support\n",
      "\n",
      "       False       0.88      0.92      0.90       311\n",
      "        True       0.91      0.87      0.89       289\n",
      "\n",
      "    accuracy                           0.89       600\n",
      "   macro avg       0.89      0.89      0.89       600\n",
      "weighted avg       0.89      0.89      0.89       600\n",
      "\n",
      "\n",
      " Confusion matrix:\n",
      "[[286  25]\n",
      " [ 39 250]]\n",
      "\n",
      " Sensitivity: 0.88\n",
      "\n",
      " Specificity: 0.9090909090909091\n"
     ]
    }
   ],
   "source": [
    "print('Filtered data')\n",
    "SVM(data,label)\n",
    "print('\\nICA filtered data')\n",
    "SVM(data_ica,label)\n",
    "print('\\nICA filtered data round 2')\n",
    "SVM(data_ica_2,label)"
   ]
  },
  {
   "cell_type": "markdown",
   "metadata": {},
   "source": [
    "# Neural Network"
   ]
  },
  {
   "cell_type": "code",
   "execution_count": 15,
   "metadata": {},
   "outputs": [
    {
     "name": "stdout",
     "output_type": "stream",
     "text": [
      "Trial 5 Complete [00h 00m 21s]\n",
      "val_accuracy: 0.8391666412353516\n",
      "\n",
      "Best val_accuracy So Far: 0.8650000095367432\n",
      "Total elapsed time: 00h 01m 38s\n",
      "INFO:tensorflow:Oracle triggered exit\n",
      "19/19 [==============================] - 0s 1ms/step\n",
      "              precision    recall  f1-score   support\n",
      "\n",
      "           0       0.86      0.90      0.88       311\n",
      "           1       0.89      0.84      0.86       289\n",
      "\n",
      "    accuracy                           0.87       600\n",
      "   macro avg       0.87      0.87      0.87       600\n",
      "weighted avg       0.87      0.87      0.87       600\n",
      "\n",
      "[[281  30]\n",
      " [ 47 242]]\n"
     ]
    }
   ],
   "source": [
    "print('Filtered data')\n",
    "NN(data,label)\n"
   ]
  },
  {
   "cell_type": "code",
   "execution_count": 16,
   "metadata": {},
   "outputs": [
    {
     "name": "stdout",
     "output_type": "stream",
     "text": [
      "Trial 5 Complete [00h 00m 17s]\n",
      "val_accuracy: 0.6625000238418579\n",
      "\n",
      "Best val_accuracy So Far: 0.6658333539962769\n",
      "Total elapsed time: 00h 01m 30s\n",
      "INFO:tensorflow:Oracle triggered exit\n",
      "19/19 [==============================] - 0s 887us/step\n",
      "              precision    recall  f1-score   support\n",
      "\n",
      "           0       0.65      0.69      0.67       311\n",
      "           1       0.65      0.61      0.62       289\n",
      "\n",
      "    accuracy                           0.65       600\n",
      "   macro avg       0.65      0.65      0.65       600\n",
      "weighted avg       0.65      0.65      0.65       600\n",
      "\n",
      "[[215  96]\n",
      " [114 175]]\n"
     ]
    }
   ],
   "source": [
    "print('\\nICA filtered data')\n",
    "NN(data_ica,label)\n"
   ]
  },
  {
   "cell_type": "code",
   "execution_count": 17,
   "metadata": {},
   "outputs": [
    {
     "name": "stdout",
     "output_type": "stream",
     "text": [
      "Trial 5 Complete [00h 00m 18s]\n",
      "val_accuracy: 0.7199999988079071\n",
      "\n",
      "Best val_accuracy So Far: 0.8600000143051147\n",
      "Total elapsed time: 00h 01m 44s\n",
      "INFO:tensorflow:Oracle triggered exit\n",
      "19/19 [==============================] - 0s 2ms/step\n",
      "              precision    recall  f1-score   support\n",
      "\n",
      "           0       0.86      0.94      0.90       311\n",
      "           1       0.93      0.84      0.88       289\n",
      "\n",
      "    accuracy                           0.89       600\n",
      "   macro avg       0.90      0.89      0.89       600\n",
      "weighted avg       0.90      0.89      0.89       600\n",
      "\n",
      "[[293  18]\n",
      " [ 46 243]]\n"
     ]
    }
   ],
   "source": [
    "print('\\nICA filtered data round 2')\n",
    "NN(data_ica_2,label)"
   ]
  }
 ],
 "metadata": {
  "kernelspec": {
   "display_name": "Python 3.10.6 ('MachineLearning')",
   "language": "python",
   "name": "python3"
  },
  "language_info": {
   "codemirror_mode": {
    "name": "ipython",
    "version": 3
   },
   "file_extension": ".py",
   "mimetype": "text/x-python",
   "name": "python",
   "nbconvert_exporter": "python",
   "pygments_lexer": "ipython3",
   "version": "3.10.6"
  },
  "orig_nbformat": 4,
  "vscode": {
   "interpreter": {
    "hash": "824278683c81e2d79923c12750dfea42912982f00ff363fc366281626f07813b"
   }
  }
 },
 "nbformat": 4,
 "nbformat_minor": 2
}
