{
 "cells": [
  {
   "cell_type": "code",
   "execution_count": 1,
   "metadata": {},
   "outputs": [],
   "source": [
    "import numpy as np\n",
    "import pandas as pd\n"
   ]
  },
  {
   "cell_type": "code",
   "execution_count": 2,
   "metadata": {},
   "outputs": [],
   "source": [
    "from dataset import load_dataset, load_labels, convert_to_epochs, load_channels\n",
    "from features import time_series_features, fractal_features, entropy_features, hjorth_features, freq_band_features\n",
    "from classifiers import KNN, SVM, NN\n",
    "import variables as v"
   ]
  },
  {
   "cell_type": "code",
   "execution_count": 3,
   "metadata": {},
   "outputs": [],
   "source": [
    "#RAW\n",
    "dataset_RAW_ = load_dataset(data_type=\"raw\", test_type=\"Arithmetic\")\n",
    "dataset_RAW = convert_to_epochs(dataset_RAW_, v.NUM_CHANNELS, v.SFREQ)\n",
    "\n",
    "#WT filtered\n",
    "dataset_WT_ = load_dataset(data_type=\"filtered\", test_type=\"Arithmetic\")\n",
    "dataset_WT = convert_to_epochs(dataset_WT_, v.NUM_CHANNELS, v.SFREQ)\n",
    "\n",
    "#one-time ICA\n",
    "dataset_ICA_ = load_dataset(data_type=\"ica1\", test_type=\"Arithmetic\")\n",
    "dataset_ICA = convert_to_epochs(dataset_ICA_, v.NUM_CHANNELS, v.SFREQ)\n",
    "\n",
    "#two-times ICA\n",
    "dataset_ICA_2_ = load_dataset(data_type=\"ica2\", test_type=\"Arithmetic\")\n",
    "dataset_ICA_2 = convert_to_epochs(dataset_ICA_2_, v.NUM_CHANNELS, v.SFREQ)"
   ]
  },
  {
   "cell_type": "code",
   "execution_count": 4,
   "metadata": {},
   "outputs": [],
   "source": [
    "# time series features\n",
    "freq_bands = np.array([1, 4, 8, 12, 30, 50])\n",
    "\n",
    "data_RAW = freq_band_features(dataset_RAW, v.NUM_CHANNELS, v.SFREQ, freq_bands)\n",
    "data_WT = freq_band_features(dataset_WT, v.NUM_CHANNELS, v.SFREQ, freq_bands)\n",
    "data_ICA = freq_band_features(dataset_ICA, v.NUM_CHANNELS, v.SFREQ, freq_bands)\n",
    "data_ICA_2 = freq_band_features(dataset_ICA_2, v.NUM_CHANNELS, v.SFREQ, freq_bands)"
   ]
  },
  {
   "cell_type": "code",
   "execution_count": 5,
   "metadata": {},
   "outputs": [
    {
     "name": "stdout",
     "output_type": "stream",
     "text": [
      "[ True False False False  True False False False False False  True False\n",
      " False False  True False  True  True False  True  True  True False False\n",
      " False  True False  True  True  True  True False False False  True False\n",
      "  True  True  True False  True False False False False False False  True\n",
      " False False  True False False  True  True False  True False False  True\n",
      "  True  True False False False  True False  True  True  True  True False\n",
      " False False False False False False False False False  True  True  True\n",
      " False  True  True False  True  True False  True False  True  True  True\n",
      "  True  True False  True  True  True  True False False False False  True\n",
      "  True  True  True  True  True False False False  True False  True False]\n",
      "(120,)\n",
      "(3000,)\n"
     ]
    }
   ],
   "source": [
    "labels = load_labels()\n",
    "\n",
    "label = pd.concat([labels['t1_math'], labels['t2_math'],\n",
    "                  labels['t3_math']]).to_numpy()\n",
    "print(label)\n",
    "print(label.shape)\n",
    "label = np.repeat(label, data_RAW.shape[0]//label.shape[0])\n",
    "\n",
    "print(label.shape)"
   ]
  },
  {
   "cell_type": "markdown",
   "metadata": {},
   "source": [
    "### KNN"
   ]
  },
  {
   "cell_type": "code",
   "execution_count": 6,
   "metadata": {},
   "outputs": [
    {
     "name": "stdout",
     "output_type": "stream",
     "text": [
      "Raw data\n",
      "(3000, 160)\n",
      "\n",
      " Confusion matrix:\n",
      "[[176 135]\n",
      " [139 150]]\n",
      "[54.33 55.87 52.63]\n"
     ]
    }
   ],
   "source": [
    "print('Raw data')\n",
    "print(KNN(data_RAW,label))"
   ]
  },
  {
   "cell_type": "code",
   "execution_count": 7,
   "metadata": {},
   "outputs": [
    {
     "name": "stdout",
     "output_type": "stream",
     "text": [
      "WT data\n",
      "(3000, 160)\n",
      "\n",
      " Confusion matrix:\n",
      "[[168 143]\n",
      " [154 135]]\n",
      "[50.5  52.17 48.56]\n"
     ]
    }
   ],
   "source": [
    "print('WT data')\n",
    "print(KNN(data_WT,label))"
   ]
  },
  {
   "cell_type": "code",
   "execution_count": 8,
   "metadata": {},
   "outputs": [
    {
     "name": "stdout",
     "output_type": "stream",
     "text": [
      "\n",
      "ICA filtered data\n",
      "(3000, 160)\n",
      "\n",
      " Confusion matrix:\n",
      "[[183 128]\n",
      " [140 149]]\n",
      "[55.33 56.66 53.79]\n"
     ]
    }
   ],
   "source": [
    "print('\\nICA filtered data')\n",
    "print(KNN(data_ICA,label))\n"
   ]
  },
  {
   "cell_type": "code",
   "execution_count": 9,
   "metadata": {},
   "outputs": [
    {
     "name": "stdout",
     "output_type": "stream",
     "text": [
      "\n",
      "ICA filtered data round 2\n",
      "(3000, 160)\n",
      "\n",
      " Confusion matrix:\n",
      "[[224  87]\n",
      " [164 125]]\n",
      "[58.17 57.73 58.96]\n"
     ]
    }
   ],
   "source": [
    "print('\\nICA filtered data round 2')\n",
    "print(KNN(data_ICA_2,label))"
   ]
  },
  {
   "cell_type": "markdown",
   "metadata": {},
   "source": [
    "### SVM"
   ]
  },
  {
   "cell_type": "code",
   "execution_count": 10,
   "metadata": {},
   "outputs": [
    {
     "name": "stdout",
     "output_type": "stream",
     "text": [
      "Raw data\n",
      "\n",
      " Confusion matrix:\n",
      "[[217  94]\n",
      " [138 151]]\n",
      "[61.33 61.13 61.63]\n"
     ]
    }
   ],
   "source": [
    "print('Raw data')\n",
    "print(SVM(data_RAW,label))\n"
   ]
  },
  {
   "cell_type": "code",
   "execution_count": 18,
   "metadata": {},
   "outputs": [
    {
     "name": "stdout",
     "output_type": "stream",
     "text": [
      "WT data\n",
      "\n",
      " Confusion matrix:\n",
      "[[189 122]\n",
      " [134 155]]\n",
      "[57.33 58.51 55.96]\n"
     ]
    }
   ],
   "source": [
    "print('WT data')\n",
    "print(SVM(data_WT,label))"
   ]
  },
  {
   "cell_type": "code",
   "execution_count": 12,
   "metadata": {},
   "outputs": [
    {
     "name": "stdout",
     "output_type": "stream",
     "text": [
      "\n",
      "ICA filtered data\n",
      "\n",
      " Confusion matrix:\n",
      "[[193 118]\n",
      " [150 139]]\n",
      "[55.33 56.27 54.09]\n"
     ]
    }
   ],
   "source": [
    "print('\\nICA filtered data')\n",
    "print(SVM(data_ICA,label))\n"
   ]
  },
  {
   "cell_type": "code",
   "execution_count": 13,
   "metadata": {},
   "outputs": [
    {
     "name": "stdout",
     "output_type": "stream",
     "text": [
      "\n",
      "ICA filtered data round 2\n",
      "\n",
      " Confusion matrix:\n",
      "[[219  92]\n",
      " [141 148]]\n",
      "[61.17 60.83 61.67]\n"
     ]
    }
   ],
   "source": [
    "print('\\nICA filtered data round 2')\n",
    "print(SVM(data_ICA_2,label))"
   ]
  },
  {
   "cell_type": "markdown",
   "metadata": {},
   "source": [
    "# Neural Network"
   ]
  },
  {
   "cell_type": "code",
   "execution_count": 14,
   "metadata": {},
   "outputs": [],
   "source": [
    "#print('RAW data')\n",
    "#NN(data_RAW,label)\n"
   ]
  },
  {
   "cell_type": "code",
   "execution_count": 15,
   "metadata": {},
   "outputs": [],
   "source": [
    "#print('WT data')\n",
    "#NN(data_WT,label)\n"
   ]
  },
  {
   "cell_type": "code",
   "execution_count": 16,
   "metadata": {},
   "outputs": [],
   "source": [
    "#print('\\nICA filtered data')\n",
    "#NN(data_ICA,label)\n"
   ]
  },
  {
   "cell_type": "code",
   "execution_count": 17,
   "metadata": {},
   "outputs": [],
   "source": [
    "#print('\\nICA filtered data round 2')\n",
    "#NN(data_ICA_2,label)"
   ]
  }
 ],
 "metadata": {
  "kernelspec": {
   "display_name": "Python 3.10.6 ('MNE')",
   "language": "python",
   "name": "python3"
  },
  "language_info": {
   "codemirror_mode": {
    "name": "ipython",
    "version": 3
   },
   "file_extension": ".py",
   "mimetype": "text/x-python",
   "name": "python",
   "nbconvert_exporter": "python",
   "pygments_lexer": "ipython3",
   "version": "3.10.6"
  },
  "orig_nbformat": 4,
  "vscode": {
   "interpreter": {
    "hash": "f6df28382c6e70c1c1d3c02fa7b17b6f3b6fcf9f5d22d2410beebd122bfaf45e"
   }
  }
 },
 "nbformat": 4,
 "nbformat_minor": 2
}
