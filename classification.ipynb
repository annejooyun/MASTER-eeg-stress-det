{
 "cells": [
  {
   "cell_type": "code",
   "execution_count": null,
   "metadata": {},
   "outputs": [],
   "source": [
    "import numpy as np\n",
    "import pandas as pd\n",
    "#"
   ]
  },
  {
   "cell_type": "code",
   "execution_count": null,
   "metadata": {},
   "outputs": [],
   "source": [
    "from dataset import get_valid_recs, extract_eeg_data, compute_average_scores, get_labels, extract_epochs, kfold_split\n",
    "from features import time_series_features, fractal_features, entropy_features, hjorth_features, freq_band_features\n",
    "from classifiers import KNN, SVM, NN\n",
    "import variables as v"
   ]
  },
  {
   "cell_type": "code",
   "execution_count": null,
   "metadata": {},
   "outputs": [],
   "source": [
    "def load_data(data_type = 'ica', epoch_duration = 3):\n",
    "    valid_recs = get_valid_recs(data_type)\n",
    "    x_dict = extract_eeg_data(valid_recs, data_type)\n",
    "    y_dict = get_labels(valid_recs)\n",
    "\n",
    "    x_epochs, y_epochs = extract_epochs(x_dict, y_dict, epoch_duration)\n",
    "    #splits = kfold_split(x_epochs, y_epochs, n_splits=5, shuffle=True, random_state=42)\n",
    "    #train_epochs, test_epochs, train_labels, test_labels = splits\n",
    "    return x_epochs, y_epochs"
   ]
  },
  {
   "cell_type": "code",
   "execution_count": null,
   "metadata": {},
   "outputs": [],
   "source": [
    "#RAW\n",
    "raw_data,raw_labels = load_data(data_type = 'raw')\n",
    "\n",
    "#ICA\n",
    "ica_data, ica_labes = load_data()"
   ]
  },
  {
   "cell_type": "code",
   "execution_count": null,
   "metadata": {},
   "outputs": [],
   "source": [
    "# time series features\n",
    "freq_bands = np.array([1, 4, 8, 12, 30, 50])\n",
    "#data_RAW = freq_band_features(dataset_RAW, v.NUM_CHANNELS, v.SFREQ, freq_bands)\n",
    "#data_ICA = freq_band_features(dataset_ICA, v.NUM_CHANNELS, v.SFREQ, freq_bands)\n",
    "print(ica_data['P001_S001_001_epoch0'].shape)\n",
    "\n",
    "#ica_train_data_ = np.array(ica_train_data)\n",
    "#print(ica_train_data_.shape)\n",
    "\n",
    "#ica_train_features = hjorth_features(np.array(ica_train_data))\n",
    "\n",
    "#ica_test_features = hjorth_features(np.array(ica_test_data))"
   ]
  },
  {
   "cell_type": "markdown",
   "metadata": {},
   "source": [
    "### KNN"
   ]
  },
  {
   "cell_type": "code",
   "execution_count": null,
   "metadata": {},
   "outputs": [],
   "source": [
    "print('Raw data')\n",
    "print(KNN(data_RAW,label))"
   ]
  },
  {
   "cell_type": "code",
   "execution_count": null,
   "metadata": {},
   "outputs": [],
   "source": [
    "print('WT data')\n",
    "print(KNN(data_WT,label))"
   ]
  },
  {
   "cell_type": "code",
   "execution_count": null,
   "metadata": {},
   "outputs": [],
   "source": [
    "print('\\nICA filtered data')\n",
    "print(KNN(data_ICA,label))\n"
   ]
  },
  {
   "cell_type": "code",
   "execution_count": null,
   "metadata": {},
   "outputs": [],
   "source": [
    "print('\\nICA filtered data round 2')\n",
    "print(KNN(data_ICA_2,label))"
   ]
  },
  {
   "cell_type": "markdown",
   "metadata": {},
   "source": [
    "### SVM"
   ]
  },
  {
   "cell_type": "code",
   "execution_count": null,
   "metadata": {},
   "outputs": [],
   "source": [
    "print('Raw data')\n",
    "print(SVM(data_RAW,label))\n"
   ]
  },
  {
   "cell_type": "code",
   "execution_count": null,
   "metadata": {},
   "outputs": [],
   "source": [
    "print('WT data')\n",
    "print(SVM(data_WT,label))"
   ]
  },
  {
   "cell_type": "code",
   "execution_count": null,
   "metadata": {},
   "outputs": [],
   "source": [
    "print('\\nICA filtered data')\n",
    "print(SVM(data_ICA,label))\n"
   ]
  },
  {
   "cell_type": "code",
   "execution_count": null,
   "metadata": {},
   "outputs": [],
   "source": [
    "print('\\nICA filtered data round 2')\n",
    "print(SVM(data_ICA_2,label))"
   ]
  },
  {
   "cell_type": "markdown",
   "metadata": {},
   "source": [
    "# Neural Network"
   ]
  },
  {
   "cell_type": "code",
   "execution_count": null,
   "metadata": {},
   "outputs": [],
   "source": [
    "#print('RAW data')\n",
    "#NN(data_RAW,label)\n"
   ]
  },
  {
   "cell_type": "code",
   "execution_count": null,
   "metadata": {},
   "outputs": [],
   "source": [
    "#print('WT data')\n",
    "#NN(data_WT,label)\n"
   ]
  },
  {
   "cell_type": "code",
   "execution_count": null,
   "metadata": {},
   "outputs": [],
   "source": [
    "#print('\\nICA filtered data')\n",
    "#NN(data_ICA,label)\n"
   ]
  },
  {
   "cell_type": "code",
   "execution_count": null,
   "metadata": {},
   "outputs": [],
   "source": [
    "#print('\\nICA filtered data round 2')\n",
    "#NN(data_ICA_2,label)"
   ]
  }
 ],
 "metadata": {
  "kernelspec": {
   "display_name": "Python 3.10.6 ('MNE')",
   "language": "python",
   "name": "python3"
  },
  "language_info": {
   "codemirror_mode": {
    "name": "ipython",
    "version": 3
   },
   "file_extension": ".py",
   "mimetype": "text/x-python",
   "name": "python",
   "nbconvert_exporter": "python",
   "pygments_lexer": "ipython3",
   "version": "3.10.6"
  },
  "orig_nbformat": 4,
  "vscode": {
   "interpreter": {
    "hash": "f6df28382c6e70c1c1d3c02fa7b17b6f3b6fcf9f5d22d2410beebd122bfaf45e"
   }
  }
 },
 "nbformat": 4,
 "nbformat_minor": 2
}
