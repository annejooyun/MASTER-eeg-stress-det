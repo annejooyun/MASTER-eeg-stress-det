{
 "cells": [
  {
   "cell_type": "code",
   "execution_count": null,
   "metadata": {},
   "outputs": [],
   "source": [
    "import numpy as np\n",
    "from utils.data import extract_eeg_data, segment_data, kfold_split\n",
    "from utils.labels import get_pss_labels, get_stai_labels\n",
    "from utils.valid_recs import get_valid_recs\n",
    "from features import all_features\n",
    "from classifiers import knn_classification, svm_classification, nn_classification\n",
    "import utils.variables as v"
   ]
  },
  {
   "cell_type": "code",
   "execution_count": null,
   "metadata": {},
   "outputs": [],
   "source": [
    "valid_recs = get_valid_recs(data_type='ica')\n",
    "x_dict = extract_eeg_data(valid_recs, data_type='ica')"
   ]
  },
  {
   "cell_type": "code",
   "execution_count": null,
   "metadata": {},
   "outputs": [],
   "source": [
    "y_dict = get_stai_labels(valid_recs, low_cutoff=37, high_cutoff=38) \n",
    "#y_dict = get_pss_labels(valid_recs)"
   ]
  },
  {
   "cell_type": "code",
   "execution_count": null,
   "metadata": {},
   "outputs": [],
   "source": [
    "x_epochs, y_epochs = segment_data(x_dict, y_dict, epoch_duration=3)\n",
    "splits = kfold_split(x_epochs, y_epochs, n_splits=5, shuffle=True, random_state=42)\n",
    "train_epochs, test_epochs, train_labels, test_labels = splits\n",
    "\n",
    "y_train = [np.array([v for _, v in train_labels[i].items()]) for i in range(len(train_labels))]\n",
    "y_test = [np.array([v for _, v in test_labels[i].items()]) for i in range(len(test_labels))]\n",
    "\n",
    "x_train = all_features(train_epochs)\n",
    "x_test = all_features(test_epochs)\n",
    "# freq_bands = np.array([1, 4, 8, 12, 30, 50])\n",
    "# features = freq_band_features(dataset, freq_bands)\n",
    "# features = hjorth_features(dataset)\n",
    "# features = entropy_features(dataset)\n",
    "#  features = fractal_features(dataset)"
   ]
  },
  {
   "cell_type": "markdown",
   "metadata": {},
   "source": [
    "### KNN"
   ]
  },
  {
   "cell_type": "code",
   "execution_count": null,
   "metadata": {},
   "outputs": [],
   "source": [
    "print('ica data')\n",
    "knn_classification(x_train, x_test, y_train, y_test)"
   ]
  },
  {
   "cell_type": "markdown",
   "metadata": {},
   "source": [
    "### SVM"
   ]
  },
  {
   "cell_type": "code",
   "execution_count": null,
   "metadata": {},
   "outputs": [],
   "source": [
    "print('ica data')\n",
    "print(svm_classification(x_train, x_test, y_train, y_test))\n"
   ]
  },
  {
   "cell_type": "markdown",
   "metadata": {},
   "source": [
    "# Neural Network"
   ]
  },
  {
   "cell_type": "code",
   "execution_count": null,
   "metadata": {},
   "outputs": [],
   "source": [
    "#print('ica data')\n",
    "#nn_classification(x_train, x_test, y_train, y_test)\n"
   ]
  }
 ],
 "metadata": {
  "kernelspec": {
   "display_name": "MNE",
   "language": "python",
   "name": "python3"
  },
  "language_info": {
   "codemirror_mode": {
    "name": "ipython",
    "version": 3
   },
   "file_extension": ".py",
   "mimetype": "text/x-python",
   "name": "python",
   "nbconvert_exporter": "python",
   "pygments_lexer": "ipython3",
   "version": "3.10.6"
  },
  "orig_nbformat": 4,
  "vscode": {
   "interpreter": {
    "hash": "f6df28382c6e70c1c1d3c02fa7b17b6f3b6fcf9f5d22d2410beebd122bfaf45e"
   }
  }
 },
 "nbformat": 4,
 "nbformat_minor": 2
}
