{
 "cells": [
  {
   "cell_type": "code",
   "execution_count": 1,
   "metadata": {},
   "outputs": [],
   "source": [
    "import numpy as np\n",
    "import pandas as pd\n"
   ]
  },
  {
   "cell_type": "code",
   "execution_count": 2,
   "metadata": {},
   "outputs": [],
   "source": [
    "from dataset import load_dataset, load_labels, convert_to_epochs, load_channels\n",
    "from features import time_series_features, fractal_features, entropy_features, hjorth_features, freq_band_features\n",
    "from classifiers import KNN, SVM, NN\n",
    "import variables as v"
   ]
  },
  {
   "cell_type": "code",
   "execution_count": 3,
   "metadata": {},
   "outputs": [],
   "source": [
    "#Filtered from SAM40\n",
    "dataset_ = load_dataset(data_type=\"filtered\", test_type=\"Arithmetic\")\n",
    "dataset = convert_to_epochs(dataset_, v.NUM_CHANNELS, v.SFREQ)\n",
    "\n",
    "#ICA filtered\n",
    "dataset_ica_ = load_dataset(data_type=\"ica1\", test_type=\"Arithmetic\")\n",
    "dataset_ica = convert_to_epochs(dataset_ica_, v.NUM_CHANNELS, v.SFREQ)\n",
    "\n",
    "#ICA filtered two times\n",
    "dataset_ica_2_ = load_dataset(data_type=\"ica2\", test_type=\"Arithmetic\")\n",
    "dataset_ica_2 = convert_to_epochs(dataset_ica_2_, v.NUM_CHANNELS, v.SFREQ)"
   ]
  },
  {
   "cell_type": "code",
   "execution_count": 4,
   "metadata": {},
   "outputs": [],
   "source": [
    "# time series features\n",
    "features = time_series_features(dataset, v.NUM_CHANNELS)\n",
    "#features_ica = time_series_features(dataset_ica, v.NUM_CHANNELS)\n",
    "#features_ica_2 = time_series_features(dataset_ica_2, v.NUM_CHANNELS)\n",
    "\n",
    "# hjorth features\n",
    "#features = hjorth_features(dataset, v.NUM_CHANNELS, v.SFREQ)\n",
    "features_ica = hjorth_features(dataset_ica, v.NUM_CHANNELS, v.SFREQ)\n",
    "features_ica_2 = hjorth_features(dataset_ica_2, v.NUM_CHANNELS, v.SFREQ)\n",
    "\n",
    "data = features\n",
    "data_ica = features_ica\n",
    "data_ica_2 = features_ica_2"
   ]
  },
  {
   "cell_type": "code",
   "execution_count": 5,
   "metadata": {},
   "outputs": [],
   "source": [
    "labels = load_labels()\n",
    "label = pd.concat([labels['t1_math'], labels['t2_math'],\n",
    "                  labels['t3_math']]).to_numpy()\n",
    "label = label.repeat(dataset.shape[1])"
   ]
  },
  {
   "cell_type": "markdown",
   "metadata": {},
   "source": [
    "### KNN"
   ]
  },
  {
   "cell_type": "code",
   "execution_count": 6,
   "metadata": {},
   "outputs": [
    {
     "name": "stdout",
     "output_type": "stream",
     "text": [
      "Filtered data\n",
      "(3000, 96)\n",
      "\n",
      " Confusion matrix:\n",
      "[[288  23]\n",
      " [ 20 269]]\n",
      "[0.92833333 0.93506494 0.92123288]\n"
     ]
    }
   ],
   "source": [
    "print('Filtered data')\n",
    "print(KNN(data,label))"
   ]
  },
  {
   "cell_type": "code",
   "execution_count": 7,
   "metadata": {},
   "outputs": [
    {
     "name": "stdout",
     "output_type": "stream",
     "text": [
      "\n",
      "ICA filtered data\n",
      "(3000, 64)\n",
      "\n",
      " Confusion matrix:\n",
      "[[281  30]\n",
      " [ 41 248]]\n",
      "[0.88166667 0.87267081 0.89208633]\n"
     ]
    }
   ],
   "source": [
    "print('\\nICA filtered data')\n",
    "print(KNN(data_ica,label))\n"
   ]
  },
  {
   "cell_type": "code",
   "execution_count": 8,
   "metadata": {},
   "outputs": [
    {
     "name": "stdout",
     "output_type": "stream",
     "text": [
      "\n",
      "ICA filtered data round 2\n",
      "(3000, 64)\n",
      "\n",
      " Confusion matrix:\n",
      "[[303   8]\n",
      " [ 13 276]]\n",
      "[0.965      0.95886076 0.97183099]\n"
     ]
    }
   ],
   "source": [
    "print('\\nICA filtered data round 2')\n",
    "print(KNN(data_ica_2,label))"
   ]
  },
  {
   "cell_type": "markdown",
   "metadata": {},
   "source": [
    "### SVM"
   ]
  },
  {
   "cell_type": "code",
   "execution_count": 9,
   "metadata": {},
   "outputs": [
    {
     "name": "stdout",
     "output_type": "stream",
     "text": [
      "Filtered data\n",
      "\n",
      " Confusion matrix:\n",
      "[[297  14]\n",
      " [ 23 266]]\n",
      "[0.93833333 0.928125   0.95      ]\n"
     ]
    }
   ],
   "source": [
    "print('Filtered data')\n",
    "print(SVM(data,label))\n"
   ]
  },
  {
   "cell_type": "code",
   "execution_count": 15,
   "metadata": {},
   "outputs": [
    {
     "name": "stdout",
     "output_type": "stream",
     "text": [
      "\n",
      "ICA filtered data\n",
      "\n",
      " Confusion matrix:\n",
      "[[284  27]\n",
      " [ 45 244]]\n",
      "[0.88       0.86322188 0.900369  ]\n"
     ]
    }
   ],
   "source": [
    "print('\\nICA filtered data')\n",
    "print(SVM(data_ica,label))\n"
   ]
  },
  {
   "cell_type": "code",
   "execution_count": 11,
   "metadata": {},
   "outputs": [
    {
     "name": "stdout",
     "output_type": "stream",
     "text": [
      "\n",
      "ICA filtered data round 2\n",
      "\n",
      " Confusion matrix:\n",
      "[[299  12]\n",
      " [ 21 268]]\n",
      "[0.945      0.934375   0.95714286]\n"
     ]
    }
   ],
   "source": [
    "print('\\nICA filtered data round 2')\n",
    "print(SVM(data_ica_2,label))"
   ]
  },
  {
   "cell_type": "markdown",
   "metadata": {},
   "source": [
    "# Neural Network"
   ]
  },
  {
   "cell_type": "code",
   "execution_count": 16,
   "metadata": {},
   "outputs": [
    {
     "name": "stdout",
     "output_type": "stream",
     "text": [
      "Trial 1 Complete [00h 00m 22s]\n",
      "val_accuracy: 0.8474999964237213\n",
      "\n",
      "Best val_accuracy So Far: 0.8474999964237213\n",
      "Total elapsed time: 00h 00m 22s\n",
      "\n",
      "Search: Running Trial #2\n",
      "\n",
      "Value             |Best Value So Far |Hyperparameter\n",
      "4                 |3                 |layers\n",
      "160               |736               |units_0\n",
      "relu              |relu              |act_0\n",
      "0.0001            |0.001             |learning_rate\n",
      "\n",
      "Epoch 1/50\n",
      "57/57 [==============================] - 1s 6ms/step - loss: 5.1141 - accuracy: 0.5128 - val_loss: 2.9345 - val_accuracy: 0.4700\n",
      "Epoch 2/50\n",
      "57/57 [==============================] - 0s 3ms/step - loss: 2.3277 - accuracy: 0.5044 - val_loss: 2.1446 - val_accuracy: 0.4783\n",
      "Epoch 3/50\n",
      "57/57 [==============================] - 0s 3ms/step - loss: 1.8147 - accuracy: 0.4983 - val_loss: 1.5956 - val_accuracy: 0.5183\n",
      "Epoch 4/50\n",
      "57/57 [==============================] - 0s 4ms/step - loss: 1.5124 - accuracy: 0.5217 - val_loss: 1.3689 - val_accuracy: 0.5600\n",
      "Epoch 5/50\n",
      "57/57 [==============================] - 0s 3ms/step - loss: 1.3103 - accuracy: 0.5444 - val_loss: 1.1989 - val_accuracy: 0.5650\n",
      "Epoch 6/50\n",
      "57/57 [==============================] - 0s 3ms/step - loss: 1.1823 - accuracy: 0.5606 - val_loss: 1.1204 - val_accuracy: 0.6100\n",
      "Epoch 7/50\n",
      "57/57 [==============================] - 0s 2ms/step - loss: 1.1052 - accuracy: 0.5667 - val_loss: 1.1801 - val_accuracy: 0.5933\n",
      "Epoch 8/50\n",
      "57/57 [==============================] - 0s 3ms/step - loss: 1.0733 - accuracy: 0.5806 - val_loss: 0.9739 - val_accuracy: 0.6167\n",
      "Epoch 9/50\n",
      "57/57 [==============================] - 0s 3ms/step - loss: 1.0003 - accuracy: 0.5889 - val_loss: 0.9276 - val_accuracy: 0.6400\n",
      "Epoch 10/50\n",
      "57/57 [==============================] - 0s 3ms/step - loss: 0.9608 - accuracy: 0.6017 - val_loss: 0.8955 - val_accuracy: 0.6533\n",
      "Epoch 11/50\n",
      "57/57 [==============================] - 0s 2ms/step - loss: 0.9260 - accuracy: 0.6100 - val_loss: 0.8679 - val_accuracy: 0.6500\n",
      "Epoch 12/50\n",
      "57/57 [==============================] - 0s 2ms/step - loss: 0.9055 - accuracy: 0.6050 - val_loss: 0.8913 - val_accuracy: 0.6383\n",
      "Epoch 13/50\n",
      "57/57 [==============================] - 0s 3ms/step - loss: 0.8799 - accuracy: 0.6117 - val_loss: 0.8295 - val_accuracy: 0.6567\n",
      "Epoch 14/50\n",
      "57/57 [==============================] - 0s 3ms/step - loss: 0.8362 - accuracy: 0.6217 - val_loss: 0.8315 - val_accuracy: 0.6633\n",
      "Epoch 15/50\n",
      "57/57 [==============================] - 0s 2ms/step - loss: 0.8415 - accuracy: 0.6272 - val_loss: 0.8749 - val_accuracy: 0.6317\n",
      "Epoch 16/50\n",
      "57/57 [==============================] - 0s 3ms/step - loss: 0.8122 - accuracy: 0.6306 - val_loss: 0.7739 - val_accuracy: 0.6667\n",
      "Epoch 17/50\n",
      "57/57 [==============================] - 0s 2ms/step - loss: 0.8297 - accuracy: 0.6317 - val_loss: 0.7627 - val_accuracy: 0.6667\n",
      "Epoch 18/50\n",
      "57/57 [==============================] - 0s 3ms/step - loss: 0.7903 - accuracy: 0.6506 - val_loss: 0.7567 - val_accuracy: 0.6700\n",
      "Epoch 19/50\n",
      "57/57 [==============================] - 0s 2ms/step - loss: 0.7862 - accuracy: 0.6400 - val_loss: 0.7405 - val_accuracy: 0.6667\n",
      "Epoch 20/50\n",
      "57/57 [==============================] - 0s 3ms/step - loss: 0.7615 - accuracy: 0.6533 - val_loss: 0.7267 - val_accuracy: 0.6800\n",
      "Epoch 21/50\n",
      "57/57 [==============================] - 0s 3ms/step - loss: 0.7477 - accuracy: 0.6572 - val_loss: 0.7210 - val_accuracy: 0.6917\n",
      "Epoch 22/50\n",
      "57/57 [==============================] - 0s 2ms/step - loss: 0.7420 - accuracy: 0.6594 - val_loss: 0.7422 - val_accuracy: 0.6500\n",
      "Epoch 23/50\n",
      "57/57 [==============================] - 0s 3ms/step - loss: 0.7267 - accuracy: 0.6717 - val_loss: 0.7258 - val_accuracy: 0.7017\n",
      "Epoch 24/50\n",
      "57/57 [==============================] - 0s 3ms/step - loss: 0.7405 - accuracy: 0.6639 - val_loss: 0.7193 - val_accuracy: 0.6550\n",
      "Epoch 25/50\n",
      "57/57 [==============================] - 0s 3ms/step - loss: 0.7107 - accuracy: 0.6756 - val_loss: 0.7112 - val_accuracy: 0.6750\n",
      "Epoch 26/50\n",
      "57/57 [==============================] - 0s 3ms/step - loss: 0.7257 - accuracy: 0.6700 - val_loss: 0.6802 - val_accuracy: 0.6900\n",
      "Epoch 27/50\n",
      "57/57 [==============================] - 0s 3ms/step - loss: 0.7106 - accuracy: 0.6733 - val_loss: 0.6791 - val_accuracy: 0.6733\n",
      "Epoch 28/50\n",
      "57/57 [==============================] - 0s 3ms/step - loss: 0.6898 - accuracy: 0.6872 - val_loss: 0.6697 - val_accuracy: 0.6750\n",
      "Epoch 29/50\n",
      "57/57 [==============================] - 0s 4ms/step - loss: 0.6958 - accuracy: 0.6772 - val_loss: 0.6849 - val_accuracy: 0.7100\n",
      "Epoch 30/50\n",
      "57/57 [==============================] - 0s 4ms/step - loss: 0.6937 - accuracy: 0.6750 - val_loss: 0.6817 - val_accuracy: 0.6867\n",
      "Epoch 31/50\n",
      "57/57 [==============================] - 0s 3ms/step - loss: 0.6740 - accuracy: 0.6828 - val_loss: 0.6497 - val_accuracy: 0.6950\n",
      "Epoch 32/50\n",
      "57/57 [==============================] - 0s 2ms/step - loss: 0.6639 - accuracy: 0.7006 - val_loss: 0.6911 - val_accuracy: 0.6617\n",
      "Epoch 33/50\n",
      "57/57 [==============================] - 0s 3ms/step - loss: 0.6565 - accuracy: 0.6933 - val_loss: 0.6819 - val_accuracy: 0.6650\n",
      "Epoch 34/50\n",
      "57/57 [==============================] - 0s 3ms/step - loss: 0.6533 - accuracy: 0.6906 - val_loss: 0.7620 - val_accuracy: 0.6400\n",
      "Epoch 35/50\n",
      "57/57 [==============================] - 0s 3ms/step - loss: 0.6503 - accuracy: 0.6961 - val_loss: 0.7795 - val_accuracy: 0.6350\n",
      "Epoch 36/50\n",
      "57/57 [==============================] - 0s 3ms/step - loss: 0.6375 - accuracy: 0.6939 - val_loss: 0.6258 - val_accuracy: 0.7083\n",
      "Epoch 37/50\n",
      "57/57 [==============================] - 0s 3ms/step - loss: 0.6268 - accuracy: 0.6994 - val_loss: 0.6216 - val_accuracy: 0.7133\n",
      "Epoch 38/50\n",
      "57/57 [==============================] - 0s 3ms/step - loss: 0.6863 - accuracy: 0.6717 - val_loss: 0.6377 - val_accuracy: 0.6950\n",
      "Epoch 39/50\n",
      "57/57 [==============================] - 0s 3ms/step - loss: 0.6149 - accuracy: 0.7183 - val_loss: 0.6198 - val_accuracy: 0.7133\n",
      "Epoch 40/50\n",
      "57/57 [==============================] - 0s 4ms/step - loss: 0.6502 - accuracy: 0.6844 - val_loss: 0.6235 - val_accuracy: 0.7100\n",
      "Epoch 41/50\n",
      "57/57 [==============================] - 0s 3ms/step - loss: 0.6101 - accuracy: 0.7178 - val_loss: 0.6379 - val_accuracy: 0.6883\n",
      "Epoch 42/50\n",
      "57/57 [==============================] - 0s 3ms/step - loss: 0.6307 - accuracy: 0.7133 - val_loss: 0.5974 - val_accuracy: 0.7183\n",
      "Epoch 43/50\n",
      "57/57 [==============================] - 0s 3ms/step - loss: 0.6021 - accuracy: 0.7139 - val_loss: 0.5985 - val_accuracy: 0.7133\n",
      "Epoch 44/50\n",
      "57/57 [==============================] - 0s 3ms/step - loss: 0.6077 - accuracy: 0.7178 - val_loss: 0.6362 - val_accuracy: 0.7083\n",
      "Epoch 45/50\n",
      "49/57 [========================>.....] - ETA: 0s - loss: 0.6069 - accuracy: 0.7111"
     ]
    },
    {
     "ename": "FailedPreconditionError",
     "evalue": "{{function_node __wrapped__MergeV2Checkpoints_device_/job:localhost/replica:0/task:0/device:CPU:0}} Failed to rename: .\\untitled_project\\trial_1\\checkpoint_temp/part-00000-of-00001.data-00000-of-00001 to: .\\untitled_project\\trial_1\\checkpoint.data-00000-of-00001 : Prosessen får ikke tilgang til filen fordi den brukes av en annen prosess.\r\n; Broken pipe [Op:MergeV2Checkpoints]",
     "output_type": "error",
     "traceback": [
      "\u001b[1;31m---------------------------------------------------------------------------\u001b[0m",
      "\u001b[1;31mFailedPreconditionError\u001b[0m                   Traceback (most recent call last)",
      "\u001b[1;32m~\\AppData\\Local\\Temp\\ipykernel_35292\\52269008.py\u001b[0m in \u001b[0;36m<cell line: 2>\u001b[1;34m()\u001b[0m\n\u001b[0;32m      1\u001b[0m \u001b[0mprint\u001b[0m\u001b[1;33m(\u001b[0m\u001b[1;34m'Filtered data'\u001b[0m\u001b[1;33m)\u001b[0m\u001b[1;33m\u001b[0m\u001b[1;33m\u001b[0m\u001b[0m\n\u001b[1;32m----> 2\u001b[1;33m \u001b[0mNN\u001b[0m\u001b[1;33m(\u001b[0m\u001b[0mdata\u001b[0m\u001b[1;33m,\u001b[0m\u001b[0mlabel\u001b[0m\u001b[1;33m)\u001b[0m\u001b[1;33m\u001b[0m\u001b[1;33m\u001b[0m\u001b[0m\n\u001b[0m",
      "\u001b[1;32mc:\\Users\\annej\\OneDrive\\Documents\\GitHub\\eeg_stress_detection\\classifiers.py\u001b[0m in \u001b[0;36mNN\u001b[1;34m(data, label)\u001b[0m\n\u001b[0;32m    133\u001b[0m     \u001b[0mtuner\u001b[0m\u001b[1;33m.\u001b[0m\u001b[0msearch_space_summary\u001b[0m\u001b[1;33m(\u001b[0m\u001b[1;33m)\u001b[0m\u001b[1;33m\u001b[0m\u001b[1;33m\u001b[0m\u001b[0m\n\u001b[0;32m    134\u001b[0m \u001b[1;33m\u001b[0m\u001b[0m\n\u001b[1;32m--> 135\u001b[1;33m     \u001b[0mtuner\u001b[0m\u001b[1;33m.\u001b[0m\u001b[0msearch\u001b[0m\u001b[1;33m(\u001b[0m\u001b[0mx_train\u001b[0m\u001b[1;33m,\u001b[0m \u001b[0my_train\u001b[0m\u001b[1;33m,\u001b[0m \u001b[0mepochs\u001b[0m \u001b[1;33m=\u001b[0m \u001b[1;36m50\u001b[0m\u001b[1;33m,\u001b[0m \u001b[0mvalidation_data\u001b[0m\u001b[1;33m=\u001b[0m \u001b[1;33m[\u001b[0m\u001b[0mx_val\u001b[0m\u001b[1;33m,\u001b[0m \u001b[0my_val\u001b[0m\u001b[1;33m]\u001b[0m\u001b[1;33m)\u001b[0m\u001b[1;33m\u001b[0m\u001b[1;33m\u001b[0m\u001b[0m\n\u001b[0m\u001b[0;32m    136\u001b[0m \u001b[1;33m\u001b[0m\u001b[0m\n\u001b[0;32m    137\u001b[0m     \u001b[0mmodel\u001b[0m \u001b[1;33m=\u001b[0m \u001b[0mtuner\u001b[0m\u001b[1;33m.\u001b[0m\u001b[0mget_best_models\u001b[0m\u001b[1;33m(\u001b[0m\u001b[0mnum_models\u001b[0m\u001b[1;33m=\u001b[0m\u001b[1;36m1\u001b[0m\u001b[1;33m)\u001b[0m\u001b[1;33m[\u001b[0m\u001b[1;36m0\u001b[0m\u001b[1;33m]\u001b[0m\u001b[1;33m\u001b[0m\u001b[1;33m\u001b[0m\u001b[0m\n",
      "\u001b[1;32mc:\\Users\\annej\\anaconda3\\envs\\MNE\\lib\\site-packages\\keras_tuner\\engine\\base_tuner.py\u001b[0m in \u001b[0;36msearch\u001b[1;34m(self, *fit_args, **fit_kwargs)\u001b[0m\n\u001b[0;32m    181\u001b[0m \u001b[1;33m\u001b[0m\u001b[0m\n\u001b[0;32m    182\u001b[0m             \u001b[0mself\u001b[0m\u001b[1;33m.\u001b[0m\u001b[0mon_trial_begin\u001b[0m\u001b[1;33m(\u001b[0m\u001b[0mtrial\u001b[0m\u001b[1;33m)\u001b[0m\u001b[1;33m\u001b[0m\u001b[1;33m\u001b[0m\u001b[0m\n\u001b[1;32m--> 183\u001b[1;33m             \u001b[0mresults\u001b[0m \u001b[1;33m=\u001b[0m \u001b[0mself\u001b[0m\u001b[1;33m.\u001b[0m\u001b[0mrun_trial\u001b[0m\u001b[1;33m(\u001b[0m\u001b[0mtrial\u001b[0m\u001b[1;33m,\u001b[0m \u001b[1;33m*\u001b[0m\u001b[0mfit_args\u001b[0m\u001b[1;33m,\u001b[0m \u001b[1;33m**\u001b[0m\u001b[0mfit_kwargs\u001b[0m\u001b[1;33m)\u001b[0m\u001b[1;33m\u001b[0m\u001b[1;33m\u001b[0m\u001b[0m\n\u001b[0m\u001b[0;32m    184\u001b[0m             \u001b[1;31m# `results` is None indicates user updated oracle in `run_trial()`.\u001b[0m\u001b[1;33m\u001b[0m\u001b[1;33m\u001b[0m\u001b[0m\n\u001b[0;32m    185\u001b[0m             \u001b[1;32mif\u001b[0m \u001b[0mresults\u001b[0m \u001b[1;32mis\u001b[0m \u001b[1;32mNone\u001b[0m\u001b[1;33m:\u001b[0m\u001b[1;33m\u001b[0m\u001b[1;33m\u001b[0m\u001b[0m\n",
      "\u001b[1;32mc:\\Users\\annej\\anaconda3\\envs\\MNE\\lib\\site-packages\\keras_tuner\\engine\\tuner.py\u001b[0m in \u001b[0;36mrun_trial\u001b[1;34m(self, trial, *args, **kwargs)\u001b[0m\n\u001b[0;32m    293\u001b[0m             \u001b[0mcallbacks\u001b[0m\u001b[1;33m.\u001b[0m\u001b[0mappend\u001b[0m\u001b[1;33m(\u001b[0m\u001b[0mmodel_checkpoint\u001b[0m\u001b[1;33m)\u001b[0m\u001b[1;33m\u001b[0m\u001b[1;33m\u001b[0m\u001b[0m\n\u001b[0;32m    294\u001b[0m             \u001b[0mcopied_kwargs\u001b[0m\u001b[1;33m[\u001b[0m\u001b[1;34m\"callbacks\"\u001b[0m\u001b[1;33m]\u001b[0m \u001b[1;33m=\u001b[0m \u001b[0mcallbacks\u001b[0m\u001b[1;33m\u001b[0m\u001b[1;33m\u001b[0m\u001b[0m\n\u001b[1;32m--> 295\u001b[1;33m             \u001b[0mobj_value\u001b[0m \u001b[1;33m=\u001b[0m \u001b[0mself\u001b[0m\u001b[1;33m.\u001b[0m\u001b[0m_build_and_fit_model\u001b[0m\u001b[1;33m(\u001b[0m\u001b[0mtrial\u001b[0m\u001b[1;33m,\u001b[0m \u001b[1;33m*\u001b[0m\u001b[0margs\u001b[0m\u001b[1;33m,\u001b[0m \u001b[1;33m**\u001b[0m\u001b[0mcopied_kwargs\u001b[0m\u001b[1;33m)\u001b[0m\u001b[1;33m\u001b[0m\u001b[1;33m\u001b[0m\u001b[0m\n\u001b[0m\u001b[0;32m    296\u001b[0m \u001b[1;33m\u001b[0m\u001b[0m\n\u001b[0;32m    297\u001b[0m             \u001b[0mhistories\u001b[0m\u001b[1;33m.\u001b[0m\u001b[0mappend\u001b[0m\u001b[1;33m(\u001b[0m\u001b[0mobj_value\u001b[0m\u001b[1;33m)\u001b[0m\u001b[1;33m\u001b[0m\u001b[1;33m\u001b[0m\u001b[0m\n",
      "\u001b[1;32mc:\\Users\\annej\\anaconda3\\envs\\MNE\\lib\\site-packages\\keras_tuner\\engine\\tuner.py\u001b[0m in \u001b[0;36m_build_and_fit_model\u001b[1;34m(self, trial, *args, **kwargs)\u001b[0m\n\u001b[0;32m    220\u001b[0m         \u001b[0mhp\u001b[0m \u001b[1;33m=\u001b[0m \u001b[0mtrial\u001b[0m\u001b[1;33m.\u001b[0m\u001b[0mhyperparameters\u001b[0m\u001b[1;33m\u001b[0m\u001b[1;33m\u001b[0m\u001b[0m\n\u001b[0;32m    221\u001b[0m         \u001b[0mmodel\u001b[0m \u001b[1;33m=\u001b[0m \u001b[0mself\u001b[0m\u001b[1;33m.\u001b[0m\u001b[0m_try_build\u001b[0m\u001b[1;33m(\u001b[0m\u001b[0mhp\u001b[0m\u001b[1;33m)\u001b[0m\u001b[1;33m\u001b[0m\u001b[1;33m\u001b[0m\u001b[0m\n\u001b[1;32m--> 222\u001b[1;33m         \u001b[0mresults\u001b[0m \u001b[1;33m=\u001b[0m \u001b[0mself\u001b[0m\u001b[1;33m.\u001b[0m\u001b[0mhypermodel\u001b[0m\u001b[1;33m.\u001b[0m\u001b[0mfit\u001b[0m\u001b[1;33m(\u001b[0m\u001b[0mhp\u001b[0m\u001b[1;33m,\u001b[0m \u001b[0mmodel\u001b[0m\u001b[1;33m,\u001b[0m \u001b[1;33m*\u001b[0m\u001b[0margs\u001b[0m\u001b[1;33m,\u001b[0m \u001b[1;33m**\u001b[0m\u001b[0mkwargs\u001b[0m\u001b[1;33m)\u001b[0m\u001b[1;33m\u001b[0m\u001b[1;33m\u001b[0m\u001b[0m\n\u001b[0m\u001b[0;32m    223\u001b[0m         tuner_utils.validate_trial_results(\n\u001b[0;32m    224\u001b[0m             \u001b[0mresults\u001b[0m\u001b[1;33m,\u001b[0m \u001b[0mself\u001b[0m\u001b[1;33m.\u001b[0m\u001b[0moracle\u001b[0m\u001b[1;33m.\u001b[0m\u001b[0mobjective\u001b[0m\u001b[1;33m,\u001b[0m \u001b[1;34m\"HyperModel.fit()\"\u001b[0m\u001b[1;33m\u001b[0m\u001b[1;33m\u001b[0m\u001b[0m\n",
      "\u001b[1;32mc:\\Users\\annej\\anaconda3\\envs\\MNE\\lib\\site-packages\\keras_tuner\\engine\\hypermodel.py\u001b[0m in \u001b[0;36mfit\u001b[1;34m(self, hp, model, *args, **kwargs)\u001b[0m\n\u001b[0;32m    138\u001b[0m             \u001b[0mIf\u001b[0m \u001b[1;32mreturn\u001b[0m \u001b[0ma\u001b[0m \u001b[0mfloat\u001b[0m\u001b[1;33m,\u001b[0m \u001b[0mit\u001b[0m \u001b[0mshould\u001b[0m \u001b[0mbe\u001b[0m \u001b[0mthe\u001b[0m\u001b[0;31m \u001b[0m\u001b[0;31m`\u001b[0m\u001b[0mobjective\u001b[0m\u001b[0;31m`\u001b[0m \u001b[0mvalue\u001b[0m\u001b[1;33m.\u001b[0m\u001b[1;33m\u001b[0m\u001b[1;33m\u001b[0m\u001b[0m\n\u001b[0;32m    139\u001b[0m         \"\"\"\n\u001b[1;32m--> 140\u001b[1;33m         \u001b[1;32mreturn\u001b[0m \u001b[0mmodel\u001b[0m\u001b[1;33m.\u001b[0m\u001b[0mfit\u001b[0m\u001b[1;33m(\u001b[0m\u001b[1;33m*\u001b[0m\u001b[0margs\u001b[0m\u001b[1;33m,\u001b[0m \u001b[1;33m**\u001b[0m\u001b[0mkwargs\u001b[0m\u001b[1;33m)\u001b[0m\u001b[1;33m\u001b[0m\u001b[1;33m\u001b[0m\u001b[0m\n\u001b[0m\u001b[0;32m    141\u001b[0m \u001b[1;33m\u001b[0m\u001b[0m\n\u001b[0;32m    142\u001b[0m \u001b[1;33m\u001b[0m\u001b[0m\n",
      "\u001b[1;32mc:\\Users\\annej\\anaconda3\\envs\\MNE\\lib\\site-packages\\keras\\utils\\traceback_utils.py\u001b[0m in \u001b[0;36merror_handler\u001b[1;34m(*args, **kwargs)\u001b[0m\n\u001b[0;32m     68\u001b[0m             \u001b[1;31m# To get the full stack trace, call:\u001b[0m\u001b[1;33m\u001b[0m\u001b[1;33m\u001b[0m\u001b[0m\n\u001b[0;32m     69\u001b[0m             \u001b[1;31m# `tf.debugging.disable_traceback_filtering()`\u001b[0m\u001b[1;33m\u001b[0m\u001b[1;33m\u001b[0m\u001b[0m\n\u001b[1;32m---> 70\u001b[1;33m             \u001b[1;32mraise\u001b[0m \u001b[0me\u001b[0m\u001b[1;33m.\u001b[0m\u001b[0mwith_traceback\u001b[0m\u001b[1;33m(\u001b[0m\u001b[0mfiltered_tb\u001b[0m\u001b[1;33m)\u001b[0m \u001b[1;32mfrom\u001b[0m \u001b[1;32mNone\u001b[0m\u001b[1;33m\u001b[0m\u001b[1;33m\u001b[0m\u001b[0m\n\u001b[0m\u001b[0;32m     71\u001b[0m         \u001b[1;32mfinally\u001b[0m\u001b[1;33m:\u001b[0m\u001b[1;33m\u001b[0m\u001b[1;33m\u001b[0m\u001b[0m\n\u001b[0;32m     72\u001b[0m             \u001b[1;32mdel\u001b[0m \u001b[0mfiltered_tb\u001b[0m\u001b[1;33m\u001b[0m\u001b[1;33m\u001b[0m\u001b[0m\n",
      "\u001b[1;32mc:\\Users\\annej\\anaconda3\\envs\\MNE\\lib\\site-packages\\tensorflow\\python\\eager\\execute.py\u001b[0m in \u001b[0;36mquick_execute\u001b[1;34m(op_name, num_outputs, inputs, attrs, ctx, name)\u001b[0m\n\u001b[0;32m     50\u001b[0m   \u001b[1;32mtry\u001b[0m\u001b[1;33m:\u001b[0m\u001b[1;33m\u001b[0m\u001b[1;33m\u001b[0m\u001b[0m\n\u001b[0;32m     51\u001b[0m     \u001b[0mctx\u001b[0m\u001b[1;33m.\u001b[0m\u001b[0mensure_initialized\u001b[0m\u001b[1;33m(\u001b[0m\u001b[1;33m)\u001b[0m\u001b[1;33m\u001b[0m\u001b[1;33m\u001b[0m\u001b[0m\n\u001b[1;32m---> 52\u001b[1;33m     tensors = pywrap_tfe.TFE_Py_Execute(ctx._handle, device_name, op_name,\n\u001b[0m\u001b[0;32m     53\u001b[0m                                         inputs, attrs, num_outputs)\n\u001b[0;32m     54\u001b[0m   \u001b[1;32mexcept\u001b[0m \u001b[0mcore\u001b[0m\u001b[1;33m.\u001b[0m\u001b[0m_NotOkStatusException\u001b[0m \u001b[1;32mas\u001b[0m \u001b[0me\u001b[0m\u001b[1;33m:\u001b[0m\u001b[1;33m\u001b[0m\u001b[1;33m\u001b[0m\u001b[0m\n",
      "\u001b[1;31mFailedPreconditionError\u001b[0m: {{function_node __wrapped__MergeV2Checkpoints_device_/job:localhost/replica:0/task:0/device:CPU:0}} Failed to rename: .\\untitled_project\\trial_1\\checkpoint_temp/part-00000-of-00001.data-00000-of-00001 to: .\\untitled_project\\trial_1\\checkpoint.data-00000-of-00001 : Prosessen får ikke tilgang til filen fordi den brukes av en annen prosess.\r\n; Broken pipe [Op:MergeV2Checkpoints]"
     ]
    }
   ],
   "source": [
    "print('Filtered data')\n",
    "NN(data,label)\n"
   ]
  },
  {
   "cell_type": "code",
   "execution_count": null,
   "metadata": {},
   "outputs": [],
   "source": [
    "print('\\nICA filtered data')\n",
    "NN(data_ica,label)\n"
   ]
  },
  {
   "cell_type": "code",
   "execution_count": null,
   "metadata": {},
   "outputs": [],
   "source": [
    "print('\\nICA filtered data round 2')\n",
    "NN(data_ica_2,label)"
   ]
  }
 ],
 "metadata": {
  "kernelspec": {
   "display_name": "Python 3.10.6 ('MNE')",
   "language": "python",
   "name": "python3"
  },
  "language_info": {
   "codemirror_mode": {
    "name": "ipython",
    "version": 3
   },
   "file_extension": ".py",
   "mimetype": "text/x-python",
   "name": "python",
   "nbconvert_exporter": "python",
   "pygments_lexer": "ipython3",
   "version": "3.10.6"
  },
  "orig_nbformat": 4,
  "vscode": {
   "interpreter": {
    "hash": "f6df28382c6e70c1c1d3c02fa7b17b6f3b6fcf9f5d22d2410beebd122bfaf45e"
   }
  }
 },
 "nbformat": 4,
 "nbformat_minor": 2
}
