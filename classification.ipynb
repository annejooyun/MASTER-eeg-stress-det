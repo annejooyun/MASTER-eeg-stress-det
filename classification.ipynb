{
 "cells": [
  {
   "cell_type": "code",
   "execution_count": 1,
   "metadata": {},
   "outputs": [
    {
     "name": "stderr",
     "output_type": "stream",
     "text": [
      "2022-11-08 22:24:55.115484: W tensorflow/stream_executor/platform/default/dso_loader.cc:64] Could not load dynamic library 'libcudart.so.11.0'; dlerror: libcudart.so.11.0: cannot open shared object file: No such file or directory\n",
      "2022-11-08 22:24:55.115562: I tensorflow/stream_executor/cuda/cudart_stub.cc:29] Ignore above cudart dlerror if you do not have a GPU set up on your machine.\n",
      "2022-11-08 22:24:55.241779: E tensorflow/stream_executor/cuda/cuda_blas.cc:2981] Unable to register cuBLAS factory: Attempting to register factory for plugin cuBLAS when one has already been registered\n",
      "2022-11-08 22:24:57.270662: W tensorflow/stream_executor/platform/default/dso_loader.cc:64] Could not load dynamic library 'libnvinfer.so.7'; dlerror: libnvinfer.so.7: cannot open shared object file: No such file or directory\n",
      "2022-11-08 22:24:57.270926: W tensorflow/stream_executor/platform/default/dso_loader.cc:64] Could not load dynamic library 'libnvinfer_plugin.so.7'; dlerror: libnvinfer_plugin.so.7: cannot open shared object file: No such file or directory\n",
      "2022-11-08 22:24:57.270949: W tensorflow/compiler/tf2tensorrt/utils/py_utils.cc:38] TF-TRT Warning: Cannot dlopen some TensorRT libraries. If you would like to use Nvidia GPU with TensorRT, please make sure the missing libraries mentioned above are installed properly.\n"
     ]
    }
   ],
   "source": [
    "import numpy as np\n",
    "import pandas as pd\n",
    "from sklearn.model_selection import train_test_split\n",
    "from sklearn.preprocessing import StandardScaler, MinMaxScaler\n",
    "from sklearn import metrics\n",
    "from sklearn.neighbors import KNeighborsClassifier\n",
    "from sklearn.svm import SVC\n",
    "from sklearn.linear_model import LogisticRegression\n",
    "import keras\n",
    "from keras.models import load_model\n",
    "from keras import backend as K\n",
    "from keras import models\n",
    "from keras.layers import Dense\n",
    "import tensorflow as tf\n",
    "from tensorflow.keras.utils import to_categorical\n",
    "\n",
    "from keras_tuner.tuners import RandomSearch\n",
    "import keras_tuner"
   ]
  },
  {
   "cell_type": "code",
   "execution_count": 2,
   "metadata": {},
   "outputs": [],
   "source": [
    "from dataset import load_dataset, load_ica_dataset, load_labels, convert_to_epochs\n",
    "from features import time_series_features, nonlinear_features, entropy_features, hjorth_features, freq_band_features"
   ]
  },
  {
   "cell_type": "code",
   "execution_count": 3,
   "metadata": {},
   "outputs": [],
   "source": [
    "num_classes = 2\n",
    "channels = 32\n",
    "sfreq = 128"
   ]
  },
  {
   "cell_type": "code",
   "execution_count": 4,
   "metadata": {},
   "outputs": [],
   "source": [
    "#Filtered from SAM40\n",
    "dataset_ = load_dataset(raw = False)\n",
    "dataset = convert_to_epochs(dataset_, channels, sfreq)\n",
    "\n",
    "#ICA filtered\n",
    "dataset_ica_ = load_ica_dataset()\n",
    "dataset_ica = convert_to_epochs(dataset_ica_, channels, sfreq)"
   ]
  },
  {
   "cell_type": "code",
   "execution_count": 5,
   "metadata": {},
   "outputs": [
    {
     "name": "stdout",
     "output_type": "stream",
     "text": [
      "(120, 25, 32, 128)\n",
      "(120, 25, 32, 128)\n"
     ]
    }
   ],
   "source": [
    "features = time_series_features(dataset, channels)\n",
    "features_ica = time_series_features(dataset_ica, channels)\n",
    "# freq_bands = np.array([1, 4, 8, 13, 31, 50])\n",
    "# features = freq_band_features(dataset, channels, sfreq, freq_bands)\n",
    "# features = nonlinear_features(dataset, channels)\n",
    "# features = hjorth_features(dataset, channels, sfreq)\n",
    "# features = entropy_features(dataset, channels, sfreq)\n",
    "data = features\n",
    "data_ica = features_ica"
   ]
  },
  {
   "cell_type": "code",
   "execution_count": 6,
   "metadata": {},
   "outputs": [],
   "source": [
    "labels = load_labels()\n",
    "label = pd.concat([labels['t1_math'], labels['t2_math'],\n",
    "                  labels['t3_math']]).to_numpy()\n",
    "label = label.repeat(dataset.shape[1])"
   ]
  },
  {
   "cell_type": "markdown",
   "metadata": {},
   "source": [
    "# Linear Regression"
   ]
  },
  {
   "cell_type": "code",
   "execution_count": 7,
   "metadata": {},
   "outputs": [],
   "source": [
    "def LinearRegression(data, label):\n",
    "    K.clear_session()\n",
    "    x_train, x_test, y_train, y_test = train_test_split(\n",
    "    data, label, test_size=0.33, random_state=42)\n",
    "    scaler = StandardScaler()\n",
    "    scaler.fit(x_train)\n",
    "    x_train = scaler.transform(x_train)\n",
    "    x_test = scaler.transform(x_test)\n",
    "    lr_clf = LogisticRegression(max_iter=1000).fit(x_train, y_train)\n",
    "    y_pred = lr_clf.predict(x_test)\n",
    "    y_true = y_test\n",
    "\n",
    "    scores_lr = lr_clf.score(x_test, y_test)\n",
    "    precision_lr = metrics.precision_score(y_true, y_pred, average='macro')\n",
    "    recall_lr = metrics.recall_score(y_true, y_pred, average='micro')\n",
    "    f1_score_lr = metrics.f1_score(y_true, y_pred, average='weighted')\n",
    "    print('accuracy is:', scores_lr)\n",
    "    print('precision is:', precision_lr)\n",
    "    print('recall is:', recall_lr)\n",
    "    print('f1_score is:', f1_score_lr)\n",
    "    metrics.confusion_matrix(y_true, y_pred)"
   ]
  },
  {
   "cell_type": "markdown",
   "metadata": {},
   "source": [
    "# KNN Classifier"
   ]
  },
  {
   "cell_type": "code",
   "execution_count": 8,
   "metadata": {},
   "outputs": [],
   "source": [
    "def KNN(data, label):\n",
    "    K.clear_session()\n",
    "    x_train, x_test, y_train, y_test = train_test_split(data, label, test_size=0.33, random_state=42)\n",
    "    scaler = StandardScaler()\n",
    "    scaler.fit(x_train)\n",
    "    x_train = scaler.transform(x_train)\n",
    "    x_test = scaler.transform(x_test)\n",
    "    neigh_clf = KNeighborsClassifier(n_neighbors=2)\n",
    "    neigh_clf.fit(x_train, y_train)\n",
    "    y_pred = neigh_clf.predict(x_test)\n",
    "    y_true = y_test\n",
    "\n",
    "    scores_neigh = neigh_clf.score(x_test, y_test)\n",
    "    precision_neigh = metrics.precision_score(y_true, y_pred, average='macro')\n",
    "    recall_neigh = metrics.recall_score(y_true, y_pred, average='micro')\n",
    "    f1_score_neigh = metrics.f1_score(y_true, y_pred, average='weighted')\n",
    "    print('accuracy is:', scores_neigh)\n",
    "    print('precision is:', precision_neigh)\n",
    "    print('recall is:', recall_neigh)\n",
    "    print('f1_score is:', f1_score_neigh)\n",
    "    metrics.confusion_matrix(y_true, y_pred)"
   ]
  },
  {
   "cell_type": "markdown",
   "metadata": {},
   "source": [
    "# SVM Classifier"
   ]
  },
  {
   "cell_type": "code",
   "execution_count": 9,
   "metadata": {},
   "outputs": [],
   "source": [
    "def SVM(data, label):\n",
    "    x_train, x_test, y_train, y_test = train_test_split(\n",
    "    data, label, test_size=0.33, random_state=42)\n",
    "    svm_clf = SVC(C=10, kernel='rbf')\n",
    "    svm_clf.fit(x_train, y_train)\n",
    "    y_pred = svm_clf.predict(x_test)\n",
    "    y_pred_train = svm_clf.predict(x_train)\n",
    "    y_true = y_test\n",
    "\n",
    "    scores_svm_train = svm_clf.score(x_train, y_train)\n",
    "    precision_svm_train = metrics.precision_score(y_train, y_pred_train, average='macro')\n",
    "    recall_svm_train = metrics.recall_score(y_train, y_pred_train, average='micro')\n",
    "    f1_score_svm_train = metrics.f1_score(y_train, y_pred_train, average='weighted')\n",
    "    print('accuracy is:', scores_svm_train)\n",
    "    print('precision is:', precision_svm_train)\n",
    "    print('recall is:', precision_svm_train)\n",
    "    print('f1_score is:', f1_score_svm_train)\n",
    "    metrics.confusion_matrix(y_true, y_pred)\n"
   ]
  },
  {
   "cell_type": "code",
   "execution_count": 10,
   "metadata": {},
   "outputs": [
    {
     "name": "stdout",
     "output_type": "stream",
     "text": [
      "Filtered data\n",
      "accuracy is: 0.6505050505050505\n",
      "precision is: 0.6490383236134278\n",
      "recall is: 0.6505050505050505\n",
      "f1_score is: 0.6505050505050505\n",
      "\n",
      "ICA filtered data\n",
      "accuracy is: 0.6474747474747474\n",
      "precision is: 0.6458736907771612\n",
      "recall is: 0.6474747474747474\n",
      "f1_score is: 0.647350051125969\n"
     ]
    }
   ],
   "source": [
    "print('Filtered data')\n",
    "LinearRegression(data,label)\n",
    "print('\\nICA filtered data')\n",
    "LinearRegression(data_ica,label)"
   ]
  },
  {
   "cell_type": "code",
   "execution_count": 11,
   "metadata": {},
   "outputs": [
    {
     "name": "stdout",
     "output_type": "stream",
     "text": [
      "Filtered data\n",
      "accuracy is: 0.6161616161616161\n",
      "precision is: 0.634022736611423\n",
      "recall is: 0.6161616161616161\n",
      "f1_score is: 0.5899596648717212\n",
      "\n",
      "ICA filtered data\n",
      "accuracy is: 0.5707070707070707\n",
      "precision is: 0.5724594594594594\n",
      "recall is: 0.5707070707070707\n",
      "f1_score is: 0.5426690751092353\n"
     ]
    }
   ],
   "source": [
    "print('Filtered data')\n",
    "KNN(data,label)\n",
    "print('\\nICA filtered data')\n",
    "KNN(data_ica,label)"
   ]
  },
  {
   "cell_type": "code",
   "execution_count": 12,
   "metadata": {},
   "outputs": [
    {
     "name": "stdout",
     "output_type": "stream",
     "text": [
      "Filtered data\n",
      "accuracy is: 0.8009950248756219\n",
      "precision is: 0.8017411274654813\n",
      "recall is: 0.8017411274654813\n",
      "f1_score is: 0.8006208232559378\n",
      "\n",
      "ICA filtered data\n",
      "accuracy is: 0.7442786069651741\n",
      "precision is: 0.7483465987173614\n",
      "recall is: 0.7483465987173614\n",
      "f1_score is: 0.7423439799870053\n"
     ]
    }
   ],
   "source": [
    "print('Filtered data')\n",
    "SVM(data,label)\n",
    "print('\\nICA filtered data')\n",
    "SVM(data_ica,label)"
   ]
  },
  {
   "cell_type": "markdown",
   "metadata": {},
   "source": [
    "# Neural Network"
   ]
  },
  {
   "cell_type": "code",
   "execution_count": 13,
   "metadata": {},
   "outputs": [],
   "source": [
    "K.clear_session()\n",
    "y_v = label\n",
    "y_v = to_categorical(y_v, num_classes)\n",
    "x_train, x_test, y_train, y_test = train_test_split(data_ica, y_v, test_size=0.2, random_state=1)\n",
    "x_train, x_val, y_train, y_val = train_test_split(x_train, y_train, test_size=0.25, random_state=1)"
   ]
  },
  {
   "cell_type": "code",
   "execution_count": 14,
   "metadata": {},
   "outputs": [],
   "source": [
    "def model_builder(hp):\n",
    "    model = keras.models.Sequential()\n",
    "    model.add(keras.Input(shape=(x_train.shape[1],)))\n",
    "\n",
    "    for i in range(hp.Int('layers', 2, 6)):\n",
    "      model.add(keras.layers.Dense(units=hp.Int('units_' + str(i), 32, 1024, step=32),\n",
    "                                    activation=hp.Choice('act_' + str(i), ['relu', 'sigmoid'])))\n",
    "\n",
    "    model.add(keras.layers.Dense(num_classes, activation='softmax', name='out'))\n",
    "    \n",
    "    hp_learning_rate = hp.Choice('learning_rate', values=[1e-2, 1e-3, 1e-4])\n",
    "\n",
    "    model.compile(optimizer=keras.optimizers.adam_v2.Adam(learning_rate=hp_learning_rate),\n",
    "                loss = \"binary_crossentropy\",\n",
    "                metrics=['accuracy'])\n",
    "    return model"
   ]
  },
  {
   "cell_type": "code",
   "execution_count": 15,
   "metadata": {},
   "outputs": [
    {
     "name": "stderr",
     "output_type": "stream",
     "text": [
      "2022-11-08 22:27:31.053636: W tensorflow/stream_executor/platform/default/dso_loader.cc:64] Could not load dynamic library 'libcuda.so.1'; dlerror: libcuda.so.1: cannot open shared object file: No such file or directory\n",
      "2022-11-08 22:27:31.054175: W tensorflow/stream_executor/cuda/cuda_driver.cc:263] failed call to cuInit: UNKNOWN ERROR (303)\n",
      "2022-11-08 22:27:31.055121: I tensorflow/stream_executor/cuda/cuda_diagnostics.cc:156] kernel driver does not appear to be running on this host (herman-MacBookAir): /proc/driver/nvidia/version does not exist\n"
     ]
    }
   ],
   "source": [
    "tuner = RandomSearch(\n",
    "    model_builder,\n",
    "    objective = 'val_accuracy',\n",
    "    max_trials = 5,\n",
    "    executions_per_trial = 2,\n",
    "    overwrite=True\n",
    ")"
   ]
  },
  {
   "cell_type": "code",
   "execution_count": 16,
   "metadata": {},
   "outputs": [
    {
     "name": "stdout",
     "output_type": "stream",
     "text": [
      "Search space summary\n",
      "Default search space size: 6\n",
      "layers (Int)\n",
      "{'default': None, 'conditions': [], 'min_value': 2, 'max_value': 6, 'step': 1, 'sampling': None}\n",
      "units_0 (Int)\n",
      "{'default': None, 'conditions': [], 'min_value': 32, 'max_value': 1024, 'step': 32, 'sampling': None}\n",
      "act_0 (Choice)\n",
      "{'default': 'relu', 'conditions': [], 'values': ['relu', 'sigmoid'], 'ordered': False}\n",
      "units_1 (Int)\n",
      "{'default': None, 'conditions': [], 'min_value': 32, 'max_value': 1024, 'step': 32, 'sampling': None}\n",
      "act_1 (Choice)\n",
      "{'default': 'relu', 'conditions': [], 'values': ['relu', 'sigmoid'], 'ordered': False}\n",
      "learning_rate (Choice)\n",
      "{'default': 0.01, 'conditions': [], 'values': [0.01, 0.001, 0.0001], 'ordered': True}\n"
     ]
    }
   ],
   "source": [
    "tuner.search_space_summary()"
   ]
  },
  {
   "cell_type": "code",
   "execution_count": 17,
   "metadata": {},
   "outputs": [
    {
     "name": "stdout",
     "output_type": "stream",
     "text": [
      "Trial 5 Complete [00h 02m 23s]\n",
      "val_accuracy: 0.8183333277702332\n",
      "\n",
      "Best val_accuracy So Far: 0.8183333277702332\n",
      "Total elapsed time: 00h 09m 07s\n",
      "INFO:tensorflow:Oracle triggered exit\n"
     ]
    }
   ],
   "source": [
    "tuner.search(x_train, y_train, epochs = 50, validation_data= [x_val, y_val])"
   ]
  },
  {
   "cell_type": "code",
   "execution_count": 18,
   "metadata": {},
   "outputs": [],
   "source": [
    "model = tuner.get_best_models(num_models=1)[0]"
   ]
  },
  {
   "cell_type": "code",
   "execution_count": 19,
   "metadata": {},
   "outputs": [
    {
     "name": "stdout",
     "output_type": "stream",
     "text": [
      "19/19 [==============================] - 0s 8ms/step\n"
     ]
    }
   ],
   "source": [
    "y_pred = model.predict(x_test)\n",
    "y_true = y_test\n",
    "y_pred = np.argmax(y_pred, axis=1)\n",
    "y_true = np.argmax(y_true, axis=1)"
   ]
  },
  {
   "cell_type": "code",
   "execution_count": 20,
   "metadata": {},
   "outputs": [
    {
     "name": "stdout",
     "output_type": "stream",
     "text": [
      "accuracy is: 0.8333333134651184\n",
      "precision is: 0.8337315921089192\n",
      "recall is: 0.8333333333333334\n",
      "f1_score is: 0.8333777822226667\n"
     ]
    },
    {
     "data": {
      "text/plain": [
       "array([[253,  58],\n",
       "       [ 42, 247]])"
      ]
     },
     "execution_count": 20,
     "metadata": {},
     "output_type": "execute_result"
    }
   ],
   "source": [
    "scores_dnn = model.evaluate(x_test, y_test, verbose=0)\n",
    "precision_dnn = metrics.precision_score(y_true, y_pred, average='macro')\n",
    "recall_dnn = metrics.recall_score(y_true, y_pred, average='micro')\n",
    "f1_score_dnn = metrics.f1_score(y_true, y_pred, average='weighted')\n",
    "print('accuracy is:', scores_dnn[1])\n",
    "print('precision is:', precision_dnn)\n",
    "print('recall is:', recall_dnn)\n",
    "print('f1_score is:', f1_score_dnn)\n",
    "metrics.confusion_matrix(y_true, y_pred)"
   ]
  },
  {
   "cell_type": "code",
   "execution_count": null,
   "metadata": {},
   "outputs": [],
   "source": []
  }
 ],
 "metadata": {
  "kernelspec": {
   "display_name": "Python 3.10.6 ('MachineLearning')",
   "language": "python",
   "name": "python3"
  },
  "language_info": {
   "codemirror_mode": {
    "name": "ipython",
    "version": 3
   },
   "file_extension": ".py",
   "mimetype": "text/x-python",
   "name": "python",
   "nbconvert_exporter": "python",
   "pygments_lexer": "ipython3",
   "version": "3.10.6"
  },
  "orig_nbformat": 4,
  "vscode": {
   "interpreter": {
    "hash": "964ed0c09d1c288d595edf217a23a2be9cfe7373c12a8e4cb1b98811cee80b55"
   }
  }
 },
 "nbformat": 4,
 "nbformat_minor": 2
}
