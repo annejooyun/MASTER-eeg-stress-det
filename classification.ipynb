{
 "cells": [
  {
   "cell_type": "code",
   "execution_count": 1,
   "metadata": {},
   "outputs": [],
   "source": [
    "import numpy as np\n",
    "import pandas as pd\n"
   ]
  },
  {
   "cell_type": "code",
   "execution_count": 2,
   "metadata": {},
   "outputs": [],
   "source": [
    "from dataset import load_dataset, load_labels, convert_to_epochs, load_channels\n",
    "from features import time_series_features, nonlinear_features, entropy_features, hjorth_features, freq_band_features\n",
    "from classifiers import LR, KNN, SVM, NN\n",
    "import variables as v"
   ]
  },
  {
   "cell_type": "code",
   "execution_count": 3,
   "metadata": {},
   "outputs": [],
   "source": [
    "#Filtered from SAM40\n",
    "dataset_ = load_dataset(data_type=\"filtered\", test_type=\"Arithmetic\")\n",
    "dataset = convert_to_epochs(dataset_, v.NUM_CHANNELS, v.SFREQ)\n",
    "\n",
    "#ICA filtered\n",
    "dataset_ica_ = load_dataset(data_type=\"ica1\", test_type=\"Arithmetic\")\n",
    "dataset_ica = convert_to_epochs(dataset_ica_, v.NUM_CHANNELS, v.SFREQ)\n",
    "\n",
    "#ICA filtered two times\n",
    "dataset_ica_2_ = load_dataset(data_type=\"ica2\", test_type=\"Arithmetic\")\n",
    "dataset_ica_2 = convert_to_epochs(dataset_ica_2_, v.NUM_CHANNELS, v.SFREQ)"
   ]
  },
  {
   "cell_type": "code",
   "execution_count": 4,
   "metadata": {},
   "outputs": [
    {
     "name": "stdout",
     "output_type": "stream",
     "text": [
      "(120, 25, 32, 128)\n",
      "(120, 25, 32, 128)\n",
      "(120, 25, 32, 128)\n"
     ]
    }
   ],
   "source": [
    "features = time_series_features(dataset, v.NUM_CHANNELS)\n",
    "features_ica = time_series_features(dataset_ica, v.NUM_CHANNELS)\n",
    "features_ica_2 = time_series_features(dataset_ica_2, v.NUM_CHANNELS)\n",
    "# freq_bands = np.array([1, 4, 8, 13, 31, 50])\n",
    "# features = freq_band_features(dataset, channels, sfreq, freq_bands)\n",
    "# features = nonlinear_features(dataset, channels)\n",
    "# features = hjorth_features(dataset, channels, sfreq)\n",
    "# features = entropy_features(dataset, channels, sfreq)\n",
    "data = features\n",
    "data_ica = features_ica\n",
    "data_ica_2 = features_ica_2"
   ]
  },
  {
   "cell_type": "code",
   "execution_count": 5,
   "metadata": {},
   "outputs": [],
   "source": [
    "labels = load_labels()\n",
    "label = pd.concat([labels['t1_math'], labels['t2_math'],\n",
    "                  labels['t3_math']]).to_numpy()\n",
    "label = label.repeat(dataset.shape[1])"
   ]
  },
  {
   "cell_type": "markdown",
   "metadata": {},
   "source": [
    "### Linear Regression"
   ]
  },
  {
   "cell_type": "code",
   "execution_count": 7,
   "metadata": {},
   "outputs": [
    {
     "name": "stdout",
     "output_type": "stream",
     "text": [
      "Filtered data\n",
      "              precision    recall  f1-score   support\n",
      "\n",
      "       False       0.71      0.69      0.70       527\n",
      "        True       0.66      0.67      0.66       463\n",
      "\n",
      "    accuracy                           0.68       990\n",
      "   macro avg       0.68      0.68      0.68       990\n",
      "weighted avg       0.68      0.68      0.68       990\n",
      "\n",
      "\n",
      " Confusion matrix:\n",
      "[[364 163]\n",
      " [152 311]]\n",
      "\n",
      " Sensitivity: 0.7054263565891473\n",
      "\n",
      " Specificity: 0.6561181434599156\n",
      "\n",
      "ICA filtered data\n",
      "              precision    recall  f1-score   support\n",
      "\n",
      "       False       0.62      0.60      0.61       527\n",
      "        True       0.56      0.58      0.57       463\n",
      "\n",
      "    accuracy                           0.59       990\n",
      "   macro avg       0.59      0.59      0.59       990\n",
      "weighted avg       0.59      0.59      0.59       990\n",
      "\n",
      "\n",
      " Confusion matrix:\n",
      "[[314 213]\n",
      " [193 270]]\n",
      "\n",
      " Sensitivity: 0.6193293885601578\n",
      "\n",
      " Specificity: 0.5590062111801242\n",
      "\n",
      "ICA filtered data round 2\n",
      "              precision    recall  f1-score   support\n",
      "\n",
      "       False       0.66      0.67      0.66       527\n",
      "        True       0.62      0.61      0.61       463\n",
      "\n",
      "    accuracy                           0.64       990\n",
      "   macro avg       0.64      0.64      0.64       990\n",
      "weighted avg       0.64      0.64      0.64       990\n",
      "\n",
      "\n",
      " Confusion matrix:\n",
      "[[351 176]\n",
      " [181 282]]\n",
      "\n",
      " Sensitivity: 0.6597744360902256\n",
      "\n",
      " Specificity: 0.6157205240174672\n"
     ]
    }
   ],
   "source": [
    "print('Filtered data')\n",
    "LR(data,label)\n",
    "print('\\nICA filtered data')\n",
    "LR(data_ica,label)\n",
    "print('\\nICA filtered data round 2')\n",
    "LR(data_ica_2,label)"
   ]
  },
  {
   "cell_type": "markdown",
   "metadata": {},
   "source": [
    "### KNN"
   ]
  },
  {
   "cell_type": "code",
   "execution_count": 7,
   "metadata": {},
   "outputs": [
    {
     "name": "stdout",
     "output_type": "stream",
     "text": [
      "Filtered data\n",
      "              precision    recall  f1-score   support\n",
      "\n",
      "       False       0.79      0.77      0.78       311\n",
      "        True       0.76      0.78      0.77       289\n",
      "\n",
      "    accuracy                           0.78       600\n",
      "   macro avg       0.77      0.78      0.77       600\n",
      "weighted avg       0.78      0.78      0.78       600\n",
      "\n",
      "\n",
      " Confusion matrix:\n",
      "[[241  70]\n",
      " [ 65 224]]\n",
      "\n",
      " Sensitivity: 0.7875816993464052\n",
      "\n",
      " Specificity: 0.7619047619047619\n",
      "\n",
      "ICA filtered data\n",
      "              precision    recall  f1-score   support\n",
      "\n",
      "       False       0.63      0.65      0.64       311\n",
      "        True       0.61      0.59      0.60       289\n",
      "\n",
      "    accuracy                           0.62       600\n",
      "   macro avg       0.62      0.62      0.62       600\n",
      "weighted avg       0.62      0.62      0.62       600\n",
      "\n",
      "\n",
      " Confusion matrix:\n",
      "[[202 109]\n",
      " [118 171]]\n",
      "\n",
      " Sensitivity: 0.63125\n",
      "\n",
      " Specificity: 0.6107142857142858\n",
      "\n",
      "ICA filtered data round 2\n",
      "              precision    recall  f1-score   support\n",
      "\n",
      "       False       0.69      0.73      0.71       311\n",
      "        True       0.69      0.64      0.66       289\n",
      "\n",
      "    accuracy                           0.69       600\n",
      "   macro avg       0.69      0.69      0.69       600\n",
      "weighted avg       0.69      0.69      0.69       600\n",
      "\n",
      "\n",
      " Confusion matrix:\n",
      "[[228  83]\n",
      " [104 185]]\n",
      "\n",
      " Sensitivity: 0.6867469879518072\n",
      "\n",
      " Specificity: 0.6902985074626866\n"
     ]
    }
   ],
   "source": [
    "print('Filtered data')\n",
    "KNN(data,label)\n",
    "print('\\nICA filtered data')\n",
    "KNN(data_ica,label)\n",
    "print('\\nICA filtered data round 2')\n",
    "KNN(data_ica_2,label)"
   ]
  },
  {
   "cell_type": "markdown",
   "metadata": {},
   "source": [
    "### SVM"
   ]
  },
  {
   "cell_type": "code",
   "execution_count": 8,
   "metadata": {},
   "outputs": [
    {
     "name": "stdout",
     "output_type": "stream",
     "text": [
      "Filtered data\n",
      "              precision    recall  f1-score   support\n",
      "\n",
      "       False       0.97      0.95      0.96       311\n",
      "        True       0.95      0.97      0.96       289\n",
      "\n",
      "    accuracy                           0.96       600\n",
      "   macro avg       0.96      0.96      0.96       600\n",
      "weighted avg       0.96      0.96      0.96       600\n",
      "\n",
      "\n",
      " Confusion matrix:\n",
      "[[296  15]\n",
      " [ 10 279]]\n",
      "\n",
      " Sensitivity: 0.9673202614379085\n",
      "\n",
      " Specificity: 0.9489795918367347\n",
      "\n",
      "ICA filtered data\n",
      "              precision    recall  f1-score   support\n",
      "\n",
      "       False       0.70      0.84      0.76       311\n",
      "        True       0.78      0.61      0.68       289\n",
      "\n",
      "    accuracy                           0.73       600\n",
      "   macro avg       0.74      0.73      0.72       600\n",
      "weighted avg       0.74      0.73      0.73       600\n",
      "\n",
      "\n",
      " Confusion matrix:\n",
      "[[262  49]\n",
      " [113 176]]\n",
      "\n",
      " Sensitivity: 0.6986666666666667\n",
      "\n",
      " Specificity: 0.7822222222222223\n",
      "\n",
      "ICA filtered data round 2\n",
      "              precision    recall  f1-score   support\n",
      "\n",
      "       False       0.88      0.92      0.90       311\n",
      "        True       0.91      0.87      0.89       289\n",
      "\n",
      "    accuracy                           0.89       600\n",
      "   macro avg       0.89      0.89      0.89       600\n",
      "weighted avg       0.89      0.89      0.89       600\n",
      "\n",
      "\n",
      " Confusion matrix:\n",
      "[[286  25]\n",
      " [ 39 250]]\n",
      "\n",
      " Sensitivity: 0.88\n",
      "\n",
      " Specificity: 0.9090909090909091\n"
     ]
    }
   ],
   "source": [
    "print('Filtered data')\n",
    "SVM(data,label)\n",
    "print('\\nICA filtered data')\n",
    "SVM(data_ica,label)\n",
    "print('\\nICA filtered data round 2')\n",
    "SVM(data_ica_2,label)"
   ]
  },
  {
   "cell_type": "markdown",
   "metadata": {},
   "source": [
    "# Neural Network"
   ]
  },
  {
   "cell_type": "code",
   "execution_count": 6,
   "metadata": {},
   "outputs": [
    {
     "name": "stdout",
     "output_type": "stream",
     "text": [
      "Trial 2 Complete [00h 00m 16s]\n",
      "val_accuracy: 0.6525000035762787\n",
      "\n",
      "Best val_accuracy So Far: 0.6525000035762787\n",
      "Total elapsed time: 00h 00m 38s\n",
      "\n",
      "Search: Running Trial #3\n",
      "\n",
      "Value             |Best Value So Far |Hyperparameter\n",
      "4                 |4                 |layers\n",
      "864               |32                |units_0\n",
      "sigmoid           |relu              |act_0\n",
      "0.0001            |0.0001            |learning_rate\n",
      "\n",
      "Epoch 1/50\n",
      "57/57 [==============================] - 1s 7ms/step - loss: 0.6714 - accuracy: 0.5867 - val_loss: 0.6433 - val_accuracy: 0.6550\n",
      "Epoch 2/50\n",
      "57/57 [==============================] - 0s 4ms/step - loss: 0.6327 - accuracy: 0.6722 - val_loss: 0.6158 - val_accuracy: 0.7167\n",
      "Epoch 3/50\n",
      "57/57 [==============================] - 0s 3ms/step - loss: 0.6113 - accuracy: 0.7239 - val_loss: 0.6123 - val_accuracy: 0.6933\n",
      "Epoch 4/50\n",
      "57/57 [==============================] - 0s 4ms/step - loss: 0.6002 - accuracy: 0.7217 - val_loss: 0.5934 - val_accuracy: 0.7467\n",
      "Epoch 5/50\n",
      "57/57 [==============================] - 0s 3ms/step - loss: 0.5938 - accuracy: 0.7328 - val_loss: 0.5868 - val_accuracy: 0.7300\n",
      "Epoch 6/50\n",
      "57/57 [==============================] - 0s 4ms/step - loss: 0.5789 - accuracy: 0.7594 - val_loss: 0.5783 - val_accuracy: 0.7483\n",
      "Epoch 7/50\n",
      "57/57 [==============================] - 0s 3ms/step - loss: 0.5717 - accuracy: 0.7467 - val_loss: 0.5718 - val_accuracy: 0.7467\n",
      "Epoch 8/50\n",
      "57/57 [==============================] - 0s 4ms/step - loss: 0.5672 - accuracy: 0.7583 - val_loss: 0.5652 - val_accuracy: 0.7583\n",
      "Epoch 9/50\n",
      "57/57 [==============================] - 0s 3ms/step - loss: 0.5593 - accuracy: 0.7528 - val_loss: 0.5590 - val_accuracy: 0.7517\n",
      "Epoch 10/50\n",
      "57/57 [==============================] - 0s 3ms/step - loss: 0.5511 - accuracy: 0.7672 - val_loss: 0.5530 - val_accuracy: 0.7517\n",
      "Epoch 11/50\n",
      "57/57 [==============================] - 0s 3ms/step - loss: 0.5426 - accuracy: 0.7706 - val_loss: 0.5500 - val_accuracy: 0.7467\n",
      "Epoch 12/50\n",
      "57/57 [==============================] - 0s 4ms/step - loss: 0.5372 - accuracy: 0.7628 - val_loss: 0.5425 - val_accuracy: 0.7583\n",
      "Epoch 13/50\n",
      "57/57 [==============================] - 0s 4ms/step - loss: 0.5287 - accuracy: 0.7844 - val_loss: 0.5341 - val_accuracy: 0.7700\n",
      "Epoch 14/50\n",
      "57/57 [==============================] - 0s 3ms/step - loss: 0.5237 - accuracy: 0.7922 - val_loss: 0.5673 - val_accuracy: 0.6833\n",
      "Epoch 15/50\n",
      "57/57 [==============================] - 0s 4ms/step - loss: 0.5145 - accuracy: 0.7922 - val_loss: 0.5240 - val_accuracy: 0.7733\n",
      "Epoch 16/50\n",
      "57/57 [==============================] - 0s 4ms/step - loss: 0.5077 - accuracy: 0.8044 - val_loss: 0.5181 - val_accuracy: 0.7867\n",
      "Epoch 17/50\n",
      "57/57 [==============================] - 0s 3ms/step - loss: 0.5000 - accuracy: 0.8089 - val_loss: 0.5123 - val_accuracy: 0.7717\n",
      "Epoch 18/50\n",
      "57/57 [==============================] - 0s 3ms/step - loss: 0.4951 - accuracy: 0.8033 - val_loss: 0.5060 - val_accuracy: 0.7817\n",
      "Epoch 19/50\n",
      "57/57 [==============================] - 0s 3ms/step - loss: 0.4888 - accuracy: 0.8078 - val_loss: 0.5023 - val_accuracy: 0.7817\n",
      "Epoch 20/50\n",
      "57/57 [==============================] - 0s 4ms/step - loss: 0.4809 - accuracy: 0.8144 - val_loss: 0.5009 - val_accuracy: 0.7850\n",
      "Epoch 21/50\n",
      "57/57 [==============================] - 0s 3ms/step - loss: 0.4743 - accuracy: 0.8150 - val_loss: 0.5046 - val_accuracy: 0.7783\n",
      "Epoch 22/50\n",
      "57/57 [==============================] - 0s 3ms/step - loss: 0.4702 - accuracy: 0.8167 - val_loss: 0.4970 - val_accuracy: 0.7867\n",
      "Epoch 23/50\n",
      "57/57 [==============================] - 0s 3ms/step - loss: 0.4656 - accuracy: 0.8206 - val_loss: 0.4930 - val_accuracy: 0.7750\n",
      "Epoch 24/50\n",
      "57/57 [==============================] - 0s 4ms/step - loss: 0.4621 - accuracy: 0.8272 - val_loss: 0.4777 - val_accuracy: 0.8017\n",
      "Epoch 25/50\n",
      "57/57 [==============================] - 0s 3ms/step - loss: 0.4549 - accuracy: 0.8217 - val_loss: 0.4723 - val_accuracy: 0.8000\n",
      "Epoch 26/50\n",
      "57/57 [==============================] - 0s 3ms/step - loss: 0.4457 - accuracy: 0.8300 - val_loss: 0.4952 - val_accuracy: 0.7667\n",
      "Epoch 27/50\n",
      "57/57 [==============================] - 0s 3ms/step - loss: 0.4493 - accuracy: 0.8239 - val_loss: 0.4716 - val_accuracy: 0.8000\n",
      "Epoch 28/50\n",
      "57/57 [==============================] - 0s 3ms/step - loss: 0.4364 - accuracy: 0.8306 - val_loss: 0.4772 - val_accuracy: 0.7733\n",
      "Epoch 29/50\n",
      "57/57 [==============================] - 0s 3ms/step - loss: 0.4334 - accuracy: 0.8317 - val_loss: 0.4569 - val_accuracy: 0.8000\n",
      "Epoch 30/50\n",
      "57/57 [==============================] - 0s 3ms/step - loss: 0.4269 - accuracy: 0.8422 - val_loss: 0.4542 - val_accuracy: 0.8017\n",
      "Epoch 31/50\n",
      "57/57 [==============================] - 0s 3ms/step - loss: 0.4239 - accuracy: 0.8433 - val_loss: 0.4529 - val_accuracy: 0.8100\n",
      "Epoch 32/50\n",
      "29/57 [==============>...............] - ETA: 0s - loss: 0.4209 - accuracy: 0.8341"
     ]
    },
    {
     "ename": "FailedPreconditionError",
     "evalue": "Failed to rename: .\\untitled_project\\trial_2\\checkpoint_temp/part-00000-of-00001.data-00000-of-00001 to: .\\untitled_project\\trial_2\\checkpoint.data-00000-of-00001 : Prosessen får ikke tilgang til filen fordi den brukes av en annen prosess.\r\n; Broken pipe [Op:MergeV2Checkpoints]",
     "output_type": "error",
     "traceback": [
      "\u001b[1;31m---------------------------------------------------------------------------\u001b[0m",
      "\u001b[1;31mFailedPreconditionError\u001b[0m                   Traceback (most recent call last)",
      "\u001b[1;32m~\\AppData\\Local\\Temp\\ipykernel_27404\\2532816389.py\u001b[0m in \u001b[0;36m<cell line: 2>\u001b[1;34m()\u001b[0m\n\u001b[0;32m      1\u001b[0m \u001b[0mprint\u001b[0m\u001b[1;33m(\u001b[0m\u001b[1;34m'Filtered data'\u001b[0m\u001b[1;33m)\u001b[0m\u001b[1;33m\u001b[0m\u001b[1;33m\u001b[0m\u001b[0m\n\u001b[1;32m----> 2\u001b[1;33m \u001b[0mNN\u001b[0m\u001b[1;33m(\u001b[0m\u001b[0mdata\u001b[0m\u001b[1;33m,\u001b[0m\u001b[0mlabel\u001b[0m\u001b[1;33m)\u001b[0m\u001b[1;33m\u001b[0m\u001b[1;33m\u001b[0m\u001b[0m\n\u001b[0m\u001b[0;32m      3\u001b[0m \u001b[0mprint\u001b[0m\u001b[1;33m(\u001b[0m\u001b[1;34m'\\nICA filtered data'\u001b[0m\u001b[1;33m)\u001b[0m\u001b[1;33m\u001b[0m\u001b[1;33m\u001b[0m\u001b[0m\n\u001b[0;32m      4\u001b[0m \u001b[0mNN\u001b[0m\u001b[1;33m(\u001b[0m\u001b[0mdata_ica\u001b[0m\u001b[1;33m,\u001b[0m\u001b[0mlabel\u001b[0m\u001b[1;33m)\u001b[0m\u001b[1;33m\u001b[0m\u001b[1;33m\u001b[0m\u001b[0m\n\u001b[0;32m      5\u001b[0m \u001b[0mprint\u001b[0m\u001b[1;33m(\u001b[0m\u001b[1;34m'\\nICA filtered data round 2'\u001b[0m\u001b[1;33m)\u001b[0m\u001b[1;33m\u001b[0m\u001b[1;33m\u001b[0m\u001b[0m\n",
      "\u001b[1;32mc:\\Users\\annej\\OneDrive\\Documents\\GitHub\\eeg_stress_detection\\classifiers.py\u001b[0m in \u001b[0;36mNN\u001b[1;34m(data, label)\u001b[0m\n\u001b[0;32m    118\u001b[0m     \u001b[0mtuner\u001b[0m\u001b[1;33m.\u001b[0m\u001b[0msearch_space_summary\u001b[0m\u001b[1;33m(\u001b[0m\u001b[1;33m)\u001b[0m\u001b[1;33m\u001b[0m\u001b[1;33m\u001b[0m\u001b[0m\n\u001b[0;32m    119\u001b[0m \u001b[1;33m\u001b[0m\u001b[0m\n\u001b[1;32m--> 120\u001b[1;33m     \u001b[0mtuner\u001b[0m\u001b[1;33m.\u001b[0m\u001b[0msearch\u001b[0m\u001b[1;33m(\u001b[0m\u001b[0mx_train\u001b[0m\u001b[1;33m,\u001b[0m \u001b[0my_train\u001b[0m\u001b[1;33m,\u001b[0m \u001b[0mepochs\u001b[0m \u001b[1;33m=\u001b[0m \u001b[1;36m50\u001b[0m\u001b[1;33m,\u001b[0m \u001b[0mvalidation_data\u001b[0m\u001b[1;33m=\u001b[0m \u001b[1;33m[\u001b[0m\u001b[0mx_val\u001b[0m\u001b[1;33m,\u001b[0m \u001b[0my_val\u001b[0m\u001b[1;33m]\u001b[0m\u001b[1;33m)\u001b[0m\u001b[1;33m\u001b[0m\u001b[1;33m\u001b[0m\u001b[0m\n\u001b[0m\u001b[0;32m    121\u001b[0m \u001b[1;33m\u001b[0m\u001b[0m\n\u001b[0;32m    122\u001b[0m     \u001b[0mmodel\u001b[0m \u001b[1;33m=\u001b[0m \u001b[0mtuner\u001b[0m\u001b[1;33m.\u001b[0m\u001b[0mget_best_models\u001b[0m\u001b[1;33m(\u001b[0m\u001b[0mnum_models\u001b[0m\u001b[1;33m=\u001b[0m\u001b[1;36m1\u001b[0m\u001b[1;33m)\u001b[0m\u001b[1;33m[\u001b[0m\u001b[1;36m0\u001b[0m\u001b[1;33m]\u001b[0m\u001b[1;33m\u001b[0m\u001b[1;33m\u001b[0m\u001b[0m\n",
      "\u001b[1;32mc:\\Users\\annej\\anaconda3\\envs\\MachineLearning\\lib\\site-packages\\keras_tuner\\engine\\base_tuner.py\u001b[0m in \u001b[0;36msearch\u001b[1;34m(self, *fit_args, **fit_kwargs)\u001b[0m\n\u001b[0;32m    181\u001b[0m \u001b[1;33m\u001b[0m\u001b[0m\n\u001b[0;32m    182\u001b[0m             \u001b[0mself\u001b[0m\u001b[1;33m.\u001b[0m\u001b[0mon_trial_begin\u001b[0m\u001b[1;33m(\u001b[0m\u001b[0mtrial\u001b[0m\u001b[1;33m)\u001b[0m\u001b[1;33m\u001b[0m\u001b[1;33m\u001b[0m\u001b[0m\n\u001b[1;32m--> 183\u001b[1;33m             \u001b[0mresults\u001b[0m \u001b[1;33m=\u001b[0m \u001b[0mself\u001b[0m\u001b[1;33m.\u001b[0m\u001b[0mrun_trial\u001b[0m\u001b[1;33m(\u001b[0m\u001b[0mtrial\u001b[0m\u001b[1;33m,\u001b[0m \u001b[1;33m*\u001b[0m\u001b[0mfit_args\u001b[0m\u001b[1;33m,\u001b[0m \u001b[1;33m**\u001b[0m\u001b[0mfit_kwargs\u001b[0m\u001b[1;33m)\u001b[0m\u001b[1;33m\u001b[0m\u001b[1;33m\u001b[0m\u001b[0m\n\u001b[0m\u001b[0;32m    184\u001b[0m             \u001b[1;31m# `results` is None indicates user updated oracle in `run_trial()`.\u001b[0m\u001b[1;33m\u001b[0m\u001b[1;33m\u001b[0m\u001b[0m\n\u001b[0;32m    185\u001b[0m             \u001b[1;32mif\u001b[0m \u001b[0mresults\u001b[0m \u001b[1;32mis\u001b[0m \u001b[1;32mNone\u001b[0m\u001b[1;33m:\u001b[0m\u001b[1;33m\u001b[0m\u001b[1;33m\u001b[0m\u001b[0m\n",
      "\u001b[1;32mc:\\Users\\annej\\anaconda3\\envs\\MachineLearning\\lib\\site-packages\\keras_tuner\\engine\\tuner.py\u001b[0m in \u001b[0;36mrun_trial\u001b[1;34m(self, trial, *args, **kwargs)\u001b[0m\n\u001b[0;32m    293\u001b[0m             \u001b[0mcallbacks\u001b[0m\u001b[1;33m.\u001b[0m\u001b[0mappend\u001b[0m\u001b[1;33m(\u001b[0m\u001b[0mmodel_checkpoint\u001b[0m\u001b[1;33m)\u001b[0m\u001b[1;33m\u001b[0m\u001b[1;33m\u001b[0m\u001b[0m\n\u001b[0;32m    294\u001b[0m             \u001b[0mcopied_kwargs\u001b[0m\u001b[1;33m[\u001b[0m\u001b[1;34m\"callbacks\"\u001b[0m\u001b[1;33m]\u001b[0m \u001b[1;33m=\u001b[0m \u001b[0mcallbacks\u001b[0m\u001b[1;33m\u001b[0m\u001b[1;33m\u001b[0m\u001b[0m\n\u001b[1;32m--> 295\u001b[1;33m             \u001b[0mobj_value\u001b[0m \u001b[1;33m=\u001b[0m \u001b[0mself\u001b[0m\u001b[1;33m.\u001b[0m\u001b[0m_build_and_fit_model\u001b[0m\u001b[1;33m(\u001b[0m\u001b[0mtrial\u001b[0m\u001b[1;33m,\u001b[0m \u001b[1;33m*\u001b[0m\u001b[0margs\u001b[0m\u001b[1;33m,\u001b[0m \u001b[1;33m**\u001b[0m\u001b[0mcopied_kwargs\u001b[0m\u001b[1;33m)\u001b[0m\u001b[1;33m\u001b[0m\u001b[1;33m\u001b[0m\u001b[0m\n\u001b[0m\u001b[0;32m    296\u001b[0m \u001b[1;33m\u001b[0m\u001b[0m\n\u001b[0;32m    297\u001b[0m             \u001b[0mhistories\u001b[0m\u001b[1;33m.\u001b[0m\u001b[0mappend\u001b[0m\u001b[1;33m(\u001b[0m\u001b[0mobj_value\u001b[0m\u001b[1;33m)\u001b[0m\u001b[1;33m\u001b[0m\u001b[1;33m\u001b[0m\u001b[0m\n",
      "\u001b[1;32mc:\\Users\\annej\\anaconda3\\envs\\MachineLearning\\lib\\site-packages\\keras_tuner\\engine\\tuner.py\u001b[0m in \u001b[0;36m_build_and_fit_model\u001b[1;34m(self, trial, *args, **kwargs)\u001b[0m\n\u001b[0;32m    220\u001b[0m         \u001b[0mhp\u001b[0m \u001b[1;33m=\u001b[0m \u001b[0mtrial\u001b[0m\u001b[1;33m.\u001b[0m\u001b[0mhyperparameters\u001b[0m\u001b[1;33m\u001b[0m\u001b[1;33m\u001b[0m\u001b[0m\n\u001b[0;32m    221\u001b[0m         \u001b[0mmodel\u001b[0m \u001b[1;33m=\u001b[0m \u001b[0mself\u001b[0m\u001b[1;33m.\u001b[0m\u001b[0m_try_build\u001b[0m\u001b[1;33m(\u001b[0m\u001b[0mhp\u001b[0m\u001b[1;33m)\u001b[0m\u001b[1;33m\u001b[0m\u001b[1;33m\u001b[0m\u001b[0m\n\u001b[1;32m--> 222\u001b[1;33m         \u001b[0mresults\u001b[0m \u001b[1;33m=\u001b[0m \u001b[0mself\u001b[0m\u001b[1;33m.\u001b[0m\u001b[0mhypermodel\u001b[0m\u001b[1;33m.\u001b[0m\u001b[0mfit\u001b[0m\u001b[1;33m(\u001b[0m\u001b[0mhp\u001b[0m\u001b[1;33m,\u001b[0m \u001b[0mmodel\u001b[0m\u001b[1;33m,\u001b[0m \u001b[1;33m*\u001b[0m\u001b[0margs\u001b[0m\u001b[1;33m,\u001b[0m \u001b[1;33m**\u001b[0m\u001b[0mkwargs\u001b[0m\u001b[1;33m)\u001b[0m\u001b[1;33m\u001b[0m\u001b[1;33m\u001b[0m\u001b[0m\n\u001b[0m\u001b[0;32m    223\u001b[0m         tuner_utils.validate_trial_results(\n\u001b[0;32m    224\u001b[0m             \u001b[0mresults\u001b[0m\u001b[1;33m,\u001b[0m \u001b[0mself\u001b[0m\u001b[1;33m.\u001b[0m\u001b[0moracle\u001b[0m\u001b[1;33m.\u001b[0m\u001b[0mobjective\u001b[0m\u001b[1;33m,\u001b[0m \u001b[1;34m\"HyperModel.fit()\"\u001b[0m\u001b[1;33m\u001b[0m\u001b[1;33m\u001b[0m\u001b[0m\n",
      "\u001b[1;32mc:\\Users\\annej\\anaconda3\\envs\\MachineLearning\\lib\\site-packages\\keras_tuner\\engine\\hypermodel.py\u001b[0m in \u001b[0;36mfit\u001b[1;34m(self, hp, model, *args, **kwargs)\u001b[0m\n\u001b[0;32m    138\u001b[0m             \u001b[0mIf\u001b[0m \u001b[1;32mreturn\u001b[0m \u001b[0ma\u001b[0m \u001b[0mfloat\u001b[0m\u001b[1;33m,\u001b[0m \u001b[0mit\u001b[0m \u001b[0mshould\u001b[0m \u001b[0mbe\u001b[0m \u001b[0mthe\u001b[0m\u001b[0;31m \u001b[0m\u001b[0;31m`\u001b[0m\u001b[0mobjective\u001b[0m\u001b[0;31m`\u001b[0m \u001b[0mvalue\u001b[0m\u001b[1;33m.\u001b[0m\u001b[1;33m\u001b[0m\u001b[1;33m\u001b[0m\u001b[0m\n\u001b[0;32m    139\u001b[0m         \"\"\"\n\u001b[1;32m--> 140\u001b[1;33m         \u001b[1;32mreturn\u001b[0m \u001b[0mmodel\u001b[0m\u001b[1;33m.\u001b[0m\u001b[0mfit\u001b[0m\u001b[1;33m(\u001b[0m\u001b[1;33m*\u001b[0m\u001b[0margs\u001b[0m\u001b[1;33m,\u001b[0m \u001b[1;33m**\u001b[0m\u001b[0mkwargs\u001b[0m\u001b[1;33m)\u001b[0m\u001b[1;33m\u001b[0m\u001b[1;33m\u001b[0m\u001b[0m\n\u001b[0m\u001b[0;32m    141\u001b[0m \u001b[1;33m\u001b[0m\u001b[0m\n\u001b[0;32m    142\u001b[0m \u001b[1;33m\u001b[0m\u001b[0m\n",
      "\u001b[1;32mc:\\Users\\annej\\anaconda3\\envs\\MachineLearning\\lib\\site-packages\\keras\\utils\\traceback_utils.py\u001b[0m in \u001b[0;36merror_handler\u001b[1;34m(*args, **kwargs)\u001b[0m\n\u001b[0;32m     65\u001b[0m     \u001b[1;32mexcept\u001b[0m \u001b[0mException\u001b[0m \u001b[1;32mas\u001b[0m \u001b[0me\u001b[0m\u001b[1;33m:\u001b[0m  \u001b[1;31m# pylint: disable=broad-except\u001b[0m\u001b[1;33m\u001b[0m\u001b[1;33m\u001b[0m\u001b[0m\n\u001b[0;32m     66\u001b[0m       \u001b[0mfiltered_tb\u001b[0m \u001b[1;33m=\u001b[0m \u001b[0m_process_traceback_frames\u001b[0m\u001b[1;33m(\u001b[0m\u001b[0me\u001b[0m\u001b[1;33m.\u001b[0m\u001b[0m__traceback__\u001b[0m\u001b[1;33m)\u001b[0m\u001b[1;33m\u001b[0m\u001b[1;33m\u001b[0m\u001b[0m\n\u001b[1;32m---> 67\u001b[1;33m       \u001b[1;32mraise\u001b[0m \u001b[0me\u001b[0m\u001b[1;33m.\u001b[0m\u001b[0mwith_traceback\u001b[0m\u001b[1;33m(\u001b[0m\u001b[0mfiltered_tb\u001b[0m\u001b[1;33m)\u001b[0m \u001b[1;32mfrom\u001b[0m \u001b[1;32mNone\u001b[0m\u001b[1;33m\u001b[0m\u001b[1;33m\u001b[0m\u001b[0m\n\u001b[0m\u001b[0;32m     68\u001b[0m     \u001b[1;32mfinally\u001b[0m\u001b[1;33m:\u001b[0m\u001b[1;33m\u001b[0m\u001b[1;33m\u001b[0m\u001b[0m\n\u001b[0;32m     69\u001b[0m       \u001b[1;32mdel\u001b[0m \u001b[0mfiltered_tb\u001b[0m\u001b[1;33m\u001b[0m\u001b[1;33m\u001b[0m\u001b[0m\n",
      "\u001b[1;32mc:\\Users\\annej\\anaconda3\\envs\\MachineLearning\\lib\\site-packages\\tensorflow\\python\\eager\\execute.py\u001b[0m in \u001b[0;36mquick_execute\u001b[1;34m(op_name, num_outputs, inputs, attrs, ctx, name)\u001b[0m\n\u001b[0;32m     52\u001b[0m   \u001b[1;32mtry\u001b[0m\u001b[1;33m:\u001b[0m\u001b[1;33m\u001b[0m\u001b[1;33m\u001b[0m\u001b[0m\n\u001b[0;32m     53\u001b[0m     \u001b[0mctx\u001b[0m\u001b[1;33m.\u001b[0m\u001b[0mensure_initialized\u001b[0m\u001b[1;33m(\u001b[0m\u001b[1;33m)\u001b[0m\u001b[1;33m\u001b[0m\u001b[1;33m\u001b[0m\u001b[0m\n\u001b[1;32m---> 54\u001b[1;33m     tensors = pywrap_tfe.TFE_Py_Execute(ctx._handle, device_name, op_name,\n\u001b[0m\u001b[0;32m     55\u001b[0m                                         inputs, attrs, num_outputs)\n\u001b[0;32m     56\u001b[0m   \u001b[1;32mexcept\u001b[0m \u001b[0mcore\u001b[0m\u001b[1;33m.\u001b[0m\u001b[0m_NotOkStatusException\u001b[0m \u001b[1;32mas\u001b[0m \u001b[0me\u001b[0m\u001b[1;33m:\u001b[0m\u001b[1;33m\u001b[0m\u001b[1;33m\u001b[0m\u001b[0m\n",
      "\u001b[1;31mFailedPreconditionError\u001b[0m: Failed to rename: .\\untitled_project\\trial_2\\checkpoint_temp/part-00000-of-00001.data-00000-of-00001 to: .\\untitled_project\\trial_2\\checkpoint.data-00000-of-00001 : Prosessen får ikke tilgang til filen fordi den brukes av en annen prosess.\r\n; Broken pipe [Op:MergeV2Checkpoints]"
     ]
    }
   ],
   "source": [
    "print('Filtered data')\n",
    "NN(data,label)\n",
    "print('\\nICA filtered data')\n",
    "NN(data_ica,label)\n",
    "print('\\nICA filtered data round 2')\n",
    "NN(data_ica_2,label)"
   ]
  }
 ],
 "metadata": {
  "kernelspec": {
   "display_name": "Python 3.10.6 ('MachineLearning')",
   "language": "python",
   "name": "python3"
  },
  "language_info": {
   "codemirror_mode": {
    "name": "ipython",
    "version": 3
   },
   "file_extension": ".py",
   "mimetype": "text/x-python",
   "name": "python",
   "nbconvert_exporter": "python",
   "pygments_lexer": "ipython3",
   "version": "3.10.6"
  },
  "orig_nbformat": 4,
  "vscode": {
   "interpreter": {
    "hash": "824278683c81e2d79923c12750dfea42912982f00ff363fc366281626f07813b"
   }
  }
 },
 "nbformat": 4,
 "nbformat_minor": 2
}
