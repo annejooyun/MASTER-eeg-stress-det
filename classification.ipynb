{
 "cells": [
  {
   "cell_type": "code",
   "execution_count": 1,
   "metadata": {},
   "outputs": [],
   "source": [
    "import numpy as np\n",
    "import pandas as pd\n"
   ]
  },
  {
   "cell_type": "code",
   "execution_count": 2,
   "metadata": {},
   "outputs": [],
   "source": [
    "from dataset import load_dataset, load_labels, convert_to_epochs, load_channels\n",
    "from features import time_series_features, fractal_features, entropy_features, hjorth_features, freq_band_features\n",
    "from classifiers import KNN, SVM, NN\n",
    "import variables as v"
   ]
  },
  {
   "cell_type": "code",
   "execution_count": 3,
   "metadata": {},
   "outputs": [],
   "source": [
    "#RAW\n",
    "dataset_RAW_ = load_dataset(data_type=\"raw\", test_type=\"Arithmetic\")\n",
    "dataset_RAW = convert_to_epochs(dataset_RAW_, v.NUM_CHANNELS, v.SFREQ)\n",
    "\n",
    "#WT filtered\n",
    "dataset_WT_ = load_dataset(data_type=\"filtered\", test_type=\"Arithmetic\")\n",
    "dataset_WT = convert_to_epochs(dataset_WT_, v.NUM_CHANNELS, v.SFREQ)\n",
    "\n",
    "#one-time ICA\n",
    "dataset_ICA_ = load_dataset(data_type=\"ica1\", test_type=\"Arithmetic\")\n",
    "dataset_ICA = convert_to_epochs(dataset_ICA_, v.NUM_CHANNELS, v.SFREQ)\n",
    "\n",
    "#two-times ICA\n",
    "dataset_ICA_2_ = load_dataset(data_type=\"ica2\", test_type=\"Arithmetic\")\n",
    "dataset_ICA_2 = convert_to_epochs(dataset_ICA_2_, v.NUM_CHANNELS, v.SFREQ)"
   ]
  },
  {
   "cell_type": "code",
   "execution_count": 4,
   "metadata": {},
   "outputs": [],
   "source": [
    "# time series features\n",
    "data_RAW = fractal_features(dataset_RAW, v.NUM_CHANNELS)\n",
    "data_WT = fractal_features(dataset_WT, v.NUM_CHANNELS)\n",
    "data_ICA = fractal_features(dataset_ICA, v.NUM_CHANNELS)\n",
    "data_ICA_2 = fractal_features(dataset_ICA_2, v.NUM_CHANNELS)"
   ]
  },
  {
   "cell_type": "code",
   "execution_count": 26,
   "metadata": {},
   "outputs": [
    {
     "name": "stdout",
     "output_type": "stream",
     "text": [
      "[ True False False False  True False False False False False  True False\n",
      " False False  True False  True  True False  True  True  True False False\n",
      " False  True False  True  True  True  True False False False  True False\n",
      "  True  True  True False  True False False False False False False  True\n",
      " False False  True False False  True  True False  True False False  True\n",
      "  True  True False False False  True False  True  True  True  True False\n",
      " False False False False False False False False False  True  True  True\n",
      " False  True  True False  True  True False  True False  True  True  True\n",
      "  True  True False  True  True  True  True False False False False  True\n",
      "  True  True  True  True  True False False False  True False  True False]\n",
      "(120,)\n",
      "(3000,)\n"
     ]
    }
   ],
   "source": [
    "labels = load_labels()\n",
    "\n",
    "label = pd.concat([labels['t1_math'], labels['t2_math'],\n",
    "                  labels['t3_math']]).to_numpy()\n",
    "print(label)\n",
    "print(label.shape)\n",
    "label = np.repeat(label, data_RAW.shape[0]//label.shape[0])\n",
    "\n",
    "print(label.shape)"
   ]
  },
  {
   "cell_type": "markdown",
   "metadata": {},
   "source": [
    "### KNN"
   ]
  },
  {
   "cell_type": "code",
   "execution_count": 28,
   "metadata": {},
   "outputs": [
    {
     "name": "stdout",
     "output_type": "stream",
     "text": [
      "(3000, 96)\n",
      "(3000,)\n"
     ]
    }
   ],
   "source": [
    "print(data_RAW.shape)\n",
    "print(label.shape)"
   ]
  },
  {
   "cell_type": "code",
   "execution_count": 36,
   "metadata": {},
   "outputs": [
    {
     "name": "stdout",
     "output_type": "stream",
     "text": [
      "Raw data\n",
      "(3000, 96)\n",
      "\n",
      " Confusion matrix:\n",
      "[[199 112]\n",
      " [113 176]]\n",
      "[0.625      0.63782051 0.61111111]\n"
     ]
    }
   ],
   "source": [
    "print('Raw data')\n",
    "print(KNN(data_RAW,label))"
   ]
  },
  {
   "cell_type": "code",
   "execution_count": 31,
   "metadata": {},
   "outputs": [
    {
     "name": "stdout",
     "output_type": "stream",
     "text": [
      "WT data\n",
      "(3000, 96)\n",
      "\n",
      " Confusion matrix:\n",
      "[[288  23]\n",
      " [ 20 269]]\n",
      "[0.92833333 0.93506494 0.92123288]\n"
     ]
    }
   ],
   "source": [
    "print('WT data')\n",
    "print(KNN(data_WT,label))"
   ]
  },
  {
   "cell_type": "code",
   "execution_count": 37,
   "metadata": {},
   "outputs": [
    {
     "name": "stdout",
     "output_type": "stream",
     "text": [
      "\n",
      "ICA filtered data\n",
      "(3000, 96)\n",
      "\n",
      " Confusion matrix:\n",
      "[[234  77]\n",
      " [ 76 213]]\n",
      "[0.745      0.75483871 0.73448276]\n"
     ]
    }
   ],
   "source": [
    "print('\\nICA filtered data')\n",
    "print(KNN(data_ICA,label))\n"
   ]
  },
  {
   "cell_type": "code",
   "execution_count": 34,
   "metadata": {},
   "outputs": [
    {
     "name": "stdout",
     "output_type": "stream",
     "text": [
      "\n",
      "ICA filtered data round 2\n",
      "(3000, 96)\n",
      "\n",
      " Confusion matrix:\n",
      "[[278  33]\n",
      " [ 36 253]]\n",
      "[0.885      0.88535032 0.88461538]\n"
     ]
    }
   ],
   "source": [
    "print('\\nICA filtered data round 2')\n",
    "print(KNN(data_ICA_2,label))"
   ]
  },
  {
   "cell_type": "markdown",
   "metadata": {},
   "source": [
    "### SVM"
   ]
  },
  {
   "cell_type": "code",
   "execution_count": 39,
   "metadata": {},
   "outputs": [
    {
     "name": "stdout",
     "output_type": "stream",
     "text": [
      "Raw data\n",
      "\n",
      " Confusion matrix:\n",
      "[[259  52]\n",
      " [181 108]]\n",
      "[0.61166667 0.58863636 0.675     ]\n"
     ]
    }
   ],
   "source": [
    "print('Raw data')\n",
    "print(SVM(data_RAW,label))\n"
   ]
  },
  {
   "cell_type": "code",
   "execution_count": 40,
   "metadata": {},
   "outputs": [
    {
     "name": "stdout",
     "output_type": "stream",
     "text": [
      "WT data\n",
      "\n",
      " Confusion matrix:\n",
      "[[297  14]\n",
      " [ 23 266]]\n",
      "[0.93833333 0.928125   0.95      ]\n"
     ]
    }
   ],
   "source": [
    "print('WT data')\n",
    "print(SVM(data_WT,label))"
   ]
  },
  {
   "cell_type": "code",
   "execution_count": 41,
   "metadata": {},
   "outputs": [
    {
     "name": "stdout",
     "output_type": "stream",
     "text": [
      "\n",
      "ICA filtered data\n",
      "\n",
      " Confusion matrix:\n",
      "[[241  70]\n",
      " [ 64 225]]\n",
      "[0.77666667 0.79016393 0.76271186]\n"
     ]
    }
   ],
   "source": [
    "print('\\nICA filtered data')\n",
    "print(SVM(data_ICA,label))\n"
   ]
  },
  {
   "cell_type": "code",
   "execution_count": 42,
   "metadata": {},
   "outputs": [
    {
     "name": "stdout",
     "output_type": "stream",
     "text": [
      "\n",
      "ICA filtered data round 2\n",
      "\n",
      " Confusion matrix:\n",
      "[[274  37]\n",
      " [ 46 243]]\n",
      "[0.86166667 0.85625    0.86785714]\n"
     ]
    }
   ],
   "source": [
    "print('\\nICA filtered data round 2')\n",
    "print(SVM(data_ICA_2,label))"
   ]
  },
  {
   "cell_type": "markdown",
   "metadata": {},
   "source": [
    "# Neural Network"
   ]
  },
  {
   "cell_type": "code",
   "execution_count": 43,
   "metadata": {},
   "outputs": [
    {
     "name": "stdout",
     "output_type": "stream",
     "text": [
      "Trial 1 Complete [00h 00m 24s]\n",
      "val_accuracy: 0.574999988079071\n",
      "\n",
      "Best val_accuracy So Far: 0.574999988079071\n",
      "Total elapsed time: 00h 00m 24s\n",
      "\n",
      "Search: Running Trial #2\n",
      "\n",
      "Value             |Best Value So Far |Hyperparameter\n",
      "6                 |4                 |layers\n",
      "896               |960               |units_0\n",
      "sigmoid           |relu              |act_0\n",
      "0.0001            |0.01              |learning_rate\n",
      "\n",
      "Epoch 1/50\n",
      "57/57 [==============================] - 2s 10ms/step - loss: 0.7271 - accuracy: 0.4794 - val_loss: 0.6962 - val_accuracy: 0.5367\n",
      "Epoch 2/50\n",
      "57/57 [==============================] - 0s 4ms/step - loss: 0.6907 - accuracy: 0.5483 - val_loss: 0.6916 - val_accuracy: 0.5383\n",
      "Epoch 3/50\n",
      "57/57 [==============================] - 0s 4ms/step - loss: 0.6766 - accuracy: 0.5794 - val_loss: 0.6897 - val_accuracy: 0.5467\n",
      "Epoch 4/50\n",
      "57/57 [==============================] - 0s 5ms/step - loss: 0.6679 - accuracy: 0.6089 - val_loss: 0.6859 - val_accuracy: 0.5633\n",
      "Epoch 5/50\n",
      "57/57 [==============================] - 0s 4ms/step - loss: 0.6556 - accuracy: 0.6389 - val_loss: 0.6913 - val_accuracy: 0.5183\n",
      "Epoch 6/50\n",
      "57/57 [==============================] - 0s 4ms/step - loss: 0.6474 - accuracy: 0.6578 - val_loss: 0.6868 - val_accuracy: 0.5667\n",
      "Epoch 7/50\n",
      "57/57 [==============================] - 0s 4ms/step - loss: 0.6462 - accuracy: 0.6533 - val_loss: 0.6812 - val_accuracy: 0.5667\n",
      "Epoch 8/50\n",
      "57/57 [==============================] - 0s 3ms/step - loss: 0.6379 - accuracy: 0.6783 - val_loss: 0.6954 - val_accuracy: 0.5267\n",
      "Epoch 9/50\n",
      "57/57 [==============================] - 0s 4ms/step - loss: 0.6370 - accuracy: 0.6956 - val_loss: 0.6819 - val_accuracy: 0.5750\n",
      "Epoch 10/50\n",
      "57/57 [==============================] - 0s 4ms/step - loss: 0.6308 - accuracy: 0.6789 - val_loss: 0.6827 - val_accuracy: 0.5650\n",
      "Epoch 11/50\n",
      "57/57 [==============================] - 0s 5ms/step - loss: 0.6265 - accuracy: 0.6917 - val_loss: 0.6801 - val_accuracy: 0.5500\n",
      "Epoch 12/50\n",
      "57/57 [==============================] - 0s 4ms/step - loss: 0.6220 - accuracy: 0.7183 - val_loss: 0.6780 - val_accuracy: 0.5867\n",
      "Epoch 13/50\n",
      "57/57 [==============================] - 0s 4ms/step - loss: 0.6200 - accuracy: 0.7139 - val_loss: 0.6757 - val_accuracy: 0.5950\n",
      "Epoch 14/50\n",
      "57/57 [==============================] - 0s 3ms/step - loss: 0.6139 - accuracy: 0.7117 - val_loss: 0.6855 - val_accuracy: 0.5433\n",
      "Epoch 15/50\n",
      "57/57 [==============================] - 0s 3ms/step - loss: 0.6104 - accuracy: 0.7233 - val_loss: 0.6820 - val_accuracy: 0.5517\n",
      "Epoch 16/50\n",
      "57/57 [==============================] - 0s 4ms/step - loss: 0.6062 - accuracy: 0.7272 - val_loss: 0.6815 - val_accuracy: 0.5600\n",
      "Epoch 17/50\n",
      "57/57 [==============================] - 0s 3ms/step - loss: 0.6040 - accuracy: 0.7350 - val_loss: 0.6776 - val_accuracy: 0.5883\n",
      "Epoch 18/50\n",
      "57/57 [==============================] - 0s 3ms/step - loss: 0.5979 - accuracy: 0.7478 - val_loss: 0.6781 - val_accuracy: 0.5583\n",
      "Epoch 19/50\n",
      "57/57 [==============================] - 0s 3ms/step - loss: 0.5941 - accuracy: 0.7400 - val_loss: 0.6772 - val_accuracy: 0.5683\n",
      "Epoch 20/50\n",
      "57/57 [==============================] - 0s 4ms/step - loss: 0.5901 - accuracy: 0.7389 - val_loss: 0.6715 - val_accuracy: 0.5817\n",
      "Epoch 21/50\n",
      "57/57 [==============================] - 0s 4ms/step - loss: 0.5867 - accuracy: 0.7383 - val_loss: 0.6820 - val_accuracy: 0.5517\n",
      "Epoch 22/50\n",
      "57/57 [==============================] - 0s 4ms/step - loss: 0.5823 - accuracy: 0.7611 - val_loss: 0.6720 - val_accuracy: 0.5717\n",
      "Epoch 23/50\n",
      "57/57 [==============================] - 0s 4ms/step - loss: 0.5800 - accuracy: 0.7656 - val_loss: 0.6713 - val_accuracy: 0.5800\n",
      "Epoch 24/50\n",
      "57/57 [==============================] - 0s 4ms/step - loss: 0.5759 - accuracy: 0.7650 - val_loss: 0.6699 - val_accuracy: 0.5900\n",
      "Epoch 25/50\n",
      "57/57 [==============================] - 0s 5ms/step - loss: 0.5703 - accuracy: 0.7633 - val_loss: 0.6724 - val_accuracy: 0.6017\n",
      "Epoch 26/50\n",
      "57/57 [==============================] - 0s 3ms/step - loss: 0.5671 - accuracy: 0.7556 - val_loss: 0.6740 - val_accuracy: 0.5533\n",
      "Epoch 27/50\n",
      "57/57 [==============================] - 0s 3ms/step - loss: 0.5666 - accuracy: 0.7694 - val_loss: 0.6751 - val_accuracy: 0.5717\n",
      "Epoch 28/50\n",
      "57/57 [==============================] - 0s 4ms/step - loss: 0.5619 - accuracy: 0.7717 - val_loss: 0.6740 - val_accuracy: 0.5800\n",
      "Epoch 29/50\n",
      "57/57 [==============================] - 0s 3ms/step - loss: 0.5571 - accuracy: 0.7794 - val_loss: 0.6715 - val_accuracy: 0.5800\n",
      "Epoch 30/50\n",
      "57/57 [==============================] - 0s 3ms/step - loss: 0.5543 - accuracy: 0.7956 - val_loss: 0.6724 - val_accuracy: 0.5800\n",
      "Epoch 31/50\n",
      "57/57 [==============================] - 0s 3ms/step - loss: 0.5484 - accuracy: 0.7856 - val_loss: 0.6730 - val_accuracy: 0.5667\n",
      "Epoch 32/50\n",
      "57/57 [==============================] - 0s 3ms/step - loss: 0.5473 - accuracy: 0.7944 - val_loss: 0.6745 - val_accuracy: 0.5683\n",
      "Epoch 33/50\n",
      "57/57 [==============================] - 0s 4ms/step - loss: 0.5434 - accuracy: 0.7983 - val_loss: 0.6722 - val_accuracy: 0.5800\n",
      "Epoch 34/50\n",
      "57/57 [==============================] - 0s 4ms/step - loss: 0.5416 - accuracy: 0.7994 - val_loss: 0.6730 - val_accuracy: 0.5783\n",
      "Epoch 35/50\n",
      "57/57 [==============================] - 0s 3ms/step - loss: 0.5368 - accuracy: 0.8117 - val_loss: 0.6713 - val_accuracy: 0.5800\n",
      "Epoch 36/50\n",
      "57/57 [==============================] - 0s 3ms/step - loss: 0.5356 - accuracy: 0.7994 - val_loss: 0.6708 - val_accuracy: 0.5900\n",
      "Epoch 37/50\n",
      "57/57 [==============================] - 0s 4ms/step - loss: 0.5287 - accuracy: 0.8100 - val_loss: 0.6726 - val_accuracy: 0.5783\n",
      "Epoch 38/50\n",
      "57/57 [==============================] - 0s 4ms/step - loss: 0.5245 - accuracy: 0.8111 - val_loss: 0.6715 - val_accuracy: 0.5700\n",
      "Epoch 39/50\n",
      "57/57 [==============================] - 0s 3ms/step - loss: 0.5211 - accuracy: 0.8211 - val_loss: 0.6737 - val_accuracy: 0.5850\n",
      "Epoch 40/50\n",
      "57/57 [==============================] - 0s 3ms/step - loss: 0.5180 - accuracy: 0.8239 - val_loss: 0.6710 - val_accuracy: 0.5917\n",
      "Epoch 41/50\n",
      "57/57 [==============================] - 0s 4ms/step - loss: 0.5129 - accuracy: 0.8289 - val_loss: 0.6691 - val_accuracy: 0.5717\n",
      "Epoch 42/50\n",
      "57/57 [==============================] - 0s 4ms/step - loss: 0.5125 - accuracy: 0.8239 - val_loss: 0.6715 - val_accuracy: 0.5667\n",
      "Epoch 43/50\n",
      "57/57 [==============================] - 0s 3ms/step - loss: 0.5081 - accuracy: 0.8261 - val_loss: 0.6726 - val_accuracy: 0.5750\n",
      "Epoch 44/50\n",
      "57/57 [==============================] - 0s 3ms/step - loss: 0.5050 - accuracy: 0.8239 - val_loss: 0.6652 - val_accuracy: 0.5833\n",
      "Epoch 45/50\n",
      "57/57 [==============================] - 0s 3ms/step - loss: 0.4988 - accuracy: 0.8350 - val_loss: 0.6701 - val_accuracy: 0.5850\n",
      "Epoch 46/50\n",
      "57/57 [==============================] - 0s 3ms/step - loss: 0.4939 - accuracy: 0.8422 - val_loss: 0.6699 - val_accuracy: 0.5750\n",
      "Epoch 47/50\n",
      "57/57 [==============================] - 0s 3ms/step - loss: 0.4922 - accuracy: 0.8450 - val_loss: 0.6686 - val_accuracy: 0.5750\n",
      "Epoch 48/50\n",
      "57/57 [==============================] - 0s 3ms/step - loss: 0.4880 - accuracy: 0.8467 - val_loss: 0.6654 - val_accuracy: 0.5933\n",
      "Epoch 49/50\n",
      "57/57 [==============================] - 0s 3ms/step - loss: 0.4866 - accuracy: 0.8428 - val_loss: 0.6788 - val_accuracy: 0.5700\n",
      "Epoch 50/50\n",
      "57/57 [==============================] - 0s 3ms/step - loss: 0.4820 - accuracy: 0.8461 - val_loss: 0.6700 - val_accuracy: 0.5917\n",
      "Epoch 1/50\n",
      " 1/57 [..............................] - ETA: 24s - loss: 0.7709 - accuracy: 0.5938WARNING:tensorflow:Callback method `on_train_batch_begin` is slow compared to the batch time (batch time: 0.0000s vs `on_train_batch_begin` time: 0.0013s). Check your callbacks.\n",
      "57/57 [==============================] - 1s 6ms/step - loss: 0.7195 - accuracy: 0.5156 - val_loss: 0.6934 - val_accuracy: 0.5583\n",
      "Epoch 2/50\n",
      "57/57 [==============================] - 0s 3ms/step - loss: 0.6830 - accuracy: 0.5683 - val_loss: 0.6891 - val_accuracy: 0.5433\n",
      "Epoch 3/50\n",
      "57/57 [==============================] - 0s 3ms/step - loss: 0.6689 - accuracy: 0.6094 - val_loss: 0.6932 - val_accuracy: 0.5233\n",
      "Epoch 4/50\n",
      "57/57 [==============================] - 0s 3ms/step - loss: 0.6598 - accuracy: 0.6328 - val_loss: 0.6835 - val_accuracy: 0.5667\n",
      "Epoch 5/50\n",
      "57/57 [==============================] - 0s 4ms/step - loss: 0.6527 - accuracy: 0.6300 - val_loss: 0.6826 - val_accuracy: 0.5667\n",
      "Epoch 6/50\n",
      "57/57 [==============================] - 0s 4ms/step - loss: 0.6449 - accuracy: 0.6778 - val_loss: 0.6766 - val_accuracy: 0.5883\n",
      "Epoch 7/50\n",
      "57/57 [==============================] - 0s 3ms/step - loss: 0.6395 - accuracy: 0.6778 - val_loss: 0.6749 - val_accuracy: 0.5817\n",
      "Epoch 8/50\n",
      "57/57 [==============================] - 0s 3ms/step - loss: 0.6359 - accuracy: 0.6767 - val_loss: 0.6810 - val_accuracy: 0.5517\n",
      "Epoch 9/50\n",
      "57/57 [==============================] - 0s 3ms/step - loss: 0.6296 - accuracy: 0.6961 - val_loss: 0.6760 - val_accuracy: 0.5683\n",
      "Epoch 10/50\n",
      "57/57 [==============================] - 0s 3ms/step - loss: 0.6251 - accuracy: 0.7050 - val_loss: 0.6787 - val_accuracy: 0.5683\n",
      "Epoch 11/50\n",
      "57/57 [==============================] - 0s 3ms/step - loss: 0.6204 - accuracy: 0.7072 - val_loss: 0.6738 - val_accuracy: 0.5700\n",
      "Epoch 12/50\n",
      "57/57 [==============================] - 0s 3ms/step - loss: 0.6132 - accuracy: 0.7311 - val_loss: 0.6769 - val_accuracy: 0.5517\n",
      "Epoch 13/50\n",
      "57/57 [==============================] - 0s 3ms/step - loss: 0.6103 - accuracy: 0.7294 - val_loss: 0.6748 - val_accuracy: 0.5600\n",
      "Epoch 14/50\n",
      "57/57 [==============================] - 0s 3ms/step - loss: 0.6042 - accuracy: 0.7506 - val_loss: 0.6722 - val_accuracy: 0.5617\n",
      "Epoch 15/50\n",
      "57/57 [==============================] - 0s 3ms/step - loss: 0.6013 - accuracy: 0.7450 - val_loss: 0.6781 - val_accuracy: 0.5583\n",
      "Epoch 16/50\n",
      "57/57 [==============================] - 0s 3ms/step - loss: 0.5992 - accuracy: 0.7406 - val_loss: 0.6738 - val_accuracy: 0.5667\n",
      "Epoch 17/50\n",
      "57/57 [==============================] - 0s 3ms/step - loss: 0.5949 - accuracy: 0.7500 - val_loss: 0.6691 - val_accuracy: 0.5633\n",
      "Epoch 18/50\n",
      "57/57 [==============================] - 0s 3ms/step - loss: 0.5903 - accuracy: 0.7544 - val_loss: 0.6716 - val_accuracy: 0.5633\n",
      "Epoch 19/50\n",
      "57/57 [==============================] - 0s 3ms/step - loss: 0.5883 - accuracy: 0.7556 - val_loss: 0.6657 - val_accuracy: 0.6017\n",
      "Epoch 20/50\n",
      "57/57 [==============================] - 0s 3ms/step - loss: 0.5839 - accuracy: 0.7533 - val_loss: 0.6685 - val_accuracy: 0.5767\n",
      "Epoch 21/50\n",
      "57/57 [==============================] - 0s 3ms/step - loss: 0.5781 - accuracy: 0.7633 - val_loss: 0.6709 - val_accuracy: 0.5767\n",
      "Epoch 22/50\n",
      "57/57 [==============================] - 0s 3ms/step - loss: 0.5748 - accuracy: 0.7722 - val_loss: 0.6643 - val_accuracy: 0.5817\n",
      "Epoch 23/50\n",
      "57/57 [==============================] - 0s 3ms/step - loss: 0.5692 - accuracy: 0.7694 - val_loss: 0.6686 - val_accuracy: 0.5917\n",
      "Epoch 24/50\n",
      "57/57 [==============================] - 0s 3ms/step - loss: 0.5684 - accuracy: 0.7711 - val_loss: 0.6667 - val_accuracy: 0.5983\n",
      "Epoch 25/50\n",
      "57/57 [==============================] - 0s 3ms/step - loss: 0.5632 - accuracy: 0.7794 - val_loss: 0.6634 - val_accuracy: 0.5883\n",
      "Epoch 26/50\n",
      "57/57 [==============================] - 0s 3ms/step - loss: 0.5585 - accuracy: 0.7894 - val_loss: 0.6644 - val_accuracy: 0.5983\n",
      "Epoch 27/50\n",
      "57/57 [==============================] - 0s 4ms/step - loss: 0.5564 - accuracy: 0.7878 - val_loss: 0.6618 - val_accuracy: 0.6067\n",
      "Epoch 28/50\n",
      "57/57 [==============================] - 0s 3ms/step - loss: 0.5539 - accuracy: 0.7867 - val_loss: 0.6604 - val_accuracy: 0.6067\n",
      "Epoch 29/50\n",
      "57/57 [==============================] - 0s 3ms/step - loss: 0.5503 - accuracy: 0.7894 - val_loss: 0.6651 - val_accuracy: 0.5950\n",
      "Epoch 30/50\n",
      "57/57 [==============================] - 0s 3ms/step - loss: 0.5472 - accuracy: 0.7933 - val_loss: 0.6601 - val_accuracy: 0.6100\n",
      "Epoch 31/50\n",
      "55/57 [===========================>..] - ETA: 0s - loss: 0.5420 - accuracy: 0.7972"
     ]
    },
    {
     "ename": "FailedPreconditionError",
     "evalue": "{{function_node __wrapped__MergeV2Checkpoints_device_/job:localhost/replica:0/task:0/device:CPU:0}} Failed to rename: .\\untitled_project\\trial_1\\checkpoint_temp/part-00000-of-00001.data-00000-of-00001 to: .\\untitled_project\\trial_1\\checkpoint.data-00000-of-00001 : Prosessen får ikke tilgang til filen fordi den brukes av en annen prosess.\r\n; Broken pipe [Op:MergeV2Checkpoints]",
     "output_type": "error",
     "traceback": [
      "\u001b[1;31m---------------------------------------------------------------------------\u001b[0m",
      "\u001b[1;31mFailedPreconditionError\u001b[0m                   Traceback (most recent call last)",
      "\u001b[1;32m~\\AppData\\Local\\Temp\\ipykernel_27092\\3832659487.py\u001b[0m in \u001b[0;36m<cell line: 2>\u001b[1;34m()\u001b[0m\n\u001b[0;32m      1\u001b[0m \u001b[0mprint\u001b[0m\u001b[1;33m(\u001b[0m\u001b[1;34m'RAW data'\u001b[0m\u001b[1;33m)\u001b[0m\u001b[1;33m\u001b[0m\u001b[1;33m\u001b[0m\u001b[0m\n\u001b[1;32m----> 2\u001b[1;33m \u001b[0mNN\u001b[0m\u001b[1;33m(\u001b[0m\u001b[0mdata_RAW\u001b[0m\u001b[1;33m,\u001b[0m\u001b[0mlabel\u001b[0m\u001b[1;33m)\u001b[0m\u001b[1;33m\u001b[0m\u001b[1;33m\u001b[0m\u001b[0m\n\u001b[0m",
      "\u001b[1;32mc:\\Users\\annej\\OneDrive\\Documents\\GitHub\\eeg_stress_detection\\classifiers.py\u001b[0m in \u001b[0;36mNN\u001b[1;34m(data, label)\u001b[0m\n\u001b[0;32m    114\u001b[0m     \u001b[0mtuner\u001b[0m\u001b[1;33m.\u001b[0m\u001b[0msearch_space_summary\u001b[0m\u001b[1;33m(\u001b[0m\u001b[1;33m)\u001b[0m\u001b[1;33m\u001b[0m\u001b[1;33m\u001b[0m\u001b[0m\n\u001b[0;32m    115\u001b[0m \u001b[1;33m\u001b[0m\u001b[0m\n\u001b[1;32m--> 116\u001b[1;33m     \u001b[0mtuner\u001b[0m\u001b[1;33m.\u001b[0m\u001b[0msearch\u001b[0m\u001b[1;33m(\u001b[0m\u001b[0mx_train\u001b[0m\u001b[1;33m,\u001b[0m \u001b[0my_train\u001b[0m\u001b[1;33m,\u001b[0m \u001b[0mepochs\u001b[0m \u001b[1;33m=\u001b[0m \u001b[1;36m50\u001b[0m\u001b[1;33m,\u001b[0m \u001b[0mvalidation_data\u001b[0m\u001b[1;33m=\u001b[0m \u001b[1;33m[\u001b[0m\u001b[0mx_val\u001b[0m\u001b[1;33m,\u001b[0m \u001b[0my_val\u001b[0m\u001b[1;33m]\u001b[0m\u001b[1;33m)\u001b[0m\u001b[1;33m\u001b[0m\u001b[1;33m\u001b[0m\u001b[0m\n\u001b[0m\u001b[0;32m    117\u001b[0m \u001b[1;33m\u001b[0m\u001b[0m\n\u001b[0;32m    118\u001b[0m     \u001b[0mmodel\u001b[0m \u001b[1;33m=\u001b[0m \u001b[0mtuner\u001b[0m\u001b[1;33m.\u001b[0m\u001b[0mget_best_models\u001b[0m\u001b[1;33m(\u001b[0m\u001b[0mnum_models\u001b[0m\u001b[1;33m=\u001b[0m\u001b[1;36m1\u001b[0m\u001b[1;33m)\u001b[0m\u001b[1;33m[\u001b[0m\u001b[1;36m0\u001b[0m\u001b[1;33m]\u001b[0m\u001b[1;33m\u001b[0m\u001b[1;33m\u001b[0m\u001b[0m\n",
      "\u001b[1;32mc:\\Users\\annej\\anaconda3\\envs\\MNE\\lib\\site-packages\\keras_tuner\\engine\\base_tuner.py\u001b[0m in \u001b[0;36msearch\u001b[1;34m(self, *fit_args, **fit_kwargs)\u001b[0m\n\u001b[0;32m    181\u001b[0m \u001b[1;33m\u001b[0m\u001b[0m\n\u001b[0;32m    182\u001b[0m             \u001b[0mself\u001b[0m\u001b[1;33m.\u001b[0m\u001b[0mon_trial_begin\u001b[0m\u001b[1;33m(\u001b[0m\u001b[0mtrial\u001b[0m\u001b[1;33m)\u001b[0m\u001b[1;33m\u001b[0m\u001b[1;33m\u001b[0m\u001b[0m\n\u001b[1;32m--> 183\u001b[1;33m             \u001b[0mresults\u001b[0m \u001b[1;33m=\u001b[0m \u001b[0mself\u001b[0m\u001b[1;33m.\u001b[0m\u001b[0mrun_trial\u001b[0m\u001b[1;33m(\u001b[0m\u001b[0mtrial\u001b[0m\u001b[1;33m,\u001b[0m \u001b[1;33m*\u001b[0m\u001b[0mfit_args\u001b[0m\u001b[1;33m,\u001b[0m \u001b[1;33m**\u001b[0m\u001b[0mfit_kwargs\u001b[0m\u001b[1;33m)\u001b[0m\u001b[1;33m\u001b[0m\u001b[1;33m\u001b[0m\u001b[0m\n\u001b[0m\u001b[0;32m    184\u001b[0m             \u001b[1;31m# `results` is None indicates user updated oracle in `run_trial()`.\u001b[0m\u001b[1;33m\u001b[0m\u001b[1;33m\u001b[0m\u001b[0m\n\u001b[0;32m    185\u001b[0m             \u001b[1;32mif\u001b[0m \u001b[0mresults\u001b[0m \u001b[1;32mis\u001b[0m \u001b[1;32mNone\u001b[0m\u001b[1;33m:\u001b[0m\u001b[1;33m\u001b[0m\u001b[1;33m\u001b[0m\u001b[0m\n",
      "\u001b[1;32mc:\\Users\\annej\\anaconda3\\envs\\MNE\\lib\\site-packages\\keras_tuner\\engine\\tuner.py\u001b[0m in \u001b[0;36mrun_trial\u001b[1;34m(self, trial, *args, **kwargs)\u001b[0m\n\u001b[0;32m    293\u001b[0m             \u001b[0mcallbacks\u001b[0m\u001b[1;33m.\u001b[0m\u001b[0mappend\u001b[0m\u001b[1;33m(\u001b[0m\u001b[0mmodel_checkpoint\u001b[0m\u001b[1;33m)\u001b[0m\u001b[1;33m\u001b[0m\u001b[1;33m\u001b[0m\u001b[0m\n\u001b[0;32m    294\u001b[0m             \u001b[0mcopied_kwargs\u001b[0m\u001b[1;33m[\u001b[0m\u001b[1;34m\"callbacks\"\u001b[0m\u001b[1;33m]\u001b[0m \u001b[1;33m=\u001b[0m \u001b[0mcallbacks\u001b[0m\u001b[1;33m\u001b[0m\u001b[1;33m\u001b[0m\u001b[0m\n\u001b[1;32m--> 295\u001b[1;33m             \u001b[0mobj_value\u001b[0m \u001b[1;33m=\u001b[0m \u001b[0mself\u001b[0m\u001b[1;33m.\u001b[0m\u001b[0m_build_and_fit_model\u001b[0m\u001b[1;33m(\u001b[0m\u001b[0mtrial\u001b[0m\u001b[1;33m,\u001b[0m \u001b[1;33m*\u001b[0m\u001b[0margs\u001b[0m\u001b[1;33m,\u001b[0m \u001b[1;33m**\u001b[0m\u001b[0mcopied_kwargs\u001b[0m\u001b[1;33m)\u001b[0m\u001b[1;33m\u001b[0m\u001b[1;33m\u001b[0m\u001b[0m\n\u001b[0m\u001b[0;32m    296\u001b[0m \u001b[1;33m\u001b[0m\u001b[0m\n\u001b[0;32m    297\u001b[0m             \u001b[0mhistories\u001b[0m\u001b[1;33m.\u001b[0m\u001b[0mappend\u001b[0m\u001b[1;33m(\u001b[0m\u001b[0mobj_value\u001b[0m\u001b[1;33m)\u001b[0m\u001b[1;33m\u001b[0m\u001b[1;33m\u001b[0m\u001b[0m\n",
      "\u001b[1;32mc:\\Users\\annej\\anaconda3\\envs\\MNE\\lib\\site-packages\\keras_tuner\\engine\\tuner.py\u001b[0m in \u001b[0;36m_build_and_fit_model\u001b[1;34m(self, trial, *args, **kwargs)\u001b[0m\n\u001b[0;32m    220\u001b[0m         \u001b[0mhp\u001b[0m \u001b[1;33m=\u001b[0m \u001b[0mtrial\u001b[0m\u001b[1;33m.\u001b[0m\u001b[0mhyperparameters\u001b[0m\u001b[1;33m\u001b[0m\u001b[1;33m\u001b[0m\u001b[0m\n\u001b[0;32m    221\u001b[0m         \u001b[0mmodel\u001b[0m \u001b[1;33m=\u001b[0m \u001b[0mself\u001b[0m\u001b[1;33m.\u001b[0m\u001b[0m_try_build\u001b[0m\u001b[1;33m(\u001b[0m\u001b[0mhp\u001b[0m\u001b[1;33m)\u001b[0m\u001b[1;33m\u001b[0m\u001b[1;33m\u001b[0m\u001b[0m\n\u001b[1;32m--> 222\u001b[1;33m         \u001b[0mresults\u001b[0m \u001b[1;33m=\u001b[0m \u001b[0mself\u001b[0m\u001b[1;33m.\u001b[0m\u001b[0mhypermodel\u001b[0m\u001b[1;33m.\u001b[0m\u001b[0mfit\u001b[0m\u001b[1;33m(\u001b[0m\u001b[0mhp\u001b[0m\u001b[1;33m,\u001b[0m \u001b[0mmodel\u001b[0m\u001b[1;33m,\u001b[0m \u001b[1;33m*\u001b[0m\u001b[0margs\u001b[0m\u001b[1;33m,\u001b[0m \u001b[1;33m**\u001b[0m\u001b[0mkwargs\u001b[0m\u001b[1;33m)\u001b[0m\u001b[1;33m\u001b[0m\u001b[1;33m\u001b[0m\u001b[0m\n\u001b[0m\u001b[0;32m    223\u001b[0m         tuner_utils.validate_trial_results(\n\u001b[0;32m    224\u001b[0m             \u001b[0mresults\u001b[0m\u001b[1;33m,\u001b[0m \u001b[0mself\u001b[0m\u001b[1;33m.\u001b[0m\u001b[0moracle\u001b[0m\u001b[1;33m.\u001b[0m\u001b[0mobjective\u001b[0m\u001b[1;33m,\u001b[0m \u001b[1;34m\"HyperModel.fit()\"\u001b[0m\u001b[1;33m\u001b[0m\u001b[1;33m\u001b[0m\u001b[0m\n",
      "\u001b[1;32mc:\\Users\\annej\\anaconda3\\envs\\MNE\\lib\\site-packages\\keras_tuner\\engine\\hypermodel.py\u001b[0m in \u001b[0;36mfit\u001b[1;34m(self, hp, model, *args, **kwargs)\u001b[0m\n\u001b[0;32m    138\u001b[0m             \u001b[0mIf\u001b[0m \u001b[1;32mreturn\u001b[0m \u001b[0ma\u001b[0m \u001b[0mfloat\u001b[0m\u001b[1;33m,\u001b[0m \u001b[0mit\u001b[0m \u001b[0mshould\u001b[0m \u001b[0mbe\u001b[0m \u001b[0mthe\u001b[0m\u001b[0;31m \u001b[0m\u001b[0;31m`\u001b[0m\u001b[0mobjective\u001b[0m\u001b[0;31m`\u001b[0m \u001b[0mvalue\u001b[0m\u001b[1;33m.\u001b[0m\u001b[1;33m\u001b[0m\u001b[1;33m\u001b[0m\u001b[0m\n\u001b[0;32m    139\u001b[0m         \"\"\"\n\u001b[1;32m--> 140\u001b[1;33m         \u001b[1;32mreturn\u001b[0m \u001b[0mmodel\u001b[0m\u001b[1;33m.\u001b[0m\u001b[0mfit\u001b[0m\u001b[1;33m(\u001b[0m\u001b[1;33m*\u001b[0m\u001b[0margs\u001b[0m\u001b[1;33m,\u001b[0m \u001b[1;33m**\u001b[0m\u001b[0mkwargs\u001b[0m\u001b[1;33m)\u001b[0m\u001b[1;33m\u001b[0m\u001b[1;33m\u001b[0m\u001b[0m\n\u001b[0m\u001b[0;32m    141\u001b[0m \u001b[1;33m\u001b[0m\u001b[0m\n\u001b[0;32m    142\u001b[0m \u001b[1;33m\u001b[0m\u001b[0m\n",
      "\u001b[1;32mc:\\Users\\annej\\anaconda3\\envs\\MNE\\lib\\site-packages\\keras\\utils\\traceback_utils.py\u001b[0m in \u001b[0;36merror_handler\u001b[1;34m(*args, **kwargs)\u001b[0m\n\u001b[0;32m     68\u001b[0m             \u001b[1;31m# To get the full stack trace, call:\u001b[0m\u001b[1;33m\u001b[0m\u001b[1;33m\u001b[0m\u001b[0m\n\u001b[0;32m     69\u001b[0m             \u001b[1;31m# `tf.debugging.disable_traceback_filtering()`\u001b[0m\u001b[1;33m\u001b[0m\u001b[1;33m\u001b[0m\u001b[0m\n\u001b[1;32m---> 70\u001b[1;33m             \u001b[1;32mraise\u001b[0m \u001b[0me\u001b[0m\u001b[1;33m.\u001b[0m\u001b[0mwith_traceback\u001b[0m\u001b[1;33m(\u001b[0m\u001b[0mfiltered_tb\u001b[0m\u001b[1;33m)\u001b[0m \u001b[1;32mfrom\u001b[0m \u001b[1;32mNone\u001b[0m\u001b[1;33m\u001b[0m\u001b[1;33m\u001b[0m\u001b[0m\n\u001b[0m\u001b[0;32m     71\u001b[0m         \u001b[1;32mfinally\u001b[0m\u001b[1;33m:\u001b[0m\u001b[1;33m\u001b[0m\u001b[1;33m\u001b[0m\u001b[0m\n\u001b[0;32m     72\u001b[0m             \u001b[1;32mdel\u001b[0m \u001b[0mfiltered_tb\u001b[0m\u001b[1;33m\u001b[0m\u001b[1;33m\u001b[0m\u001b[0m\n",
      "\u001b[1;32mc:\\Users\\annej\\anaconda3\\envs\\MNE\\lib\\site-packages\\tensorflow\\python\\eager\\execute.py\u001b[0m in \u001b[0;36mquick_execute\u001b[1;34m(op_name, num_outputs, inputs, attrs, ctx, name)\u001b[0m\n\u001b[0;32m     50\u001b[0m   \u001b[1;32mtry\u001b[0m\u001b[1;33m:\u001b[0m\u001b[1;33m\u001b[0m\u001b[1;33m\u001b[0m\u001b[0m\n\u001b[0;32m     51\u001b[0m     \u001b[0mctx\u001b[0m\u001b[1;33m.\u001b[0m\u001b[0mensure_initialized\u001b[0m\u001b[1;33m(\u001b[0m\u001b[1;33m)\u001b[0m\u001b[1;33m\u001b[0m\u001b[1;33m\u001b[0m\u001b[0m\n\u001b[1;32m---> 52\u001b[1;33m     tensors = pywrap_tfe.TFE_Py_Execute(ctx._handle, device_name, op_name,\n\u001b[0m\u001b[0;32m     53\u001b[0m                                         inputs, attrs, num_outputs)\n\u001b[0;32m     54\u001b[0m   \u001b[1;32mexcept\u001b[0m \u001b[0mcore\u001b[0m\u001b[1;33m.\u001b[0m\u001b[0m_NotOkStatusException\u001b[0m \u001b[1;32mas\u001b[0m \u001b[0me\u001b[0m\u001b[1;33m:\u001b[0m\u001b[1;33m\u001b[0m\u001b[1;33m\u001b[0m\u001b[0m\n",
      "\u001b[1;31mFailedPreconditionError\u001b[0m: {{function_node __wrapped__MergeV2Checkpoints_device_/job:localhost/replica:0/task:0/device:CPU:0}} Failed to rename: .\\untitled_project\\trial_1\\checkpoint_temp/part-00000-of-00001.data-00000-of-00001 to: .\\untitled_project\\trial_1\\checkpoint.data-00000-of-00001 : Prosessen får ikke tilgang til filen fordi den brukes av en annen prosess.\r\n; Broken pipe [Op:MergeV2Checkpoints]"
     ]
    }
   ],
   "source": [
    "#print('RAW data')\n",
    "#NN(data_RAW,label)\n"
   ]
  },
  {
   "cell_type": "code",
   "execution_count": null,
   "metadata": {},
   "outputs": [],
   "source": [
    "#print('WT data')\n",
    "#NN(data_WT,label)\n"
   ]
  },
  {
   "cell_type": "code",
   "execution_count": null,
   "metadata": {},
   "outputs": [],
   "source": [
    "#print('\\nICA filtered data')\n",
    "#NN(data_ICA,label)\n"
   ]
  },
  {
   "cell_type": "code",
   "execution_count": null,
   "metadata": {},
   "outputs": [],
   "source": [
    "#print('\\nICA filtered data round 2')\n",
    "#NN(data_ICA_2,label)"
   ]
  }
 ],
 "metadata": {
  "kernelspec": {
   "display_name": "Python 3.10.6 ('MNE')",
   "language": "python",
   "name": "python3"
  },
  "language_info": {
   "codemirror_mode": {
    "name": "ipython",
    "version": 3
   },
   "file_extension": ".py",
   "mimetype": "text/x-python",
   "name": "python",
   "nbconvert_exporter": "python",
   "pygments_lexer": "ipython3",
   "version": "3.10.6"
  },
  "orig_nbformat": 4,
  "vscode": {
   "interpreter": {
    "hash": "f6df28382c6e70c1c1d3c02fa7b17b6f3b6fcf9f5d22d2410beebd122bfaf45e"
   }
  }
 },
 "nbformat": 4,
 "nbformat_minor": 2
}
