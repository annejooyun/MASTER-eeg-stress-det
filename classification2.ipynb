{
 "cells": [
  {
   "cell_type": "code",
   "execution_count": 1,
   "metadata": {},
   "outputs": [],
   "source": [
    "import numpy as np\n",
    "from sklearn.model_selection import train_test_split\n",
    "import pandas as pd\n",
    "from tensorflow.keras import utils as np_utils\n",
    "\n",
    "\n",
    "from utils.data import extract_eeg_data, multi_to_binary_classification, split_dataset, dict_to_arr\n",
    "from utils.labels import get_pss_labels, get_stai_labels\n",
    "from utils.valid_recs import get_valid_recs\n",
    "from features import all_features, hjorth_features\n",
    "from classifiers import knn_classification, svm_classification, cnn_classification, EEGNet_classification_2, EEGNet_classification_3, EEGNet_classification_TSGL\n",
    "import utils.variables as v\n",
    "\n",
    "from EEGModels import EEGNet,EEGNet_SSVEP,TSGLEEGNet\n"
   ]
  },
  {
   "cell_type": "code",
   "execution_count": 2,
   "metadata": {},
   "outputs": [
    {
     "name": "stderr",
     "output_type": "stream",
     "text": [
      "ERROR:root:1) Failed to read data for recording P006_S002_001\n",
      "ERROR:root:1) Failed to read data for recording P006_S002_002\n"
     ]
    },
    {
     "name": "stdout",
     "output_type": "stream",
     "text": [
      "Filtering out invalid recordings\n",
      "\n",
      "Data/ICA_data\\sub-P010_ses-S001_run-001.mat not valid\n",
      "Data/ICA_data\\sub-P013_ses-S001_run-001.mat not valid\n",
      "Data/ICA_data\\sub-P013_ses-S001_run-002.mat not valid\n"
     ]
    },
    {
     "name": "stderr",
     "output_type": "stream",
     "text": [
      "ERROR:root:1) Failed to read data for recording P028_S001_001\n",
      "ERROR:root:1) Failed to read data for recording P028_S001_002\n"
     ]
    },
    {
     "name": "stdout",
     "output_type": "stream",
     "text": [
      "Data/ICA_data\\sub-P020_ses-S001_run-001.mat not valid\n",
      "Data/ICA_data\\sub-P023_ses-S002_run-002.mat not valid\n",
      "Returning valid recordings\n",
      "\n",
      "Valid recs ['P001_S001_001', 'P001_S001_002', 'P001_S002_001', 'P001_S002_002', 'P002_S001_001', 'P002_S001_002', 'P002_S002_001', 'P002_S002_002', 'P003_S001_001', 'P003_S001_002', 'P003_S002_001', 'P003_S002_002', 'P004_S001_001', 'P004_S001_002', 'P004_S002_001', 'P004_S002_002', 'P005_S001_001', 'P005_S001_002', 'P005_S002_001', 'P005_S002_002', 'P006_S001_001', 'P006_S001_002', 'P007_S001_001', 'P007_S001_002', 'P007_S002_001', 'P007_S002_002', 'P008_S001_001', 'P008_S001_002', 'P008_S002_001', 'P008_S002_002', 'P009_S001_001', 'P009_S001_002', 'P009_S002_001', 'P009_S002_002', 'P010_S001_002', 'P010_S002_001', 'P010_S002_002', 'P011_S001_001', 'P011_S001_002', 'P011_S002_001', 'P011_S002_002', 'P012_S001_001', 'P012_S001_002', 'P012_S002_001', 'P012_S002_002', 'P013_S002_001', 'P013_S002_002', 'P014_S001_001', 'P014_S001_002', 'P014_S002_001', 'P014_S002_002', 'P015_S001_001', 'P015_S001_002', 'P015_S002_001', 'P015_S002_002', 'P016_S001_001', 'P016_S001_002', 'P016_S002_001', 'P016_S002_002', 'P017_S001_001', 'P017_S001_002', 'P017_S002_001', 'P017_S002_002', 'P018_S001_001', 'P018_S001_002', 'P018_S002_001', 'P018_S002_002', 'P019_S001_001', 'P019_S001_002', 'P019_S002_001', 'P019_S002_002', 'P020_S001_002', 'P020_S002_001', 'P020_S002_002', 'P021_S001_001', 'P021_S001_002', 'P021_S002_001', 'P021_S002_002', 'P022_S001_001', 'P022_S001_002', 'P022_S002_001', 'P022_S002_002', 'P023_S001_001', 'P023_S001_002', 'P023_S002_001', 'P024_S001_001', 'P024_S001_002', 'P024_S002_001', 'P024_S002_002', 'P025_S001_001', 'P025_S001_002', 'P025_S002_001', 'P025_S002_002', 'P026_S001_001', 'P026_S001_002', 'P026_S002_001', 'P026_S002_002', 'P027_S001_001', 'P027_S001_002', 'P027_S002_001', 'P027_S002_002', 'P028_S002_001', 'P028_S002_002']\n"
     ]
    }
   ],
   "source": [
    "valid_recs = get_valid_recs(data_type='ica', output_type = 'np')\n",
    "print(f'Valid recs {valid_recs}')\n",
    "\n",
    "x_dict_ = extract_eeg_data(valid_recs, data_type='ica', output_type='np')\n"
   ]
  },
  {
   "cell_type": "code",
   "execution_count": 3,
   "metadata": {},
   "outputs": [
    {
     "name": "stdout",
     "output_type": "stream",
     "text": [
      "    SubjectNo  D1Y1  D2Y1  J1Y1  J2Y1\n",
      "0           1    26    30    29    31\n",
      "1           2    38    41    26    34\n",
      "2           3    58    56    36    35\n",
      "3           4    40    45    24    24\n",
      "4           5    25    31    38    37\n",
      "5           6    49    58     0     0\n",
      "6           7    56    50    28    28\n",
      "7           8    46    37    23    27\n",
      "8           9    41    47    27    22\n",
      "9          10    37    20    23    21\n",
      "10         11    50    49    31    47\n",
      "11         12    42    47    47    41\n",
      "12         13    35    35    28    33\n",
      "13         14    54    35    26    26\n",
      "14         15    51    55    33    42\n",
      "15         16    35    38    42    45\n",
      "16         17    37    35    24    20\n",
      "17         18    54    62    41    48\n",
      "18         19    47    52    30    36\n",
      "19         20    46    38    24    25\n",
      "20         21    44    54    33    39\n",
      "21         22    49    51    28    34\n",
      "22         23    56    53    33    28\n",
      "23         24    52    58    36    41\n",
      "24         25    48    62    29    56\n",
      "25         26    43    37    25    26\n",
      "26         27    52    41    41    34\n",
      "27         28     0     0    29    29\n",
      "Invalid value for label\n",
      "Invalid value for label\n",
      "Invalid record\n",
      "Invalid record\n",
      "Invalid record\n",
      "Invalid record\n",
      "Invalid record\n",
      "Invalid value for label\n",
      "Invalid value for label\n",
      "{'P001_S001_001': 0, 'P001_S001_002': 0, 'P001_S002_001': 0, 'P001_S002_002': 0, 'P002_S001_001': 1, 'P002_S001_002': 1, 'P002_S002_001': 0, 'P002_S002_002': 0, 'P003_S001_001': 2, 'P003_S001_002': 2, 'P003_S002_001': 0, 'P003_S002_002': 0, 'P004_S001_001': 1, 'P004_S001_002': 1, 'P004_S002_001': 0, 'P004_S002_002': 0, 'P005_S001_001': 0, 'P005_S001_002': 0, 'P005_S002_001': 1, 'P005_S002_002': 1, 'P006_S001_001': 2, 'P006_S001_002': 2, 'P007_S001_001': 2, 'P007_S001_002': 2, 'P007_S002_001': 0, 'P007_S002_002': 0, 'P008_S001_001': 2, 'P008_S001_002': 1, 'P008_S002_001': 0, 'P008_S002_002': 0, 'P009_S001_001': 1, 'P009_S001_002': 2, 'P009_S002_001': 0, 'P009_S002_002': 0, 'P010_S001_002': 0, 'P010_S002_001': 0, 'P010_S002_002': 0, 'P011_S001_001': 2, 'P011_S001_002': 2, 'P011_S002_001': 0, 'P011_S002_002': 2, 'P012_S001_001': 1, 'P012_S001_002': 2, 'P012_S002_001': 2, 'P012_S002_002': 1, 'P013_S002_001': 0, 'P013_S002_002': 0, 'P014_S001_001': 2, 'P014_S001_002': 0, 'P014_S002_001': 0, 'P014_S002_002': 0, 'P015_S001_001': 2, 'P015_S001_002': 2, 'P015_S002_001': 0, 'P015_S002_002': 1, 'P016_S001_001': 0, 'P016_S001_002': 1, 'P016_S002_001': 1, 'P016_S002_002': 1, 'P017_S001_001': 1, 'P017_S001_002': 0, 'P017_S002_001': 0, 'P017_S002_002': 0, 'P018_S001_001': 2, 'P018_S001_002': 2, 'P018_S002_001': 1, 'P018_S002_002': 2, 'P019_S001_001': 2, 'P019_S001_002': 2, 'P019_S002_001': 0, 'P019_S002_002': 0, 'P020_S001_002': 1, 'P020_S002_001': 0, 'P020_S002_002': 0, 'P021_S001_001': 1, 'P021_S001_002': 2, 'P021_S002_001': 0, 'P021_S002_002': 1, 'P022_S001_001': 2, 'P022_S001_002': 2, 'P022_S002_001': 0, 'P022_S002_002': 0, 'P023_S001_001': 2, 'P023_S001_002': 2, 'P023_S002_001': 0, 'P024_S001_001': 2, 'P024_S001_002': 2, 'P024_S002_001': 0, 'P024_S002_002': 1, 'P025_S001_001': 2, 'P025_S001_002': 2, 'P025_S002_001': 0, 'P025_S002_002': 2, 'P026_S001_001': 1, 'P026_S001_002': 1, 'P026_S002_001': 0, 'P026_S002_002': 0, 'P027_S001_001': 2, 'P027_S001_002': 1, 'P027_S002_001': 1, 'P027_S002_002': 0, 'P028_S002_001': 0, 'P028_S002_002': 0}\n"
     ]
    }
   ],
   "source": [
    "y_dict_ = get_stai_labels(valid_recs) \n",
    "#y_dict = get_pss_labels(valid_recs)"
   ]
  },
  {
   "cell_type": "code",
   "execution_count": 4,
   "metadata": {},
   "outputs": [
    {
     "name": "stdout",
     "output_type": "stream",
     "text": [
      " Length of data after removing invalid labels: 103\n",
      " Lenght og labels after removing invalid labels: 103\n"
     ]
    }
   ],
   "source": [
    "print(f\" Length of data after removing invalid labels: {len(x_dict_)}\")\n",
    "print(f\" Lenght og labels after removing invalid labels: {len(y_dict_)}\")\n"
   ]
  },
  {
   "cell_type": "code",
   "execution_count": 5,
   "metadata": {},
   "outputs": [
    {
     "name": "stdout",
     "output_type": "stream",
     "text": [
      "\n",
      "The extracted keys : \n",
      "['P002_S001_001', 'P002_S001_002', 'P004_S001_001', 'P004_S001_002', 'P005_S002_001', 'P005_S002_002', 'P008_S001_002', 'P009_S001_001', 'P012_S001_001', 'P012_S002_002', 'P015_S002_002', 'P016_S001_002', 'P016_S002_001', 'P016_S002_002', 'P017_S001_001', 'P018_S002_001', 'P020_S001_002', 'P021_S001_001', 'P021_S002_002', 'P024_S002_002', 'P026_S001_001', 'P026_S001_002', 'P027_S001_002', 'P027_S002_001']\n",
      "\n",
      "Dictionary after removal of keys from y_dict: \n",
      " dict_keys(['P001_S001_001', 'P001_S001_002', 'P001_S002_001', 'P001_S002_002', 'P002_S002_001', 'P002_S002_002', 'P003_S001_001', 'P003_S001_002', 'P003_S002_001', 'P003_S002_002', 'P004_S002_001', 'P004_S002_002', 'P005_S001_001', 'P005_S001_002', 'P006_S001_001', 'P006_S001_002', 'P007_S001_001', 'P007_S001_002', 'P007_S002_001', 'P007_S002_002', 'P008_S001_001', 'P008_S002_001', 'P008_S002_002', 'P009_S001_002', 'P009_S002_001', 'P009_S002_002', 'P010_S001_002', 'P010_S002_001', 'P010_S002_002', 'P011_S001_001', 'P011_S001_002', 'P011_S002_001', 'P011_S002_002', 'P012_S001_002', 'P012_S002_001', 'P013_S002_001', 'P013_S002_002', 'P014_S001_001', 'P014_S001_002', 'P014_S002_001', 'P014_S002_002', 'P015_S001_001', 'P015_S001_002', 'P015_S002_001', 'P016_S001_001', 'P017_S001_002', 'P017_S002_001', 'P017_S002_002', 'P018_S001_001', 'P018_S001_002', 'P018_S002_002', 'P019_S001_001', 'P019_S001_002', 'P019_S002_001', 'P019_S002_002', 'P020_S002_001', 'P020_S002_002', 'P021_S001_002', 'P021_S002_001', 'P022_S001_001', 'P022_S001_002', 'P022_S002_001', 'P022_S002_002', 'P023_S001_001', 'P023_S001_002', 'P023_S002_001', 'P024_S001_001', 'P024_S001_002', 'P024_S002_001', 'P025_S001_001', 'P025_S001_002', 'P025_S002_001', 'P025_S002_002', 'P026_S002_001', 'P026_S002_002', 'P027_S001_001', 'P027_S002_002', 'P028_S002_001', 'P028_S002_002'])\n",
      "\n",
      "Dictionary after removal of keys from x_dict: \n",
      " dict_keys(['P001_S001_001', 'P001_S001_002', 'P001_S002_001', 'P001_S002_002', 'P002_S002_001', 'P002_S002_002', 'P003_S001_001', 'P003_S001_002', 'P003_S002_001', 'P003_S002_002', 'P004_S002_001', 'P004_S002_002', 'P005_S001_001', 'P005_S001_002', 'P006_S001_001', 'P006_S001_002', 'P007_S001_001', 'P007_S001_002', 'P007_S002_001', 'P007_S002_002', 'P008_S001_001', 'P008_S002_001', 'P008_S002_002', 'P009_S001_002', 'P009_S002_001', 'P009_S002_002', 'P010_S001_002', 'P010_S002_001', 'P010_S002_002', 'P011_S001_001', 'P011_S001_002', 'P011_S002_001', 'P011_S002_002', 'P012_S001_002', 'P012_S002_001', 'P013_S002_001', 'P013_S002_002', 'P014_S001_001', 'P014_S001_002', 'P014_S002_001', 'P014_S002_002', 'P015_S001_001', 'P015_S001_002', 'P015_S002_001', 'P016_S001_001', 'P017_S001_002', 'P017_S002_001', 'P017_S002_002', 'P018_S001_001', 'P018_S001_002', 'P018_S002_002', 'P019_S001_001', 'P019_S001_002', 'P019_S002_001', 'P019_S002_002', 'P020_S002_001', 'P020_S002_002', 'P021_S001_002', 'P021_S002_001', 'P022_S001_001', 'P022_S001_002', 'P022_S002_001', 'P022_S002_002', 'P023_S001_001', 'P023_S001_002', 'P023_S002_001', 'P024_S001_001', 'P024_S001_002', 'P024_S002_001', 'P025_S001_001', 'P025_S001_002', 'P025_S002_001', 'P025_S002_002', 'P026_S002_001', 'P026_S002_002', 'P027_S001_001', 'P027_S002_002', 'P028_S002_001', 'P028_S002_002'])\n"
     ]
    }
   ],
   "source": [
    "x_dict, y_dict = multi_to_binary_classification(x_dict_, y_dict_)"
   ]
  },
  {
   "cell_type": "code",
   "execution_count": 6,
   "metadata": {},
   "outputs": [
    {
     "name": "stdout",
     "output_type": "stream",
     "text": [
      " Length of data after removing mildly stressed subjects: 79\n",
      " Lenght og labels after removing  mildly stressed subjects: 79\n"
     ]
    }
   ],
   "source": [
    "print(f\" Length of data after removing mildly stressed subjects: {len(x_dict_)}\")\n",
    "print(f\" Lenght og labels after removing  mildly stressed subjects: {len(y_dict_)}\")"
   ]
  },
  {
   "cell_type": "code",
   "execution_count": 7,
   "metadata": {},
   "outputs": [],
   "source": [
    "train_data_dict, test_data_dict, val_data_dict, train_labels_dict, test_labels_dict, val_labels_dict = split_dataset(x_dict, y_dict)"
   ]
  },
  {
   "cell_type": "code",
   "execution_count": 8,
   "metadata": {},
   "outputs": [
    {
     "name": "stdout",
     "output_type": "stream",
     "text": [
      "Length of train data set: 47\n",
      "Length of validation data set: 16\n",
      "Length of test data set: 16\n"
     ]
    }
   ],
   "source": [
    "print(f\"Length of train data set: {len(train_data_dict)}\")\n",
    "print(f\"Length of validation data set: {len(val_data_dict)}\")\n",
    "print(f\"Length of test data set: {len(test_data_dict)}\")"
   ]
  },
  {
   "cell_type": "code",
   "execution_count": 9,
   "metadata": {},
   "outputs": [
    {
     "name": "stdout",
     "output_type": "stream",
     "text": [
      "Shape of train data set: (47, 8, 75000)\n",
      "Shape of validation data set: (16, 8, 75000)\n",
      "Shape of test data set: (16, 8, 75000)\n"
     ]
    }
   ],
   "source": [
    "train_data_arr = dict_to_arr(train_data_dict)\n",
    "test_data_arr = dict_to_arr(test_data_dict)\n",
    "val_data_arr = dict_to_arr(val_data_dict)\n",
    "\n",
    "train_labels_arr = np.reshape(np.array(list(train_labels_dict.values())), (len(train_data_arr),1))\n",
    "test_labels_arr = np.reshape(np.array(list(test_labels_dict.values())), (len(test_data_arr),1))\n",
    "val_labels_arr = np.reshape(np.array(list(val_labels_dict.values())), (len(val_data_arr),1))\n",
    "\n",
    "train_labels_arr[train_labels_arr == 2] = 1\n",
    "test_labels_arr[test_labels_arr == 2] = 1\n",
    "val_labels_arr[val_labels_arr == 2] = 1\n",
    "\n",
    "\n",
    "print(f\"Shape of train data set: {train_data_arr.shape}\")\n",
    "print(f\"Shape of validation data set: {val_data_arr.shape}\")\n",
    "print(f\"Shape of test data set: {test_data_arr.shape}\")"
   ]
  },
  {
   "cell_type": "code",
   "execution_count": 10,
   "metadata": {},
   "outputs": [
    {
     "name": "stdout",
     "output_type": "stream",
     "text": [
      "(47, 1)\n",
      "(16, 1)\n",
      "(16, 1)\n"
     ]
    }
   ],
   "source": [
    "print(train_labels_arr.shape)\n",
    "print(val_labels_arr.shape)\n",
    "print(test_labels_arr.shape)"
   ]
  },
  {
   "cell_type": "code",
   "execution_count": 11,
   "metadata": {},
   "outputs": [
    {
     "data": {
      "text/plain": [
       "'# convert labels to one-hot encodings.\\ntrain_labels = np_utils.to_categorical(train_labels_arr-1)\\nval_labels   = np_utils.to_categorical(val_labels_arr-1)\\ntest_labels  = np_utils.to_categorical(test_labels_arr-1)\\n\\n# convert data to NHWC (trials, channels, samples, kernels) format. Data \\n# contains 60 channels and 151 time-points. Set the number of kernels to 1.\\nkernels = 1\\n\\ntrain_data      = train_data_arr.reshape(train_data_arr.shape[0], v.NUM_CHANNELS, v.NUM_SAMPLES, kernels)\\nval_data        = val_data_arr.reshape(val_data_arr.shape[0], v.NUM_CHANNELS, v.NUM_SAMPLES, kernels)\\ntest_data       = test_data_arr.reshape(test_data_arr.shape[0], v.NUM_CHANNELS, v.NUM_SAMPLES, kernels)'"
      ]
     },
     "execution_count": 11,
     "metadata": {},
     "output_type": "execute_result"
    }
   ],
   "source": [
    "\"\"\"# convert labels to one-hot encodings.\n",
    "train_labels = np_utils.to_categorical(train_labels_arr-1)\n",
    "val_labels   = np_utils.to_categorical(val_labels_arr-1)\n",
    "test_labels  = np_utils.to_categorical(test_labels_arr-1)\n",
    "\n",
    "# convert data to NHWC (trials, channels, samples, kernels) format. Data \n",
    "# contains 60 channels and 151 time-points. Set the number of kernels to 1.\n",
    "kernels = 1\n",
    "\n",
    "train_data      = train_data_arr.reshape(train_data_arr.shape[0], v.NUM_CHANNELS, v.NUM_SAMPLES, kernels)\n",
    "val_data        = val_data_arr.reshape(val_data_arr.shape[0], v.NUM_CHANNELS, v.NUM_SAMPLES, kernels)\n",
    "test_data       = test_data_arr.reshape(test_data_arr.shape[0], v.NUM_CHANNELS, v.NUM_SAMPLES, kernels)\"\"\"\n",
    "   "
   ]
  },
  {
   "cell_type": "code",
   "execution_count": 12,
   "metadata": {},
   "outputs": [
    {
     "name": "stdout",
     "output_type": "stream",
     "text": [
      "Epoch 1/100\n",
      "\n",
      "Epoch 1: val_loss improved from inf to 2.89088, saving model to /tmp\\checkpoint.h5\n",
      "3/3 - 16s - loss: 5.9533 - accuracy: 0.4681 - val_loss: 2.8909 - val_accuracy: 0.7500 - 16s/epoch - 5s/step\n",
      "Epoch 2/100\n",
      "\n",
      "Epoch 2: val_loss improved from 2.89088 to 2.31085, saving model to /tmp\\checkpoint.h5\n",
      "3/3 - 15s - loss: 4.2075 - accuracy: 0.8936 - val_loss: 2.3108 - val_accuracy: 0.5625 - 15s/epoch - 5s/step\n",
      "Epoch 3/100\n",
      "\n",
      "Epoch 3: val_loss improved from 2.31085 to 1.98107, saving model to /tmp\\checkpoint.h5\n",
      "3/3 - 15s - loss: 3.9835 - accuracy: 0.9787 - val_loss: 1.9811 - val_accuracy: 0.6875 - 15s/epoch - 5s/step\n",
      "Epoch 4/100\n",
      "\n",
      "Epoch 4: val_loss improved from 1.98107 to 1.68589, saving model to /tmp\\checkpoint.h5\n",
      "3/3 - 14s - loss: 3.6381 - accuracy: 1.0000 - val_loss: 1.6859 - val_accuracy: 0.6250 - 14s/epoch - 5s/step\n",
      "Epoch 5/100\n",
      "\n",
      "Epoch 5: val_loss improved from 1.68589 to 1.47487, saving model to /tmp\\checkpoint.h5\n",
      "3/3 - 14s - loss: 3.3609 - accuracy: 1.0000 - val_loss: 1.4749 - val_accuracy: 0.6250 - 14s/epoch - 5s/step\n",
      "Epoch 6/100\n",
      "\n",
      "Epoch 6: val_loss improved from 1.47487 to 1.32823, saving model to /tmp\\checkpoint.h5\n",
      "3/3 - 15s - loss: 3.3311 - accuracy: 1.0000 - val_loss: 1.3282 - val_accuracy: 0.6250 - 15s/epoch - 5s/step\n",
      "Epoch 7/100\n",
      "\n",
      "Epoch 7: val_loss improved from 1.32823 to 1.22543, saving model to /tmp\\checkpoint.h5\n",
      "3/3 - 14s - loss: 3.0461 - accuracy: 1.0000 - val_loss: 1.2254 - val_accuracy: 0.6250 - 14s/epoch - 5s/step\n",
      "Epoch 8/100\n",
      "\n",
      "Epoch 8: val_loss improved from 1.22543 to 1.14625, saving model to /tmp\\checkpoint.h5\n",
      "3/3 - 15s - loss: 2.8094 - accuracy: 1.0000 - val_loss: 1.1463 - val_accuracy: 0.6875 - 15s/epoch - 5s/step\n",
      "Epoch 9/100\n",
      "\n",
      "Epoch 9: val_loss improved from 1.14625 to 1.08574, saving model to /tmp\\checkpoint.h5\n",
      "3/3 - 14s - loss: 2.5966 - accuracy: 1.0000 - val_loss: 1.0857 - val_accuracy: 0.6250 - 14s/epoch - 5s/step\n",
      "Epoch 10/100\n",
      "\n",
      "Epoch 10: val_loss improved from 1.08574 to 1.03546, saving model to /tmp\\checkpoint.h5\n",
      "3/3 - 15s - loss: 2.5593 - accuracy: 1.0000 - val_loss: 1.0355 - val_accuracy: 0.6250 - 15s/epoch - 5s/step\n",
      "Epoch 11/100\n",
      "\n",
      "Epoch 11: val_loss improved from 1.03546 to 0.99534, saving model to /tmp\\checkpoint.h5\n",
      "3/3 - 14s - loss: 2.4508 - accuracy: 1.0000 - val_loss: 0.9953 - val_accuracy: 0.6250 - 14s/epoch - 5s/step\n",
      "Epoch 12/100\n",
      "\n",
      "Epoch 12: val_loss improved from 0.99534 to 0.96367, saving model to /tmp\\checkpoint.h5\n",
      "3/3 - 14s - loss: 2.2843 - accuracy: 1.0000 - val_loss: 0.9637 - val_accuracy: 0.6250 - 14s/epoch - 5s/step\n",
      "Epoch 13/100\n",
      "\n",
      "Epoch 13: val_loss improved from 0.96367 to 0.93767, saving model to /tmp\\checkpoint.h5\n",
      "3/3 - 14s - loss: 2.0722 - accuracy: 1.0000 - val_loss: 0.9377 - val_accuracy: 0.6250 - 14s/epoch - 5s/step\n",
      "Epoch 14/100\n",
      "\n",
      "Epoch 14: val_loss improved from 0.93767 to 0.91486, saving model to /tmp\\checkpoint.h5\n",
      "3/3 - 14s - loss: 2.0267 - accuracy: 1.0000 - val_loss: 0.9149 - val_accuracy: 0.5625 - 14s/epoch - 5s/step\n",
      "Epoch 15/100\n",
      "\n",
      "Epoch 15: val_loss improved from 0.91486 to 0.89542, saving model to /tmp\\checkpoint.h5\n",
      "3/3 - 14s - loss: 1.9342 - accuracy: 1.0000 - val_loss: 0.8954 - val_accuracy: 0.5625 - 14s/epoch - 5s/step\n",
      "Epoch 16/100\n",
      "\n",
      "Epoch 16: val_loss improved from 0.89542 to 0.87887, saving model to /tmp\\checkpoint.h5\n",
      "3/3 - 14s - loss: 1.9731 - accuracy: 1.0000 - val_loss: 0.8789 - val_accuracy: 0.5625 - 14s/epoch - 5s/step\n",
      "Epoch 17/100\n",
      "\n",
      "Epoch 17: val_loss improved from 0.87887 to 0.86417, saving model to /tmp\\checkpoint.h5\n",
      "3/3 - 14s - loss: 1.7290 - accuracy: 1.0000 - val_loss: 0.8642 - val_accuracy: 0.5625 - 14s/epoch - 5s/step\n",
      "Epoch 18/100\n",
      "\n",
      "Epoch 18: val_loss improved from 0.86417 to 0.85144, saving model to /tmp\\checkpoint.h5\n",
      "3/3 - 14s - loss: 1.6625 - accuracy: 1.0000 - val_loss: 0.8514 - val_accuracy: 0.5625 - 14s/epoch - 5s/step\n",
      "Epoch 19/100\n",
      "\n",
      "Epoch 19: val_loss improved from 0.85144 to 0.84239, saving model to /tmp\\checkpoint.h5\n",
      "3/3 - 15s - loss: 1.5787 - accuracy: 1.0000 - val_loss: 0.8424 - val_accuracy: 0.5625 - 15s/epoch - 5s/step\n",
      "Epoch 20/100\n",
      "\n",
      "Epoch 20: val_loss improved from 0.84239 to 0.83494, saving model to /tmp\\checkpoint.h5\n",
      "3/3 - 14s - loss: 1.4315 - accuracy: 1.0000 - val_loss: 0.8349 - val_accuracy: 0.5625 - 14s/epoch - 5s/step\n",
      "Epoch 21/100\n",
      "\n",
      "Epoch 21: val_loss improved from 0.83494 to 0.82848, saving model to /tmp\\checkpoint.h5\n",
      "3/3 - 14s - loss: 1.3141 - accuracy: 1.0000 - val_loss: 0.8285 - val_accuracy: 0.5625 - 14s/epoch - 5s/step\n",
      "Epoch 22/100\n",
      "\n",
      "Epoch 22: val_loss improved from 0.82848 to 0.82227, saving model to /tmp\\checkpoint.h5\n",
      "3/3 - 14s - loss: 1.2014 - accuracy: 1.0000 - val_loss: 0.8223 - val_accuracy: 0.5625 - 14s/epoch - 5s/step\n",
      "Epoch 23/100\n",
      "\n",
      "Epoch 23: val_loss improved from 0.82227 to 0.81660, saving model to /tmp\\checkpoint.h5\n",
      "3/3 - 14s - loss: 1.1528 - accuracy: 1.0000 - val_loss: 0.8166 - val_accuracy: 0.5000 - 14s/epoch - 5s/step\n",
      "Epoch 24/100\n",
      "\n",
      "Epoch 24: val_loss improved from 0.81660 to 0.81211, saving model to /tmp\\checkpoint.h5\n",
      "3/3 - 14s - loss: 1.0928 - accuracy: 1.0000 - val_loss: 0.8121 - val_accuracy: 0.5000 - 14s/epoch - 5s/step\n",
      "Epoch 25/100\n",
      "\n",
      "Epoch 25: val_loss improved from 0.81211 to 0.80822, saving model to /tmp\\checkpoint.h5\n",
      "3/3 - 15s - loss: 0.9729 - accuracy: 1.0000 - val_loss: 0.8082 - val_accuracy: 0.5625 - 15s/epoch - 5s/step\n",
      "Epoch 26/100\n",
      "\n",
      "Epoch 26: val_loss improved from 0.80822 to 0.80433, saving model to /tmp\\checkpoint.h5\n",
      "3/3 - 14s - loss: 0.8944 - accuracy: 1.0000 - val_loss: 0.8043 - val_accuracy: 0.5625 - 14s/epoch - 5s/step\n",
      "Epoch 27/100\n",
      "\n",
      "Epoch 27: val_loss improved from 0.80433 to 0.80070, saving model to /tmp\\checkpoint.h5\n",
      "3/3 - 14s - loss: 0.8029 - accuracy: 1.0000 - val_loss: 0.8007 - val_accuracy: 0.5625 - 14s/epoch - 5s/step\n",
      "Epoch 28/100\n",
      "\n",
      "Epoch 28: val_loss improved from 0.80070 to 0.79725, saving model to /tmp\\checkpoint.h5\n",
      "3/3 - 14s - loss: 0.7500 - accuracy: 1.0000 - val_loss: 0.7972 - val_accuracy: 0.6250 - 14s/epoch - 5s/step\n",
      "Epoch 29/100\n",
      "\n",
      "Epoch 29: val_loss improved from 0.79725 to 0.79304, saving model to /tmp\\checkpoint.h5\n",
      "3/3 - 14s - loss: 0.6934 - accuracy: 1.0000 - val_loss: 0.7930 - val_accuracy: 0.6250 - 14s/epoch - 5s/step\n",
      "Epoch 30/100\n",
      "\n",
      "Epoch 30: val_loss improved from 0.79304 to 0.78939, saving model to /tmp\\checkpoint.h5\n",
      "3/3 - 15s - loss: 0.6444 - accuracy: 1.0000 - val_loss: 0.7894 - val_accuracy: 0.6250 - 15s/epoch - 5s/step\n",
      "Epoch 31/100\n",
      "\n",
      "Epoch 31: val_loss improved from 0.78939 to 0.78455, saving model to /tmp\\checkpoint.h5\n",
      "3/3 - 15s - loss: 0.6790 - accuracy: 1.0000 - val_loss: 0.7845 - val_accuracy: 0.6250 - 15s/epoch - 5s/step\n",
      "Epoch 32/100\n",
      "\n",
      "Epoch 32: val_loss improved from 0.78455 to 0.78005, saving model to /tmp\\checkpoint.h5\n",
      "3/3 - 15s - loss: 0.5960 - accuracy: 1.0000 - val_loss: 0.7800 - val_accuracy: 0.6250 - 15s/epoch - 5s/step\n",
      "Epoch 33/100\n",
      "\n",
      "Epoch 33: val_loss improved from 0.78005 to 0.77228, saving model to /tmp\\checkpoint.h5\n",
      "3/3 - 14s - loss: 0.5358 - accuracy: 1.0000 - val_loss: 0.7723 - val_accuracy: 0.6250 - 14s/epoch - 5s/step\n",
      "Epoch 34/100\n",
      "\n",
      "Epoch 34: val_loss improved from 0.77228 to 0.76086, saving model to /tmp\\checkpoint.h5\n",
      "3/3 - 14s - loss: 0.4918 - accuracy: 1.0000 - val_loss: 0.7609 - val_accuracy: 0.6250 - 14s/epoch - 5s/step\n",
      "Epoch 35/100\n",
      "\n",
      "Epoch 35: val_loss improved from 0.76086 to 0.74569, saving model to /tmp\\checkpoint.h5\n",
      "3/3 - 14s - loss: 0.4641 - accuracy: 1.0000 - val_loss: 0.7457 - val_accuracy: 0.6250 - 14s/epoch - 5s/step\n",
      "Epoch 36/100\n",
      "\n",
      "Epoch 36: val_loss improved from 0.74569 to 0.73611, saving model to /tmp\\checkpoint.h5\n",
      "3/3 - 15s - loss: 0.3999 - accuracy: 1.0000 - val_loss: 0.7361 - val_accuracy: 0.6875 - 15s/epoch - 5s/step\n",
      "Epoch 37/100\n",
      "\n",
      "Epoch 37: val_loss improved from 0.73611 to 0.73072, saving model to /tmp\\checkpoint.h5\n",
      "3/3 - 14s - loss: 0.3744 - accuracy: 1.0000 - val_loss: 0.7307 - val_accuracy: 0.6875 - 14s/epoch - 5s/step\n",
      "Epoch 38/100\n",
      "\n",
      "Epoch 38: val_loss improved from 0.73072 to 0.72323, saving model to /tmp\\checkpoint.h5\n",
      "3/3 - 14s - loss: 0.4086 - accuracy: 1.0000 - val_loss: 0.7232 - val_accuracy: 0.6875 - 14s/epoch - 5s/step\n",
      "Epoch 39/100\n",
      "\n",
      "Epoch 39: val_loss improved from 0.72323 to 0.71448, saving model to /tmp\\checkpoint.h5\n",
      "3/3 - 14s - loss: 0.3190 - accuracy: 1.0000 - val_loss: 0.7145 - val_accuracy: 0.7500 - 14s/epoch - 5s/step\n",
      "Epoch 40/100\n",
      "\n",
      "Epoch 40: val_loss did not improve from 0.71448\n",
      "3/3 - 15s - loss: 0.3103 - accuracy: 1.0000 - val_loss: 0.7156 - val_accuracy: 0.6875 - 15s/epoch - 5s/step\n",
      "Epoch 41/100\n",
      "\n",
      "Epoch 41: val_loss did not improve from 0.71448\n",
      "3/3 - 14s - loss: 0.2910 - accuracy: 1.0000 - val_loss: 0.7172 - val_accuracy: 0.6250 - 14s/epoch - 5s/step\n",
      "Epoch 42/100\n",
      "\n",
      "Epoch 42: val_loss did not improve from 0.71448\n",
      "3/3 - 14s - loss: 0.2743 - accuracy: 1.0000 - val_loss: 0.7158 - val_accuracy: 0.6250 - 14s/epoch - 5s/step\n",
      "Epoch 43/100\n",
      "\n",
      "Epoch 43: val_loss improved from 0.71448 to 0.70031, saving model to /tmp\\checkpoint.h5\n",
      "3/3 - 14s - loss: 0.2523 - accuracy: 1.0000 - val_loss: 0.7003 - val_accuracy: 0.7500 - 14s/epoch - 5s/step\n",
      "Epoch 44/100\n",
      "\n",
      "Epoch 44: val_loss improved from 0.70031 to 0.68715, saving model to /tmp\\checkpoint.h5\n",
      "3/3 - 14s - loss: 0.2379 - accuracy: 1.0000 - val_loss: 0.6872 - val_accuracy: 0.7500 - 14s/epoch - 5s/step\n",
      "Epoch 45/100\n",
      "\n",
      "Epoch 45: val_loss improved from 0.68715 to 0.68274, saving model to /tmp\\checkpoint.h5\n",
      "3/3 - 14s - loss: 0.2061 - accuracy: 1.0000 - val_loss: 0.6827 - val_accuracy: 0.7500 - 14s/epoch - 5s/step\n",
      "Epoch 46/100\n",
      "\n",
      "Epoch 46: val_loss did not improve from 0.68274\n",
      "3/3 - 14s - loss: 0.2015 - accuracy: 1.0000 - val_loss: 0.6893 - val_accuracy: 0.7500 - 14s/epoch - 5s/step\n",
      "Epoch 47/100\n",
      "\n",
      "Epoch 47: val_loss did not improve from 0.68274\n",
      "3/3 - 14s - loss: 0.1952 - accuracy: 1.0000 - val_loss: 0.7037 - val_accuracy: 0.5625 - 14s/epoch - 5s/step\n",
      "Epoch 48/100\n",
      "\n",
      "Epoch 48: val_loss did not improve from 0.68274\n",
      "3/3 - 14s - loss: 0.1680 - accuracy: 1.0000 - val_loss: 0.7000 - val_accuracy: 0.5625 - 14s/epoch - 5s/step\n",
      "Epoch 49/100\n",
      "\n",
      "Epoch 49: val_loss improved from 0.68274 to 0.67155, saving model to /tmp\\checkpoint.h5\n",
      "3/3 - 14s - loss: 0.1662 - accuracy: 1.0000 - val_loss: 0.6715 - val_accuracy: 0.6875 - 14s/epoch - 5s/step\n",
      "Epoch 50/100\n",
      "\n",
      "Epoch 50: val_loss improved from 0.67155 to 0.66743, saving model to /tmp\\checkpoint.h5\n",
      "3/3 - 14s - loss: 0.1444 - accuracy: 1.0000 - val_loss: 0.6674 - val_accuracy: 0.7500 - 14s/epoch - 5s/step\n",
      "Epoch 51/100\n",
      "\n",
      "Epoch 51: val_loss did not improve from 0.66743\n",
      "3/3 - 14s - loss: 0.1432 - accuracy: 1.0000 - val_loss: 0.6832 - val_accuracy: 0.7500 - 14s/epoch - 5s/step\n",
      "Epoch 52/100\n",
      "\n",
      "Epoch 52: val_loss did not improve from 0.66743\n",
      "3/3 - 14s - loss: 0.1244 - accuracy: 1.0000 - val_loss: 0.6995 - val_accuracy: 0.6250 - 14s/epoch - 5s/step\n",
      "Epoch 53/100\n",
      "\n",
      "Epoch 53: val_loss did not improve from 0.66743\n",
      "3/3 - 14s - loss: 0.1251 - accuracy: 1.0000 - val_loss: 0.6901 - val_accuracy: 0.5625 - 14s/epoch - 5s/step\n",
      "Epoch 54/100\n",
      "\n",
      "Epoch 54: val_loss did not improve from 0.66743\n",
      "3/3 - 15s - loss: 0.1226 - accuracy: 1.0000 - val_loss: 0.6733 - val_accuracy: 0.6875 - 15s/epoch - 5s/step\n",
      "Epoch 55/100\n",
      "\n",
      "Epoch 55: val_loss did not improve from 0.66743\n",
      "3/3 - 14s - loss: 0.1003 - accuracy: 1.0000 - val_loss: 0.6871 - val_accuracy: 0.6250 - 14s/epoch - 5s/step\n",
      "Epoch 56/100\n",
      "\n",
      "Epoch 56: val_loss did not improve from 0.66743\n",
      "3/3 - 15s - loss: 0.0997 - accuracy: 1.0000 - val_loss: 0.6928 - val_accuracy: 0.6250 - 15s/epoch - 5s/step\n",
      "Epoch 57/100\n",
      "\n",
      "Epoch 57: val_loss did not improve from 0.66743\n",
      "3/3 - 17s - loss: 0.0910 - accuracy: 1.0000 - val_loss: 0.6894 - val_accuracy: 0.5625 - 17s/epoch - 6s/step\n",
      "Epoch 58/100\n",
      "\n",
      "Epoch 58: val_loss did not improve from 0.66743\n",
      "3/3 - 14s - loss: 0.0836 - accuracy: 1.0000 - val_loss: 0.7700 - val_accuracy: 0.3750 - 14s/epoch - 5s/step\n",
      "Epoch 59/100\n",
      "\n",
      "Epoch 59: val_loss did not improve from 0.66743\n",
      "3/3 - 16s - loss: 0.0767 - accuracy: 1.0000 - val_loss: 0.7797 - val_accuracy: 0.3750 - 16s/epoch - 5s/step\n",
      "Epoch 60/100\n",
      "\n",
      "Epoch 60: val_loss did not improve from 0.66743\n",
      "3/3 - 16s - loss: 0.0733 - accuracy: 1.0000 - val_loss: 0.7144 - val_accuracy: 0.4375 - 16s/epoch - 5s/step\n",
      "Epoch 61/100\n",
      "\n",
      "Epoch 61: val_loss did not improve from 0.66743\n",
      "3/3 - 16s - loss: 0.0700 - accuracy: 1.0000 - val_loss: 0.6922 - val_accuracy: 0.5000 - 16s/epoch - 5s/step\n",
      "Epoch 62/100\n",
      "\n",
      "Epoch 62: val_loss did not improve from 0.66743\n",
      "3/3 - 15s - loss: 0.3997 - accuracy: 0.9787 - val_loss: 1.3621 - val_accuracy: 0.2500 - 15s/epoch - 5s/step\n",
      "Epoch 63/100\n",
      "\n",
      "Epoch 63: val_loss did not improve from 0.66743\n",
      "3/3 - 14s - loss: 1.2117 - accuracy: 0.7021 - val_loss: 1.2266 - val_accuracy: 0.3750 - 14s/epoch - 5s/step\n",
      "Epoch 64/100\n",
      "\n",
      "Epoch 64: val_loss did not improve from 0.66743\n",
      "3/3 - 15s - loss: 0.9942 - accuracy: 0.7660 - val_loss: 1.5564 - val_accuracy: 0.3125 - 15s/epoch - 5s/step\n",
      "Epoch 65/100\n",
      "\n",
      "Epoch 65: val_loss did not improve from 0.66743\n",
      "3/3 - 14s - loss: 0.4784 - accuracy: 0.8936 - val_loss: 1.3632 - val_accuracy: 0.4375 - 14s/epoch - 5s/step\n",
      "Epoch 66/100\n",
      "\n",
      "Epoch 66: val_loss did not improve from 0.66743\n",
      "3/3 - 14s - loss: 0.3563 - accuracy: 1.0000 - val_loss: 1.3613 - val_accuracy: 0.4375 - 14s/epoch - 5s/step\n",
      "Epoch 67/100\n",
      "\n",
      "Epoch 67: val_loss did not improve from 0.66743\n",
      "3/3 - 14s - loss: 0.3524 - accuracy: 1.0000 - val_loss: 1.3815 - val_accuracy: 0.4375 - 14s/epoch - 5s/step\n",
      "Epoch 68/100\n",
      "\n",
      "Epoch 68: val_loss did not improve from 0.66743\n",
      "3/3 - 14s - loss: 0.3826 - accuracy: 1.0000 - val_loss: 1.3577 - val_accuracy: 0.4375 - 14s/epoch - 5s/step\n",
      "Epoch 69/100\n",
      "\n",
      "Epoch 69: val_loss did not improve from 0.66743\n",
      "3/3 - 14s - loss: 0.3932 - accuracy: 1.0000 - val_loss: 1.3096 - val_accuracy: 0.5000 - 14s/epoch - 5s/step\n",
      "Epoch 70/100\n",
      "\n",
      "Epoch 70: val_loss did not improve from 0.66743\n",
      "3/3 - 14s - loss: 0.3938 - accuracy: 1.0000 - val_loss: 1.2642 - val_accuracy: 0.5000 - 14s/epoch - 5s/step\n",
      "Epoch 71/100\n",
      "\n",
      "Epoch 71: val_loss did not improve from 0.66743\n",
      "3/3 - 14s - loss: 0.3819 - accuracy: 1.0000 - val_loss: 1.2565 - val_accuracy: 0.4375 - 14s/epoch - 5s/step\n",
      "Epoch 72/100\n",
      "\n",
      "Epoch 72: val_loss did not improve from 0.66743\n",
      "3/3 - 14s - loss: 0.3690 - accuracy: 1.0000 - val_loss: 1.1684 - val_accuracy: 0.5625 - 14s/epoch - 5s/step\n",
      "Epoch 73/100\n",
      "\n",
      "Epoch 73: val_loss did not improve from 0.66743\n",
      "3/3 - 14s - loss: 0.3329 - accuracy: 1.0000 - val_loss: 1.1228 - val_accuracy: 0.5625 - 14s/epoch - 5s/step\n",
      "Epoch 74/100\n",
      "\n",
      "Epoch 74: val_loss did not improve from 0.66743\n",
      "3/3 - 14s - loss: 0.3221 - accuracy: 1.0000 - val_loss: 1.0944 - val_accuracy: 0.5625 - 14s/epoch - 5s/step\n",
      "Epoch 75/100\n",
      "\n",
      "Epoch 75: val_loss did not improve from 0.66743\n",
      "3/3 - 14s - loss: 0.3374 - accuracy: 1.0000 - val_loss: 1.0715 - val_accuracy: 0.5000 - 14s/epoch - 5s/step\n",
      "Epoch 76/100\n",
      "\n",
      "Epoch 76: val_loss did not improve from 0.66743\n",
      "3/3 - 14s - loss: 0.3309 - accuracy: 1.0000 - val_loss: 1.0963 - val_accuracy: 0.3750 - 14s/epoch - 5s/step\n",
      "Epoch 77/100\n",
      "\n",
      "Epoch 77: val_loss did not improve from 0.66743\n",
      "3/3 - 14s - loss: 0.3142 - accuracy: 1.0000 - val_loss: 1.0514 - val_accuracy: 0.4375 - 14s/epoch - 5s/step\n",
      "Epoch 78/100\n",
      "\n",
      "Epoch 78: val_loss did not improve from 0.66743\n",
      "3/3 - 14s - loss: 0.3175 - accuracy: 1.0000 - val_loss: 1.0015 - val_accuracy: 0.4375 - 14s/epoch - 5s/step\n",
      "Epoch 79/100\n",
      "\n",
      "Epoch 79: val_loss did not improve from 0.66743\n",
      "3/3 - 14s - loss: 0.2883 - accuracy: 1.0000 - val_loss: 0.9423 - val_accuracy: 0.6250 - 14s/epoch - 5s/step\n",
      "Epoch 80/100\n",
      "\n",
      "Epoch 80: val_loss did not improve from 0.66743\n",
      "3/3 - 14s - loss: 0.2669 - accuracy: 1.0000 - val_loss: 0.9225 - val_accuracy: 0.6875 - 14s/epoch - 5s/step\n",
      "Epoch 81/100\n",
      "\n",
      "Epoch 81: val_loss did not improve from 0.66743\n",
      "3/3 - 14s - loss: 0.2374 - accuracy: 1.0000 - val_loss: 0.9033 - val_accuracy: 0.6875 - 14s/epoch - 5s/step\n",
      "Epoch 82/100\n",
      "\n",
      "Epoch 82: val_loss did not improve from 0.66743\n",
      "3/3 - 14s - loss: 0.2414 - accuracy: 1.0000 - val_loss: 0.8852 - val_accuracy: 0.6875 - 14s/epoch - 5s/step\n",
      "Epoch 83/100\n",
      "\n",
      "Epoch 83: val_loss did not improve from 0.66743\n",
      "3/3 - 14s - loss: 0.2360 - accuracy: 1.0000 - val_loss: 0.8903 - val_accuracy: 0.5000 - 14s/epoch - 5s/step\n",
      "Epoch 84/100\n",
      "\n",
      "Epoch 84: val_loss did not improve from 0.66743\n",
      "3/3 - 14s - loss: 0.2254 - accuracy: 1.0000 - val_loss: 0.8972 - val_accuracy: 0.3750 - 14s/epoch - 5s/step\n",
      "Epoch 85/100\n",
      "\n",
      "Epoch 85: val_loss did not improve from 0.66743\n",
      "3/3 - 14s - loss: 0.1993 - accuracy: 1.0000 - val_loss: 0.8617 - val_accuracy: 0.5000 - 14s/epoch - 5s/step\n",
      "Epoch 86/100\n",
      "\n",
      "Epoch 86: val_loss did not improve from 0.66743\n",
      "3/3 - 14s - loss: 0.2008 - accuracy: 1.0000 - val_loss: 0.8221 - val_accuracy: 0.6875 - 14s/epoch - 5s/step\n",
      "Epoch 87/100\n",
      "\n",
      "Epoch 87: val_loss did not improve from 0.66743\n",
      "3/3 - 14s - loss: 0.1943 - accuracy: 1.0000 - val_loss: 0.8234 - val_accuracy: 0.6875 - 14s/epoch - 5s/step\n",
      "Epoch 88/100\n",
      "\n",
      "Epoch 88: val_loss did not improve from 0.66743\n",
      "3/3 - 14s - loss: 0.1768 - accuracy: 1.0000 - val_loss: 0.8185 - val_accuracy: 0.6875 - 14s/epoch - 5s/step\n",
      "Epoch 89/100\n",
      "\n",
      "Epoch 89: val_loss did not improve from 0.66743\n",
      "3/3 - 14s - loss: 0.1877 - accuracy: 1.0000 - val_loss: 0.8004 - val_accuracy: 0.6250 - 14s/epoch - 5s/step\n",
      "Epoch 90/100\n",
      "\n",
      "Epoch 90: val_loss did not improve from 0.66743\n",
      "3/3 - 14s - loss: 0.1630 - accuracy: 1.0000 - val_loss: 0.9045 - val_accuracy: 0.3125 - 14s/epoch - 5s/step\n",
      "Epoch 91/100\n",
      "\n",
      "Epoch 91: val_loss did not improve from 0.66743\n",
      "3/3 - 14s - loss: 0.1675 - accuracy: 1.0000 - val_loss: 0.8313 - val_accuracy: 0.3125 - 14s/epoch - 5s/step\n",
      "Epoch 92/100\n",
      "\n",
      "Epoch 92: val_loss did not improve from 0.66743\n",
      "3/3 - 14s - loss: 0.1581 - accuracy: 1.0000 - val_loss: 0.7718 - val_accuracy: 0.6250 - 14s/epoch - 5s/step\n",
      "Epoch 93/100\n",
      "\n",
      "Epoch 93: val_loss did not improve from 0.66743\n",
      "3/3 - 15s - loss: 0.1442 - accuracy: 1.0000 - val_loss: 0.7512 - val_accuracy: 0.7500 - 15s/epoch - 5s/step\n",
      "Epoch 94/100\n",
      "\n",
      "Epoch 94: val_loss did not improve from 0.66743\n",
      "3/3 - 15s - loss: 0.1477 - accuracy: 1.0000 - val_loss: 0.7422 - val_accuracy: 0.6875 - 15s/epoch - 5s/step\n",
      "Epoch 95/100\n",
      "\n",
      "Epoch 95: val_loss did not improve from 0.66743\n",
      "3/3 - 15s - loss: 0.1408 - accuracy: 1.0000 - val_loss: 0.7363 - val_accuracy: 0.7500 - 15s/epoch - 5s/step\n",
      "Epoch 96/100\n",
      "\n",
      "Epoch 96: val_loss did not improve from 0.66743\n",
      "3/3 - 14s - loss: 0.1398 - accuracy: 1.0000 - val_loss: 0.7379 - val_accuracy: 0.6250 - 14s/epoch - 5s/step\n",
      "Epoch 97/100\n",
      "\n",
      "Epoch 97: val_loss did not improve from 0.66743\n",
      "3/3 - 15s - loss: 0.1351 - accuracy: 1.0000 - val_loss: 0.7400 - val_accuracy: 0.5625 - 15s/epoch - 5s/step\n",
      "Epoch 98/100\n",
      "\n",
      "Epoch 98: val_loss did not improve from 0.66743\n",
      "3/3 - 15s - loss: 0.1379 - accuracy: 1.0000 - val_loss: 0.7261 - val_accuracy: 0.5625 - 15s/epoch - 5s/step\n",
      "Epoch 99/100\n",
      "\n",
      "Epoch 99: val_loss did not improve from 0.66743\n",
      "3/3 - 15s - loss: 0.1148 - accuracy: 1.0000 - val_loss: 0.7219 - val_accuracy: 0.5625 - 15s/epoch - 5s/step\n",
      "Epoch 100/100\n",
      "\n",
      "Epoch 100: val_loss did not improve from 0.66743\n",
      "3/3 - 15s - loss: 0.1183 - accuracy: 1.0000 - val_loss: 0.7082 - val_accuracy: 0.5625 - 15s/epoch - 5s/step\n",
      "1/1 [==============================] - 1s 566ms/step\n",
      "Classification accuracy: 0.546875 \n"
     ]
    },
    {
     "data": {
      "image/png": "[encoded data removed]",
      "text/plain": [
       "<Figure size 640x480 with 2 Axes>"
      ]
     },
     "metadata": {},
     "output_type": "display_data"
    }
   ],
   "source": [
    "probs = EEGNet_classification_TSGL(train_data_arr, test_data_arr, val_data_arr, train_labels_arr, test_labels_arr, val_labels_arr)"
   ]
  },
  {
   "cell_type": "code",
   "execution_count": 13,
   "metadata": {},
   "outputs": [
    {
     "name": "stdout",
     "output_type": "stream",
     "text": [
      "[[0.5147185  0.4852815 ]\n",
      " [0.6053511  0.39464894]\n",
      " [0.52572787 0.47427213]\n",
      " [0.44409105 0.5559089 ]\n",
      " [0.52067876 0.47932115]\n",
      " [0.6464838  0.3535162 ]\n",
      " [0.57658863 0.42341143]\n",
      " [0.4933186  0.5066814 ]\n",
      " [0.56331766 0.4366823 ]\n",
      " [0.5608027  0.43919724]\n",
      " [0.5804242  0.4195758 ]\n",
      " [0.5702193  0.42978075]\n",
      " [0.5404461  0.45955393]\n",
      " [0.54185885 0.4581412 ]\n",
      " [0.72629195 0.2737081 ]\n",
      " [0.7594961  0.24050388]]\n"
     ]
    }
   ],
   "source": [
    "print(probs)"
   ]
  },
  {
   "cell_type": "code",
   "execution_count": 14,
   "metadata": {},
   "outputs": [
    {
     "name": "stdout",
     "output_type": "stream",
     "text": [
      "[0 0 0 1 0 0 0 1 0 0 0 0 0 0 0 0]\n",
      "[[1 1 0 0 1 0 0 0 0 0 1 1 1 0 1 0]]\n"
     ]
    }
   ],
   "source": [
    "preds = probs.argmax(axis = -1)  \n",
    "print(preds)\n",
    "\n",
    "print(test_labels_arr.T)"
   ]
  },
  {
   "cell_type": "code",
   "execution_count": 15,
   "metadata": {},
   "outputs": [
    {
     "name": "stdout",
     "output_type": "stream",
     "text": [
      "0.546875\n"
     ]
    }
   ],
   "source": [
    "acc = np.mean(preds == test_labels_arr)\n",
    "print(acc)"
   ]
  },
  {
   "cell_type": "code",
   "execution_count": 16,
   "metadata": {},
   "outputs": [
    {
     "data": {
      "text/plain": [
       "array([[1],\n",
       "       [1],\n",
       "       [0],\n",
       "       [0],\n",
       "       [1],\n",
       "       [0],\n",
       "       [0],\n",
       "       [0],\n",
       "       [0],\n",
       "       [0],\n",
       "       [1],\n",
       "       [1],\n",
       "       [1],\n",
       "       [0],\n",
       "       [1],\n",
       "       [0]])"
      ]
     },
     "execution_count": 16,
     "metadata": {},
     "output_type": "execute_result"
    }
   ],
   "source": [
    "test_labels_arr"
   ]
  }
 ],
 "metadata": {
  "kernelspec": {
   "display_name": "MNE",
   "language": "python",
   "name": "python3"
  },
  "language_info": {
   "codemirror_mode": {
    "name": "ipython",
    "version": 3
   },
   "file_extension": ".py",
   "mimetype": "text/x-python",
   "name": "python",
   "nbconvert_exporter": "python",
   "pygments_lexer": "ipython3",
   "version": "3.10.6"
  },
  "orig_nbformat": 4
 },
 "nbformat": 4,
 "nbformat_minor": 2
}
