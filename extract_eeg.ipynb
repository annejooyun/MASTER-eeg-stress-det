{
 "cells": [
  {
   "cell_type": "code",
   "execution_count": 31,
   "metadata": {},
   "outputs": [],
   "source": [
    "import pyxdf\n",
    "import mne\n",
    "import numpy as np\n",
    "import matplotlib.pyplot as plt\n",
    "import scipy.io\n",
    "%matplotlib qt\n",
    "\n",
    "import utils.variables as v"
   ]
  },
  {
   "cell_type": "code",
   "execution_count": 3,
   "metadata": {},
   "outputs": [],
   "source": [
    "#Reading files\n",
    "def read_file(subject_nr, session_nr, run_nr):\n",
    "    dir = 'C:/Users/annej/OneDrive/Documents/Data collection'\n",
    "    f_name = f'/sub-{subject_nr}/ses-{session_nr}/eeg/sub-{subject_nr}_ses-{session_nr}_task-Default_run-{run_nr}_eeg'\n",
    "    f_format = '.xdf'\n",
    "    fname = dir + f_name + f_format\n",
    "    streams, header = pyxdf.load_xdf(fname)\n",
    "    return streams, header"
   ]
  },
  {
   "cell_type": "code",
   "execution_count": 4,
   "metadata": {},
   "outputs": [],
   "source": [
    "# Reading EEG\n",
    "def configure_eeg_data(index, streams, header):   \n",
    "    eeg_data = streams[index]['time_series'].T\n",
    "    eeg_data *= 1e-6 # uV -> V\n",
    "    time_stamps_eeg = streams[index][\"time_stamps\"] - streams[index]['time_stamps'][0]\n",
    "    sfreq_eeg = float(streams[index]['info']['nominal_srate'][0])\n",
    "\n",
    "    time_stamps_eeg = time_stamps_eeg.reshape((1,time_stamps_eeg.shape[0]))\n",
    "    time_stamps_eeg = np.repeat(time_stamps_eeg, 8, axis=0)\n",
    "\n",
    "    return eeg_data, time_stamps_eeg, sfreq_eeg\n"
   ]
  },
  {
   "cell_type": "code",
   "execution_count": 5,
   "metadata": {},
   "outputs": [],
   "source": [
    "# Reading Markers\n",
    "#'0' marker is standard and '1' marker is oddball/target\n",
    "def configure_markers(index, streams, header):\n",
    "    markers = streams[index][\"time_series\"]\n",
    "    time_stamps = streams[index][\"time_stamps\"] - streams[index][\"time_stamps\"][0]\n",
    "\n",
    "    return markers, time_stamps"
   ]
  },
  {
   "cell_type": "code",
   "execution_count": 6,
   "metadata": {},
   "outputs": [],
   "source": [
    "#Reading pcg \n",
    "def configure_pcg_data(index, streams, header):\n",
    "    pcg_data = streams[index][\"time_series\"].T\n",
    "    sfreq_pcg = float(streams[index][\"info\"][\"nominal_srate\"][0])\n",
    "\n",
    "    if len(streams[index][\"time_stamps\"]) == 0:\n",
    "        print('ERROR: Found no time stamps')\n",
    "        time_stamps_pcg = []\n",
    "    else:\n",
    "        time_stamps_pcg = streams[index][\"time_stamps\"] - streams[index][\"time_stamps\"][1]\n",
    "        #plt.plot(pcg_data.T.ravel()/np.max(abs(pcg_data)))    \n",
    "    \n",
    "    return pcg_data, time_stamps_pcg, sfreq_pcg"
   ]
  },
  {
   "cell_type": "code",
   "execution_count": 7,
   "metadata": {},
   "outputs": [],
   "source": [
    "def main(subject_nr, session_nr, run_nr):\n",
    "    streams, header = read_file(subject_nr, session_nr, run_nr)\n",
    "\n",
    "    #Directing each stream into correct function\n",
    "    for i in range(len(streams)):\n",
    "        print(i)\n",
    "        if streams[i]['info']['type'] == ['Audio']:\n",
    "            print('Found pcg data')\n",
    "            pcg_data, time_stamps_pcg, sfreq_pcg = configure_pcg_data(i, streams, header)\n",
    "        elif streams[i]['info']['type'] == ['ExG']:\n",
    "            print('Found eeg data')\n",
    "            eeg_data, time_stamps_eeg, sfreq_eeg = configure_eeg_data(i, streams, header)\n",
    "        elif streams[i]['info']['type'] == ['Markers']:\n",
    "            print('Found markers')\n",
    "            markers, time_stamps_markers = configure_markers(i, streams, header)\n",
    "        else:\n",
    "            print('Found nothing')\n",
    "\n",
    "    # Creating the raw data\n",
    "    info = mne.create_info(8, sfreq_eeg, ch_types= \"eeg\", verbose=None)\n",
    "    print(info)\n",
    "    raw = mne.io.RawArray(eeg_data, info)\n",
    "\n",
    "    # Renaming the channels and dropping the non-used channels\n",
    "    mapping = {'0':'F4','1':'Fp2','2':'C3',\n",
    "            '3':'FC6','4':'O1','5':'Oz','6':'FT9', \n",
    "            '7':'T8'}\n",
    "    mne.rename_channels(raw.info, mapping)\n",
    "\n",
    "    title = f\"sub-{subject_nr}_ses-{session_nr}_run-{run_nr}\"\n",
    "    data_frame = raw.to_data_frame(scalings=1)\n",
    "    data = data_frame.to_numpy()\n",
    "    data = np.transpose(data)\n",
    "    data_dict = {\n",
    "        \"raw_eeg_data\" : data[1:, :]  #First column of dataFrames is not data\n",
    "        }\n",
    "    scipy.io.savemat(f'Data/Raw_eeg/{title}.mat', data_dict)\n"
   ]
  },
  {
   "cell_type": "code",
   "execution_count": 23,
   "metadata": {},
   "outputs": [],
   "source": [
    "#raw.plot(scalings=dict(eeg=50e-6),duration=10)\n",
    "\n",
    "#raw.plot(duration=60, title='test', n_channels=8,show_scrollbars=False, highpass = 1, lowpass = 40)"
   ]
  },
  {
   "cell_type": "code",
   "execution_count": null,
   "metadata": {},
   "outputs": [],
   "source": [
    "n_sub = 27\n",
    "subject_nr = ['P001', 'P002', 'P003', 'P004', 'P005', 'P006', 'P007', 'P008', 'P009', 'P010',\n",
    "              'P011', 'P012', 'P013', 'P014', 'P015', 'P016', 'P017', 'P018', 'P019', 'P020',\n",
    "              'P021', 'P022', 'P023', 'P024', 'P025', 'P026', 'P027', 'P028']\n",
    "\n",
    "subject_nr = ['P024', 'P025', 'P026', 'P027']\n",
    "\n",
    "session_nr = ['S001', 'S002']\n",
    "\n",
    "run_nr =     ['001', '002']\n",
    "\n",
    "\n",
    "for i in range(len(subject_nr)):\n",
    "    print(f'Subject: {subject_nr[i]}')\n",
    "    for j in range(len(session_nr)):\n",
    "        print(f'Session: {session_nr[j]}')\n",
    "        for k in range(len(run_nr)):\n",
    "            print(f'Run: {run_nr[k]}')\n",
    "            main(subject_nr = subject_nr[i], session_nr = session_nr[j], run_nr = run_nr[k])"
   ]
  },
  {
   "cell_type": "code",
   "execution_count": 9,
   "metadata": {},
   "outputs": [
    {
     "name": "stdout",
     "output_type": "stream",
     "text": [
      "Found eeg data\n",
      "Found pcg data\n"
     ]
    }
   ],
   "source": [
    "subject_nr = 'P001'\n",
    "#session_nr is 'S001' or 'S002'\n",
    "session_nr = 'S001'\n",
    "#run_nr is '001' or '002'\n",
    "run_nr = '001'\n",
    "\n",
    "streams, header = read_file(subject_nr, session_nr, run_nr)\n",
    "\n",
    "#Directing each stream into correct function\n",
    "for i in range(len(streams)):\n",
    "    if streams[i]['info']['type'] == ['Audio']:\n",
    "        print('Found pcg data')\n",
    "        pcg_data, time_stamps_pcg, sfreq_pcg = configure_pcg_data(i, streams, header)\n",
    "    elif streams[i]['info']['type'] == ['ExG']:\n",
    "        print('Found eeg data')\n",
    "        eeg_data, time_stamps_eeg, sfreq_eeg = configure_eeg_data(i, streams, header)\n",
    "    elif streams[i]['info']['type'] == ['Markers']:\n",
    "        print('Found markers')\n",
    "        markers, time_stamps_markers = configure_markers(i, streams, header)\n",
    "    else:\n",
    "        print('Found nothing')\n"
   ]
  },
  {
   "cell_type": "code",
   "execution_count": 10,
   "metadata": {},
   "outputs": [
    {
     "name": "stdout",
     "output_type": "stream",
     "text": [
      "<Info | 7 non-empty values\n",
      " bads: []\n",
      " ch_names: 0, 1, 2, 3, 4, 5, 6, 7\n",
      " chs: 8 EEG\n",
      " custom_ref_applied: False\n",
      " highpass: 0.0 Hz\n",
      " lowpass: 125.0 Hz\n",
      " meas_date: unspecified\n",
      " nchan: 8\n",
      " projs: []\n",
      " sfreq: 250.0 Hz\n",
      ">\n",
      "Creating RawArray with float64 data, n_channels=8, n_times=75072\n",
      "    Range : 0 ... 75071 =      0.000 ...   300.284 secs\n",
      "Ready.\n",
      "Filtering raw data in 1 contiguous segment\n",
      "Setting up band-pass filter from 1 - 50 Hz\n",
      "\n",
      "FIR filter parameters\n",
      "---------------------\n",
      "Designing a one-pass, zero-phase, non-causal bandpass filter:\n",
      "- Windowed time-domain design (firwin) method\n",
      "- Hamming window with 0.0194 passband ripple and 53 dB stopband attenuation\n",
      "- Lower passband edge: 1.00\n",
      "- Lower transition bandwidth: 1.00 Hz (-6 dB cutoff frequency: 0.50 Hz)\n",
      "- Upper passband edge: 50.00 Hz\n",
      "- Upper transition bandwidth: 12.50 Hz (-6 dB cutoff frequency: 56.25 Hz)\n",
      "- Filter length: 825 samples (3.300 sec)\n",
      "\n"
     ]
    },
    {
     "name": "stderr",
     "output_type": "stream",
     "text": [
      "[Parallel(n_jobs=1)]: Using backend SequentialBackend with 1 concurrent workers.\n",
      "[Parallel(n_jobs=1)]: Done   1 out of   1 | elapsed:    0.0s remaining:    0.0s\n",
      "[Parallel(n_jobs=1)]: Done   2 out of   2 | elapsed:    0.0s remaining:    0.0s\n",
      "[Parallel(n_jobs=1)]: Done   3 out of   3 | elapsed:    0.0s remaining:    0.0s\n",
      "[Parallel(n_jobs=1)]: Done   4 out of   4 | elapsed:    0.0s remaining:    0.0s\n",
      "[Parallel(n_jobs=1)]: Done   8 out of   8 | elapsed:    0.0s finished\n"
     ]
    },
    {
     "name": "stdout",
     "output_type": "stream",
     "text": [
      "Using qt as 2D backend.\n"
     ]
    },
    {
     "data": {
      "text/plain": [
       "<mne_qt_browser._pg_figure.MNEQtBrowser at 0x189dfccc670>"
      ]
     },
     "execution_count": 10,
     "metadata": {},
     "output_type": "execute_result"
    }
   ],
   "source": [
    "# Creating the raw data\n",
    "info = mne.create_info(8, sfreq_eeg, ch_types= \"eeg\", verbose=None)\n",
    "print(info)\n",
    "raw_eeg = mne.io.RawArray(eeg_data, info)\n",
    "\n",
    "band_pass = raw_eeg.copy().filter(1, 50)\n",
    "sav_gol = band_pass.copy().savgol_filter(h_freq=10, verbose=False)\n",
    "filt_eeg = sav_gol.copy()\n",
    "\n",
    "# Renaming the channels and dropping the non-used channels\n",
    "mapping = {'0':'F4','1':'Fp2','2':'C3','3':'FC6','4':'O1','5':'Oz','6':'FT9','7':'T8'}\n",
    "mne.rename_channels(filt_eeg.info, mapping)\n",
    "raw_eeg.plot()\n",
    "filt_eeg.plot()"
   ]
  },
  {
   "cell_type": "code",
   "execution_count": null,
   "metadata": {},
   "outputs": [],
   "source": []
  }
 ],
 "metadata": {
  "kernelspec": {
   "display_name": "MNE",
   "language": "python",
   "name": "python3"
  },
  "language_info": {
   "codemirror_mode": {
    "name": "ipython",
    "version": 3
   },
   "file_extension": ".py",
   "mimetype": "text/x-python",
   "name": "python",
   "nbconvert_exporter": "python",
   "pygments_lexer": "ipython3",
   "version": "3.10.6"
  },
  "orig_nbformat": 4,
  "vscode": {
   "interpreter": {
    "hash": "f6df28382c6e70c1c1d3c02fa7b17b6f3b6fcf9f5d22d2410beebd122bfaf45e"
   }
  }
 },
 "nbformat": 4,
 "nbformat_minor": 2
}
