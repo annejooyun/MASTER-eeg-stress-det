{
 "cells": [
  {
   "cell_type": "code",
   "execution_count": 1,
   "id": "0ff795fd",
   "metadata": {},
   "outputs": [],
   "source": [
    "import scipy\n",
    "import os\n",
    "import numpy as np\n",
    "import mne\n",
    "import matplotlib.pyplot as plt\n",
    "\n",
    "import utils.variables as v\n",
    "import utils.valid_recs as vrecs"
   ]
  },
  {
   "cell_type": "code",
   "execution_count": 6,
   "id": "ead56071",
   "metadata": {
    "scrolled": true
   },
   "outputs": [],
   "source": [
    "class Recording:\n",
    "    # Data paths\n",
    "    root = ''\n",
    "    dir_raw = root + '/Data/Raw_eeg'\n",
    "    dir_filtered = root + '/Data/Filtered'\n",
    "    \n",
    "    # Parameters\n",
    "    Fs = 250\n",
    "    ch_type = 'eeg'\n",
    "    n_channels = 8\n",
    "    \n",
    "    def __init__(self, sub_nr, ses_nr, run_nr):\n",
    "        self.sub_nr = sub_nr\n",
    "        self.ses_nr = ses_nr\n",
    "        self.run_nr = run_nr\n",
    "        \n",
    "        # Load data\n",
    "        self.load_data()\n",
    "                \n",
    "        # Create mne RawArray\n",
    "        info = mne.create_info(8, sfreq=self.Fs, ch_types=self.ch_type, verbose=None)\n",
    "        #print(info)\n",
    "        self.raw_arr = mne.io.RawArray(self.data, info)\n",
    "        \n",
    "        mne.rename_channels(self.raw_arr.info, v.MAPPING)\n",
    "\n",
    "        # Do initial filtering\n",
    "        self.filt_arr = self.init_filter()\n",
    "        \n",
    "        # Set montage\n",
    "        montage = mne.channels.make_standard_montage('standard_1020')\n",
    "        self.filt_arr.set_montage(montage)   \n",
    "    #----------------------------------------------------------------------------------------------------\n",
    "     \n",
    "    def load_data(self):\n",
    "        dir = self.dir_raw\n",
    "        data_key = 'raw_eeg_data'\n",
    "        # Load one recording\n",
    "        filename = f\"/sub-{self.sub_nr}_ses-{self.ses_nr}_run-{self.run_nr}.mat\"\n",
    "        f = dir + filename\n",
    "        self.data = scipy.io.loadmat(f)[data_key]\n",
    "\n",
    "    def save_data(self):\n",
    "        title = f\"sub-{self.sub_nr}_ses-{self.ses_nr}_run-{self.run_nr}\"\n",
    "        clean_data = self.reconst_arr.to_data_frame(scalings=1e6)\n",
    "        clean_data = clean_data.to_numpy()\n",
    "        clean_data = np.transpose(clean_data)\n",
    "        clean_dict = {\n",
    "            \"Clean_data\" : clean_data[1:, :]  #First column of dataFrames is not data\n",
    "        }\n",
    "        scipy.io.savemat(f'{self.root}/Data/ICA_data/{title}.mat', clean_dict)\n",
    "\n",
    "    def save_psd(self):\n",
    "        title = f\"sub-{self.sub_nr}_ses-{self.ses_nr}_run-{self.run_nr}\"\n",
    "        psd_data = self.psd.get_data()\n",
    "        psd_dict = {\n",
    "            \"psd_data\" : psd_data\n",
    "        }\n",
    "        scipy.io.savemat(f'{self.root}/Data/PSD_data/{title}.mat', psd_dict)\n",
    "    \n",
    "    \n",
    "    def init_filter(self):\n",
    "        self.raw_arr.compute_psd().plot()\n",
    "        band_pass = self.raw_arr.copy().filter(1, 70)\n",
    "        #reject = band_pass.copy().filter(52,48, l_trans_bandwidth = 0.1, h_trans_bandwidth = 0.1)\n",
    "        notch = band_pass.copy().notch_filter(freqs=[50,100], trans_bandwidth = 4)\n",
    "        #sav_gol = notch.copy().savgol_filter(h_freq=35, verbose=False)\n",
    "        return notch\n",
    "    \n",
    "    def compute_and_save_filtered_psd(self):\n",
    "        self.psd = self.filt_arr.compute_psd()\n",
    "        self.psd.plot()\n",
    "        #self.save_psd()\n",
    "\n",
    "\n",
    "    def init_ICA(self):\n",
    "        self.ica = mne.preprocessing.ICA(n_components=8, max_iter=10000, random_state=97)\n",
    "        self.ica.fit(self.filt_arr)\n",
    "        \n",
    "    def plot_sources(self):\n",
    "        self.ica.plot_sources(self.filt_arr, title=f'ICA components sub-{self.sub_nr}_ses-{self.ses_nr}_run-{self.run_nr}', show_scrollbars=False)\n",
    "        self.ica.plot_components(colorbar=True, reject='auto')\n",
    "        \n",
    "    def plot_properties(self, components):\n",
    "        self.ica.plot_properties(self.filt_arr, picks = components)\n",
    "        \n",
    "    def test_exclude(self, components):\n",
    "        self.ica.plot_overlay(self.filt_arr, exclude=components, picks='eeg', stop = 300.)\n",
    "        #self.ica.plot_overlay(self.filt_arr, exclude=components, picks='eeg', show = True)\n",
    " \n",
    "\n",
    "    def exclude_ICA(self, components):\n",
    "        self.ica.exclude = components\n",
    "        self.reconst_arr = self.filt_arr.copy()\n",
    "        self.ica.apply(self.reconst_arr)\n",
    "    \n",
    "    def plot(self, data_type, save=False):\n",
    "        if data_type == 'ica' and save == True:\n",
    "            with mne.viz.use_browser_backend('matplotlib'):\n",
    "                title = f\"ICA components sub-{self.sub_nr}_ses-{self.ses_nr}_run-{self.run_nr}\"\n",
    "                fig = self.ica.plot_sources(self.filt_arr, title=title, \n",
    "                                            show_scrollbars=False)\n",
    "                fig.savefig(f'{self.root}/Figures/{title}.png') \n",
    "\n",
    "        else:\n",
    "            if data_type == 'raw':\n",
    "                data = self.raw_arr\n",
    "                title = f\"Raw data sub-{self.sub_nr}_ses-{self.ses_nr}_run-{self.run_nr}\"\n",
    "                data.compute_psd().plot()\n",
    "            elif data_type == 'filtered': \n",
    "                data = self.filt_arr\n",
    "                title = f\"Filtered data sub-{self.sub_nr}_ses-{self.ses_nr}_run-{self.run_nr}\"\n",
    "                data.compute_psd().plot()\n",
    "            elif data_type == 'reconstructed':\n",
    "                data = self.reconst_arr\n",
    "                title = f\"Reconstructed data sub-{self.sub_nr}_ses-{self.ses_nr}_run-{self.run_nr}\"\n",
    "                data.compute_psd().plot()\n",
    "                pass\n",
    "\n",
    "            if not save:\n",
    "                data.plot(duration = 25, title=title, n_channels=self.n_channels, scalings=None, show_scrollbars=False)\n",
    "            else:\n",
    "                with mne.viz.use_browser_backend('matplotlib'):\n",
    "                    fig = data.plot(duration = 30, title=f'{title}', n_channels=8, scalings=None, show_scrollbars=False)\n",
    "                    fig.savefig(f'{self.root}/Figures/{title}.png') \n",
    "\n"
   ]
  },
  {
   "cell_type": "code",
   "execution_count": 7,
   "id": "53e178ba",
   "metadata": {
    "scrolled": true
   },
   "outputs": [
    {
     "ename": "FileNotFoundError",
     "evalue": "[Errno 2] No such file or directory: '/MASTER-eeg-stress-det/Data/Raw_eeg/sub-P001_ses-S001_run-002.mat'",
     "output_type": "error",
     "traceback": [
      "\u001b[0;31m---------------------------------------------------------------------------\u001b[0m",
      "\u001b[0;31mFileNotFoundError\u001b[0m                         Traceback (most recent call last)",
      "File \u001b[0;32m~/.local/share/virtualenvs/MASTER-eeg-stress-det-zSpBlwVN/lib/python3.10/site-packages/scipy/io/matlab/_mio.py:39\u001b[0m, in \u001b[0;36m_open_file\u001b[0;34m(file_like, appendmat, mode)\u001b[0m\n\u001b[1;32m     38\u001b[0m \u001b[39mtry\u001b[39;00m:\n\u001b[0;32m---> 39\u001b[0m     \u001b[39mreturn\u001b[39;00m \u001b[39mopen\u001b[39;49m(file_like, mode), \u001b[39mTrue\u001b[39;00m\n\u001b[1;32m     40\u001b[0m \u001b[39mexcept\u001b[39;00m \u001b[39mOSError\u001b[39;00m \u001b[39mas\u001b[39;00m e:\n\u001b[1;32m     41\u001b[0m     \u001b[39m# Probably \"not found\"\u001b[39;00m\n",
      "\u001b[0;31mFileNotFoundError\u001b[0m: [Errno 2] No such file or directory: '/MASTER-eeg-stress-det/Data/Raw_eeg/sub-P001_ses-S001_run-002.mat'",
      "\nDuring handling of the above exception, another exception occurred:\n",
      "\u001b[0;31mFileNotFoundError\u001b[0m                         Traceback (most recent call last)",
      "Cell \u001b[0;32mIn[7], line 1\u001b[0m\n\u001b[0;32m----> 1\u001b[0m test \u001b[39m=\u001b[39m Recording(sub_nr\u001b[39m=\u001b[39;49m\u001b[39m'\u001b[39;49m\u001b[39mP001\u001b[39;49m\u001b[39m'\u001b[39;49m, ses_nr\u001b[39m=\u001b[39;49m\u001b[39m'\u001b[39;49m\u001b[39mS001\u001b[39;49m\u001b[39m'\u001b[39;49m, run_nr\u001b[39m=\u001b[39;49m\u001b[39m'\u001b[39;49m\u001b[39m002\u001b[39;49m\u001b[39m'\u001b[39;49m)\n\u001b[1;32m      3\u001b[0m test\u001b[39m.\u001b[39mcompute_and_save_filtered_psd()\n",
      "Cell \u001b[0;32mIn[6], line 18\u001b[0m, in \u001b[0;36mRecording.__init__\u001b[0;34m(self, sub_nr, ses_nr, run_nr)\u001b[0m\n\u001b[1;32m     15\u001b[0m \u001b[39mself\u001b[39m\u001b[39m.\u001b[39mrun_nr \u001b[39m=\u001b[39m run_nr\n\u001b[1;32m     17\u001b[0m \u001b[39m# Load data\u001b[39;00m\n\u001b[0;32m---> 18\u001b[0m \u001b[39mself\u001b[39;49m\u001b[39m.\u001b[39;49mload_data()\n\u001b[1;32m     20\u001b[0m \u001b[39m# Create mne RawArray\u001b[39;00m\n\u001b[1;32m     21\u001b[0m info \u001b[39m=\u001b[39m mne\u001b[39m.\u001b[39mcreate_info(\u001b[39m8\u001b[39m, sfreq\u001b[39m=\u001b[39m\u001b[39mself\u001b[39m\u001b[39m.\u001b[39mFs, ch_types\u001b[39m=\u001b[39m\u001b[39mself\u001b[39m\u001b[39m.\u001b[39mch_type, verbose\u001b[39m=\u001b[39m\u001b[39mNone\u001b[39;00m)\n",
      "Cell \u001b[0;32mIn[6], line 41\u001b[0m, in \u001b[0;36mRecording.load_data\u001b[0;34m(self)\u001b[0m\n\u001b[1;32m     39\u001b[0m filename \u001b[39m=\u001b[39m \u001b[39mf\u001b[39m\u001b[39m\"\u001b[39m\u001b[39m/sub-\u001b[39m\u001b[39m{\u001b[39;00m\u001b[39mself\u001b[39m\u001b[39m.\u001b[39msub_nr\u001b[39m}\u001b[39;00m\u001b[39m_ses-\u001b[39m\u001b[39m{\u001b[39;00m\u001b[39mself\u001b[39m\u001b[39m.\u001b[39mses_nr\u001b[39m}\u001b[39;00m\u001b[39m_run-\u001b[39m\u001b[39m{\u001b[39;00m\u001b[39mself\u001b[39m\u001b[39m.\u001b[39mrun_nr\u001b[39m}\u001b[39;00m\u001b[39m.mat\u001b[39m\u001b[39m\"\u001b[39m\n\u001b[1;32m     40\u001b[0m f \u001b[39m=\u001b[39m \u001b[39mdir\u001b[39m \u001b[39m+\u001b[39m filename\n\u001b[0;32m---> 41\u001b[0m \u001b[39mself\u001b[39m\u001b[39m.\u001b[39mdata \u001b[39m=\u001b[39m scipy\u001b[39m.\u001b[39;49mio\u001b[39m.\u001b[39;49mloadmat(f)[data_key]\n",
      "File \u001b[0;32m~/.local/share/virtualenvs/MASTER-eeg-stress-det-zSpBlwVN/lib/python3.10/site-packages/scipy/io/matlab/_mio.py:225\u001b[0m, in \u001b[0;36mloadmat\u001b[0;34m(file_name, mdict, appendmat, **kwargs)\u001b[0m\n\u001b[1;32m     88\u001b[0m \u001b[39m\u001b[39m\u001b[39m\"\"\"\u001b[39;00m\n\u001b[1;32m     89\u001b[0m \u001b[39mLoad MATLAB file.\u001b[39;00m\n\u001b[1;32m     90\u001b[0m \n\u001b[0;32m   (...)\u001b[0m\n\u001b[1;32m    222\u001b[0m \u001b[39m    3.14159265+3.14159265j])\u001b[39;00m\n\u001b[1;32m    223\u001b[0m \u001b[39m\"\"\"\u001b[39;00m\n\u001b[1;32m    224\u001b[0m variable_names \u001b[39m=\u001b[39m kwargs\u001b[39m.\u001b[39mpop(\u001b[39m'\u001b[39m\u001b[39mvariable_names\u001b[39m\u001b[39m'\u001b[39m, \u001b[39mNone\u001b[39;00m)\n\u001b[0;32m--> 225\u001b[0m \u001b[39mwith\u001b[39;00m _open_file_context(file_name, appendmat) \u001b[39mas\u001b[39;00m f:\n\u001b[1;32m    226\u001b[0m     MR, _ \u001b[39m=\u001b[39m mat_reader_factory(f, \u001b[39m*\u001b[39m\u001b[39m*\u001b[39mkwargs)\n\u001b[1;32m    227\u001b[0m     matfile_dict \u001b[39m=\u001b[39m MR\u001b[39m.\u001b[39mget_variables(variable_names)\n",
      "File \u001b[0;32m~/.pyenv/versions/3.10.6/lib/python3.10/contextlib.py:135\u001b[0m, in \u001b[0;36m_GeneratorContextManager.__enter__\u001b[0;34m(self)\u001b[0m\n\u001b[1;32m    133\u001b[0m \u001b[39mdel\u001b[39;00m \u001b[39mself\u001b[39m\u001b[39m.\u001b[39margs, \u001b[39mself\u001b[39m\u001b[39m.\u001b[39mkwds, \u001b[39mself\u001b[39m\u001b[39m.\u001b[39mfunc\n\u001b[1;32m    134\u001b[0m \u001b[39mtry\u001b[39;00m:\n\u001b[0;32m--> 135\u001b[0m     \u001b[39mreturn\u001b[39;00m \u001b[39mnext\u001b[39;49m(\u001b[39mself\u001b[39;49m\u001b[39m.\u001b[39;49mgen)\n\u001b[1;32m    136\u001b[0m \u001b[39mexcept\u001b[39;00m \u001b[39mStopIteration\u001b[39;00m:\n\u001b[1;32m    137\u001b[0m     \u001b[39mraise\u001b[39;00m \u001b[39mRuntimeError\u001b[39;00m(\u001b[39m\"\u001b[39m\u001b[39mgenerator didn\u001b[39m\u001b[39m'\u001b[39m\u001b[39mt yield\u001b[39m\u001b[39m\"\u001b[39m) \u001b[39mfrom\u001b[39;00m \u001b[39mNone\u001b[39m\n",
      "File \u001b[0;32m~/.local/share/virtualenvs/MASTER-eeg-stress-det-zSpBlwVN/lib/python3.10/site-packages/scipy/io/matlab/_mio.py:17\u001b[0m, in \u001b[0;36m_open_file_context\u001b[0;34m(file_like, appendmat, mode)\u001b[0m\n\u001b[1;32m     15\u001b[0m \u001b[39m@contextmanager\u001b[39m\n\u001b[1;32m     16\u001b[0m \u001b[39mdef\u001b[39;00m \u001b[39m_open_file_context\u001b[39m(file_like, appendmat, mode\u001b[39m=\u001b[39m\u001b[39m'\u001b[39m\u001b[39mrb\u001b[39m\u001b[39m'\u001b[39m):\n\u001b[0;32m---> 17\u001b[0m     f, opened \u001b[39m=\u001b[39m _open_file(file_like, appendmat, mode)\n\u001b[1;32m     18\u001b[0m     \u001b[39mtry\u001b[39;00m:\n\u001b[1;32m     19\u001b[0m         \u001b[39myield\u001b[39;00m f\n",
      "File \u001b[0;32m~/.local/share/virtualenvs/MASTER-eeg-stress-det-zSpBlwVN/lib/python3.10/site-packages/scipy/io/matlab/_mio.py:45\u001b[0m, in \u001b[0;36m_open_file\u001b[0;34m(file_like, appendmat, mode)\u001b[0m\n\u001b[1;32m     43\u001b[0m     \u001b[39mif\u001b[39;00m appendmat \u001b[39mand\u001b[39;00m \u001b[39mnot\u001b[39;00m file_like\u001b[39m.\u001b[39mendswith(\u001b[39m'\u001b[39m\u001b[39m.mat\u001b[39m\u001b[39m'\u001b[39m):\n\u001b[1;32m     44\u001b[0m         file_like \u001b[39m+\u001b[39m\u001b[39m=\u001b[39m \u001b[39m'\u001b[39m\u001b[39m.mat\u001b[39m\u001b[39m'\u001b[39m\n\u001b[0;32m---> 45\u001b[0m     \u001b[39mreturn\u001b[39;00m \u001b[39mopen\u001b[39;49m(file_like, mode), \u001b[39mTrue\u001b[39;00m\n\u001b[1;32m     46\u001b[0m \u001b[39melse\u001b[39;00m:\n\u001b[1;32m     47\u001b[0m     \u001b[39mraise\u001b[39;00m \u001b[39mOSError\u001b[39;00m(\n\u001b[1;32m     48\u001b[0m         \u001b[39m'\u001b[39m\u001b[39mReader needs file name or open file-like object\u001b[39m\u001b[39m'\u001b[39m\n\u001b[1;32m     49\u001b[0m     ) \u001b[39mfrom\u001b[39;00m \u001b[39me\u001b[39;00m\n",
      "\u001b[0;31mFileNotFoundError\u001b[0m: [Errno 2] No such file or directory: '/MASTER-eeg-stress-det/Data/Raw_eeg/sub-P001_ses-S001_run-002.mat'"
     ]
    }
   ],
   "source": [
    "test = Recording(sub_nr='P001', ses_nr='S001', run_nr='002')\n",
    "\n",
    "test.compute_and_save_filtered_psd()"
   ]
  },
  {
   "cell_type": "code",
   "execution_count": null,
   "id": "a2b5cc0b",
   "metadata": {},
   "outputs": [],
   "source": []
  },
  {
   "cell_type": "code",
   "execution_count": null,
   "id": "5ec021ce",
   "metadata": {},
   "outputs": [],
   "source": [
    "#test.plot('raw')\n",
    "#test.plot('filtered')"
   ]
  },
  {
   "cell_type": "code",
   "execution_count": null,
   "id": "44af457e",
   "metadata": {},
   "outputs": [],
   "source": [
    "#test.compute_and_save_filtered_psd()"
   ]
  },
  {
   "cell_type": "code",
   "execution_count": null,
   "id": "8b3cd54e",
   "metadata": {},
   "outputs": [],
   "source": [
    "#test.init_ICA()\n",
    "#test.plot_sources()"
   ]
  },
  {
   "cell_type": "code",
   "execution_count": null,
   "id": "4317dfb2",
   "metadata": {},
   "outputs": [],
   "source": [
    "#test.plot_properties([2])"
   ]
  },
  {
   "cell_type": "code",
   "execution_count": null,
   "id": "02c4799f",
   "metadata": {
    "scrolled": true
   },
   "outputs": [],
   "source": [
    "#test.test_exclude([0,1,2])"
   ]
  },
  {
   "cell_type": "code",
   "execution_count": null,
   "id": "9dcd78a6",
   "metadata": {},
   "outputs": [],
   "source": [
    "#test.exclude_ICA([0,1,2])\n",
    "#test.plot('filtered')\n",
    "#test.plot('reconstructed')"
   ]
  },
  {
   "cell_type": "code",
   "execution_count": null,
   "id": "0a9ff530",
   "metadata": {
    "scrolled": false
   },
   "outputs": [],
   "source": [
    "#test.plot('raw', save=True)\n",
    "#test.plot('filtered', save=True)\n",
    "#test.plot('ica', save=True)\n",
    "#test.plot('reconstructed', save=True)"
   ]
  },
  {
   "cell_type": "code",
   "execution_count": null,
   "id": "0a7a47e5",
   "metadata": {},
   "outputs": [],
   "source": [
    "#test.save_data()"
   ]
  },
  {
   "cell_type": "markdown",
   "id": "e2aba1bf",
   "metadata": {},
   "source": []
  }
 ],
 "metadata": {
  "kernelspec": {
   "display_name": "MNE",
   "language": "python",
   "name": "python3"
  },
  "language_info": {
   "codemirror_mode": {
    "name": "ipython",
    "version": 3
   },
   "file_extension": ".py",
   "mimetype": "text/x-python",
   "name": "python",
   "nbconvert_exporter": "python",
   "pygments_lexer": "ipython3",
   "version": "3.10.6"
  },
  "vscode": {
   "interpreter": {
    "hash": "f6df28382c6e70c1c1d3c02fa7b17b6f3b6fcf9f5d22d2410beebd122bfaf45e"
   }
  }
 },
 "nbformat": 4,
 "nbformat_minor": 5
}
