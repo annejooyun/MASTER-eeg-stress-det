{
 "cells": [
  {
   "cell_type": "code",
   "execution_count": null,
   "id": "0ff795fd",
   "metadata": {},
   "outputs": [],
   "source": [
    "import scipy\n",
    "import os\n",
    "import numpy as np\n",
    "import mne\n",
    "import matplotlib.pyplot as plt\n",
    "\n",
    "import utils.variables as v\n",
    "import utils.valid_recs as vrecs"
   ]
  },
  {
   "cell_type": "code",
   "execution_count": null,
   "id": "ead56071",
   "metadata": {
    "scrolled": true
   },
   "outputs": [],
   "source": [
    "class Recording:\n",
    "    # Data paths\n",
    "    root = 'C:/Users/annej/OneDrive/Documents/GitHub/MASTER-eeg-stress-det'\n",
    "    dir_raw = root + '/Data/Raw_eeg'\n",
    "    dir_filtered = root + '/Data/Init_data'\n",
    "    \n",
    "    # Parameters\n",
    "    Fs = 250\n",
    "    ch_type = 'eeg'\n",
    "    n_channels = 8\n",
    "    \n",
    "    def __init__(self, sub_nr, ses_nr, run_nr):\n",
    "        self.sub_nr = sub_nr\n",
    "        self.ses_nr = ses_nr\n",
    "        self.run_nr = run_nr\n",
    "        \n",
    "        # Load data\n",
    "        self.load_data()\n",
    "                \n",
    "        # Create mne RawArray\n",
    "        info = mne.create_info(8, sfreq=self.Fs, ch_types=self.ch_type, verbose=None)\n",
    "        #print(info)\n",
    "        self.raw_arr = mne.io.RawArray(self.data, info)\n",
    "        \n",
    "        mne.rename_channels(self.raw_arr.info, v.MAPPING)\n",
    "\n",
    "        # Do initial filtering\n",
    "        self.filt_arr = self.init_filter()\n",
    "        \n",
    "        # Set montage\n",
    "        montage = mne.channels.make_standard_montage('standard_1020')\n",
    "        self.filt_arr.set_montage(montage)   \n",
    "    #----------------------------------------------------------------------------------------------------\n",
    "     \n",
    "    def load_data(self):\n",
    "        dir = self.dir_raw\n",
    "        data_key = 'raw_eeg_data'\n",
    "        # Load one recording\n",
    "        filename = f\"/sub-{self.sub_nr}_ses-{self.ses_nr}_run-{self.run_nr}.mat\"\n",
    "        f = dir + filename\n",
    "        self.data = scipy.io.loadmat(f)[data_key]\n",
    "\n",
    "    def save_data(self):\n",
    "        title = f\"sub-{self.sub_nr}_ses-{self.ses_nr}_run-{self.run_nr}\"\n",
    "        clean_data = self.filt_arr.to_data_frame(scalings=1e6)\n",
    "        clean_data = clean_data.to_numpy()\n",
    "        clean_data = np.transpose(clean_data)\n",
    "        clean_dict = {\n",
    "            \"Clean_data\" : clean_data[1:, :]  #First column of dataFrames is not data\n",
    "        }\n",
    "        scipy.io.savemat(f'{self.root}/Data/Init_data/{title}.mat', clean_dict)\n",
    "\n",
    "    def save_psd(self):\n",
    "        title = f\"sub-{self.sub_nr}_ses-{self.ses_nr}_run-{self.run_nr}\"\n",
    "        psd_data = self.psd.get_data()\n",
    "        psd_dict = {\n",
    "            \"psd_data\" : psd_data\n",
    "        }\n",
    "        scipy.io.savemat(f'{self.root}/Data/PSD_data/{title}.mat', psd_dict)\n",
    "    \n",
    "    \n",
    "    def init_filter(self):\n",
    "        #self.raw_arr.compute_psd().plot()\n",
    "        band_pass = self.raw_arr.copy().filter(1, 40)\n",
    "        #reject = band_pass.copy().filter(52,48, l_trans_bandwidth = 0.1, h_trans_bandwidth = 0.1)\n",
    "        #notch = band_pass.copy().notch_filter(freqs=[50,100], trans_bandwidth = 4)\n",
    "        sav_gol = band_pass.copy().savgol_filter(h_freq=35, verbose=False)\n",
    "        #sav_gol.compute_psd().plot()\n",
    "        return sav_gol\n",
    "    \n",
    "    def compute_and_save_filtered_psd(self):\n",
    "        self.psd = self.filt_arr.compute_psd()\n",
    "        self.psd.plot()\n",
    "        #self.save_psd()\n",
    "\n",
    "\n",
    "    def init_ICA(self):\n",
    "        self.ica = mne.preprocessing.ICA(n_components=8, max_iter=10000, random_state=97)\n",
    "        self.ica.fit(self.filt_arr)\n",
    "        \n",
    "    def plot_sources(self):\n",
    "        self.ica.plot_sources(self.filt_arr, title=f'ICA components sub-{self.sub_nr}_ses-{self.ses_nr}_run-{self.run_nr}', show_scrollbars=False)\n",
    "        self.ica.plot_components(colorbar=True, reject='auto')\n",
    "        \n",
    "    def plot_properties(self, components):\n",
    "        self.ica.plot_properties(self.filt_arr, picks = components)\n",
    "        \n",
    "    def test_exclude(self, components):\n",
    "        self.ica.plot_overlay(self.filt_arr, exclude=components, picks='eeg', stop = 300.)\n",
    "        #self.ica.plot_overlay(self.filt_arr, exclude=components, picks='eeg', show = True)\n",
    " \n",
    "\n",
    "    def exclude_ICA(self, components):\n",
    "        self.ica.exclude = components\n",
    "        self.reconst_arr = self.filt_arr.copy()\n",
    "        self.ica.apply(self.reconst_arr)\n",
    "    \n",
    "    def plot(self, data_type, save=False):\n",
    "        if data_type == 'ica' and save == True:\n",
    "            with mne.viz.use_browser_backend('matplotlib'):\n",
    "                title = f\"ICA components sub-{self.sub_nr}_ses-{self.ses_nr}_run-{self.run_nr}\"\n",
    "                fig = self.ica.plot_sources(self.filt_arr, title=title, \n",
    "                                            show_scrollbars=False)\n",
    "                fig.savefig(f'{self.root}/Figures/{title}.png') \n",
    "\n",
    "        else:\n",
    "            if data_type == 'raw':\n",
    "                data = self.raw_arr\n",
    "                title = f\"Raw data sub-{self.sub_nr}_ses-{self.ses_nr}_run-{self.run_nr}\"\n",
    "                data.compute_psd().plot()\n",
    "            elif data_type == 'filtered': \n",
    "                data = self.filt_arr\n",
    "                title = f\"Filtered data sub-{self.sub_nr}_ses-{self.ses_nr}_run-{self.run_nr}\"\n",
    "                data.compute_psd().plot()\n",
    "            elif data_type == 'reconstructed':\n",
    "                data = self.reconst_arr\n",
    "                title = f\"Reconstructed data sub-{self.sub_nr}_ses-{self.ses_nr}_run-{self.run_nr}\"\n",
    "                data.compute_psd().plot()\n",
    "                pass\n",
    "\n",
    "            if not save:\n",
    "                data.plot(duration = 25, title=title, n_channels=self.n_channels, scalings=None, show_scrollbars=False)\n",
    "            else:\n",
    "                with mne.viz.use_browser_backend('matplotlib'):\n",
    "                    fig = data.plot(duration = 30, title=f'{title}', n_channels=8, scalings=None, show_scrollbars=False)\n",
    "                    fig.savefig(f'{self.root}/Figures/{title}.png') \n",
    "\n"
   ]
  },
  {
   "cell_type": "code",
   "execution_count": null,
   "id": "53e178ba",
   "metadata": {
    "scrolled": true
   },
   "outputs": [],
   "source": [
    "valid_recs = vrecs.get_valid_recs('raw', 'np')\n",
    "\n",
    "for rec in valid_recs:\n",
    "    sub_nr, ses_nr, run_nr = rec.split('_')\n",
    "    test = Recording(sub_nr, ses_nr, run_nr)\n",
    "    test.save_data()"
   ]
  },
  {
   "cell_type": "code",
   "execution_count": null,
   "id": "a2b5cc0b",
   "metadata": {},
   "outputs": [],
   "source": []
  },
  {
   "cell_type": "code",
   "execution_count": null,
   "id": "5ec021ce",
   "metadata": {},
   "outputs": [],
   "source": [
    "#test.plot('raw')\n",
    "#test.plot('filtered')"
   ]
  },
  {
   "cell_type": "code",
   "execution_count": null,
   "id": "44af457e",
   "metadata": {},
   "outputs": [],
   "source": [
    "#test.compute_and_save_filtered_psd()"
   ]
  },
  {
   "cell_type": "code",
   "execution_count": null,
   "id": "8b3cd54e",
   "metadata": {},
   "outputs": [],
   "source": [
    "#test.init_ICA()\n",
    "#test.plot_sources()"
   ]
  },
  {
   "cell_type": "code",
   "execution_count": null,
   "id": "4317dfb2",
   "metadata": {},
   "outputs": [],
   "source": [
    "#test.plot_properties([2])"
   ]
  },
  {
   "cell_type": "code",
   "execution_count": null,
   "id": "02c4799f",
   "metadata": {
    "scrolled": true
   },
   "outputs": [],
   "source": [
    "#test.test_exclude([0,1,2])"
   ]
  },
  {
   "cell_type": "code",
   "execution_count": null,
   "id": "9dcd78a6",
   "metadata": {},
   "outputs": [],
   "source": [
    "#test.exclude_ICA([0,1,2])\n",
    "#test.plot('filtered')\n",
    "#test.plot('reconstructed')"
   ]
  },
  {
   "cell_type": "code",
   "execution_count": null,
   "id": "0a9ff530",
   "metadata": {
    "scrolled": false
   },
   "outputs": [],
   "source": [
    "#test.plot('raw', save=True)\n",
    "#test.plot('filtered', save=True)\n",
    "#test.plot('ica', save=True)\n",
    "#test.plot('reconstructed', save=True)"
   ]
  },
  {
   "cell_type": "code",
   "execution_count": null,
   "id": "0a7a47e5",
   "metadata": {},
   "outputs": [],
   "source": [
    "#test.save_data()"
   ]
  },
  {
   "attachments": {},
   "cell_type": "markdown",
   "id": "e2aba1bf",
   "metadata": {},
   "source": []
  }
 ],
 "metadata": {
  "kernelspec": {
   "display_name": "MNE",
   "language": "python",
   "name": "python3"
  },
  "language_info": {
   "codemirror_mode": {
    "name": "ipython",
    "version": 3
   },
   "file_extension": ".py",
   "mimetype": "text/x-python",
   "name": "python",
   "nbconvert_exporter": "python",
   "pygments_lexer": "ipython3",
   "version": "3.10.6"
  },
  "vscode": {
   "interpreter": {
    "hash": "f6df28382c6e70c1c1d3c02fa7b17b6f3b6fcf9f5d22d2410beebd122bfaf45e"
   }
  }
 },
 "nbformat": 4,
 "nbformat_minor": 5
}
