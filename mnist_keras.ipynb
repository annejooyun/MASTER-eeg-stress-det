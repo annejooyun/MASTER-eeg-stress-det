{
  "cells": [
    {
      "cell_type": "code",
      "execution_count": null,
      "metadata": {
        "collapsed": false
      },
      "outputs": [],
      "source": [
        "%matplotlib inline"
      ]
    },
    {
      "cell_type": "markdown",
      "metadata": {},
      "source": [
        "\n",
        "# Classification of MNIST with scattering\n",
        "Here we demonstrate a simple application of scattering on the MNIST dataset.\n",
        "We use 10000 images to train a linear classifier. Features are normalized by\n",
        "batch normalization.\n"
      ]
    },
    {
      "cell_type": "markdown",
      "metadata": {},
      "source": [
        "## Preliminaries\n",
        "\n",
        "Since we're using TensorFlow and Keras to train the model, import the\n",
        "relevant modules.\n",
        "\n"
      ]
    },
    {
      "cell_type": "code",
      "execution_count": 1,
      "metadata": {
        "collapsed": false
      },
      "outputs": [],
      "source": [
        "import tensorflow as tf\n",
        "from tensorflow.keras.models import Model\n",
        "from tensorflow.keras.layers import Input, Flatten, Dense"
      ]
    },
    {
      "cell_type": "markdown",
      "metadata": {},
      "source": [
        "Finally, we import the `Scattering2D` class from the `kymatio.keras`\n",
        "package.\n",
        "\n"
      ]
    },
    {
      "cell_type": "code",
      "execution_count": 2,
      "metadata": {
        "collapsed": false
      },
      "outputs": [],
      "source": [
        "from kymatio.keras import Scattering2D"
      ]
    },
    {
      "cell_type": "markdown",
      "metadata": {},
      "source": [
        "## Training and testing the model\n",
        "\n",
        "First, we load in the data and normalize it.\n",
        "\n"
      ]
    },
    {
      "cell_type": "code",
      "execution_count": 11,
      "metadata": {
        "collapsed": false
      },
      "outputs": [
        {
          "ename": "TypeError",
          "evalue": "'tuple' object is not callable",
          "output_type": "error",
          "traceback": [
            "\u001b[1;31m---------------------------------------------------------------------------\u001b[0m",
            "\u001b[1;31mTypeError\u001b[0m                                 Traceback (most recent call last)",
            "Cell \u001b[1;32mIn[11], line 4\u001b[0m\n\u001b[0;32m      1\u001b[0m (x_train, y_train), (x_test, y_test) \u001b[39m=\u001b[39m tf\u001b[39m.\u001b[39mkeras\u001b[39m.\u001b[39mdatasets\u001b[39m.\u001b[39mmnist\u001b[39m.\u001b[39mload_data()\n\u001b[0;32m      3\u001b[0m x_train, x_test \u001b[39m=\u001b[39m x_train \u001b[39m/\u001b[39m \u001b[39m255.\u001b[39m, x_test \u001b[39m/\u001b[39m \u001b[39m255.\u001b[39m\n\u001b[1;32m----> 4\u001b[0m \u001b[39mprint\u001b[39m(\u001b[39m\"\u001b[39m\u001b[39mlen trin: \u001b[39m\u001b[39m\"\u001b[39m,x_train\u001b[39m.\u001b[39;49mshape())\n",
            "\u001b[1;31mTypeError\u001b[0m: 'tuple' object is not callable"
          ]
        }
      ],
      "source": [
        "(x_train, y_train), (x_test, y_test) = tf.keras.datasets.mnist.load_data()\n",
        "\n",
        "x_train, x_test = x_train / 255., x_test / 255."
      ]
    },
    {
      "cell_type": "markdown",
      "metadata": {},
      "source": [
        "We then create a Keras model using the scattering transform followed by a\n",
        "dense layer and a softmax activation.\n",
        "\n"
      ]
    },
    {
      "cell_type": "code",
      "execution_count": 4,
      "metadata": {
        "collapsed": false
      },
      "outputs": [],
      "source": [
        "inputs = Input(shape=(28, 28))\n",
        "x = Scattering2D(J=3, L=8)(inputs)\n",
        "x = Flatten()(x)\n",
        "x_out = Dense(10, activation='softmax')(x)\n",
        "model = Model(inputs, x_out)"
      ]
    },
    {
      "cell_type": "markdown",
      "metadata": {},
      "source": [
        "Display the created model.\n",
        "\n"
      ]
    },
    {
      "cell_type": "code",
      "execution_count": 5,
      "metadata": {
        "collapsed": false
      },
      "outputs": [
        {
          "name": "stdout",
          "output_type": "stream",
          "text": [
            "Model: \"model\"\n",
            "_________________________________________________________________\n",
            " Layer (type)                Output Shape              Param #   \n",
            "=================================================================\n",
            " input_1 (InputLayer)        [(None, 28, 28)]          0         \n",
            "                                                                 \n",
            " scattering2d (Scattering2D)  (None, 217, 3, 3)        0         \n",
            "                                                                 \n",
            " flatten (Flatten)           (None, 1953)              0         \n",
            "                                                                 \n",
            " dense (Dense)               (None, 10)                19540     \n",
            "                                                                 \n",
            "=================================================================\n",
            "Total params: 19,540\n",
            "Trainable params: 19,540\n",
            "Non-trainable params: 0\n",
            "_________________________________________________________________\n"
          ]
        }
      ],
      "source": [
        "model.summary()"
      ]
    },
    {
      "cell_type": "markdown",
      "metadata": {},
      "source": [
        "Once the model is created, we couple it with an Adam optimizer and a\n",
        "cross-entropy loss function.\n",
        "\n"
      ]
    },
    {
      "cell_type": "code",
      "execution_count": 6,
      "metadata": {
        "collapsed": false
      },
      "outputs": [],
      "source": [
        "model.compile(optimizer='adam',\n",
        "              loss='sparse_categorical_crossentropy',\n",
        "              metrics=['accuracy'])"
      ]
    },
    {
      "cell_type": "markdown",
      "metadata": {},
      "source": [
        "We then train the model using `model.fit` on a subset of the MNIST data.\n",
        "\n"
      ]
    },
    {
      "cell_type": "code",
      "execution_count": 8,
      "metadata": {
        "collapsed": false
      },
      "outputs": [
        {
          "name": "stdout",
          "output_type": "stream",
          "text": [
            "Epoch 1/15\n",
            "125/125 [==============================] - 85s 684ms/step - loss: 2.0337 - accuracy: 0.7254 - val_loss: 1.9103 - val_accuracy: 0.8300\n",
            "Epoch 2/15\n",
            "125/125 [==============================] - 79s 634ms/step - loss: 1.8105 - accuracy: 0.8299 - val_loss: 1.7029 - val_accuracy: 0.8535\n",
            "Epoch 3/15\n",
            "125/125 [==============================] - 79s 635ms/step - loss: 1.6186 - accuracy: 0.8590 - val_loss: 1.5282 - val_accuracy: 0.8510\n",
            "Epoch 4/15\n",
            "125/125 [==============================] - 79s 635ms/step - loss: 1.4570 - accuracy: 0.8683 - val_loss: 1.3806 - val_accuracy: 0.8655\n",
            "Epoch 5/15\n",
            "125/125 [==============================] - 80s 640ms/step - loss: 1.3195 - accuracy: 0.8848 - val_loss: 1.2546 - val_accuracy: 0.8750\n",
            "Epoch 6/15\n",
            "125/125 [==============================] - 80s 639ms/step - loss: 1.2025 - accuracy: 0.8915 - val_loss: 1.1489 - val_accuracy: 0.8795\n",
            "Epoch 7/15\n",
            "125/125 [==============================] - 79s 637ms/step - loss: 1.1022 - accuracy: 0.8992 - val_loss: 1.0578 - val_accuracy: 0.8860\n",
            "Epoch 8/15\n",
            "125/125 [==============================] - 81s 648ms/step - loss: 1.0156 - accuracy: 0.9056 - val_loss: 0.9791 - val_accuracy: 0.8905\n",
            "Epoch 9/15\n",
            "125/125 [==============================] - 82s 654ms/step - loss: 0.9408 - accuracy: 0.9087 - val_loss: 0.9093 - val_accuracy: 0.8930\n",
            "Epoch 10/15\n",
            "125/125 [==============================] - 80s 644ms/step - loss: 0.8755 - accuracy: 0.9133 - val_loss: 0.8503 - val_accuracy: 0.8970\n",
            "Epoch 11/15\n",
            "125/125 [==============================] - 79s 631ms/step - loss: 0.8181 - accuracy: 0.9161 - val_loss: 0.7990 - val_accuracy: 0.9000\n",
            "Epoch 12/15\n",
            "125/125 [==============================] - 79s 632ms/step - loss: 0.7674 - accuracy: 0.9201 - val_loss: 0.7528 - val_accuracy: 0.9060\n",
            "Epoch 13/15\n",
            "125/125 [==============================] - 79s 633ms/step - loss: 0.7223 - accuracy: 0.9233 - val_loss: 0.7102 - val_accuracy: 0.9085\n",
            "Epoch 14/15\n",
            "125/125 [==============================] - 79s 631ms/step - loss: 0.6824 - accuracy: 0.9264 - val_loss: 0.6737 - val_accuracy: 0.9100\n",
            "Epoch 15/15\n",
            "125/125 [==============================] - 79s 633ms/step - loss: 0.6465 - accuracy: 0.9274 - val_loss: 0.6408 - val_accuracy: 0.9135\n"
          ]
        },
        {
          "data": {
            "text/plain": [
              "<keras.callbacks.History at 0x18cdad1e320>"
            ]
          },
          "execution_count": 8,
          "metadata": {},
          "output_type": "execute_result"
        }
      ],
      "source": [
        "model.fit(x_train[:10000], y_train[:10000], epochs=15,\n",
        "          batch_size=64, validation_split=0.2)"
      ]
    },
    {
      "cell_type": "markdown",
      "metadata": {},
      "source": [
        "Finally, we evaluate the model on the held-out test data.\n",
        "\n"
      ]
    },
    {
      "cell_type": "code",
      "execution_count": 9,
      "metadata": {
        "collapsed": false
      },
      "outputs": [
        {
          "name": "stdout",
          "output_type": "stream",
          "text": [
            "313/313 [==============================] - 79s 254ms/step - loss: 0.6265 - accuracy: 0.9292\n"
          ]
        },
        {
          "data": {
            "text/plain": [
              "[0.6264832615852356, 0.9291999936103821]"
            ]
          },
          "execution_count": 9,
          "metadata": {},
          "output_type": "execute_result"
        }
      ],
      "source": [
        "model.evaluate(x_test, y_test)"
      ]
    }
  ],
  "metadata": {
    "kernelspec": {
      "display_name": "MASTER_MNE",
      "language": "python",
      "name": "python3"
    },
    "language_info": {
      "codemirror_mode": {
        "name": "ipython",
        "version": 3
      },
      "file_extension": ".py",
      "mimetype": "text/x-python",
      "name": "python",
      "nbconvert_exporter": "python",
      "pygments_lexer": "ipython3",
      "version": "3.10.6"
    },
    "vscode": {
      "interpreter": {
        "hash": "5203871d7a25a989cb6c681c22d2989d3bee9b0b49a8223197dab1a5564fd193"
      }
    }
  },
  "nbformat": 4,
  "nbformat_minor": 0
}
