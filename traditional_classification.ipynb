{
 "cells": [
  {
   "cell_type": "code",
   "execution_count": null,
   "metadata": {},
   "outputs": [],
   "source": [
    "import numpy as np\n",
    "from sklearn.model_selection import train_test_split, train_test_split\n",
    "import pandas as pd\n",
    "\n",
    "import utils.load_data as ld\n",
    "import utils.classifiers as clfs\n",
    "import utils.features as f"
   ]
  },
  {
   "cell_type": "code",
   "execution_count": null,
   "metadata": {},
   "outputs": [],
   "source": [
    "data_type = 'new_ica'\n",
    "label_type = 'stai'\n",
    "#time_series_features, fractal_features, entropy_features, hjorth_features, freq_band_features, kymatio_wave_scattering\n",
    "feature_type = f.time_series_features\n",
    "kfold = True\n",
    "\n",
    "\n",
    "train_data, test_data, train_labels, test_labels = ld.load_and_shape_data(data_type, label_type, feature_type, kfold)"
   ]
  },
  {
   "cell_type": "code",
   "execution_count": null,
   "metadata": {},
   "outputs": [],
   "source": [
    "print(f'{data_type} data with {feature_type} features and {label_type} labels')\n",
    "clfs.knn_classification(train_data, test_data, train_labels, test_labels)"
   ]
  },
  {
   "cell_type": "code",
   "execution_count": null,
   "metadata": {},
   "outputs": [],
   "source": [
    "print(f'{data_type} data with {feature_type} features and {label_type} labels')\n",
    "clfs.svm_classification(train_data, test_data, train_labels, test_labels)\n"
   ]
  },
  {
   "cell_type": "code",
   "execution_count": null,
   "metadata": {},
   "outputs": [],
   "source": [
    "#time_series_features, fractal_features, entropy_features, hjorth_features, freq_band_features, kymatio_wave_scattering\n",
    "feature_type = f.fractal_features\n",
    "kfold = True\n",
    "\n",
    "\n",
    "train_data, test_data, train_labels, test_labels = ld.load_and_shape_data(data_type, label_type, feature_type, kfold)"
   ]
  },
  {
   "cell_type": "code",
   "execution_count": null,
   "metadata": {},
   "outputs": [],
   "source": [
    "print(f'{data_type} data with {feature_type} features and {label_type} labels')\n",
    "clfs.knn_classification(train_data, test_data, train_labels, test_labels)"
   ]
  },
  {
   "cell_type": "code",
   "execution_count": null,
   "metadata": {},
   "outputs": [],
   "source": [
    "print(f'{data_type} data with {feature_type} features and {label_type} labels')\n",
    "clfs.svm_classification(train_data, test_data, train_labels, test_labels)\n"
   ]
  },
  {
   "cell_type": "code",
   "execution_count": null,
   "metadata": {},
   "outputs": [],
   "source": [
    "#time_series_features, fractal_features, entropy_features, hjorth_features, freq_band_features, kymatio_wave_scattering\n",
    "feature_type = f.entropy_features\n",
    "kfold = True\n",
    "\n",
    "\n",
    "train_data, test_data, train_labels, test_labels = ld.load_and_shape_data(data_type, label_type, feature_type, kfold)"
   ]
  },
  {
   "cell_type": "code",
   "execution_count": null,
   "metadata": {},
   "outputs": [],
   "source": [
    "print(f'{data_type} data with {feature_type} features and {label_type} labels')\n",
    "clfs.knn_classification(train_data, test_data, train_labels, test_labels)"
   ]
  },
  {
   "cell_type": "code",
   "execution_count": null,
   "metadata": {},
   "outputs": [],
   "source": [
    "print(f'{data_type} data with {feature_type} features and {label_type} labels')\n",
    "clfs.svm_classification(train_data, test_data, train_labels, test_labels)\n"
   ]
  },
  {
   "cell_type": "code",
   "execution_count": null,
   "metadata": {},
   "outputs": [],
   "source": [
    "#time_series_features, fractal_features, entropy_features, hjorth_features, freq_band_features, kymatio_wave_scattering\n",
    "feature_type = f.hjorth_features\n",
    "kfold = True\n",
    "\n",
    "\n",
    "train_data, test_data, train_labels, test_labels = ld.load_and_shape_data(data_type, label_type, feature_type, kfold)"
   ]
  },
  {
   "cell_type": "code",
   "execution_count": null,
   "metadata": {},
   "outputs": [],
   "source": [
    "print(f'{data_type} data with {feature_type} features and {label_type} labels')\n",
    "clfs.knn_classification(train_data, test_data, train_labels, test_labels)"
   ]
  },
  {
   "cell_type": "code",
   "execution_count": null,
   "metadata": {},
   "outputs": [],
   "source": [
    "print(f'{data_type} data with {feature_type} features and {label_type} labels')\n",
    "clfs.svm_classification(train_data, test_data, train_labels, test_labels)\n"
   ]
  },
  {
   "cell_type": "code",
   "execution_count": null,
   "metadata": {},
   "outputs": [],
   "source": [
    "#time_series_features, fractal_features, entropy_features, hjorth_features, freq_band_features, kymatio_wave_scattering\n",
    "feature_type = f.freq_band_features\n",
    "kfold = True\n",
    "\n",
    "\n",
    "train_data, test_data, train_labels, test_labels = ld.load_and_shape_data(data_type, label_type, feature_type, kfold)"
   ]
  },
  {
   "cell_type": "code",
   "execution_count": null,
   "metadata": {},
   "outputs": [],
   "source": [
    "print(f'{data_type} data with {feature_type} features and {label_type} labels')\n",
    "clfs.knn_classification(train_data, test_data, train_labels, test_labels)"
   ]
  },
  {
   "cell_type": "code",
   "execution_count": null,
   "metadata": {},
   "outputs": [],
   "source": [
    "print(f'{data_type} data with {feature_type} features and {label_type} labels')\n",
    "clfs.svm_classification(train_data, test_data, train_labels, test_labels)\n"
   ]
  },
  {
   "cell_type": "code",
   "execution_count": null,
   "metadata": {},
   "outputs": [],
   "source": [
    "#time_series_features, fractal_features, entropy_features, hjorth_features, freq_band_features, kymatio_wave_scattering\n",
    "feature_type = None\n",
    "kfold = True\n",
    "\n",
    "\n",
    "train_data, test_data, train_labels, test_labels = ld.load_and_shape_data(data_type, label_type, feature_type, kfold)"
   ]
  },
  {
   "cell_type": "code",
   "execution_count": null,
   "metadata": {},
   "outputs": [],
   "source": [
    "#print(f'{data_type} data with {feature_type} features and {label_type} labels')\n",
    "clfs.knn_classification(train_data, test_data, train_labels, test_labels)"
   ]
  },
  {
   "cell_type": "code",
   "execution_count": null,
   "metadata": {},
   "outputs": [],
   "source": [
    "#print(f'{data_type} data with {feature_type} features and {label_type} labels')\n",
    "clfs.svm_classification(train_data, test_data, train_labels, test_labels)"
   ]
  }
 ],
 "metadata": {
  "kernelspec": {
   "display_name": "MNE",
   "language": "python",
   "name": "python3"
  },
  "language_info": {
   "codemirror_mode": {
    "name": "ipython",
    "version": 3
   },
   "file_extension": ".py",
   "mimetype": "text/x-python",
   "name": "python",
   "nbconvert_exporter": "python",
   "pygments_lexer": "ipython3",
   "version": "3.10.6"
  },
  "orig_nbformat": 4,
  "vscode": {
   "interpreter": {
    "hash": "f6df28382c6e70c1c1d3c02fa7b17b6f3b6fcf9f5d22d2410beebd122bfaf45e"
   }
  }
 },
 "nbformat": 4,
 "nbformat_minor": 2
}
