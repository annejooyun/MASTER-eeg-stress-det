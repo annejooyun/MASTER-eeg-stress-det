{
 "cells": [
  {
   "cell_type": "code",
   "execution_count": 26,
   "metadata": {},
   "outputs": [],
   "source": [
    "import numpy as np\n",
    "from sklearn.model_selection import train_test_split, train_test_split\n",
    "import pandas as pd\n",
    "\n",
    "from utils.data import extract_eeg_data, segment_data\n",
    "from load_data import load_kfold_data, load_data\n",
    "from utils.labels import get_pss_labels, get_stai_labels\n",
    "from utils.valid_recs import get_valid_recs\n",
    "from features import time_series_features, fractal_features, entropy_features,freq_band_features, hjorth_features, kymatio_wave_scattering\n",
    "from classifiers import knn_classification, svm_classification\n",
    "\n",
    "import utils.variables as v"
   ]
  },
  {
   "cell_type": "code",
   "execution_count": 27,
   "metadata": {},
   "outputs": [],
   "source": [
    "def load_and_shape_data(data_type, label_type, features, kfold, new_ica = False):\n",
    "    #Load data\n",
    "    if kfold:\n",
    "        train_data, test_data, train_labels, test_labels = load_kfold_data(data_type, label_type, epoched = False, binary = True)\n",
    "    else:\n",
    "        train_data, test_data, val_data, train_labels, test_labels, val_labels = load_data(data_type, label_type, epoched = True, binary = True)\n",
    "\n",
    "\n",
    "    if features:\n",
    "        #Reshape labels - ONLY FOR USING FEATURES\n",
    "        train_labels = np.repeat(train_labels, repeats = 8, axis = 0).reshape((train_data.shape[0]*8,1))\n",
    "        train_labels = train_labels.ravel()\n",
    "\n",
    "        test_labels = np.repeat(test_labels,repeats = 8, axis = 0).reshape((test_data.shape[0]*8,1))\n",
    "        test_labels = test_labels.ravel()\n",
    "\n",
    "        print(train_labels.shape)\n",
    "        print(test_labels.shape)\n",
    "\n",
    "        #Extract features\n",
    "        train_data = time_series_features(train_data, new_ica)\n",
    "        test_data = time_series_features(test_data, new_ica)\n",
    "\n",
    "        print(train_data.shape)\n",
    "        print(test_data.shape)\n",
    "    else:\n",
    "        #Reshape data - ONLY FOR USING THE WHOLE DATASET, NOT FEATURES\n",
    "        train_data = np.reshape(train_data, (train_data.shape[0]*train_data.shape[1], train_data.shape[2]))\n",
    "        train_labels = np.repeat(train_labels, repeats = 8, axis = 1).reshape(-1,1)\n",
    "        train_labels = train_labels.ravel()\n",
    "\n",
    "        test_data = np.reshape(test_data, (test_data.shape[0]*test_data.shape[1],test_data.shape[2]))\n",
    "        test_labels = np.repeat(test_labels, repeats = 8, axis = 1).reshape(-1,1)\n",
    "        test_labels = test_labels.ravel()\n",
    "    return train_data, test_data, train_labels, test_labels\n",
    "\n"
   ]
  },
  {
   "cell_type": "code",
   "execution_count": 44,
   "metadata": {},
   "outputs": [
    {
     "name": "stdout",
     "output_type": "stream",
     "text": [
      "---- Generating all recordings ----\n",
      "All records generated\n",
      "\n",
      "---- Filtering out invalid recordings ----\n",
      "ERROR 1) Failed to read data for recording P006_S002_001\n",
      "ERROR 1) Failed to read data for recording P006_S002_002\n",
      "ERROR 1) Failed to read data for recording P028_S002_001\n",
      "ERROR 1) Failed to read data for recording P028_S002_002\n",
      "\n",
      "---- Returning valid recordings ----\n",
      "['P001_S001_001', 'P001_S001_002', 'P001_S002_001', 'P001_S002_002', 'P002_S001_001', 'P002_S001_002', 'P002_S002_001', 'P002_S002_002', 'P003_S001_001', 'P003_S001_002', 'P003_S002_001', 'P003_S002_002', 'P004_S001_001', 'P004_S001_002', 'P004_S002_001', 'P004_S002_002', 'P005_S001_001', 'P005_S001_002', 'P005_S002_001', 'P005_S002_002', 'P006_S001_001', 'P006_S001_002', 'P007_S001_001', 'P007_S001_002', 'P007_S002_001', 'P007_S002_002', 'P008_S001_001', 'P008_S001_002', 'P008_S002_001', 'P008_S002_002', 'P009_S001_001', 'P009_S001_002', 'P009_S002_001', 'P009_S002_002', 'P010_S001_002', 'P010_S002_001', 'P010_S002_002', 'P011_S001_001', 'P011_S001_002', 'P011_S002_001', 'P011_S002_002', 'P012_S001_001', 'P012_S001_002', 'P012_S002_001', 'P012_S002_002', 'P013_S002_001', 'P013_S002_002', 'P014_S001_001', 'P014_S001_002', 'P014_S002_001', 'P014_S002_002', 'P015_S001_001', 'P015_S001_002', 'P015_S002_001', 'P015_S002_002', 'P016_S001_001', 'P016_S001_002', 'P016_S002_001', 'P016_S002_002', 'P017_S001_001', 'P017_S001_002', 'P017_S002_001', 'P017_S002_002', 'P018_S001_001', 'P018_S001_002', 'P018_S002_001', 'P018_S002_002', 'P019_S001_001', 'P019_S001_002', 'P019_S002_001', 'P019_S002_002', 'P020_S001_002', 'P020_S002_001', 'P020_S002_002', 'P021_S001_001', 'P021_S001_002', 'P021_S002_001', 'P021_S002_002', 'P022_S001_001', 'P022_S001_002', 'P022_S002_001', 'P022_S002_002', 'P023_S001_001', 'P023_S001_002', 'P023_S002_001', 'P024_S001_001', 'P024_S001_002', 'P024_S002_001', 'P024_S002_002', 'P025_S001_001', 'P025_S001_002', 'P025_S002_001', 'P025_S002_002', 'P026_S001_001', 'P026_S001_002', 'P026_S002_001', 'P026_S002_002', 'P027_S001_001', 'P027_S001_002', 'P027_S002_001', 'P027_S002_002', 'P028_S001_001', 'P028_S001_002']\n",
      "\n",
      "Length of data: 103\n",
      "    S001_001  S001_002  S002_001  S002_002\n",
      "0        2.0       4.0       2.0       3.0\n",
      "1        3.0       6.0       2.0       5.0\n",
      "2        7.0       9.0       2.0       4.0\n",
      "3        6.0       8.0       2.0       3.0\n",
      "4        3.0       4.0       6.0       6.0\n",
      "5        6.0       8.0       NaN       NaN\n",
      "6        7.0       9.0       4.0       6.0\n",
      "7        4.0       6.0       2.0       3.0\n",
      "8        6.0       6.0       3.0       4.0\n",
      "9        1.0       2.0       1.0       1.0\n",
      "10       5.0       6.0       3.0       5.0\n",
      "11       2.0       5.0       2.0       6.0\n",
      "12       4.0       6.0       2.0       4.0\n",
      "13       4.0       8.0       1.0       3.0\n",
      "14       8.0       6.0       2.0       4.0\n",
      "15       4.0       5.0       1.0       2.0\n",
      "16       4.0       6.0       2.0       4.0\n",
      "17       4.0       7.0       3.0       5.0\n",
      "18       3.0       7.0       1.0       4.0\n",
      "19       4.0       5.0       2.0       3.0\n",
      "20       4.0       6.0       2.0       6.0\n",
      "21       5.0       6.0       2.0       4.0\n",
      "22       6.0       8.0       1.0       6.0\n",
      "23       7.0       5.0       4.0       5.0\n",
      "24       6.0       8.0       4.0       6.0\n",
      "25       3.0       6.0       3.0       4.0\n",
      "26       4.0       6.0       3.0       3.0\n",
      "27       NaN       NaN       1.0       4.0\n",
      "P006_S002_001 has invalid record length\n",
      "P006_S002_002 has invalid record length\n",
      "P010_S001_001 has invalid record length\n",
      "P013_S001_001 has invalid record length\n",
      "P013_S001_002 has invalid record length\n",
      "P020_S001_001 has invalid record length\n",
      "P023_S002_002 has invalid record length\n",
      "P028_S002_001 has invalid record length\n",
      "P028_S002_002 has invalid record length\n",
      "\n",
      "---- Labels ----\n",
      "{'P001_S001_001': 0, 'P001_S001_002': 1, 'P001_S002_001': 0, 'P001_S002_002': 0, 'P002_S001_001': 0, 'P002_S001_002': 1, 'P002_S002_001': 0, 'P002_S002_002': 1, 'P003_S001_001': 2, 'P003_S001_002': 2, 'P003_S002_001': 0, 'P003_S002_002': 1, 'P004_S001_001': 1, 'P004_S001_002': 2, 'P004_S002_001': 0, 'P004_S002_002': 0, 'P005_S001_001': 0, 'P005_S001_002': 1, 'P005_S002_001': 1, 'P005_S002_002': 1, 'P006_S001_001': 1, 'P006_S001_002': 2, 'P007_S001_001': 2, 'P007_S001_002': 2, 'P007_S002_001': 1, 'P007_S002_002': 1, 'P008_S001_001': 1, 'P008_S001_002': 1, 'P008_S002_001': 0, 'P008_S002_002': 0, 'P009_S001_001': 1, 'P009_S001_002': 1, 'P009_S002_001': 0, 'P009_S002_002': 1, 'P010_S001_002': 0, 'P010_S002_001': 0, 'P010_S002_002': 0, 'P011_S001_001': 1, 'P011_S001_002': 1, 'P011_S002_001': 0, 'P011_S002_002': 1, 'P012_S001_001': 0, 'P012_S001_002': 1, 'P012_S002_001': 0, 'P012_S002_002': 1, 'P013_S002_001': 0, 'P013_S002_002': 1, 'P014_S001_001': 1, 'P014_S001_002': 2, 'P014_S002_001': 0, 'P014_S002_002': 0, 'P015_S001_001': 2, 'P015_S001_002': 1, 'P015_S002_001': 0, 'P015_S002_002': 1, 'P016_S001_001': 1, 'P016_S001_002': 1, 'P016_S002_001': 0, 'P016_S002_002': 0, 'P017_S001_001': 1, 'P017_S001_002': 1, 'P017_S002_001': 0, 'P017_S002_002': 1, 'P018_S001_001': 1, 'P018_S001_002': 2, 'P018_S002_001': 0, 'P018_S002_002': 1, 'P019_S001_001': 0, 'P019_S001_002': 2, 'P019_S002_001': 0, 'P019_S002_002': 1, 'P020_S001_002': 1, 'P020_S002_001': 0, 'P020_S002_002': 0, 'P021_S001_001': 1, 'P021_S001_002': 1, 'P021_S002_001': 0, 'P021_S002_002': 1, 'P022_S001_001': 1, 'P022_S001_002': 1, 'P022_S002_001': 0, 'P022_S002_002': 1, 'P023_S001_001': 1, 'P023_S001_002': 2, 'P023_S002_001': 0, 'P024_S001_001': 2, 'P024_S001_002': 1, 'P024_S002_001': 1, 'P024_S002_002': 1, 'P025_S001_001': 1, 'P025_S001_002': 2, 'P025_S002_001': 1, 'P025_S002_002': 1, 'P026_S001_001': 0, 'P026_S001_002': 1, 'P026_S002_001': 0, 'P026_S002_002': 1, 'P027_S001_001': 1, 'P027_S001_002': 1, 'P027_S002_001': 0, 'P027_S002_002': 0, 'P028_S001_001': 0, 'P028_S001_002': 0}\n",
      "\n",
      "Length of data after removing invalid labels: 103\n",
      "Length of labels after removing invalid labels: 103\n",
      "\n",
      "The extracted keys : \n",
      "['P001_S001_002', 'P002_S001_002', 'P002_S002_002', 'P003_S002_002', 'P004_S001_001', 'P005_S001_002', 'P005_S002_001', 'P005_S002_002', 'P006_S001_001', 'P007_S002_001', 'P007_S002_002', 'P008_S001_001', 'P008_S001_002', 'P009_S001_001', 'P009_S001_002', 'P009_S002_002', 'P011_S001_001', 'P011_S001_002', 'P011_S002_002', 'P012_S001_002', 'P012_S002_002', 'P013_S002_002', 'P014_S001_001', 'P015_S001_002', 'P015_S002_002', 'P016_S001_001', 'P016_S001_002', 'P017_S001_001', 'P017_S001_002', 'P017_S002_002', 'P018_S001_001', 'P018_S002_002', 'P019_S002_002', 'P020_S001_002', 'P021_S001_001', 'P021_S001_002', 'P021_S002_002', 'P022_S001_001', 'P022_S001_002', 'P022_S002_002', 'P023_S001_001', 'P024_S001_002', 'P024_S002_001', 'P024_S002_002', 'P025_S001_001', 'P025_S002_001', 'P025_S002_002', 'P026_S001_002', 'P026_S002_002', 'P027_S001_001', 'P027_S001_002']\n",
      "\n",
      "Length of data after removing mildly stressed subjects: 52\n",
      "Length of labels after removing  mildly stressed subjects: 52\n",
      "\n",
      "Shape of train data set: (40, 8, 75000)\n",
      "Shape of train labels set: (40, 1)\n",
      "Shape of test data set: (12, 8, 75000)\n",
      "Shape of test labels set: (12, 1)\n",
      "(320,)\n",
      "(96,)\n",
      "(320, 384)\n",
      "(96, 384)\n"
     ]
    }
   ],
   "source": [
    "data_type = 'raw'\n",
    "label_type = 'pss'\n",
    "features = True\n",
    "kfold = True\n",
    "feature = time_series_features\n",
    "\n",
    "\n",
    "train_data, test_data, train_labels, test_labels = load_and_shape_data(data_type, label_type, features, kfold, feature)"
   ]
  },
  {
   "cell_type": "code",
   "execution_count": 42,
   "metadata": {},
   "outputs": [
    {
     "name": "stdout",
     "output_type": "stream",
     "text": [
      "raw data with pss labels\n",
      "KNN:\n",
      "\n",
      " Confusion matrix:\n",
      "[[58  6]\n",
      " [16 16]]\n",
      "Accuracy, Sensitivity, Specificity:\n",
      "\n",
      "[77.08 78.38 72.73]\n"
     ]
    }
   ],
   "source": [
    "print(f'{data_type} data with {label_type} labels')\n",
    "knn_classification(train_data, test_data, train_labels, test_labels)"
   ]
  },
  {
   "cell_type": "code",
   "execution_count": 43,
   "metadata": {},
   "outputs": [
    {
     "name": "stdout",
     "output_type": "stream",
     "text": [
      "raw data with pss labels\n",
      "SVM:\n",
      "\n",
      " Confusion matrix:\n",
      "[[56  8]\n",
      " [14 18]]\n",
      "Accuracy, Sensitivity, Specificity:\n",
      "[77.08 80.   69.23]\n"
     ]
    }
   ],
   "source": [
    "print(f'{data_type} data with {label_type} labels')\n",
    "svm_classification(train_data, test_data, train_labels, test_labels)\n"
   ]
  },
  {
   "cell_type": "code",
   "execution_count": 31,
   "metadata": {},
   "outputs": [
    {
     "name": "stdout",
     "output_type": "stream",
     "text": [
      "---- Generating all recordings ----\n",
      "All records generated\n",
      "\n",
      "---- Filtering out invalid recordings ----\n",
      "ERROR 1) Failed to read data for recording P006_S002_001\n",
      "ERROR 1) Failed to read data for recording P006_S002_002\n",
      "ERROR 1) Failed to read data for recording P010_S001_001\n",
      "ERROR 1) Failed to read data for recording P013_S001_001\n",
      "ERROR 1) Failed to read data for recording P013_S001_002\n",
      "ERROR 1) Failed to read data for recording P020_S001_001\n",
      "ERROR 1) Failed to read data for recording P023_S002_002\n",
      "ERROR 1) Failed to read data for recording P028_S001_001\n",
      "ERROR 1) Failed to read data for recording P028_S001_002\n",
      "\n",
      "---- Returning valid recordings ----\n",
      "['P001_S001_001', 'P001_S001_002', 'P001_S002_001', 'P001_S002_002', 'P002_S001_001', 'P002_S001_002', 'P002_S002_001', 'P002_S002_002', 'P003_S001_001', 'P003_S001_002', 'P003_S002_001', 'P003_S002_002', 'P004_S001_001', 'P004_S001_002', 'P004_S002_001', 'P004_S002_002', 'P005_S001_001', 'P005_S001_002', 'P005_S002_001', 'P005_S002_002', 'P006_S001_001', 'P006_S001_002', 'P007_S001_001', 'P007_S001_002', 'P007_S002_001', 'P007_S002_002', 'P008_S001_001', 'P008_S001_002', 'P008_S002_001', 'P008_S002_002', 'P009_S001_001', 'P009_S001_002', 'P009_S002_001', 'P009_S002_002', 'P010_S001_002', 'P010_S002_001', 'P010_S002_002', 'P011_S001_001', 'P011_S001_002', 'P011_S002_001', 'P011_S002_002', 'P012_S001_001', 'P012_S001_002', 'P012_S002_001', 'P012_S002_002', 'P013_S002_001', 'P013_S002_002', 'P014_S001_001', 'P014_S001_002', 'P014_S002_001', 'P014_S002_002', 'P015_S001_001', 'P015_S001_002', 'P015_S002_001', 'P015_S002_002', 'P016_S001_001', 'P016_S001_002', 'P016_S002_001', 'P016_S002_002', 'P017_S001_001', 'P017_S001_002', 'P017_S002_001', 'P017_S002_002', 'P018_S001_001', 'P018_S001_002', 'P018_S002_001', 'P018_S002_002', 'P019_S001_001', 'P019_S001_002', 'P019_S002_001', 'P019_S002_002', 'P020_S001_002', 'P020_S002_001', 'P020_S002_002', 'P021_S001_001', 'P021_S001_002', 'P021_S002_001', 'P021_S002_002', 'P022_S001_001', 'P022_S001_002', 'P022_S002_001', 'P022_S002_002', 'P023_S001_001', 'P023_S001_002', 'P023_S002_001', 'P024_S001_001', 'P024_S001_002', 'P024_S002_001', 'P024_S002_002', 'P025_S001_001', 'P025_S001_002', 'P025_S002_001', 'P025_S002_002', 'P026_S001_001', 'P026_S001_002', 'P026_S002_001', 'P026_S002_002', 'P027_S001_001', 'P027_S001_002', 'P027_S002_001', 'P027_S002_002', 'P028_S002_001', 'P028_S002_002']\n",
      "\n",
      "Length of data: 103\n",
      "    S001_001  S001_002  S002_001  S002_002\n",
      "0        2.0       4.0       2.0       3.0\n",
      "1        3.0       6.0       2.0       5.0\n",
      "2        7.0       9.0       2.0       4.0\n",
      "3        6.0       8.0       2.0       3.0\n",
      "4        3.0       4.0       6.0       6.0\n",
      "5        6.0       8.0       NaN       NaN\n",
      "6        7.0       9.0       4.0       6.0\n",
      "7        4.0       6.0       2.0       3.0\n",
      "8        6.0       6.0       3.0       4.0\n",
      "9        1.0       2.0       1.0       1.0\n",
      "10       5.0       6.0       3.0       5.0\n",
      "11       2.0       5.0       2.0       6.0\n",
      "12       4.0       6.0       2.0       4.0\n",
      "13       4.0       8.0       1.0       3.0\n",
      "14       8.0       6.0       2.0       4.0\n",
      "15       4.0       5.0       1.0       2.0\n",
      "16       4.0       6.0       2.0       4.0\n",
      "17       4.0       7.0       3.0       5.0\n",
      "18       3.0       7.0       1.0       4.0\n",
      "19       4.0       5.0       2.0       3.0\n",
      "20       4.0       6.0       2.0       6.0\n",
      "21       5.0       6.0       2.0       4.0\n",
      "22       6.0       8.0       1.0       6.0\n",
      "23       7.0       5.0       4.0       5.0\n",
      "24       6.0       8.0       4.0       6.0\n",
      "25       3.0       6.0       3.0       4.0\n",
      "26       4.0       6.0       3.0       3.0\n",
      "27       NaN       NaN       1.0       4.0\n",
      "P006_S002_001 has invalid record length\n",
      "P006_S002_002 has invalid record length\n",
      "P010_S001_001 has invalid record length\n",
      "P013_S001_001 has invalid record length\n",
      "P013_S001_002 has invalid record length\n",
      "P020_S001_001 has invalid record length\n",
      "P023_S002_002 has invalid record length\n",
      "P028_S001_001 has invalid record length\n",
      "P028_S001_002 has invalid record length\n",
      "\n",
      "---- Labels ----\n",
      "{'P001_S001_001': 0, 'P001_S001_002': 1, 'P001_S002_001': 0, 'P001_S002_002': 0, 'P002_S001_001': 0, 'P002_S001_002': 1, 'P002_S002_001': 0, 'P002_S002_002': 1, 'P003_S001_001': 2, 'P003_S001_002': 2, 'P003_S002_001': 0, 'P003_S002_002': 1, 'P004_S001_001': 1, 'P004_S001_002': 2, 'P004_S002_001': 0, 'P004_S002_002': 0, 'P005_S001_001': 0, 'P005_S001_002': 1, 'P005_S002_001': 1, 'P005_S002_002': 1, 'P006_S001_001': 1, 'P006_S001_002': 2, 'P007_S001_001': 2, 'P007_S001_002': 2, 'P007_S002_001': 1, 'P007_S002_002': 1, 'P008_S001_001': 1, 'P008_S001_002': 1, 'P008_S002_001': 0, 'P008_S002_002': 0, 'P009_S001_001': 1, 'P009_S001_002': 1, 'P009_S002_001': 0, 'P009_S002_002': 1, 'P010_S001_002': 0, 'P010_S002_001': 0, 'P010_S002_002': 0, 'P011_S001_001': 1, 'P011_S001_002': 1, 'P011_S002_001': 0, 'P011_S002_002': 1, 'P012_S001_001': 0, 'P012_S001_002': 1, 'P012_S002_001': 0, 'P012_S002_002': 1, 'P013_S002_001': 0, 'P013_S002_002': 1, 'P014_S001_001': 1, 'P014_S001_002': 2, 'P014_S002_001': 0, 'P014_S002_002': 0, 'P015_S001_001': 2, 'P015_S001_002': 1, 'P015_S002_001': 0, 'P015_S002_002': 1, 'P016_S001_001': 1, 'P016_S001_002': 1, 'P016_S002_001': 0, 'P016_S002_002': 0, 'P017_S001_001': 1, 'P017_S001_002': 1, 'P017_S002_001': 0, 'P017_S002_002': 1, 'P018_S001_001': 1, 'P018_S001_002': 2, 'P018_S002_001': 0, 'P018_S002_002': 1, 'P019_S001_001': 0, 'P019_S001_002': 2, 'P019_S002_001': 0, 'P019_S002_002': 1, 'P020_S001_002': 1, 'P020_S002_001': 0, 'P020_S002_002': 0, 'P021_S001_001': 1, 'P021_S001_002': 1, 'P021_S002_001': 0, 'P021_S002_002': 1, 'P022_S001_001': 1, 'P022_S001_002': 1, 'P022_S002_001': 0, 'P022_S002_002': 1, 'P023_S001_001': 1, 'P023_S001_002': 2, 'P023_S002_001': 0, 'P024_S001_001': 2, 'P024_S001_002': 1, 'P024_S002_001': 1, 'P024_S002_002': 1, 'P025_S001_001': 1, 'P025_S001_002': 2, 'P025_S002_001': 1, 'P025_S002_002': 1, 'P026_S001_001': 0, 'P026_S001_002': 1, 'P026_S002_001': 0, 'P026_S002_002': 1, 'P027_S001_001': 1, 'P027_S001_002': 1, 'P027_S002_001': 0, 'P027_S002_002': 0, 'P028_S002_001': 0, 'P028_S002_002': 1}\n",
      "\n",
      "Length of data after removing invalid labels: 103\n",
      "Length of labels after removing invalid labels: 103\n",
      "\n",
      "The extracted keys : \n",
      "['P001_S001_002', 'P002_S001_002', 'P002_S002_002', 'P003_S002_002', 'P004_S001_001', 'P005_S001_002', 'P005_S002_001', 'P005_S002_002', 'P006_S001_001', 'P007_S002_001', 'P007_S002_002', 'P008_S001_001', 'P008_S001_002', 'P009_S001_001', 'P009_S001_002', 'P009_S002_002', 'P011_S001_001', 'P011_S001_002', 'P011_S002_002', 'P012_S001_002', 'P012_S002_002', 'P013_S002_002', 'P014_S001_001', 'P015_S001_002', 'P015_S002_002', 'P016_S001_001', 'P016_S001_002', 'P017_S001_001', 'P017_S001_002', 'P017_S002_002', 'P018_S001_001', 'P018_S002_002', 'P019_S002_002', 'P020_S001_002', 'P021_S001_001', 'P021_S001_002', 'P021_S002_002', 'P022_S001_001', 'P022_S001_002', 'P022_S002_002', 'P023_S001_001', 'P024_S001_002', 'P024_S002_001', 'P024_S002_002', 'P025_S001_001', 'P025_S002_001', 'P025_S002_002', 'P026_S001_002', 'P026_S002_002', 'P027_S001_001', 'P027_S001_002', 'P028_S002_002']\n",
      "\n",
      "Length of data after removing mildly stressed subjects: 51\n",
      "Length of labels after removing  mildly stressed subjects: 51\n",
      "\n",
      "Shape of train data set: (39, 8, 75000)\n",
      "Shape of train labels set: (39, 1)\n",
      "Shape of test data set: (12, 8, 75000)\n",
      "Shape of test labels set: (12, 1)\n",
      "(312,)\n",
      "(96,)\n",
      "(312, 750)\n",
      "(96, 750)\n"
     ]
    }
   ],
   "source": [
    "data_type = 'init'\n",
    "\n",
    "train_data, test_data, train_labels, test_labels = load_and_shape_data(data_type, label_type, features, kfold)"
   ]
  },
  {
   "cell_type": "code",
   "execution_count": 32,
   "metadata": {},
   "outputs": [
    {
     "name": "stdout",
     "output_type": "stream",
     "text": [
      "init data with pss labels\n",
      "KNN:\n",
      "\n",
      " Confusion matrix:\n",
      "[[62  2]\n",
      " [29  3]]\n",
      "Accuracy, Sensitivity, Specificity:\n",
      "\n",
      "[67.71 68.13 60.  ]\n"
     ]
    }
   ],
   "source": [
    "print(f'{data_type} data with {label_type} labels')\n",
    "knn_classification(train_data, test_data, train_labels, test_labels)"
   ]
  },
  {
   "cell_type": "code",
   "execution_count": 33,
   "metadata": {},
   "outputs": [
    {
     "name": "stdout",
     "output_type": "stream",
     "text": [
      "init data with pss labels\n",
      "SVM:\n",
      "\n",
      " Confusion matrix:\n",
      "[[63  1]\n",
      " [28  4]]\n",
      "Accuracy, Sensitivity, Specificity:\n",
      "[69.79 69.23 80.  ]\n"
     ]
    }
   ],
   "source": [
    "print(f'{data_type} data with {label_type} labels')\n",
    "svm_classification(train_data, test_data, train_labels, test_labels)"
   ]
  },
  {
   "cell_type": "code",
   "execution_count": 34,
   "metadata": {},
   "outputs": [
    {
     "name": "stdout",
     "output_type": "stream",
     "text": [
      "---- Generating all recordings ----\n",
      "All records generated\n",
      "\n",
      "---- Filtering out invalid recordings ----\n",
      "ERROR 1) Failed to read data for recording P006_S002_001\n",
      "ERROR 1) Failed to read data for recording P006_S002_002\n",
      "ERROR 1) Failed to read data for recording P028_S001_001\n",
      "ERROR 1) Failed to read data for recording P028_S001_002\n",
      "\n",
      "---- Returning valid recordings ----\n",
      "['P001_S001_001', 'P001_S001_002', 'P001_S002_001', 'P001_S002_002', 'P002_S001_001', 'P002_S001_002', 'P002_S002_001', 'P002_S002_002', 'P003_S001_001', 'P003_S001_002', 'P003_S002_001', 'P003_S002_002', 'P004_S001_001', 'P004_S001_002', 'P004_S002_001', 'P004_S002_002', 'P005_S001_001', 'P005_S001_002', 'P005_S002_001', 'P005_S002_002', 'P006_S001_001', 'P006_S001_002', 'P007_S001_001', 'P007_S001_002', 'P007_S002_001', 'P007_S002_002', 'P008_S001_001', 'P008_S001_002', 'P008_S002_001', 'P008_S002_002', 'P009_S001_001', 'P009_S001_002', 'P009_S002_001', 'P009_S002_002', 'P010_S001_002', 'P010_S002_001', 'P010_S002_002', 'P011_S001_001', 'P011_S001_002', 'P011_S002_001', 'P011_S002_002', 'P012_S001_001', 'P012_S001_002', 'P012_S002_001', 'P012_S002_002', 'P013_S002_001', 'P013_S002_002', 'P014_S001_001', 'P014_S001_002', 'P014_S002_001', 'P014_S002_002', 'P015_S001_001', 'P015_S001_002', 'P015_S002_001', 'P015_S002_002', 'P016_S001_001', 'P016_S001_002', 'P016_S002_001', 'P016_S002_002', 'P017_S001_001', 'P017_S001_002', 'P017_S002_001', 'P017_S002_002', 'P018_S001_001', 'P018_S001_002', 'P018_S002_001', 'P018_S002_002', 'P019_S001_001', 'P019_S001_002', 'P019_S002_001', 'P019_S002_002', 'P020_S001_002', 'P020_S002_001', 'P020_S002_002', 'P021_S001_001', 'P021_S001_002', 'P021_S002_001', 'P021_S002_002', 'P022_S001_001', 'P022_S001_002', 'P022_S002_001', 'P022_S002_002', 'P023_S001_001', 'P023_S001_002', 'P023_S002_001', 'P024_S001_001', 'P024_S001_002', 'P024_S002_001', 'P024_S002_002', 'P025_S001_001', 'P025_S001_002', 'P025_S002_001', 'P025_S002_002', 'P026_S001_001', 'P026_S001_002', 'P026_S002_001', 'P026_S002_002', 'P027_S001_001', 'P027_S001_002', 'P027_S002_001', 'P027_S002_002', 'P028_S002_001', 'P028_S002_002']\n",
      "\n",
      "Length of data: 103\n",
      "    S001_001  S001_002  S002_001  S002_002\n",
      "0        2.0       4.0       2.0       3.0\n",
      "1        3.0       6.0       2.0       5.0\n",
      "2        7.0       9.0       2.0       4.0\n",
      "3        6.0       8.0       2.0       3.0\n",
      "4        3.0       4.0       6.0       6.0\n",
      "5        6.0       8.0       NaN       NaN\n",
      "6        7.0       9.0       4.0       6.0\n",
      "7        4.0       6.0       2.0       3.0\n",
      "8        6.0       6.0       3.0       4.0\n",
      "9        1.0       2.0       1.0       1.0\n",
      "10       5.0       6.0       3.0       5.0\n",
      "11       2.0       5.0       2.0       6.0\n",
      "12       4.0       6.0       2.0       4.0\n",
      "13       4.0       8.0       1.0       3.0\n",
      "14       8.0       6.0       2.0       4.0\n",
      "15       4.0       5.0       1.0       2.0\n",
      "16       4.0       6.0       2.0       4.0\n",
      "17       4.0       7.0       3.0       5.0\n",
      "18       3.0       7.0       1.0       4.0\n",
      "19       4.0       5.0       2.0       3.0\n",
      "20       4.0       6.0       2.0       6.0\n",
      "21       5.0       6.0       2.0       4.0\n",
      "22       6.0       8.0       1.0       6.0\n",
      "23       7.0       5.0       4.0       5.0\n",
      "24       6.0       8.0       4.0       6.0\n",
      "25       3.0       6.0       3.0       4.0\n",
      "26       4.0       6.0       3.0       3.0\n",
      "27       NaN       NaN       1.0       4.0\n",
      "P006_S002_001 has invalid record length\n",
      "P006_S002_002 has invalid record length\n",
      "P010_S001_001 has invalid record length\n",
      "P013_S001_001 has invalid record length\n",
      "P013_S001_002 has invalid record length\n",
      "P020_S001_001 has invalid record length\n",
      "P023_S002_002 has invalid record length\n",
      "P028_S001_001 has invalid record length\n",
      "P028_S001_002 has invalid record length\n",
      "\n",
      "---- Labels ----\n",
      "{'P001_S001_001': 0, 'P001_S001_002': 1, 'P001_S002_001': 0, 'P001_S002_002': 0, 'P002_S001_001': 0, 'P002_S001_002': 1, 'P002_S002_001': 0, 'P002_S002_002': 1, 'P003_S001_001': 2, 'P003_S001_002': 2, 'P003_S002_001': 0, 'P003_S002_002': 1, 'P004_S001_001': 1, 'P004_S001_002': 2, 'P004_S002_001': 0, 'P004_S002_002': 0, 'P005_S001_001': 0, 'P005_S001_002': 1, 'P005_S002_001': 1, 'P005_S002_002': 1, 'P006_S001_001': 1, 'P006_S001_002': 2, 'P007_S001_001': 2, 'P007_S001_002': 2, 'P007_S002_001': 1, 'P007_S002_002': 1, 'P008_S001_001': 1, 'P008_S001_002': 1, 'P008_S002_001': 0, 'P008_S002_002': 0, 'P009_S001_001': 1, 'P009_S001_002': 1, 'P009_S002_001': 0, 'P009_S002_002': 1, 'P010_S001_002': 0, 'P010_S002_001': 0, 'P010_S002_002': 0, 'P011_S001_001': 1, 'P011_S001_002': 1, 'P011_S002_001': 0, 'P011_S002_002': 1, 'P012_S001_001': 0, 'P012_S001_002': 1, 'P012_S002_001': 0, 'P012_S002_002': 1, 'P013_S002_001': 0, 'P013_S002_002': 1, 'P014_S001_001': 1, 'P014_S001_002': 2, 'P014_S002_001': 0, 'P014_S002_002': 0, 'P015_S001_001': 2, 'P015_S001_002': 1, 'P015_S002_001': 0, 'P015_S002_002': 1, 'P016_S001_001': 1, 'P016_S001_002': 1, 'P016_S002_001': 0, 'P016_S002_002': 0, 'P017_S001_001': 1, 'P017_S001_002': 1, 'P017_S002_001': 0, 'P017_S002_002': 1, 'P018_S001_001': 1, 'P018_S001_002': 2, 'P018_S002_001': 0, 'P018_S002_002': 1, 'P019_S001_001': 0, 'P019_S001_002': 2, 'P019_S002_001': 0, 'P019_S002_002': 1, 'P020_S001_002': 1, 'P020_S002_001': 0, 'P020_S002_002': 0, 'P021_S001_001': 1, 'P021_S001_002': 1, 'P021_S002_001': 0, 'P021_S002_002': 1, 'P022_S001_001': 1, 'P022_S001_002': 1, 'P022_S002_001': 0, 'P022_S002_002': 1, 'P023_S001_001': 1, 'P023_S001_002': 2, 'P023_S002_001': 0, 'P024_S001_001': 2, 'P024_S001_002': 1, 'P024_S002_001': 1, 'P024_S002_002': 1, 'P025_S001_001': 1, 'P025_S001_002': 2, 'P025_S002_001': 1, 'P025_S002_002': 1, 'P026_S001_001': 0, 'P026_S001_002': 1, 'P026_S002_001': 0, 'P026_S002_002': 1, 'P027_S001_001': 1, 'P027_S001_002': 1, 'P027_S002_001': 0, 'P027_S002_002': 0, 'P028_S002_001': 0, 'P028_S002_002': 1}\n",
      "\n",
      "Length of data after removing invalid labels: 103\n",
      "Length of labels after removing invalid labels: 103\n",
      "\n",
      "The extracted keys : \n",
      "['P001_S001_002', 'P002_S001_002', 'P002_S002_002', 'P003_S002_002', 'P004_S001_001', 'P005_S001_002', 'P005_S002_001', 'P005_S002_002', 'P006_S001_001', 'P007_S002_001', 'P007_S002_002', 'P008_S001_001', 'P008_S001_002', 'P009_S001_001', 'P009_S001_002', 'P009_S002_002', 'P011_S001_001', 'P011_S001_002', 'P011_S002_002', 'P012_S001_002', 'P012_S002_002', 'P013_S002_002', 'P014_S001_001', 'P015_S001_002', 'P015_S002_002', 'P016_S001_001', 'P016_S001_002', 'P017_S001_001', 'P017_S001_002', 'P017_S002_002', 'P018_S001_001', 'P018_S002_002', 'P019_S002_002', 'P020_S001_002', 'P021_S001_001', 'P021_S001_002', 'P021_S002_002', 'P022_S001_001', 'P022_S001_002', 'P022_S002_002', 'P023_S001_001', 'P024_S001_002', 'P024_S002_001', 'P024_S002_002', 'P025_S001_001', 'P025_S002_001', 'P025_S002_002', 'P026_S001_002', 'P026_S002_002', 'P027_S001_001', 'P027_S001_002', 'P028_S002_002']\n",
      "\n",
      "Length of data after removing mildly stressed subjects: 51\n",
      "Length of labels after removing  mildly stressed subjects: 51\n",
      "\n",
      "Shape of train data set: (39, 8, 75000)\n",
      "Shape of train labels set: (39, 1)\n",
      "Shape of test data set: (12, 8, 75000)\n",
      "Shape of test labels set: (12, 1)\n",
      "(312,)\n",
      "(96,)\n",
      "(312, 750)\n",
      "(96, 750)\n"
     ]
    }
   ],
   "source": [
    "data_type = 'ica'\n",
    "\n",
    "train_data, test_data, train_labels, test_labels = load_and_shape_data(data_type, label_type, features, kfold)"
   ]
  },
  {
   "cell_type": "code",
   "execution_count": 35,
   "metadata": {},
   "outputs": [
    {
     "name": "stdout",
     "output_type": "stream",
     "text": [
      "ica data with pss labels\n",
      "KNN:\n",
      "\n",
      " Confusion matrix:\n",
      "[[55  9]\n",
      " [30  2]]\n",
      "Accuracy, Sensitivity, Specificity:\n",
      "\n",
      "[59.38 64.71 18.18]\n"
     ]
    }
   ],
   "source": [
    "print(f'{data_type} data with {label_type} labels')\n",
    "knn_classification(train_data, test_data, train_labels, test_labels)"
   ]
  },
  {
   "cell_type": "code",
   "execution_count": 36,
   "metadata": {},
   "outputs": [
    {
     "name": "stdout",
     "output_type": "stream",
     "text": [
      "ica data with pss labels\n",
      "SVM:\n",
      "\n",
      " Confusion matrix:\n",
      "[[61  3]\n",
      " [28  4]]\n",
      "Accuracy, Sensitivity, Specificity:\n",
      "[67.71 68.54 57.14]\n"
     ]
    }
   ],
   "source": [
    "print(f'{data_type} data with {label_type} labels')\n",
    "svm_classification(train_data, test_data, train_labels, test_labels)"
   ]
  },
  {
   "cell_type": "code",
   "execution_count": 37,
   "metadata": {},
   "outputs": [
    {
     "name": "stdout",
     "output_type": "stream",
     "text": [
      "---- Generating all recordings ----\n",
      "All records generated\n",
      "\n",
      "---- Filtering out invalid recordings ----\n",
      "ERROR 1) Failed to read data for recording P006_S002_001\n",
      "ERROR 1) Failed to read data for recording P006_S002_002\n",
      "ERROR 1) Failed to read data for recording P010_S001_001\n",
      "ERROR 1) Failed to read data for recording P013_S001_001\n",
      "ERROR 1) Failed to read data for recording P013_S001_002\n",
      "ERROR 1) Failed to read data for recording P020_S001_001\n",
      "ERROR 1) Failed to read data for recording P023_S002_002\n",
      "ERROR 1) Failed to read data for recording P028_S001_001\n",
      "ERROR 1) Failed to read data for recording P028_S001_002\n",
      "\n",
      "---- Returning valid recordings ----\n",
      "['P001_S001_001', 'P001_S001_002', 'P001_S002_001', 'P001_S002_002', 'P002_S001_001', 'P002_S001_002', 'P002_S002_001', 'P002_S002_002', 'P003_S001_001', 'P003_S001_002', 'P003_S002_001', 'P003_S002_002', 'P004_S001_001', 'P004_S001_002', 'P004_S002_001', 'P004_S002_002', 'P005_S001_001', 'P005_S001_002', 'P005_S002_001', 'P005_S002_002', 'P006_S001_001', 'P006_S001_002', 'P007_S001_001', 'P007_S001_002', 'P007_S002_001', 'P007_S002_002', 'P008_S001_001', 'P008_S001_002', 'P008_S002_001', 'P008_S002_002', 'P009_S001_001', 'P009_S001_002', 'P009_S002_001', 'P009_S002_002', 'P010_S001_002', 'P010_S002_001', 'P010_S002_002', 'P011_S001_001', 'P011_S001_002', 'P011_S002_001', 'P011_S002_002', 'P012_S001_001', 'P012_S001_002', 'P012_S002_001', 'P012_S002_002', 'P013_S002_001', 'P013_S002_002', 'P014_S001_001', 'P014_S001_002', 'P014_S002_001', 'P014_S002_002', 'P015_S001_001', 'P015_S001_002', 'P015_S002_001', 'P015_S002_002', 'P016_S001_001', 'P016_S001_002', 'P016_S002_001', 'P016_S002_002', 'P017_S001_001', 'P017_S001_002', 'P017_S002_001', 'P017_S002_002', 'P018_S001_001', 'P018_S001_002', 'P018_S002_001', 'P018_S002_002', 'P019_S001_001', 'P019_S001_002', 'P019_S002_001', 'P019_S002_002', 'P020_S001_002', 'P020_S002_001', 'P020_S002_002', 'P021_S001_001', 'P021_S001_002', 'P021_S002_001', 'P021_S002_002', 'P022_S001_001', 'P022_S001_002', 'P022_S002_001', 'P022_S002_002', 'P023_S001_001', 'P023_S001_002', 'P023_S002_001', 'P024_S001_001', 'P024_S001_002', 'P024_S002_001', 'P024_S002_002', 'P025_S001_001', 'P025_S001_002', 'P025_S002_001', 'P025_S002_002', 'P026_S001_001', 'P026_S001_002', 'P026_S002_001', 'P026_S002_002', 'P027_S001_001', 'P027_S001_002', 'P027_S002_001', 'P027_S002_002', 'P028_S002_001', 'P028_S002_002']\n",
      "\n",
      "Length of data: 103\n",
      "    S001_001  S001_002  S002_001  S002_002\n",
      "0        2.0       4.0       2.0       3.0\n",
      "1        3.0       6.0       2.0       5.0\n",
      "2        7.0       9.0       2.0       4.0\n",
      "3        6.0       8.0       2.0       3.0\n",
      "4        3.0       4.0       6.0       6.0\n",
      "5        6.0       8.0       NaN       NaN\n",
      "6        7.0       9.0       4.0       6.0\n",
      "7        4.0       6.0       2.0       3.0\n",
      "8        6.0       6.0       3.0       4.0\n",
      "9        1.0       2.0       1.0       1.0\n",
      "10       5.0       6.0       3.0       5.0\n",
      "11       2.0       5.0       2.0       6.0\n",
      "12       4.0       6.0       2.0       4.0\n",
      "13       4.0       8.0       1.0       3.0\n",
      "14       8.0       6.0       2.0       4.0\n",
      "15       4.0       5.0       1.0       2.0\n",
      "16       4.0       6.0       2.0       4.0\n",
      "17       4.0       7.0       3.0       5.0\n",
      "18       3.0       7.0       1.0       4.0\n",
      "19       4.0       5.0       2.0       3.0\n",
      "20       4.0       6.0       2.0       6.0\n",
      "21       5.0       6.0       2.0       4.0\n",
      "22       6.0       8.0       1.0       6.0\n",
      "23       7.0       5.0       4.0       5.0\n",
      "24       6.0       8.0       4.0       6.0\n",
      "25       3.0       6.0       3.0       4.0\n",
      "26       4.0       6.0       3.0       3.0\n",
      "27       NaN       NaN       1.0       4.0\n",
      "P006_S002_001 has invalid record length\n",
      "P006_S002_002 has invalid record length\n",
      "P010_S001_001 has invalid record length\n",
      "P013_S001_001 has invalid record length\n",
      "P013_S001_002 has invalid record length\n",
      "P020_S001_001 has invalid record length\n",
      "P023_S002_002 has invalid record length\n",
      "P028_S001_001 has invalid record length\n",
      "P028_S001_002 has invalid record length\n",
      "\n",
      "---- Labels ----\n",
      "{'P001_S001_001': 0, 'P001_S001_002': 1, 'P001_S002_001': 0, 'P001_S002_002': 0, 'P002_S001_001': 0, 'P002_S001_002': 1, 'P002_S002_001': 0, 'P002_S002_002': 1, 'P003_S001_001': 2, 'P003_S001_002': 2, 'P003_S002_001': 0, 'P003_S002_002': 1, 'P004_S001_001': 1, 'P004_S001_002': 2, 'P004_S002_001': 0, 'P004_S002_002': 0, 'P005_S001_001': 0, 'P005_S001_002': 1, 'P005_S002_001': 1, 'P005_S002_002': 1, 'P006_S001_001': 1, 'P006_S001_002': 2, 'P007_S001_001': 2, 'P007_S001_002': 2, 'P007_S002_001': 1, 'P007_S002_002': 1, 'P008_S001_001': 1, 'P008_S001_002': 1, 'P008_S002_001': 0, 'P008_S002_002': 0, 'P009_S001_001': 1, 'P009_S001_002': 1, 'P009_S002_001': 0, 'P009_S002_002': 1, 'P010_S001_002': 0, 'P010_S002_001': 0, 'P010_S002_002': 0, 'P011_S001_001': 1, 'P011_S001_002': 1, 'P011_S002_001': 0, 'P011_S002_002': 1, 'P012_S001_001': 0, 'P012_S001_002': 1, 'P012_S002_001': 0, 'P012_S002_002': 1, 'P013_S002_001': 0, 'P013_S002_002': 1, 'P014_S001_001': 1, 'P014_S001_002': 2, 'P014_S002_001': 0, 'P014_S002_002': 0, 'P015_S001_001': 2, 'P015_S001_002': 1, 'P015_S002_001': 0, 'P015_S002_002': 1, 'P016_S001_001': 1, 'P016_S001_002': 1, 'P016_S002_001': 0, 'P016_S002_002': 0, 'P017_S001_001': 1, 'P017_S001_002': 1, 'P017_S002_001': 0, 'P017_S002_002': 1, 'P018_S001_001': 1, 'P018_S001_002': 2, 'P018_S002_001': 0, 'P018_S002_002': 1, 'P019_S001_001': 0, 'P019_S001_002': 2, 'P019_S002_001': 0, 'P019_S002_002': 1, 'P020_S001_002': 1, 'P020_S002_001': 0, 'P020_S002_002': 0, 'P021_S001_001': 1, 'P021_S001_002': 1, 'P021_S002_001': 0, 'P021_S002_002': 1, 'P022_S001_001': 1, 'P022_S001_002': 1, 'P022_S002_001': 0, 'P022_S002_002': 1, 'P023_S001_001': 1, 'P023_S001_002': 2, 'P023_S002_001': 0, 'P024_S001_001': 2, 'P024_S001_002': 1, 'P024_S002_001': 1, 'P024_S002_002': 1, 'P025_S001_001': 1, 'P025_S001_002': 2, 'P025_S002_001': 1, 'P025_S002_002': 1, 'P026_S001_001': 0, 'P026_S001_002': 1, 'P026_S002_001': 0, 'P026_S002_002': 1, 'P027_S001_001': 1, 'P027_S001_002': 1, 'P027_S002_001': 0, 'P027_S002_002': 0, 'P028_S002_001': 0, 'P028_S002_002': 1}\n",
      "\n",
      "Length of data after removing invalid labels: 103\n",
      "Length of labels after removing invalid labels: 103\n",
      "\n",
      "The extracted keys : \n",
      "['P001_S001_002', 'P002_S001_002', 'P002_S002_002', 'P003_S002_002', 'P004_S001_001', 'P005_S001_002', 'P005_S002_001', 'P005_S002_002', 'P006_S001_001', 'P007_S002_001', 'P007_S002_002', 'P008_S001_001', 'P008_S001_002', 'P009_S001_001', 'P009_S001_002', 'P009_S002_002', 'P011_S001_001', 'P011_S001_002', 'P011_S002_002', 'P012_S001_002', 'P012_S002_002', 'P013_S002_002', 'P014_S001_001', 'P015_S001_002', 'P015_S002_002', 'P016_S001_001', 'P016_S001_002', 'P017_S001_001', 'P017_S001_002', 'P017_S002_002', 'P018_S001_001', 'P018_S002_002', 'P019_S002_002', 'P020_S001_002', 'P021_S001_001', 'P021_S001_002', 'P021_S002_002', 'P022_S001_001', 'P022_S001_002', 'P022_S002_002', 'P023_S001_001', 'P024_S001_002', 'P024_S002_001', 'P024_S002_002', 'P025_S001_001', 'P025_S002_001', 'P025_S002_002', 'P026_S001_002', 'P026_S002_002', 'P027_S001_001', 'P027_S001_002', 'P028_S002_002']\n",
      "\n",
      "Length of data after removing mildly stressed subjects: 51\n",
      "Length of labels after removing  mildly stressed subjects: 51\n",
      "\n",
      "Shape of train data set: (39, 8, 38400)\n",
      "Shape of train labels set: (39, 1)\n",
      "Shape of test data set: (12, 8, 38400)\n",
      "Shape of test labels set: (12, 1)\n",
      "(312,)\n",
      "(96,)\n",
      "(312, 750)\n",
      "(96, 750)\n"
     ]
    }
   ],
   "source": [
    "data_type = 'new_ica'\n",
    "\n",
    "train_data, test_data, train_labels, test_labels = load_and_shape_data(data_type, label_type, features, kfold, new_ica = False)"
   ]
  },
  {
   "cell_type": "code",
   "execution_count": 38,
   "metadata": {},
   "outputs": [
    {
     "name": "stdout",
     "output_type": "stream",
     "text": [
      "new_ica data with pss labels\n",
      "KNN:\n",
      "\n",
      " Confusion matrix:\n",
      "[[64  0]\n",
      " [32  0]]\n",
      "Null error in specificity\n",
      "Accuracy, Sensitivity, Specificity:\n",
      "\n",
      "[66.67 66.67  0.  ]\n"
     ]
    }
   ],
   "source": [
    "print(f'{data_type} data with {label_type} labels')\n",
    "knn_classification(train_data, test_data, train_labels, test_labels)"
   ]
  },
  {
   "cell_type": "code",
   "execution_count": 39,
   "metadata": {},
   "outputs": [
    {
     "name": "stdout",
     "output_type": "stream",
     "text": [
      "new_ica data with pss labels\n",
      "SVM:\n",
      "\n",
      " Confusion matrix:\n",
      "[[64  0]\n",
      " [32  0]]\n",
      "Null error in specificity\n",
      "Accuracy, Sensitivity, Specificity:\n",
      "[66.67 66.67  0.  ]\n"
     ]
    }
   ],
   "source": [
    "print(f'{data_type} data with {label_type} labels')\n",
    "svm_classification(train_data, test_data, train_labels, test_labels)"
   ]
  }
 ],
 "metadata": {
  "kernelspec": {
   "display_name": "MNE",
   "language": "python",
   "name": "python3"
  },
  "language_info": {
   "codemirror_mode": {
    "name": "ipython",
    "version": 3
   },
   "file_extension": ".py",
   "mimetype": "text/x-python",
   "name": "python",
   "nbconvert_exporter": "python",
   "pygments_lexer": "ipython3",
   "version": "3.10.6"
  },
  "orig_nbformat": 4,
  "vscode": {
   "interpreter": {
    "hash": "f6df28382c6e70c1c1d3c02fa7b17b6f3b6fcf9f5d22d2410beebd122bfaf45e"
   }
  }
 },
 "nbformat": 4,
 "nbformat_minor": 2
}
