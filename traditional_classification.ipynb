{
 "cells": [
  {
   "cell_type": "code",
   "execution_count": null,
   "metadata": {},
   "outputs": [],
   "source": [
    "import numpy as np\n",
    "from sklearn.model_selection import train_test_split, train_test_split\n",
    "import pandas as pd\n",
    "\n",
    "import utils.load_data as ld\n",
    "import utils.classifiers as clfs"
   ]
  },
  {
   "cell_type": "code",
   "execution_count": null,
   "metadata": {},
   "outputs": [],
   "source": [
    "data_type = 'raw'\n",
    "label_type = 'stai'\n",
    "feature = True\n",
    "kfold = True\n",
    "\n",
    "\n",
    "train_data, test_data, train_labels, test_labels = ld.load_and_shape_data(data_type, label_type, feature, kfold)"
   ]
  },
  {
   "cell_type": "code",
   "execution_count": null,
   "metadata": {},
   "outputs": [],
   "source": [
    "SAM40_data, SAM40_labels = ld.load_and_shape_SAM40_data()\n",
    "\n",
    "clfs.svm_classification_SAM40(train_data, test_data, SAM40_data, train_labels, test_labels, SAM40_labels)"
   ]
  },
  {
   "cell_type": "code",
   "execution_count": null,
   "metadata": {},
   "outputs": [],
   "source": [
    "print(f'{data_type} data with {label_type} labels')\n",
    "#clfs.knn_classification(train_data, test_data, train_labels, test_labels)"
   ]
  },
  {
   "cell_type": "code",
   "execution_count": null,
   "metadata": {},
   "outputs": [],
   "source": [
    "print(f'{data_type} data with {label_type} labels')\n",
    "clfs.svm_classification(train_data, test_data, train_labels, test_labels)\n"
   ]
  }
 ],
 "metadata": {
  "kernelspec": {
   "display_name": "MNE",
   "language": "python",
   "name": "python3"
  },
  "language_info": {
   "codemirror_mode": {
    "name": "ipython",
    "version": 3
   },
   "file_extension": ".py",
   "mimetype": "text/x-python",
   "name": "python",
   "nbconvert_exporter": "python",
   "pygments_lexer": "ipython3",
   "version": "3.10.6"
  },
  "orig_nbformat": 4,
  "vscode": {
   "interpreter": {
    "hash": "f6df28382c6e70c1c1d3c02fa7b17b6f3b6fcf9f5d22d2410beebd122bfaf45e"
   }
  }
 },
 "nbformat": 4,
 "nbformat_minor": 2
}
