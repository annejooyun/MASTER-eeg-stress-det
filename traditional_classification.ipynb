{
 "cells": [
  {
   "cell_type": "code",
   "execution_count": null,
   "metadata": {},
   "outputs": [],
   "source": [
    "import numpy as np\n",
    "from sklearn.model_selection import train_test_split, train_test_split\n",
    "import pandas as pd\n",
    "\n",
    "import utils.load_data as ld\n",
    "import utils.load_SAM40_data as ld_SAM40\n",
    "import utils.features as f\n",
    "import utils.classifiers as clfs\n",
    "import utils.variables as v\n",
    "import utils.metrics as m"
   ]
  },
  {
   "cell_type": "code",
   "execution_count": null,
   "metadata": {},
   "outputs": [],
   "source": [
    "def load_and_shape_data(data_type, label_type, feature, kfold, new_ica = False):\n",
    "    #Load data\n",
    "    if kfold:\n",
    "        train_data, test_data, train_labels, test_labels = ld.load_kfold_data(data_type, label_type, epoched = False, binary = True)\n",
    "    else:\n",
    "        train_data, test_data, val_data, train_labels, test_labels, val_labels = ld.load_data(data_type, label_type, epoched = True, binary = True)\n",
    "        return train_data, test_data, val_data, train_labels, test_labels, val_labels\n",
    "    \n",
    "    print('\\n---- Balanced dataset? ----')\n",
    "    print(f'Section of non-stressed in train set: {np.sum(train_labels == 0)/len(train_labels)}')\n",
    "    print(f'Section of non-stressed in test set: {np.sum(test_labels == 0)/len(test_labels)}')\n",
    "\n",
    "\n",
    "    if feature:\n",
    "        #Reshape labels to fit (n_recordings*n_channels, 1)\n",
    "        train_labels = np.repeat(train_labels, repeats = v.NUM_CHANNELS, axis = 0).reshape((train_data.shape[0]*v.NUM_CHANNELS,1))\n",
    "        train_labels = train_labels.ravel()\n",
    "\n",
    "        test_labels = np.repeat(test_labels,repeats = v.NUM_CHANNELS, axis = 0).reshape((test_data.shape[0]*v.NUM_CHANNELS,1))\n",
    "        test_labels = test_labels.ravel()\n",
    "        \n",
    "        #Extract features\n",
    "        #time_series_features, fractal_features, entropy_features, hjorth_features, freq_band_features, kymatio_wave_scattering\n",
    "        train_data = f.time_series_features(train_data, new_ica)\n",
    "        test_data = f.time_series_features(test_data, new_ica)\n",
    "\n",
    "        return train_data, test_data, train_labels, test_labels\n",
    "    else:\n",
    "        #Reshape data\n",
    "        train_data = np.reshape(train_data, (train_data.shape[0]*train_data.shape[1], train_data.shape[2]))\n",
    "        train_labels = np.repeat(train_labels, repeats = 8, axis = 1).reshape(-1,1)\n",
    "        train_labels = train_labels.ravel()\n",
    "\n",
    "        test_data = np.reshape(test_data, (test_data.shape[0]*test_data.shape[1],test_data.shape[2]))\n",
    "        test_labels = np.repeat(test_labels, repeats = 8, axis = 1).reshape(-1,1)\n",
    "        test_labels = test_labels.ravel()\n",
    "        return train_data, test_data, train_labels, test_labels\n",
    "\n"
   ]
  },
  {
   "cell_type": "code",
   "execution_count": null,
   "metadata": {},
   "outputs": [],
   "source": [
    "def load_and_shape_psd_data(label_type):\n",
    "    train_data, test_data, train_labels, test_labels = ld.load_psd_data(label_type, binary = True)\n",
    "    train_data = np.reshape(train_data, (train_data.shape[0]*train_data.shape[1], train_data.shape[2]))\n",
    "    train_labels = np.repeat(train_labels, repeats = 8, axis = 1).reshape(-1,1)\n",
    "    train_labels = train_labels.ravel()\n",
    "\n",
    "    test_data = np.reshape(test_data, (test_data.shape[0]*test_data.shape[1],test_data.shape[2]))\n",
    "    test_labels = np.repeat(test_labels, repeats = 8, axis = 1).reshape(-1,1)\n",
    "    test_labels = test_labels.ravel()\n",
    "    \n",
    "    return train_data, test_data, train_labels, test_labels"
   ]
  },
  {
   "cell_type": "code",
   "execution_count": null,
   "metadata": {},
   "outputs": [],
   "source": [
    "def load_and_shape_SAM40_data():\n",
    "    ##Load the SAM40 dataset to be used as test data/label\n",
    "    selected_channels_names = ['Fp2', 'F4', 'FC6', 'T8', 'Oz', 'O1', 'C3', 'FT9']\n",
    "\n",
    "    dataset_SAM40_ = ld_SAM40.load_dataset('raw', 'Arithmetic')\n",
    "\n",
    "    #dataset_SAM40 = ld_SAM40.convert_to_epochs(dataset_SAM40_, v_SAM40.NUM_CHANNELS, v_SAM40.SFREQ)\n",
    "\n",
    "    channels = ld_SAM40.load_channels()\n",
    "    selected_chan_index = [channels.index(elem) for elem in selected_channels_names]\n",
    "    print(selected_chan_index)\n",
    "    selected_channels_dataset = np.array([dataset_SAM40_[:,i,:] for i in selected_chan_index])\n",
    "    selected_channels_dataset = np.reshape(selected_channels_dataset, (120,8,3200))\n",
    "    print(selected_channels_dataset.shape)\n",
    "\n",
    "    test_data_SAM40 = f.time_series_features(selected_channels_dataset, False, SAM40=True)\n",
    "    labels = ld_SAM40.load_labels()\n",
    "    label = pd.concat([labels['t1_math'], labels['t2_math'],\n",
    "                    labels['t3_math']]).to_numpy()\n",
    "    \n",
    "    #Change labels from T/F to 1/0\n",
    "    for i in range(len(label)):\n",
    "        if label[i]:\n",
    "            label[i] = 1\n",
    "        else:\n",
    "            label[i] = 0\n",
    "\n",
    "    print(label)\n",
    "    print(label.shape)\n",
    "    label = np.repeat(label, test_data_SAM40.shape[0]//label.shape[0])\n",
    "\n",
    "    print(label.shape)\n",
    "    return test_data_SAM40, label"
   ]
  },
  {
   "cell_type": "code",
   "execution_count": null,
   "metadata": {},
   "outputs": [],
   "source": [
    "data_type = 'raw'\n",
    "label_type = 'stai'\n",
    "feature = True\n",
    "kfold = True\n",
    "\n",
    "\n",
    "train_data, test_data, train_labels, test_labels = load_and_shape_data(data_type, label_type, feature, kfold)"
   ]
  },
  {
   "cell_type": "code",
   "execution_count": null,
   "metadata": {},
   "outputs": [],
   "source": [
    "SAM40_data, SAM40_labels = load_and_shape_SAM40_data()\n",
    "\n",
    "clfs.svm_classification_SAM40(train_data, test_data, SAM40_data, train_labels, test_labels, SAM40_labels)"
   ]
  },
  {
   "cell_type": "code",
   "execution_count": null,
   "metadata": {},
   "outputs": [],
   "source": [
    "print(f'{data_type} data with {label_type} labels')\n",
    "clfs.knn_classification(train_data, test_data, train_labels, test_labels)"
   ]
  },
  {
   "cell_type": "code",
   "execution_count": null,
   "metadata": {},
   "outputs": [],
   "source": [
    "print(f'{data_type} data with {label_type} labels')\n",
    "clfs.svm_classification(train_data, test_data, train_labels, test_labels)\n"
   ]
  }
 ],
 "metadata": {
  "kernelspec": {
   "display_name": "MNE",
   "language": "python",
   "name": "python3"
  },
  "language_info": {
   "codemirror_mode": {
    "name": "ipython",
    "version": 3
   },
   "file_extension": ".py",
   "mimetype": "text/x-python",
   "name": "python",
   "nbconvert_exporter": "python",
   "pygments_lexer": "ipython3",
   "version": "3.10.6"
  },
  "orig_nbformat": 4,
  "vscode": {
   "interpreter": {
    "hash": "f6df28382c6e70c1c1d3c02fa7b17b6f3b6fcf9f5d22d2410beebd122bfaf45e"
   }
  }
 },
 "nbformat": 4,
 "nbformat_minor": 2
}
