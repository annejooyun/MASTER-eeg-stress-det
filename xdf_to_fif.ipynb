{
 "cells": [
  {
   "cell_type": "code",
   "execution_count": 1,
   "metadata": {},
   "outputs": [],
   "source": [
    "import pyxdf\n",
    "import mne\n",
    "import numpy as np\n",
    "import matplotlib.pyplot as plt\n",
    "%matplotlib qt"
   ]
  },
  {
   "cell_type": "code",
   "execution_count": 2,
   "metadata": {},
   "outputs": [],
   "source": [
    "# FILL IN HERE\n",
    "subject_nr = \"P001\" # Format #P001\n",
    "session_nr = \"S001\" # Format #S001\n",
    "run_nr     = \"001\"  # 001 / 002"
   ]
  },
  {
   "cell_type": "code",
   "execution_count": 4,
   "metadata": {},
   "outputs": [],
   "source": [
    "#Reading files\n",
    "f_name = f'Data/sub-{subject_nr}/ses-{session_nr}/eeg/sub-{subject_nr}_ses-{session_nr}_task-Default_run-{run_nr}_eeg'\n",
    "f_format = '.xdf'\n",
    "fname = f_name + f_format\n",
    "streams, header = pyxdf.load_xdf(fname)"
   ]
  },
  {
   "cell_type": "code",
   "execution_count": 5,
   "metadata": {},
   "outputs": [],
   "source": [
    "# Reading EEG\n",
    "def configure_eeg_data(index):   \n",
    "    eeg_data = streams[index]['time_series'].T\n",
    "    eeg_data *= 1e-6 # uV -> V\n",
    "    time_stamps_eeg = streams[index][\"time_stamps\"] - streams[index]['time_stamps'][0]\n",
    "    sfreq_eeg = float(streams[index]['info']['nominal_srate'][0])\n",
    "\n",
    "    time_stamps_eeg = time_stamps_eeg.reshape((1,time_stamps_eeg.shape[0]))\n",
    "    time_stamps_eeg = np.repeat(time_stamps_eeg, 8, axis=0)\n",
    "\n",
    "    return eeg_data, time_stamps_eeg, sfreq_eeg\n"
   ]
  },
  {
   "cell_type": "code",
   "execution_count": 6,
   "metadata": {},
   "outputs": [],
   "source": [
    "# Reading Markers\n",
    "#'0' marker is standard and '1' marker is oddball/target\n",
    "def configure_markers(index):\n",
    "    markers = streams[index][\"time_series\"]\n",
    "    time_stamps = streams[index][\"time_stamps\"] - streams[index][\"time_stamps\"][0]\n",
    "\n",
    "    return markers, time_stamps"
   ]
  },
  {
   "cell_type": "code",
   "execution_count": 8,
   "metadata": {},
   "outputs": [],
   "source": [
    "#Reading pcg \n",
    "def configure_pcg_data(index):\n",
    "    pcg_data = streams[index][\"time_series\"].T\n",
    "    sfreq_pcg = float(streams[index][\"info\"][\"nominal_srate\"][0])\n",
    "\n",
    "    if len(streams[index][\"time_stamps\"]) == 0:\n",
    "        print('ERROR: Found no time stamps')\n",
    "        time_stamps_pcg = []\n",
    "    else:\n",
    "        time_stamps_pcg = streams[index][\"time_stamps\"] - streams[index][\"time_stamps\"][1]\n",
    "        plt.plot(pcg_data.T.ravel()/np.max(abs(pcg_data)))    \n",
    "    \n",
    "    return pcg_data, time_stamps_pcg, sfreq_pcg"
   ]
  },
  {
   "cell_type": "code",
   "execution_count": 9,
   "metadata": {},
   "outputs": [
    {
     "name": "stdout",
     "output_type": "stream",
     "text": [
      "0\n",
      "Found eeg data\n",
      "1\n",
      "Found pcg data\n"
     ]
    }
   ],
   "source": [
    "#Directing each stream into correct function\n",
    "for i in range(len(streams)):\n",
    "    print(i)\n",
    "    if streams[i]['info']['type'] == ['Audio']:\n",
    "        print('Found pcg data')\n",
    "        pcg_data, time_stamps_pcg, sfreq_pcg = configure_pcg_data(i)\n",
    "    elif streams[i]['info']['type'] == ['ExG']:\n",
    "        print('Found eeg data')\n",
    "        eeg_data, time_stamps_eeg, sfreq_eeg = configure_eeg_data(i)\n",
    "    elif streams[i]['info']['type'] == ['Markers']:\n",
    "        print('Found markers')\n",
    "        markers, time_stamps_markers = configure_markers(i)\n",
    "    else:\n",
    "        print('Found nothing')"
   ]
  },
  {
   "cell_type": "code",
   "execution_count": 10,
   "metadata": {},
   "outputs": [
    {
     "name": "stdout",
     "output_type": "stream",
     "text": [
      "<Info | 7 non-empty values\n",
      " bads: []\n",
      " ch_names: 0, 1, 2, 3, 4, 5, 6, 7\n",
      " chs: 8 EEG\n",
      " custom_ref_applied: False\n",
      " highpass: 0.0 Hz\n",
      " lowpass: 125.0 Hz\n",
      " meas_date: unspecified\n",
      " nchan: 8\n",
      " projs: []\n",
      " sfreq: 250.0 Hz\n",
      ">\n",
      "Creating RawArray with float64 data, n_channels=8, n_times=75072\n",
      "    Range : 0 ... 75071 =      0.000 ...   300.284 secs\n",
      "Ready.\n"
     ]
    }
   ],
   "source": [
    "# Creating the raw data\n",
    "info = mne.create_info(8, sfreq_eeg, ch_types= \"eeg\", verbose=None)\n",
    "print(info)\n",
    "raw = mne.io.RawArray(eeg_data, info)"
   ]
  },
  {
   "cell_type": "code",
   "execution_count": 11,
   "metadata": {},
   "outputs": [],
   "source": [
    "# Renaming the channels and dropping the non-used channels\n",
    "mapping = {'0':'F4','1':'Fp2','2':'C3',\n",
    "           '3':'FC6','4':'O1','5':'Oz','6':'FT9', \n",
    "           '7':'T8'}\n",
    "mne.rename_channels(raw.info, mapping)\n",
    "#raw.drop_channels(['12','13','14','15'])"
   ]
  },
  {
   "cell_type": "code",
   "execution_count": 13,
   "metadata": {},
   "outputs": [
    {
     "name": "stdout",
     "output_type": "stream",
     "text": [
      "Overwriting existing file.\n",
      "Writing c:\\Users\\annej\\OneDrive\\Documents\\GitHub\\MASTER-eeg-stress-det\\Data\\sub-P001\\ses-S001\\eeg\\sub-P001_ses-S001_task-Default_run-001_eeg.fif\n",
      "Closing c:\\Users\\annej\\OneDrive\\Documents\\GitHub\\MASTER-eeg-stress-det\\Data\\sub-P001\\ses-S001\\eeg\\sub-P001_ses-S001_task-Default_run-001_eeg.fif\n",
      "[done]\n"
     ]
    }
   ],
   "source": [
    "o_format = '.fif'\n",
    "fname = f_name + o_format\n",
    "raw.save(fname, overwrite=True)"
   ]
  },
  {
   "attachments": {},
   "cell_type": "markdown",
   "metadata": {},
   "source": [
    "#### Reading .fif file, event extraction and plotting raw EEG"
   ]
  },
  {
   "cell_type": "code",
   "execution_count": 14,
   "metadata": {},
   "outputs": [
    {
     "name": "stdout",
     "output_type": "stream",
     "text": [
      "Opening raw data file Data/sub-P001/ses-S001/eeg/sub-P001_ses-S001_task-Default_run-001_eeg.fif...\n",
      "Isotrak not found\n",
      "    Range : 0 ... 75071 =      0.000 ...   300.284 secs\n",
      "Ready.\n"
     ]
    }
   ],
   "source": [
    " # Converted data\n",
    "o_format = '.fif'\n",
    "fname = f_name + o_format\n",
    "raw = mne.io.read_raw_fif(fname)"
   ]
  },
  {
   "cell_type": "code",
   "execution_count": 15,
   "metadata": {},
   "outputs": [
    {
     "name": "stdout",
     "output_type": "stream",
     "text": [
      "Using qt as 2D backend.\n"
     ]
    },
    {
     "data": {
      "text/plain": [
       "<mne_qt_browser._pg_figure.MNEQtBrowser at 0x26953c3d090>"
      ]
     },
     "execution_count": 15,
     "metadata": {},
     "output_type": "execute_result"
    },
    {
     "name": "stdout",
     "output_type": "stream",
     "text": [
      "Channels marked as bad:\n",
      "none\n"
     ]
    }
   ],
   "source": [
    "#raw.plot(scalings=dict(eeg=50e-6),duration=10)\n",
    "\n",
    "raw.plot(duration=60, title='test', n_channels=8,show_scrollbars=False)"
   ]
  }
 ],
 "metadata": {
  "kernelspec": {
   "display_name": "MNE",
   "language": "python",
   "name": "python3"
  },
  "language_info": {
   "codemirror_mode": {
    "name": "ipython",
    "version": 3
   },
   "file_extension": ".py",
   "mimetype": "text/x-python",
   "name": "python",
   "nbconvert_exporter": "python",
   "pygments_lexer": "ipython3",
   "version": "3.10.6 | packaged by conda-forge | (main, Aug 22 2022, 20:30:19) [MSC v.1929 64 bit (AMD64)]"
  },
  "orig_nbformat": 4,
  "vscode": {
   "interpreter": {
    "hash": "f6df28382c6e70c1c1d3c02fa7b17b6f3b6fcf9f5d22d2410beebd122bfaf45e"
   }
  }
 },
 "nbformat": 4,
 "nbformat_minor": 2
}
