{
 "cells": [
  {
   "cell_type": "code",
   "execution_count": null,
   "metadata": {},
   "outputs": [],
   "source": [
    "import pyxdf\n",
    "import mne\n",
    "import numpy as np\n",
    "import matplotlib.pyplot as plt\n",
    "%matplotlib qt"
   ]
  },
  {
   "cell_type": "code",
   "execution_count": null,
   "metadata": {},
   "outputs": [],
   "source": [
    "# FILL IN HERE\n",
    "subject_nr = \"P008\" # Format #P001\n",
    "session_nr = \"S001\" # Format #S001\n",
    "run_nr     = \"002\"  # 001 / 002"
   ]
  },
  {
   "cell_type": "code",
   "execution_count": null,
   "metadata": {},
   "outputs": [],
   "source": [
    "#Reading files\n",
    "f_name = f'sub-{subject_nr}/ses-{session_nr}/eeg/sub-{subject_nr}_ses-{session_nr}_task-Default_run-{run_nr}_eeg'\n",
    "f_format = '.xdf'\n",
    "fname = f_name + f_format\n",
    "streams, header = pyxdf.load_xdf(fname)"
   ]
  },
  {
   "cell_type": "code",
   "execution_count": null,
   "metadata": {},
   "outputs": [],
   "source": [
    "# Reading EEG\n",
    "def configure_eeg_data(index):   \n",
    "    eeg_data = streams[index]['time_series'].T\n",
    "    eeg_data *= 1e-6 # uV -> V\n",
    "    time_stamps_eeg = streams[index][\"time_stamps\"] - streams[index]['time_stamps'][0]\n",
    "    sfreq_eeg = float(streams[index]['info']['nominal_srate'][0])\n",
    "\n",
    "    time_stamps_eeg = time_stamps_eeg.reshape((1,time_stamps_eeg.shape[0]))\n",
    "    time_stamps_eeg = np.repeat(time_stamps_eeg, 8, axis=0)\n",
    "\n",
    "    return eeg_data, time_stamps_eeg, sfreq_eeg\n"
   ]
  },
  {
   "cell_type": "code",
   "execution_count": null,
   "metadata": {},
   "outputs": [],
   "source": [
    "# Reading Markers\n",
    "#'0' marker is standard and '1' marker is oddball/target\n",
    "def configure_markers(index):\n",
    "    markers = streams[index][\"time_series\"]\n",
    "    time_stamps = streams[index][\"time_stamps\"] - streams[index][\"time_stamps\"][0]\n",
    "\n",
    "    return markers, time_stamps"
   ]
  },
  {
   "cell_type": "code",
   "execution_count": null,
   "metadata": {},
   "outputs": [],
   "source": [
    "#Reading pcg \n",
    "def configure_pcg_data(index):\n",
    "    pcg_data = streams[index][\"time_series\"].T\n",
    "    sfreq_pcg = float(streams[index][\"info\"][\"nominal_srate\"][0])\n",
    "\n",
    "    if len(streams[index][\"time_stamps\"]) == 0:\n",
    "        print('ERROR: Found no time stamps')\n",
    "        time_stamps_pcg = []\n",
    "    else:\n",
    "        time_stamps_pcg = streams[index][\"time_stamps\"] - streams[index][\"time_stamps\"][1]\n",
    "        plt.plot(pcg_data.T.ravel()/np.max(abs(pcg_data)))    \n",
    "    \n",
    "    return pcg_data, time_stamps_pcg, sfreq_pcg"
   ]
  },
  {
   "cell_type": "code",
   "execution_count": null,
   "metadata": {},
   "outputs": [],
   "source": [
    "#Directing each stream into correct function\n",
    "for i in range(len(streams)):\n",
    "    print(i)\n",
    "    if streams[i]['info']['type'] == ['Audio']:\n",
    "        print('Found pcg data')\n",
    "        pcg_data, time_stamps_pcg, sfreq_pcg = configure_pcg_data(i)\n",
    "    elif streams[i]['info']['type'] == ['ExG']:\n",
    "        print('Found eeg data')\n",
    "        eeg_data, time_stamps_eeg, sfreq_eeg = configure_eeg_data(i)\n",
    "    elif streams[i]['info']['type'] == ['Markers']:\n",
    "        print('Found markers')\n",
    "        markers, time_stamps_markers = configure_markers(i)\n",
    "    else:\n",
    "        print('Found nothing')"
   ]
  },
  {
   "cell_type": "code",
   "execution_count": null,
   "metadata": {},
   "outputs": [],
   "source": [
    "# Creating the raw data\n",
    "info = mne.create_info(8, sfreq_eeg, ch_types= \"eeg\", verbose=None)\n",
    "print(info)\n",
    "raw = mne.io.RawArray(eeg_data, info)"
   ]
  },
  {
   "cell_type": "code",
   "execution_count": null,
   "metadata": {},
   "outputs": [],
   "source": [
    "# Renaming the channels and dropping the non-used channels\n",
    "mapping = {'0':'F4','1':'Fp2','2':'C3',\n",
    "           '3':'FC6','4':'O1','5':'Oz','6':'FT9', \n",
    "           '7':'T8'}\n",
    "mne.rename_channels(raw.info, mapping)\n",
    "#raw.drop_channels(['12','13','14','15'])"
   ]
  },
  {
   "cell_type": "code",
   "execution_count": null,
   "metadata": {},
   "outputs": [],
   "source": [
    "o_format = '.fif'\n",
    "fname = f_name + o_format\n",
    "raw.save(fname, overwrite=True)"
   ]
  },
  {
   "attachments": {},
   "cell_type": "markdown",
   "metadata": {},
   "source": [
    "#### Reading .fif file, event extraction and plotting raw EEG"
   ]
  },
  {
   "cell_type": "code",
   "execution_count": null,
   "metadata": {},
   "outputs": [],
   "source": [
    " # Converted data\n",
    "o_format = '.fif'\n",
    "fname = f_name + o_format\n",
    "raw = mne.io.read_raw_fif(fname)"
   ]
  },
  {
   "cell_type": "code",
   "execution_count": null,
   "metadata": {},
   "outputs": [],
   "source": [
    "#raw.plot(scalings=dict(eeg=50e-6),duration=10)\n",
    "\n",
    "raw.plot(duration=60, title='test', n_channels=8,show_scrollbars=False)"
   ]
  }
 ],
 "metadata": {
  "kernelspec": {
   "display_name": "Python 3",
   "language": "python",
   "name": "python3"
  },
  "language_info": {
   "name": "python",
   "version": "3.9.1 (tags/v3.9.1:1e5d33e, Dec  7 2020, 17:08:21) [MSC v.1927 64 bit (AMD64)]"
  },
  "orig_nbformat": 4,
  "vscode": {
   "interpreter": {
    "hash": "b950c095f047bed8037f8902aab188b2f9df7ff5b21d1df495c28bbd106395f9"
   }
  }
 },
 "nbformat": 4,
 "nbformat_minor": 2
}
